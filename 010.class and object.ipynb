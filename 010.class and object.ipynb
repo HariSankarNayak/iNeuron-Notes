{
 "cells": [
  {
   "cell_type": "code",
   "execution_count": 2,
   "metadata": {},
   "outputs": [],
   "source": [
    "class car:\n",
    "    pass"
   ]
  },
  {
   "cell_type": "code",
   "execution_count": 3,
   "metadata": {},
   "outputs": [],
   "source": [
    "audiq7 = car()"
   ]
  },
  {
   "cell_type": "code",
   "execution_count": 6,
   "metadata": {},
   "outputs": [],
   "source": [
    "audiq7.milage  = 10\n",
    "audiq7.year= 2020\n",
    "audiq7.make = 345\n",
    "audiq7.model = \"fsdf\""
   ]
  },
  {
   "cell_type": "code",
   "execution_count": 7,
   "metadata": {},
   "outputs": [
    {
     "data": {
      "text/plain": [
       "10"
      ]
     },
     "execution_count": 7,
     "metadata": {},
     "output_type": "execute_result"
    }
   ],
   "source": [
    "audiq7.milage"
   ]
  },
  {
   "cell_type": "code",
   "execution_count": 9,
   "metadata": {},
   "outputs": [
    {
     "data": {
      "text/plain": [
       "2020"
      ]
     },
     "execution_count": 9,
     "metadata": {},
     "output_type": "execute_result"
    }
   ],
   "source": [
    "audiq7.year"
   ]
  },
  {
   "cell_type": "code",
   "execution_count": 10,
   "metadata": {},
   "outputs": [],
   "source": [
    "nano = car()"
   ]
  },
  {
   "cell_type": "code",
   "execution_count": 11,
   "metadata": {},
   "outputs": [],
   "source": [
    "nano.milage = 20 \n",
    "nano.year  = 2020\n",
    "nano.make = 234\n",
    "nano.model = \"sdfa\"\n",
    "nano.enginno = 345554554353"
   ]
  },
  {
   "cell_type": "code",
   "execution_count": 12,
   "metadata": {},
   "outputs": [
    {
     "name": "stdout",
     "output_type": "stream",
     "text": [
      "20 10\n"
     ]
    }
   ],
   "source": [
    "print(nano.milage, audiq7.milage)"
   ]
  },
  {
   "cell_type": "code",
   "execution_count": 13,
   "metadata": {},
   "outputs": [],
   "source": [
    "class car :\n",
    "    def __init__(self , milage, year , make , model):\n",
    "        self.milage = milage\n",
    "        self.year = year\n",
    "        self.make = make \n",
    "        self.model = model"
   ]
  },
  {
   "cell_type": "code",
   "execution_count": 18,
   "metadata": {},
   "outputs": [],
   "source": [
    "nano1 = car(20, 2020 , 345324,\"234fsdf\")\n",
    "audiq71 = car(10,2020,543,\"sdff\")\n",
    "nano2 = car(20, 2020 , 345324,\"234fsdf\")\n",
    "audiq72= car(10,2020,543,\"sdff\")\n",
    "nano3= car(20, 2020 , 345324,\"234fsdf\")\n",
    "audiq75 = car(10,2020,543,\"sdff\")\n",
    "nano6 = car(20, 2020 , 345324,\"234fsdf\")\n",
    "audiq7678 = car(10,2020,543,\"sdff\")\n",
    "nano2 = car(20, 2020 , 345324,\"234fsdf\")\n",
    "audiq754 = car(10,2020,543,\"sdff\")\n",
    "nano67 = car(20, 2020 , 345324,\"234fsdf\")\n",
    "audiq789 = car(10,2020,543,\"sdff\")"
   ]
  },
  {
   "cell_type": "code",
   "execution_count": 17,
   "metadata": {},
   "outputs": [
    {
     "data": {
      "text/plain": [
       "20"
      ]
     },
     "execution_count": 17,
     "metadata": {},
     "output_type": "execute_result"
    }
   ],
   "source": [
    "nano1.milage"
   ]
  },
  {
   "cell_type": "code",
   "execution_count": 82,
   "metadata": {},
   "outputs": [],
   "source": [
    "class car :\n",
    "    def __init__(a, m, y , ma , mo):\n",
    "        a.milage = m\n",
    "        a.year = y\n",
    "        a.make = ma\n",
    "        a.model = mo\n",
    "        \n",
    "    def age(b,current_year):\n",
    "        return current_year - b.year\n",
    "    \n",
    "    \n",
    "    def milage1(self):\n",
    "        print(\"print a milage of car \" , self.milage)\n",
    "        #return self.milage\n",
    "        \n",
    "    def __str__(c):\n",
    "        return \"this is my car class i have created \""
   ]
  },
  {
   "cell_type": "code",
   "execution_count": 83,
   "metadata": {},
   "outputs": [],
   "source": [
    "nano67 = car(20, 2020 , 345324,\"234fsdf\")"
   ]
  },
  {
   "cell_type": "code",
   "execution_count": 84,
   "metadata": {},
   "outputs": [
    {
     "name": "stdout",
     "output_type": "stream",
     "text": [
      "print a milage of car  20\n"
     ]
    }
   ],
   "source": [
    "nano67.milage1()"
   ]
  },
  {
   "cell_type": "code",
   "execution_count": 85,
   "metadata": {},
   "outputs": [
    {
     "data": {
      "text/plain": [
       "1"
      ]
     },
     "execution_count": 85,
     "metadata": {},
     "output_type": "execute_result"
    }
   ],
   "source": [
    "nano67.age(2021)"
   ]
  },
  {
   "cell_type": "code",
   "execution_count": 86,
   "metadata": {},
   "outputs": [
    {
     "ename": "TypeError",
     "evalue": "__str__() takes 0 positional arguments but 1 was given",
     "output_type": "error",
     "traceback": [
      "\u001b[1;31m---------------------------------------------------------------------------\u001b[0m",
      "\u001b[1;31mTypeError\u001b[0m                                 Traceback (most recent call last)",
      "\u001b[1;32m<ipython-input-86-166468acc656>\u001b[0m in \u001b[0;36m<module>\u001b[1;34m\u001b[0m\n\u001b[1;32m----> 1\u001b[1;33m \u001b[0mprint\u001b[0m\u001b[1;33m(\u001b[0m\u001b[0mnano67\u001b[0m\u001b[1;33m)\u001b[0m\u001b[1;33m\u001b[0m\u001b[1;33m\u001b[0m\u001b[0m\n\u001b[0m",
      "\u001b[1;31mTypeError\u001b[0m: __str__() takes 0 positional arguments but 1 was given"
     ]
    }
   ],
   "source": [
    "print(nano67)"
   ]
  },
  {
   "cell_type": "code",
   "execution_count": 81,
   "metadata": {},
   "outputs": [
    {
     "name": "stdout",
     "output_type": "stream",
     "text": [
      "this is my car class i have created\n"
     ]
    }
   ],
   "source": [
    "print(nano67)"
   ]
  },
  {
   "cell_type": "code",
   "execution_count": 120,
   "metadata": {},
   "outputs": [],
   "source": [
    "class student:\n",
    "    \n",
    "    def __init__(self , name , rollno , joining_date , current_topic):\n",
    "        self.name = name \n",
    "        self.rollno = rollno\n",
    "        self.joining_date =  joining_date\n",
    "        self.current_topic = current_topic\n",
    "        \n",
    "        \n",
    "    def name_Parsing(self) :\n",
    "        if type(self.name) == list:\n",
    "            for i in self.name :\n",
    "                print(\"name of the stuent \" , i )\n",
    "        else : \n",
    "            print(\"provided name is not in a form of list \")\n",
    "    \n",
    "        \n",
    "    def crt_topic(self):\n",
    "        print(\"current topic discussed in my class is \" , self.current_topic)\n",
    "\n",
    "        \n",
    "    def str_rollno(self):\n",
    "        try :\n",
    "            if type(self.rollno) == str:\n",
    "                print(\"do nothing \")\n",
    "            else :\n",
    "                return str(self.rollno)\n",
    "        except Exception as e  :\n",
    "            print(\"this is my erro msg \" , e )\n",
    "        \n",
    "        \n",
    "    def duration(self,*current_date) : \n",
    "        print(\"duration of student in my class is \" , current_date- self.joining_date)\n",
    "        \n",
    "        \n",
    "    def __str__(self):\n",
    "        return \"this is strudent class where they can tyr to input there own data and they can try to fetch it \"\n",
    "          "
   ]
  },
  {
   "cell_type": "code",
   "execution_count": 124,
   "metadata": {},
   "outputs": [
    {
     "data": {
      "text/plain": [
       "['naveen', 'jay', 'himnashu ', 'prakash ']"
      ]
     },
     "execution_count": 124,
     "metadata": {},
     "output_type": "execute_result"
    }
   ],
   "source": [
    "pawan.name"
   ]
  },
  {
   "cell_type": "code",
   "execution_count": 123,
   "metadata": {},
   "outputs": [
    {
     "name": "stdout",
     "output_type": "stream",
     "text": [
      "this is strudent class where they can tyr to input there own data and they can try to fetch it \n"
     ]
    }
   ],
   "source": [
    "srini = student(\"srini\" , \"####\", 2021,\"oops\")\n",
    "print(srini)"
   ]
  },
  {
   "cell_type": "code",
   "execution_count": 112,
   "metadata": {},
   "outputs": [
    {
     "name": "stdout",
     "output_type": "stream",
     "text": [
      "duration of student in my class is  0\n"
     ]
    }
   ],
   "source": [
    "srini.duration(2021)"
   ]
  },
  {
   "cell_type": "code",
   "execution_count": 113,
   "metadata": {},
   "outputs": [
    {
     "name": "stdout",
     "output_type": "stream",
     "text": [
      "do nothing \n"
     ]
    }
   ],
   "source": [
    "srini.str_rollno()"
   ]
  },
  {
   "cell_type": "code",
   "execution_count": 114,
   "metadata": {},
   "outputs": [
    {
     "name": "stdout",
     "output_type": "stream",
     "text": [
      "this is strudent class where they can tyr to input there own data and they can try to fetch it \n"
     ]
    }
   ],
   "source": [
    "print(srini)"
   ]
  },
  {
   "cell_type": "code",
   "execution_count": 122,
   "metadata": {},
   "outputs": [],
   "source": [
    "marur  = student(\"marur\",\"dfsf\" , 55345,345)"
   ]
  },
  {
   "cell_type": "code",
   "execution_count": 116,
   "metadata": {},
   "outputs": [],
   "source": [
    "pawan = student([\"naveen\",\"jay\" , \"himnashu \" , \"prakash \" ] ,[234,2423,423,34,234], 2021 , \"oops\" )"
   ]
  },
  {
   "cell_type": "code",
   "execution_count": 117,
   "metadata": {},
   "outputs": [
    {
     "name": "stdout",
     "output_type": "stream",
     "text": [
      "name of the stuent  naveen\n",
      "name of the stuent  jay\n",
      "name of the stuent  himnashu \n",
      "name of the stuent  prakash \n"
     ]
    }
   ],
   "source": [
    "pawan.name_Parsing()"
   ]
  },
  {
   "cell_type": "code",
   "execution_count": 125,
   "metadata": {},
   "outputs": [
    {
     "name": "stdout",
     "output_type": "stream",
     "text": [
      "This is test file\n"
     ]
    }
   ],
   "source": [
    "## challange \n",
    "class data :\n",
    "    def __init__(self,filename,filetype,date,size):\n",
    "        self.filename = filename\n",
    "        self.filetype = filetype\n",
    "        self.date = date\n",
    "        self.size = size\n",
    "        \n",
    "    def fileopen(self):\n",
    "        f = open(self.filename,'w')\n",
    "        f.write(\"This is test file\")\n",
    "        f.close()\n",
    "    \n",
    "    def fileread(self):\n",
    "        f = open(self.filename,'r')\n",
    "        print(f.read())\n",
    "        f.close()\n",
    "    \n",
    "    def fileappend(self):\n",
    "        f = open(self.filename,'a')\n",
    "        f.write(\"Appending data to file\")\n",
    "        f.close()\n",
    "\n",
    "        \n",
    "file1 = data('file1','txt','2021-4-11','2MB')\n",
    "file1.fileopen()\n",
    "file1.fileread()\n",
    "file1.fileappend()\n"
   ]
  },
  {
   "cell_type": "code",
   "execution_count": null,
   "metadata": {},
   "outputs": [],
   "source": [
    "class data:\n",
    "    def __init__(self, file_name, file_type, date, size):\n",
    "        self.file_name = file_name\n",
    "        self.file_type = file_type\n",
    "        self.date = date\n",
    "        self.size = size\n",
    "        \n",
    "    def file_open(self):\n",
    "        try:\n",
    "            with open(f\"{self.file_name}.txt\", \"w\") as wr:\n",
    "                wr.write(\"hi iam a student of ineuron\")\n",
    "        except Exception as e:\n",
    "            print(e)\n",
    "            \n",
    "    def file_read(self):\n",
    "        try:\n",
    "            with open(f\"{self.file_name}.txt\", \"r\") as wr:\n",
    "                for line in wr:\n",
    "                    print(line)\n",
    "        except Exception as e:\n",
    "            print(e)\n",
    "                \n",
    "    def file_append(self):\n",
    "        try:\n",
    "            with open(f\"{self.file_name}.txt\", \"a\") as wr:\n",
    "                wr.write(\"hi iam a student of ineuron 2\")\n",
    "        except Exception as e:\n",
    "            print(e)\n",
    "            \n",
    "    def __str__(self):\n",
    "        return \"This task was given during oop class\"\n"
   ]
  },
  {
   "cell_type": "code",
   "execution_count": null,
   "metadata": {},
   "outputs": [],
   "source": [
    "class data:\n",
    "    def __init__(self,file_name,file_type,date,size):\n",
    "        self.file_name=file_name\n",
    "        self.file_type=file_type\n",
    "        self.date=date\n",
    "        self.size=size\n",
    "    def file_open(self,write):\n",
    "        f=open(self.file_name+\".\"+self.file_type,'w')\n",
    "        f.write(write)\n",
    "    def file_read(self):\n",
    "        f=open(self.file_name+\".\"+self.file_type,'r')\n",
    "        Lines = f.readlines()\n",
    "        for line in Lines:\n",
    "            print(line)\n",
    "    def __str__(self):\n",
    "        return \"Data class created\"\n"
   ]
  },
  {
   "cell_type": "code",
   "execution_count": null,
   "metadata": {},
   "outputs": [],
   "source": [
    "Level 1 Ans SIr)\n",
    "class data:\n",
    "    def __init__(self,file_name,file_type,date,size):\n",
    "        self.file_name=file_name\n",
    "        self.file_type=file_type\n",
    "        self.date=date\n",
    "        self.size=size\n",
    "    def file_open(self):\n",
    "        f=open(self.file_name,'w+')\n",
    "        f.write(\"Hi I am writing\")\n",
    "    def file_read(self):\n",
    "        f=open(self.file_name,'r')\n",
    "        print(f.read())\n",
    "    def file_app(self):\n",
    "        f=open(self.file_name,'a')\n",
    "        f.write(\"appended\")\n"
   ]
  },
  {
   "cell_type": "code",
   "execution_count": null,
   "metadata": {},
   "outputs": [],
   "source": [
    "class Data:\n",
    "    def __init__(self, file_name, file_type, date, size):\n",
    "        self.file_name = file_name\n",
    "        self.file_type = file_type\n",
    "        self.date = date\n",
    "        self.size = size\n",
    "\n",
    "    def file_open(self):\n",
    "        with open(self.file_name, 'w') as fw:\n",
    "            fw.write(\"I am creating this file in file_open function.\\nAdding some content to it.\\n\")\n",
    "\n",
    "    def file_read(self):\n",
    "        with open(self.file_name, 'r') as fr:\n",
    "            data = fr.read()\n",
    "        print(\"Data in File:\\n\", data)\n",
    "\n",
    "    def file_append(self):\n",
    "        with open(self.file_name, 'a+') as fa:\n",
    "            fa.write(\"Appending the file...\")\n",
    "            fa.seek(0)\n",
    "            data = fa.read()\n",
    "        print(\"Data after append: \\n\", data)\n",
    "\n",
    "\n",
    "    def __str__(self):\n",
    "        return \"Class to read/write/append the file.\"\n",
    "\n",
    "file = Data(\"test.txt\", \"txt\", \"nothing\", 10)\n",
    "file.file_open()\n",
    "print(\"____________\")\n",
    "file.file_read()\n",
    "print('__________')\n",
    "file.file_append()\n"
   ]
  },
  {
   "cell_type": "code",
   "execution_count": null,
   "metadata": {},
   "outputs": [],
   "source": [
    "class data:\n",
    "    def __init__(self,filename,filetype,date,size):\n",
    "        self.filename=filename\n",
    "        self.filetype=filetype\n",
    "        self.date=date\n",
    "        self.size=size\n",
    "        \n",
    "    def file_open(self):\n",
    "        f=open(self.filename+\".\"+self.filetype,\"x\")\n",
    "        f.write(\"Hello this is abc file.\")\n",
    "        f.close()\n",
    "    def file_read(self):\n",
    "        f=open(self.filename+self.filetype,\"r\")\n",
    "        f.close()\n",
    "    def file_append(self):\n",
    "        f=open(self.filename+self.filetype,\"a\")\n",
    "        f.write(\"this is second line\")\n",
    "        f.close()\n"
   ]
  },
  {
   "cell_type": "code",
   "execution_count": null,
   "metadata": {},
   "outputs": [],
   "source": [
    "import os.path\n",
    "class data:\n",
    "    def __init__(self,file_name,file_type,date,size):\n",
    "        self.file_name=file_name\n",
    "        self.file_type=file_type\n",
    "        self.date = date\n",
    "        self.size = size\n",
    "    def file_open(self):\n",
    "        if os.path.isfile(self.file_name):\n",
    "            with open(self.file_name) as f\n",
    "            f.read()\n",
    "        else:\n",
    "            with open(self.file_name,'w+')as f\n",
    "            f.write('I am writing')\n",
    "    def file_read(self):\n",
    "        with open(self.file_name,'r')as f\n",
    "            f.read()\n"
   ]
  },
  {
   "cell_type": "code",
   "execution_count": null,
   "metadata": {},
   "outputs": [],
   "source": [
    "import datetime\n",
    "class Data:\n",
    "    def __init__(self,filename,filetype,date,size):\n",
    "        self.filename=filename\n",
    "        self.filetype=filetype\n",
    "        self.date=date\n",
    "        self.size=size\n",
    "    def file_open(self):\n",
    "        f=open(self.filename,'w')\n",
    "        f.write(\"This is writing in Class object.\")\n",
    "     \n",
    "    def file_read(self):\n",
    "        f=open(self.filename,'r')\n",
    "        return f.read()\n",
    "    def append_data(self):\n",
    "        f=open(self.filename,'w+')\n",
    "        f.write('This is appending data in file.')\n",
    "file=Data('vaibhav','.txt','10/08/2021',5)\n",
    "file.file_open()\n",
    "file.file_read()\n",
    "file.append_data()\n"
   ]
  },
  {
   "cell_type": "code",
   "execution_count": null,
   "metadata": {},
   "outputs": [],
   "source": [
    "class data:\n",
    "    def __init__(self,filename,filetype,datasize):\n",
    "        self.filename=filename\n",
    "        self.filetype=filetype\n",
    "        self.datasize=datasize\n",
    "        \n",
    "    def file_open(self):\n",
    "        f=open(f'{self.filename}.txt','w')\n",
    "        f.write(\"this is class data\")\n",
    "        \n",
    "    def file_read(self):\n",
    "        f=open(f'{self.filename}.txt','w')\n",
    "        a=f.read()\n",
    "        return a\n",
    "    \n",
    "    def file_append(self):\n",
    "        f=open(f'{self.filename}.txt','w+')\n",
    "        f.write(\"this is appended\")\n",
    "        \n",
    "        \n",
    "mohit=data(\"class\",\"txt\",45)\n",
    "mohit.file_open\n",
    "mohit.file_read\n",
    "mohit.file_append\n"
   ]
  },
  {
   "cell_type": "code",
   "execution_count": null,
   "metadata": {},
   "outputs": [],
   "source": [
    "import os\n",
    "\n",
    "class data:\n",
    "    def __init__(self,file_name,file_type,date,size):\n",
    "        self.file_name = file_name\n",
    "        self.file_type = file_type\n",
    "        self.date = date\n",
    "        self.size = size\n",
    "        \n",
    "    def file_open(self):\n",
    "        #take file name, create file if not exist write something\n",
    "        f = open(self.file_name,'x')\n",
    "            \n",
    "    def file_read(self):\n",
    "        #take file name, read, print(file)\n",
    "        f = open(self.file_name, 'r')\n",
    "        f.seek(0)\n",
    "        print(f.read())\n",
    "        \n",
    "    def file_append(self):\n",
    "        #append new data in same file n show\n",
    "        f = open(self.file_name, 'a')\n",
    "        f.write('Hello...this is appended data')\n"
   ]
  },
  {
   "cell_type": "code",
   "execution_count": null,
   "metadata": {},
   "outputs": [],
   "source": [
    "# Create a class Data\n",
    "\n",
    "class Data:\n",
    "    def __init__(self, fname, ftype, date, size):\n",
    "        self.fname=fname\n",
    "        self.ftype=ftype\n",
    "        self.date=date\n",
    "        self.size=size\n",
    "    \n",
    "    def file_open(self):\n",
    "        file = open(self.fname, \"w\")\n",
    "        while True:\n",
    "            entry=input(\"Wanna write to file? If no, leave blank: \")\n",
    "            file.writelines(entry)\n",
    "            \n",
    "            if not entry:\n",
    "                break\n",
    "            \n",
    "        file.close()\n",
    "    \n",
    "    def file_read(self):\n",
    "        file = open(self.fname)\n",
    "        print(file.read())\n",
    "        file.close()\n",
    "    \n",
    "    def file_append(self):\n",
    "        file = open(self.fname, \"a\")\n",
    "        while True:\n",
    "            entry=input(\"Wanna write to file? If no, leave blank: \")\n",
    "            file.writelines(entry)\n",
    "            \n",
    "            if not entry:\n",
    "                break\n"
   ]
  },
  {
   "cell_type": "code",
   "execution_count": null,
   "metadata": {},
   "outputs": [],
   "source": [
    "class data:\n",
    "    def __init__(self, fileName, fileType, date, size):\n",
    "        self.fileName = fileName\n",
    "        self.fileType = fileType\n",
    "        self.date = date\n",
    "        self.size = size\n",
    "        \n",
    "    def fileOpen(self):\n",
    "        try:\n",
    "            a = open(self.fileName, 'w+')\n",
    "            a.write(\"File content\")\n",
    "            a.close()\n",
    "        except Exception as e:\n",
    "            print(\"Error occured\", e)\n",
    "    \n",
    "    def fileRead(self):\n",
    "        try:\n",
    "            a = open(self.fileName, \"r\")\n",
    "            print(a.read())\n",
    "        except:\n",
    "            print(\"Error occured\")\n"
   ]
  },
  {
   "cell_type": "code",
   "execution_count": null,
   "metadata": {},
   "outputs": [],
   "source": [
    "class data :\n",
    "    def __init__(self,filename,filetype,data,size):\n",
    "        self.filename=filename\n",
    "        self.filetype=filetype\n",
    "        self.data=data\n",
    "        self.size=size\n",
    "        \n",
    "    def file_open(self):\n",
    "        f=open(self.filename,'w+')\n",
    "        f.write('this is first line')\n",
    "        f.close()\n",
    "        \n",
    "    def file_read(self):\n",
    "        try:\n",
    "            f =open(self.filename,'r')\n",
    "            print(f.read())\n",
    "            f.close()\n",
    "        except Exception as e:\n",
    "            print('error type is :',e)\n",
    "            \n",
    "            \n",
    "    def file_append(self):\n",
    "        try:\n",
    "            f= open(self.filename,'a')\n",
    "            f.write('this is the second line')\n",
    "            f.close()\n",
    "        except Exception as e:\n",
    "            print('error type :',e)\n"
   ]
  },
  {
   "cell_type": "code",
   "execution_count": null,
   "metadata": {},
   "outputs": [],
   "source": [
    "class data:\n",
    "    def __init__(self,filename,filetype,date,size):\n",
    "        self.filename = filename\n",
    "        self.file_type = filetype\n",
    "        self.date = date\n",
    "        self.size = size\n",
    "        \n",
    "    def file_open(a,filename):\n",
    "        if type(self.filename) == list:\n",
    "            for i in filename:\n",
    "                f = open(i,'w')\n",
    "                f.write(\"OOPS\")\n",
    "        elif type(self.filename) == dict:\n",
    "            for i in filename:\n",
    "                f = open(i,'w')\n",
    "                f.write(\"OOPS\")\n",
    "        elif type(self.filename) == tuple:\n",
    "            for i in filename:\n",
    "                f = open(i,'w')\n",
    "                f.write(\"OOPS\")\n",
    "        else:\n",
    "            f = open(i,'w')\n",
    "            f.write(\"OOPS\")\n",
    "            \n",
    "    def file_read(b,filename):\n",
    "        if type(self.filename) == list:\n",
    "            for i in filename:\n",
    "                f = open(i,'r')\n",
    "                f.read()\n",
    "        elif type(self.filename) == dict:\n",
    "            for i in filename:\n",
    "                f = open(i,'r')\n",
    "                f.read()\n",
    "       \n",
    "elif type(self.filename) == tuple:\n",
    "            for i in filename:\n",
    "                f = open(i,'r')\n",
    " f.read()\n",
    "        else:\n",
    "            f = open(i,'r')\n",
    "            f.read()\n",
    "            \n",
    "    def file_append(c,filename):\n",
    "          if type(self.filename) == list:\n",
    "            for i in filename:\n",
    "                f = open(i,'a')\n",
    "                f.write(\"easy\")\n",
    "        elif type(self.filename) == dict:\n",
    "            for i in filename:\n",
    "                f = open(i,'a')\n",
    "                f.write(\"easy\")\n",
    "        elif type(self.filename) == tuple:\n",
    "            for i in filename:\n",
    "                f = open(i,'a')\n",
    "                f.write(\"easy\")\n",
    "        else:\n",
    "            f = open(i,'a')\n",
    "            f.write(\"easy\")\n"
   ]
  },
  {
   "cell_type": "code",
   "execution_count": 127,
   "metadata": {},
   "outputs": [],
   "source": [
    "import logging as lg\n",
    "lg.basicConfig(filename='OOPS.log', level=lg.ERROR)\n",
    "class Data:\n",
    "  def __init__(self, fileName, fileType, data, size):\n",
    "    self.fileName = fileName\n",
    "    self.fileType = fileType\n",
    "    self.data = data\n",
    "    self.size = size\n",
    "  \n",
    "  def File_open(self): \n",
    "    try:  \n",
    "      with open(self.fileName+self.fileType,'w') as f:\n",
    "        f.write(self.data)\n",
    "    except Exception as e:\n",
    "      self.logging(e)\n",
    "    \n",
    "  def File_read(self):\n",
    "    try:\n",
    "      with open(self.fileName+self.fileType,'r') as f:\n",
    "        f.read()\n",
    "    except FileNotFoundError as e:\n",
    "      self.logging(e)\n",
    "    except Exception as e:\n",
    "      self.logging(e)\n",
    "    \n",
    "  def  File_append(self, data):\n",
    "    try:\n",
    "      with open(self.fileName+self.fileType, 'a') as f:\n",
    "        f.write(data)\n",
    "    except FileNotFoundError as e:\n",
    "      self.logging(e)\n",
    "    except Exception as e:\n",
    "      self.logging(e)\n",
    "    \n",
    "    \n",
    "    \n",
    "  def logging(self, log):\n",
    "    lg.error(log) \n",
    "    \n",
    "    \n",
    "    \n",
    "d = Data('d','.txt','hi',2)\n",
    "d.File_open()\n",
    "d.File_append('op')\n"
   ]
  },
  {
   "cell_type": "code",
   "execution_count": null,
   "metadata": {},
   "outputs": [],
   "source": [
    "import os\n",
    "import logging as lg\n",
    "lg.basicConfig(filename='oops.log',level=lg.INFO)\n",
    "class data:\n",
    "    def __init__(self, filename, filetype, date, size):\n",
    "        self.filename = filename\n",
    "        self.filetype = filetype\n",
    "        self.date = date\n",
    "        self.size = size\n",
    "        \n",
    "    def File_open(self):\n",
    "        lst = os.listdir()\n",
    "        if self.filename is not os.listdir():\n",
    "            f = open(self.filename, 'w')\n",
    "            f.write(\"This is the file content\")\n",
    "            lg.info(\"Wrote the file\") \n",
    "            lg.info(self.filename) \n",
    "            f.close()\n",
    "        else:\n",
    "            print(\"file already exists\")\n",
    "    def File_read(self):\n",
    "        try:\n",
    "            f = open(self.filename, 'r')\n",
    "            for i in f:\n",
    "                print(i)\n",
    "            f.close()\n",
    "        except Exception as e:\n",
    "            print(\"file doesn't exist\", e)\n",
    "            \n",
    "    def File_append(self):\n",
    "        try:\n",
    "            f = open(self.filename, 'a')\n",
    "            f.write(\"Hello everyone\")\n",
    "            lg.info(\"appended to the file\") \n",
    "          \n"
   ]
  }
 ],
 "metadata": {
  "kernelspec": {
   "display_name": "Python 3",
   "language": "python",
   "name": "python3"
  },
  "language_info": {
   "codemirror_mode": {
    "name": "ipython",
    "version": 3
   },
   "file_extension": ".py",
   "mimetype": "text/x-python",
   "name": "python",
   "nbconvert_exporter": "python",
   "pygments_lexer": "ipython3",
   "version": "3.8.12"
  }
 },
 "nbformat": 4,
 "nbformat_minor": 4
}
