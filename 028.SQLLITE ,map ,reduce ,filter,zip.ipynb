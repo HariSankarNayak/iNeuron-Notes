{
 "cells": [
  {
   "cell_type": "code",
   "execution_count": 1,
   "metadata": {},
   "outputs": [],
   "source": [
    "import sqlite3"
   ]
  },
  {
   "cell_type": "code",
   "execution_count": 2,
   "metadata": {},
   "outputs": [],
   "source": [
    "db = sqlite3.connect(\"ineuron.db\")"
   ]
  },
  {
   "cell_type": "code",
   "execution_count": 11,
   "metadata": {},
   "outputs": [
    {
     "name": "stdout",
     "output_type": "stream",
     "text": [
      " Volume in drive C has no label.\n",
      " Volume Serial Number is FA55-E833\n",
      "\n",
      " Directory of C:\\Users\\win10\\jupyter\\Complete Python Module-20210227T092441Z-001\\Complete Python Module\\19.1.SqLite\n",
      "\n",
      "02/20/2022  10:39 AM    <DIR>          .\n",
      "02/20/2022  10:39 AM    <DIR>          ..\n",
      "02/20/2022  10:18 AM    <DIR>          .ipynb_checkpoints\n",
      "02/20/2022  01:21 AM            18,429 19.1.SQLite.ipynb\n",
      "05/16/2021  03:02 PM             8,192 company_database.db\n",
      "05/16/2021  03:02 PM             8,192 company_database1.db\n",
      "05/16/2021  03:02 PM             4,616 company_database1.db-journal\n",
      "02/20/2022  01:20 AM             8,192 company_database4.db\n",
      "02/20/2022  01:20 AM             8,192 food_database.db\n",
      "02/20/2022  01:20 AM             8,720 food_database.db-journal\n",
      "02/20/2022  10:37 AM             8,192 ineuron.db\n",
      "02/20/2022  10:39 AM             4,616 ineuron.db-journal\n",
      "02/20/2022  10:39 AM             3,205 SQLLITE.ipynb\n",
      "              10 File(s)         80,546 bytes\n",
      "               3 Dir(s)  477,173,510,144 bytes free\n"
     ]
    }
   ],
   "source": [
    "ls"
   ]
  },
  {
   "cell_type": "code",
   "execution_count": 4,
   "metadata": {},
   "outputs": [],
   "source": [
    "c = db.cursor()"
   ]
  },
  {
   "cell_type": "code",
   "execution_count": 5,
   "metadata": {},
   "outputs": [
    {
     "data": {
      "text/plain": [
       "<sqlite3.Cursor at 0x2a9c523bc70>"
      ]
     },
     "execution_count": 5,
     "metadata": {},
     "output_type": "execute_result"
    }
   ],
   "source": [
    "c.execute('create table fsds(name text , batchid int , marks real)')"
   ]
  },
  {
   "cell_type": "code",
   "execution_count": 8,
   "metadata": {},
   "outputs": [
    {
     "data": {
      "text/plain": [
       "<sqlite3.Cursor at 0x2a9c523bc70>"
      ]
     },
     "execution_count": 8,
     "metadata": {},
     "output_type": "execute_result"
    }
   ],
   "source": [
    "c.execute(\"insert into fsds values('sudh' , 34535 , 454.67)\")"
   ]
  },
  {
   "cell_type": "code",
   "execution_count": 10,
   "metadata": {},
   "outputs": [
    {
     "data": {
      "text/plain": [
       "<sqlite3.Cursor at 0x2a9c523bc70>"
      ]
     },
     "execution_count": 10,
     "metadata": {},
     "output_type": "execute_result"
    }
   ],
   "source": [
    "c.execute(\"insert into fsds values('sudh' , 34535 , 454.67)\")\n",
    "c.execute(\"insert into fsds values('sudh' , 34535 , 454.67)\")\n",
    "c.execute(\"insert into fsds values('sudh' , 34535 , 454.67)\")\n",
    "c.execute(\"insert into fsds values('sudh' , 34535 , 454.67)\")\n",
    "c.execute(\"insert into fsds values('sudh' , 34535 , 454.67)\")\n",
    "c.execute(\"insert into fsds values('sudh' , 34535 , 454.67)\")\n",
    "c.execute(\"insert into fsds values('sudh' , 34535 , 454.67)\")\n",
    "c.execute(\"insert into fsds values('sudh' , 34535 , 454.67)\")"
   ]
  },
  {
   "cell_type": "code",
   "execution_count": 13,
   "metadata": {},
   "outputs": [],
   "source": [
    "data = c.execute(\"select * from fsds\")"
   ]
  },
  {
   "cell_type": "code",
   "execution_count": 14,
   "metadata": {},
   "outputs": [
    {
     "name": "stdout",
     "output_type": "stream",
     "text": [
      "('sudh', 34535, 454.67)\n",
      "('sudh', 34535, 454.67)\n",
      "('sudh', 34535, 454.67)\n",
      "('sudh', 34535, 454.67)\n",
      "('sudh', 34535, 454.67)\n",
      "('sudh', 34535, 454.67)\n",
      "('sudh', 34535, 454.67)\n",
      "('sudh', 34535, 454.67)\n",
      "('sudh', 34535, 454.67)\n"
     ]
    }
   ],
   "source": [
    "for i in data:\n",
    "    print(i)"
   ]
  },
  {
   "cell_type": "code",
   "execution_count": 15,
   "metadata": {},
   "outputs": [],
   "source": [
    "db.commit()"
   ]
  },
  {
   "cell_type": "code",
   "execution_count": 16,
   "metadata": {},
   "outputs": [],
   "source": [
    "db.close()"
   ]
  },
  {
   "cell_type": "code",
   "execution_count": 17,
   "metadata": {},
   "outputs": [
    {
     "name": "stdout",
     "output_type": "stream",
     "text": [
      " Volume in drive C has no label.\n",
      " Volume Serial Number is FA55-E833\n",
      "\n",
      " Directory of C:\\Users\\win10\\jupyter\\Complete Python Module-20210227T092441Z-001\\Complete Python Module\\19.1.SqLite\n",
      "\n",
      "02/20/2022  10:43 AM    <DIR>          .\n",
      "02/20/2022  10:43 AM    <DIR>          ..\n",
      "02/20/2022  10:18 AM    <DIR>          .ipynb_checkpoints\n",
      "02/20/2022  01:21 AM            18,429 19.1.SQLite.ipynb\n",
      "05/16/2021  03:02 PM             8,192 company_database.db\n",
      "05/16/2021  03:02 PM             8,192 company_database1.db\n",
      "05/16/2021  03:02 PM             4,616 company_database1.db-journal\n",
      "02/20/2022  01:20 AM             8,192 company_database4.db\n",
      "02/20/2022  01:20 AM             8,192 food_database.db\n",
      "02/20/2022  01:20 AM             8,720 food_database.db-journal\n",
      "02/20/2022  10:43 AM             8,192 ineuron.db\n",
      "02/20/2022  10:43 AM             5,095 SQLLITE.ipynb\n",
      "               9 File(s)         77,820 bytes\n",
      "               3 Dir(s)  477,123,272,704 bytes free\n"
     ]
    }
   ],
   "source": [
    "ls"
   ]
  },
  {
   "cell_type": "code",
   "execution_count": 18,
   "metadata": {},
   "outputs": [],
   "source": [
    "db = sqlite3.connect(\"ineuron.db\")"
   ]
  },
  {
   "cell_type": "code",
   "execution_count": 19,
   "metadata": {},
   "outputs": [],
   "source": [
    "c = db.cursor()"
   ]
  },
  {
   "cell_type": "code",
   "execution_count": 21,
   "metadata": {},
   "outputs": [],
   "source": [
    "data = c.execute(\"select * from fsds where marks > 400\")"
   ]
  },
  {
   "cell_type": "code",
   "execution_count": 22,
   "metadata": {},
   "outputs": [
    {
     "name": "stdout",
     "output_type": "stream",
     "text": [
      "('sudh', 34535, 454.67)\n",
      "('sudh', 34535, 454.67)\n",
      "('sudh', 34535, 454.67)\n",
      "('sudh', 34535, 454.67)\n",
      "('sudh', 34535, 454.67)\n",
      "('sudh', 34535, 454.67)\n",
      "('sudh', 34535, 454.67)\n",
      "('sudh', 34535, 454.67)\n",
      "('sudh', 34535, 454.67)\n"
     ]
    }
   ],
   "source": [
    "for i in data :\n",
    "    print(i)"
   ]
  },
  {
   "cell_type": "code",
   "execution_count": 23,
   "metadata": {},
   "outputs": [],
   "source": [
    "data = c.execute(\"select * from fsds where name = 'sudh' \")"
   ]
  },
  {
   "cell_type": "code",
   "execution_count": 24,
   "metadata": {},
   "outputs": [
    {
     "name": "stdout",
     "output_type": "stream",
     "text": [
      "('sudh', 34535, 454.67)\n",
      "('sudh', 34535, 454.67)\n",
      "('sudh', 34535, 454.67)\n",
      "('sudh', 34535, 454.67)\n",
      "('sudh', 34535, 454.67)\n",
      "('sudh', 34535, 454.67)\n",
      "('sudh', 34535, 454.67)\n",
      "('sudh', 34535, 454.67)\n",
      "('sudh', 34535, 454.67)\n"
     ]
    }
   ],
   "source": [
    "for i in data :\n",
    "    print(i)"
   ]
  },
  {
   "cell_type": "code",
   "execution_count": 28,
   "metadata": {},
   "outputs": [],
   "source": [
    "data = c.execute(\"select name , marks from fsds\")"
   ]
  },
  {
   "cell_type": "code",
   "execution_count": 29,
   "metadata": {},
   "outputs": [
    {
     "name": "stdout",
     "output_type": "stream",
     "text": [
      "('sudh', 454.67)\n",
      "('sudh', 454.67)\n",
      "('sudh', 454.67)\n",
      "('sudh', 454.67)\n",
      "('sudh', 454.67)\n",
      "('sudh', 454.67)\n",
      "('sudh', 454.67)\n",
      "('sudh', 454.67)\n",
      "('sudh', 454.67)\n"
     ]
    }
   ],
   "source": [
    "for i in data :\n",
    "    print(i)"
   ]
  },
  {
   "cell_type": "code",
   "execution_count": 32,
   "metadata": {},
   "outputs": [],
   "source": [
    "data = c.execute(\"select name ,marks from fsds order  by marks \")"
   ]
  },
  {
   "cell_type": "code",
   "execution_count": 33,
   "metadata": {},
   "outputs": [
    {
     "name": "stdout",
     "output_type": "stream",
     "text": [
      "('sudh', 454.67)\n",
      "('sudh', 454.67)\n",
      "('sudh', 454.67)\n",
      "('sudh', 454.67)\n",
      "('sudh', 454.67)\n",
      "('sudh', 454.67)\n",
      "('sudh', 454.67)\n",
      "('sudh', 454.67)\n",
      "('sudh', 454.67)\n"
     ]
    }
   ],
   "source": [
    "for i in data :\n",
    "    print(i)"
   ]
  },
  {
   "cell_type": "code",
   "execution_count": 34,
   "metadata": {},
   "outputs": [],
   "source": [
    "db.close()"
   ]
  },
  {
   "cell_type": "code",
   "execution_count": 35,
   "metadata": {},
   "outputs": [],
   "source": [
    "db = sqlite3.connect(\"person.db\")"
   ]
  },
  {
   "cell_type": "code",
   "execution_count": 36,
   "metadata": {},
   "outputs": [],
   "source": [
    "c = db.cursor()"
   ]
  },
  {
   "cell_type": "code",
   "execution_count": 38,
   "metadata": {},
   "outputs": [
    {
     "data": {
      "text/plain": [
       "<sqlite3.Cursor at 0x2a9c546b650>"
      ]
     },
     "execution_count": 38,
     "metadata": {},
     "output_type": "execute_result"
    }
   ],
   "source": [
    "c.execute(\"create table person_table(name text , emailid text , age int , salary real)\")"
   ]
  },
  {
   "cell_type": "code",
   "execution_count": 41,
   "metadata": {},
   "outputs": [
    {
     "data": {
      "text/plain": [
       "<sqlite3.Cursor at 0x2a9c546b650>"
      ]
     },
     "execution_count": 41,
     "metadata": {},
     "output_type": "execute_result"
    }
   ],
   "source": [
    "c.execute(\"insert into person_table values('sudh' , 'sudhanshu@ineuron.ai' , 234 , 23424)\")\n",
    "c.execute(\"insert into person_table values('prashant' ,'prashant@ineuron.ai' , 345 , 23543543)\")\n",
    "c.execute(\"insert into person_table values('krish' , 'krish@ineuron.ai' , 2345 ,34534564)\")\n",
    "c.execute(\"insert into person_table values('sunnny' ,'sunny@ineuron.ai' , 2354,7789797)\")"
   ]
  },
  {
   "cell_type": "code",
   "execution_count": 43,
   "metadata": {},
   "outputs": [],
   "source": [
    "data = c.execute(\"select * from person_table\")"
   ]
  },
  {
   "cell_type": "code",
   "execution_count": 44,
   "metadata": {},
   "outputs": [
    {
     "name": "stdout",
     "output_type": "stream",
     "text": [
      "('sudh', 'sudhanshu@ineuron.ai', 234, 23424.0)\n",
      "('prashant', 'prashant@ineuron.ai', 345, 23543543.0)\n",
      "('krish', 'krish@ineuron.ai', 2345, 34534564.0)\n",
      "('sunnny', 'sunny@ineuron.ai', 2354, 7789797.0)\n"
     ]
    }
   ],
   "source": [
    "for i in data:\n",
    "    print(i)"
   ]
  },
  {
   "cell_type": "code",
   "execution_count": 48,
   "metadata": {},
   "outputs": [],
   "source": [
    "db.commit()"
   ]
  },
  {
   "cell_type": "code",
   "execution_count": 49,
   "metadata": {},
   "outputs": [],
   "source": [
    "db.close()"
   ]
  },
  {
   "cell_type": "code",
   "execution_count": 50,
   "metadata": {},
   "outputs": [
    {
     "name": "stdout",
     "output_type": "stream",
     "text": [
      " Volume in drive C has no label.\n",
      " Volume Serial Number is FA55-E833\n",
      "\n",
      " Directory of C:\\Users\\win10\\jupyter\\Complete Python Module-20210227T092441Z-001\\Complete Python Module\\19.1.SqLite\n",
      "\n",
      "02/20/2022  11:00 AM    <DIR>          .\n",
      "02/20/2022  11:00 AM    <DIR>          ..\n",
      "02/20/2022  10:18 AM    <DIR>          .ipynb_checkpoints\n",
      "02/20/2022  01:21 AM            18,429 19.1.SQLite.ipynb\n",
      "05/16/2021  03:02 PM             8,192 company_database.db\n",
      "05/16/2021  03:02 PM             8,192 company_database1.db\n",
      "05/16/2021  03:02 PM             4,616 company_database1.db-journal\n",
      "02/20/2022  01:20 AM             8,192 company_database4.db\n",
      "02/20/2022  01:20 AM             8,192 food_database.db\n",
      "02/20/2022  01:20 AM             8,720 food_database.db-journal\n",
      "02/20/2022  10:43 AM             8,192 ineuron.db\n",
      "02/20/2022  11:00 AM             8,192 person.db\n",
      "02/20/2022  10:59 AM            13,373 SQLLITE.ipynb\n",
      "              10 File(s)         94,290 bytes\n",
      "               3 Dir(s)  477,075,660,800 bytes free\n"
     ]
    }
   ],
   "source": [
    "ls"
   ]
  },
  {
   "cell_type": "code",
   "execution_count": 51,
   "metadata": {},
   "outputs": [],
   "source": [
    "db = sqlite3.connect('ineuron.db')"
   ]
  },
  {
   "cell_type": "code",
   "execution_count": 52,
   "metadata": {},
   "outputs": [],
   "source": [
    "c = db.cursor()"
   ]
  },
  {
   "cell_type": "code",
   "execution_count": 53,
   "metadata": {},
   "outputs": [
    {
     "data": {
      "text/plain": [
       "<sqlite3.Cursor at 0x2a9c549b3b0>"
      ]
     },
     "execution_count": 53,
     "metadata": {},
     "output_type": "execute_result"
    }
   ],
   "source": [
    "c.execute('drop table fsds')"
   ]
  },
  {
   "cell_type": "code",
   "execution_count": 54,
   "metadata": {},
   "outputs": [
    {
     "ename": "OperationalError",
     "evalue": "no such table: fsds",
     "output_type": "error",
     "traceback": [
      "\u001b[1;31m---------------------------------------------------------------------------\u001b[0m",
      "\u001b[1;31mOperationalError\u001b[0m                          Traceback (most recent call last)",
      "\u001b[1;32m<ipython-input-54-b75bf689a57c>\u001b[0m in \u001b[0;36m<module>\u001b[1;34m\u001b[0m\n\u001b[1;32m----> 1\u001b[1;33m \u001b[0mc\u001b[0m\u001b[1;33m.\u001b[0m\u001b[0mexecute\u001b[0m\u001b[1;33m(\u001b[0m\u001b[1;34m'select * from fsds'\u001b[0m\u001b[1;33m)\u001b[0m\u001b[1;33m\u001b[0m\u001b[1;33m\u001b[0m\u001b[0m\n\u001b[0m",
      "\u001b[1;31mOperationalError\u001b[0m: no such table: fsds"
     ]
    }
   ],
   "source": [
    "c.execute('select * from fsds')"
   ]
  },
  {
   "cell_type": "code",
   "execution_count": 55,
   "metadata": {},
   "outputs": [
    {
     "name": "stdout",
     "output_type": "stream",
     "text": [
      " Volume in drive C has no label.\n",
      " Volume Serial Number is FA55-E833\n",
      "\n",
      " Directory of C:\\Users\\win10\\jupyter\\Complete Python Module-20210227T092441Z-001\\Complete Python Module\\19.1.SqLite\n",
      "\n",
      "02/20/2022  11:02 AM    <DIR>          .\n",
      "02/20/2022  11:02 AM    <DIR>          ..\n",
      "02/20/2022  10:18 AM    <DIR>          .ipynb_checkpoints\n",
      "02/20/2022  01:21 AM            18,429 19.1.SQLite.ipynb\n",
      "05/16/2021  03:02 PM             8,192 company_database.db\n",
      "05/16/2021  03:02 PM             8,192 company_database1.db\n",
      "05/16/2021  03:02 PM             4,616 company_database1.db-journal\n",
      "02/20/2022  01:20 AM             8,192 company_database4.db\n",
      "02/20/2022  01:20 AM             8,192 food_database.db\n",
      "02/20/2022  01:20 AM             8,720 food_database.db-journal\n",
      "02/20/2022  11:02 AM             8,192 ineuron.db\n",
      "02/20/2022  11:00 AM             8,192 person.db\n",
      "02/20/2022  11:01 AM            13,729 SQLLITE.ipynb\n",
      "              10 File(s)         94,646 bytes\n",
      "               3 Dir(s)  477,075,632,128 bytes free\n"
     ]
    }
   ],
   "source": [
    "ls"
   ]
  },
  {
   "cell_type": "code",
   "execution_count": 56,
   "metadata": {},
   "outputs": [],
   "source": [
    "db.close(\n",
    ")"
   ]
  },
  {
   "cell_type": "code",
   "execution_count": 60,
   "metadata": {},
   "outputs": [],
   "source": [
    "db = sqlite3.connect('person.db')"
   ]
  },
  {
   "cell_type": "code",
   "execution_count": 62,
   "metadata": {},
   "outputs": [],
   "source": [
    "c = db.cursor()"
   ]
  },
  {
   "cell_type": "code",
   "execution_count": 64,
   "metadata": {},
   "outputs": [],
   "source": [
    "data  = c.execute('SELECT * from person_table limit 2 ')"
   ]
  },
  {
   "cell_type": "code",
   "execution_count": 65,
   "metadata": {},
   "outputs": [
    {
     "name": "stdout",
     "output_type": "stream",
     "text": [
      "('sudh', 'sudhanshu@ineuron.ai', 234, 23424.0)\n",
      "('prashant', 'prashant@ineuron.ai', 345, 23543543.0)\n"
     ]
    }
   ],
   "source": [
    "for i in data:\n",
    "    print(i)"
   ]
  },
  {
   "cell_type": "code",
   "execution_count": 66,
   "metadata": {},
   "outputs": [],
   "source": [
    "db.close()"
   ]
  },
  {
   "cell_type": "code",
   "execution_count": 67,
   "metadata": {},
   "outputs": [],
   "source": [
    "db = sqlite3.connect('jobdb.db')"
   ]
  },
  {
   "cell_type": "code",
   "execution_count": 68,
   "metadata": {},
   "outputs": [],
   "source": [
    "c = db.cursor()"
   ]
  },
  {
   "cell_type": "code",
   "execution_count": 69,
   "metadata": {},
   "outputs": [
    {
     "data": {
      "text/plain": [
       "<sqlite3.Cursor at 0x2a9c546b260>"
      ]
     },
     "execution_count": 69,
     "metadata": {},
     "output_type": "execute_result"
    }
   ],
   "source": [
    "c.execute('create table student(student_id int , student_name text , student_mailid text , marks int)')"
   ]
  },
  {
   "cell_type": "code",
   "execution_count": 73,
   "metadata": {},
   "outputs": [
    {
     "data": {
      "text/plain": [
       "<sqlite3.Cursor at 0x2a9c546b260>"
      ]
     },
     "execution_count": 73,
     "metadata": {},
     "output_type": "execute_result"
    }
   ],
   "source": [
    "c.execute('create table address(student_id int ,pincode int  , location text , nearby text , phone_no int)')"
   ]
  },
  {
   "cell_type": "code",
   "execution_count": 77,
   "metadata": {},
   "outputs": [
    {
     "data": {
      "text/plain": [
       "<sqlite3.Cursor at 0x2a9c546b260>"
      ]
     },
     "execution_count": 77,
     "metadata": {},
     "output_type": "execute_result"
    }
   ],
   "source": [
    "c.execute(\"insert into student values(234,'sudhashu' , 'sudhanshu@ineuron.ai' , 234)\")\n",
    "c.execute(\"insert into student values(235,'sudhashu' , 'sudhanshu@ineuron.ai' , 234)\")\n",
    "c.execute(\"insert into student values(236,'sudhashu' , 'sudhanshu@ineuron.ai' , 234)\")\n",
    "c.execute(\"insert into student values(237,'sudhashu' , 'sudhanshu@ineuron.ai' , 234)\")\n",
    "c.execute(\"insert into student values(238,'sudhashu' , 'sudhanshu@ineuron.ai' , 234)\")\n",
    "c.execute(\"insert into student values(239,'sudhashu' , 'sudhanshu@ineuron.ai' , 234)\")\n",
    "c.execute(\"insert into student values(2310,'sudhashu' , 'sudhanshu@ineuron.ai' , 234)\")\n",
    "c.execute(\"insert into student values(2311,'sudhashu' , 'sudhanshu@ineuron.ai' , 234)\")\n",
    "c.execute(\"insert into student values(2343,'sudhashu' , 'sudhanshu@ineuron.ai' , 234)\")\n",
    "c.execute(\"insert into student values(233543,'sudhashu' , 'sudhanshu@ineuron.ai' , 234)\")\n",
    "c.execute(\"insert into student values(23345,'sudhashu' , 'sudhanshu@ineuron.ai' , 234)\")\n",
    "c.execute(\"insert into student values(233543,'sudhashu' , 'sudhanshu@ineuron.ai' , 234)\")"
   ]
  },
  {
   "cell_type": "code",
   "execution_count": 79,
   "metadata": {},
   "outputs": [
    {
     "data": {
      "text/plain": [
       "<sqlite3.Cursor at 0x2a9c546b260>"
      ]
     },
     "execution_count": 79,
     "metadata": {},
     "output_type": "execute_result"
    }
   ],
   "source": [
    "c.execute(\"insert into address values(235 , 560034 , 'whitefelid' ,'ineuron office ' , 2423543454353 )\")"
   ]
  },
  {
   "cell_type": "code",
   "execution_count": 80,
   "metadata": {},
   "outputs": [
    {
     "data": {
      "text/plain": [
       "<sqlite3.Cursor at 0x2a9c546b260>"
      ]
     },
     "execution_count": 80,
     "metadata": {},
     "output_type": "execute_result"
    }
   ],
   "source": [
    "c.execute(\"insert into address values(236 , 560034 , 'whitefelid' ,'ineuron office ' , 2423543454353 )\")\n",
    "c.execute(\"insert into address values(237 , 560034 , 'whitefelid' ,'ineuron office ' , 2423543454353 )\")\n",
    "c.execute(\"insert into address values(238 , 560034 , 'whitefelid' ,'ineuron office ' , 2423543454353 )\")\n",
    "c.execute(\"insert into address values(239 , 560034 , 'whitefelid' ,'ineuron office ' , 2423543454353 )\")\n",
    "c.execute(\"insert into address values(210 , 560034 , 'whitefelid' ,'ineuron office ' , 2423543454353 )\")\n",
    "c.execute(\"insert into address values(23345 , 560034 , 'whitefelid' ,'ineuron office ' , 2423543454353 )\")\n",
    "c.execute(\"insert into address values(23345 , 560034 , 'whitefelid' ,'ineuron office ' , 2423543454353 )\")\n",
    "c.execute(\"insert into address values(23654 , 560034 , 'whitefelid' ,'ineuron office ' , 2423543454353 )\")\n",
    "c.execute(\"insert into address values(235345 , 560034 , 'whitefelid' ,'ineuron office ' , 2423543454353 )\")\n",
    "c.execute(\"insert into address values(23665 , 560034 , 'whitefelid' ,'ineuron office ' , 2423543454353 )\")\n",
    "c.execute(\"insert into address values(23623 , 560034 , 'whitefelid' ,'ineuron office ' , 2423543454353 )\")\n",
    "c.execute(\"insert into address values(23689 , 560034 , 'whitefelid' ,'ineuron office ' , 2423543454353 )\")\n",
    "c.execute(\"insert into address values(23609 , 560034 , 'whitefelid' ,'ineuron office ' , 2423543454353 )\")\n",
    "c.execute(\"insert into address values(23632 , 560034 , 'whitefelid' ,'ineuron office ' , 2423543454353 )\")\n",
    "c.execute(\"insert into address values(23689 , 560034 , 'whitefelid' ,'ineuron office ' , 2423543454353 )\")\n",
    "c.execute(\"insert into address values(23623 , 560034 , 'whitefelid' ,'ineuron office ' , 2423543454353 )\")\n",
    "c.execute(\"insert into address values(23698 , 560034 , 'whitefelid' ,'ineuron office ' , 2423543454353 )\")\n",
    "c.execute(\"insert into address values(23623 , 560034 , 'whitefelid' ,'ineuron office ' , 2423543454353 )\")\n",
    "c.execute(\"insert into address values(23689 , 560034 , 'whitefelid' ,'ineuron office ' , 2423543454353 )\")\n",
    "c.execute(\"insert into address values(23623 , 560034 , 'whitefelid' ,'ineuron office ' , 2423543454353 )\")\n",
    "c.execute(\"insert into address values(23690 , 560034 , 'whitefelid' ,'ineuron office ' , 2423543454353 )\")\n"
   ]
  },
  {
   "cell_type": "code",
   "execution_count": 81,
   "metadata": {},
   "outputs": [
    {
     "name": "stdout",
     "output_type": "stream",
     "text": [
      "(235, 560034, 'whitefelid', 'ineuron office ', 2423543454353)\n",
      "(236, 560034, 'whitefelid', 'ineuron office ', 2423543454353)\n",
      "(237, 560034, 'whitefelid', 'ineuron office ', 2423543454353)\n",
      "(238, 560034, 'whitefelid', 'ineuron office ', 2423543454353)\n",
      "(239, 560034, 'whitefelid', 'ineuron office ', 2423543454353)\n",
      "(210, 560034, 'whitefelid', 'ineuron office ', 2423543454353)\n",
      "(23345, 560034, 'whitefelid', 'ineuron office ', 2423543454353)\n",
      "(23345, 560034, 'whitefelid', 'ineuron office ', 2423543454353)\n",
      "(23654, 560034, 'whitefelid', 'ineuron office ', 2423543454353)\n",
      "(235345, 560034, 'whitefelid', 'ineuron office ', 2423543454353)\n",
      "(23665, 560034, 'whitefelid', 'ineuron office ', 2423543454353)\n",
      "(23623, 560034, 'whitefelid', 'ineuron office ', 2423543454353)\n",
      "(23689, 560034, 'whitefelid', 'ineuron office ', 2423543454353)\n",
      "(23609, 560034, 'whitefelid', 'ineuron office ', 2423543454353)\n",
      "(23632, 560034, 'whitefelid', 'ineuron office ', 2423543454353)\n",
      "(23689, 560034, 'whitefelid', 'ineuron office ', 2423543454353)\n",
      "(23623, 560034, 'whitefelid', 'ineuron office ', 2423543454353)\n",
      "(23698, 560034, 'whitefelid', 'ineuron office ', 2423543454353)\n",
      "(23623, 560034, 'whitefelid', 'ineuron office ', 2423543454353)\n",
      "(23689, 560034, 'whitefelid', 'ineuron office ', 2423543454353)\n",
      "(23623, 560034, 'whitefelid', 'ineuron office ', 2423543454353)\n",
      "(23690, 560034, 'whitefelid', 'ineuron office ', 2423543454353)\n"
     ]
    }
   ],
   "source": [
    "for i in c.execute(\"select * from address\"):\n",
    "    print(i)"
   ]
  },
  {
   "cell_type": "code",
   "execution_count": 82,
   "metadata": {},
   "outputs": [
    {
     "name": "stdout",
     "output_type": "stream",
     "text": [
      "(234, 'sudhashu', 'sudhanshu@ineuron.ai', 234)\n",
      "(235, 'sudhashu', 'sudhanshu@ineuron.ai', 234)\n",
      "(236, 'sudhashu', 'sudhanshu@ineuron.ai', 234)\n",
      "(237, 'sudhashu', 'sudhanshu@ineuron.ai', 234)\n",
      "(238, 'sudhashu', 'sudhanshu@ineuron.ai', 234)\n",
      "(239, 'sudhashu', 'sudhanshu@ineuron.ai', 234)\n",
      "(2310, 'sudhashu', 'sudhanshu@ineuron.ai', 234)\n",
      "(2311, 'sudhashu', 'sudhanshu@ineuron.ai', 234)\n",
      "(2343, 'sudhashu', 'sudhanshu@ineuron.ai', 234)\n",
      "(233543, 'sudhashu', 'sudhanshu@ineuron.ai', 234)\n",
      "(23345, 'sudhashu', 'sudhanshu@ineuron.ai', 234)\n",
      "(233543, 'sudhashu', 'sudhanshu@ineuron.ai', 234)\n"
     ]
    }
   ],
   "source": [
    "for i in c.execute(\"select * from student\"):\n",
    "    print(i)"
   ]
  },
  {
   "cell_type": "code",
   "execution_count": 85,
   "metadata": {},
   "outputs": [],
   "source": [
    "data = c.execute(\"select * from student s left join address a on s.student_id=a.student_id \")\n"
   ]
  },
  {
   "cell_type": "code",
   "execution_count": 86,
   "metadata": {},
   "outputs": [
    {
     "name": "stdout",
     "output_type": "stream",
     "text": [
      "(234, 'sudhashu', 'sudhanshu@ineuron.ai', 234, None, None, None, None, None)\n",
      "(235, 'sudhashu', 'sudhanshu@ineuron.ai', 234, 235, 560034, 'whitefelid', 'ineuron office ', 2423543454353)\n",
      "(236, 'sudhashu', 'sudhanshu@ineuron.ai', 234, 236, 560034, 'whitefelid', 'ineuron office ', 2423543454353)\n",
      "(237, 'sudhashu', 'sudhanshu@ineuron.ai', 234, 237, 560034, 'whitefelid', 'ineuron office ', 2423543454353)\n",
      "(238, 'sudhashu', 'sudhanshu@ineuron.ai', 234, 238, 560034, 'whitefelid', 'ineuron office ', 2423543454353)\n",
      "(239, 'sudhashu', 'sudhanshu@ineuron.ai', 234, 239, 560034, 'whitefelid', 'ineuron office ', 2423543454353)\n",
      "(2310, 'sudhashu', 'sudhanshu@ineuron.ai', 234, None, None, None, None, None)\n",
      "(2311, 'sudhashu', 'sudhanshu@ineuron.ai', 234, None, None, None, None, None)\n",
      "(2343, 'sudhashu', 'sudhanshu@ineuron.ai', 234, None, None, None, None, None)\n",
      "(233543, 'sudhashu', 'sudhanshu@ineuron.ai', 234, None, None, None, None, None)\n",
      "(23345, 'sudhashu', 'sudhanshu@ineuron.ai', 234, 23345, 560034, 'whitefelid', 'ineuron office ', 2423543454353)\n",
      "(23345, 'sudhashu', 'sudhanshu@ineuron.ai', 234, 23345, 560034, 'whitefelid', 'ineuron office ', 2423543454353)\n",
      "(233543, 'sudhashu', 'sudhanshu@ineuron.ai', 234, None, None, None, None, None)\n"
     ]
    }
   ],
   "source": [
    "for i in data :\n",
    "    print(i)"
   ]
  },
  {
   "cell_type": "code",
   "execution_count": null,
   "metadata": {},
   "outputs": [],
   "source": [
    "where a.student_id is not null"
   ]
  },
  {
   "cell_type": "code",
   "execution_count": 88,
   "metadata": {},
   "outputs": [],
   "source": [
    "data = c.execute(\"select * from address s left join student a on s.student_id=a.student_id \")"
   ]
  },
  {
   "cell_type": "code",
   "execution_count": 89,
   "metadata": {},
   "outputs": [
    {
     "name": "stdout",
     "output_type": "stream",
     "text": [
      "(235, 560034, 'whitefelid', 'ineuron office ', 2423543454353, 235, 'sudhashu', 'sudhanshu@ineuron.ai', 234)\n",
      "(236, 560034, 'whitefelid', 'ineuron office ', 2423543454353, 236, 'sudhashu', 'sudhanshu@ineuron.ai', 234)\n",
      "(237, 560034, 'whitefelid', 'ineuron office ', 2423543454353, 237, 'sudhashu', 'sudhanshu@ineuron.ai', 234)\n",
      "(238, 560034, 'whitefelid', 'ineuron office ', 2423543454353, 238, 'sudhashu', 'sudhanshu@ineuron.ai', 234)\n",
      "(239, 560034, 'whitefelid', 'ineuron office ', 2423543454353, 239, 'sudhashu', 'sudhanshu@ineuron.ai', 234)\n",
      "(210, 560034, 'whitefelid', 'ineuron office ', 2423543454353, None, None, None, None)\n",
      "(23345, 560034, 'whitefelid', 'ineuron office ', 2423543454353, 23345, 'sudhashu', 'sudhanshu@ineuron.ai', 234)\n",
      "(23345, 560034, 'whitefelid', 'ineuron office ', 2423543454353, 23345, 'sudhashu', 'sudhanshu@ineuron.ai', 234)\n",
      "(23654, 560034, 'whitefelid', 'ineuron office ', 2423543454353, None, None, None, None)\n",
      "(235345, 560034, 'whitefelid', 'ineuron office ', 2423543454353, None, None, None, None)\n",
      "(23665, 560034, 'whitefelid', 'ineuron office ', 2423543454353, None, None, None, None)\n",
      "(23623, 560034, 'whitefelid', 'ineuron office ', 2423543454353, None, None, None, None)\n",
      "(23689, 560034, 'whitefelid', 'ineuron office ', 2423543454353, None, None, None, None)\n",
      "(23609, 560034, 'whitefelid', 'ineuron office ', 2423543454353, None, None, None, None)\n",
      "(23632, 560034, 'whitefelid', 'ineuron office ', 2423543454353, None, None, None, None)\n",
      "(23689, 560034, 'whitefelid', 'ineuron office ', 2423543454353, None, None, None, None)\n",
      "(23623, 560034, 'whitefelid', 'ineuron office ', 2423543454353, None, None, None, None)\n",
      "(23698, 560034, 'whitefelid', 'ineuron office ', 2423543454353, None, None, None, None)\n",
      "(23623, 560034, 'whitefelid', 'ineuron office ', 2423543454353, None, None, None, None)\n",
      "(23689, 560034, 'whitefelid', 'ineuron office ', 2423543454353, None, None, None, None)\n",
      "(23623, 560034, 'whitefelid', 'ineuron office ', 2423543454353, None, None, None, None)\n",
      "(23690, 560034, 'whitefelid', 'ineuron office ', 2423543454353, None, None, None, None)\n"
     ]
    }
   ],
   "source": [
    "for i in data :\n",
    "    print(i)"
   ]
  },
  {
   "cell_type": "code",
   "execution_count": 90,
   "metadata": {},
   "outputs": [
    {
     "name": "stdout",
     "output_type": "stream",
     "text": [
      "(234, 'sudhashu', 'sudhanshu@ineuron.ai', 234)\n",
      "(235, 'sudhashu', 'sudhanshu@ineuron.ai', 234)\n",
      "(236, 'sudhashu', 'sudhanshu@ineuron.ai', 234)\n",
      "(237, 'sudhashu', 'sudhanshu@ineuron.ai', 234)\n",
      "(238, 'sudhashu', 'sudhanshu@ineuron.ai', 234)\n",
      "(239, 'sudhashu', 'sudhanshu@ineuron.ai', 234)\n",
      "(2310, 'sudhashu', 'sudhanshu@ineuron.ai', 234)\n",
      "(2311, 'sudhashu', 'sudhanshu@ineuron.ai', 234)\n",
      "(2343, 'sudhashu', 'sudhanshu@ineuron.ai', 234)\n",
      "(233543, 'sudhashu', 'sudhanshu@ineuron.ai', 234)\n",
      "(23345, 'sudhashu', 'sudhanshu@ineuron.ai', 234)\n",
      "(233543, 'sudhashu', 'sudhanshu@ineuron.ai', 234)\n"
     ]
    }
   ],
   "source": [
    "for i in c.execute(\"select * from student\"):\n",
    "    print(i)"
   ]
  },
  {
   "cell_type": "code",
   "execution_count": 91,
   "metadata": {},
   "outputs": [
    {
     "data": {
      "text/plain": [
       "<sqlite3.Cursor at 0x2a9c546b260>"
      ]
     },
     "execution_count": 91,
     "metadata": {},
     "output_type": "execute_result"
    }
   ],
   "source": [
    "c.execute('delete from student where student_id > 2000')"
   ]
  },
  {
   "cell_type": "code",
   "execution_count": 92,
   "metadata": {},
   "outputs": [
    {
     "name": "stdout",
     "output_type": "stream",
     "text": [
      "(234, 'sudhashu', 'sudhanshu@ineuron.ai', 234)\n",
      "(235, 'sudhashu', 'sudhanshu@ineuron.ai', 234)\n",
      "(236, 'sudhashu', 'sudhanshu@ineuron.ai', 234)\n",
      "(237, 'sudhashu', 'sudhanshu@ineuron.ai', 234)\n",
      "(238, 'sudhashu', 'sudhanshu@ineuron.ai', 234)\n",
      "(239, 'sudhashu', 'sudhanshu@ineuron.ai', 234)\n"
     ]
    }
   ],
   "source": [
    "for i in c.execute(\"select * from student\"):\n",
    "    print(i)"
   ]
  },
  {
   "cell_type": "code",
   "execution_count": 93,
   "metadata": {},
   "outputs": [],
   "source": [
    "data = c.execute(\"select * from student\")"
   ]
  },
  {
   "cell_type": "code",
   "execution_count": 94,
   "metadata": {},
   "outputs": [
    {
     "data": {
      "text/plain": [
       "[(234, 'sudhashu', 'sudhanshu@ineuron.ai', 234),\n",
       " (235, 'sudhashu', 'sudhanshu@ineuron.ai', 234),\n",
       " (236, 'sudhashu', 'sudhanshu@ineuron.ai', 234),\n",
       " (237, 'sudhashu', 'sudhanshu@ineuron.ai', 234),\n",
       " (238, 'sudhashu', 'sudhanshu@ineuron.ai', 234),\n",
       " (239, 'sudhashu', 'sudhanshu@ineuron.ai', 234)]"
      ]
     },
     "execution_count": 94,
     "metadata": {},
     "output_type": "execute_result"
    }
   ],
   "source": [
    "data.fetchall()"
   ]
  },
  {
   "cell_type": "code",
   "execution_count": 95,
   "metadata": {},
   "outputs": [
    {
     "data": {
      "text/plain": [
       "<sqlite3.Cursor at 0x2a9c546b260>"
      ]
     },
     "execution_count": 95,
     "metadata": {},
     "output_type": "execute_result"
    }
   ],
   "source": [
    "c.execute(\"update student set student_id = 1000 where student_id = 236\")"
   ]
  },
  {
   "cell_type": "code",
   "execution_count": 96,
   "metadata": {},
   "outputs": [
    {
     "data": {
      "text/plain": [
       "[(234, 'sudhashu', 'sudhanshu@ineuron.ai', 234),\n",
       " (235, 'sudhashu', 'sudhanshu@ineuron.ai', 234),\n",
       " (1000, 'sudhashu', 'sudhanshu@ineuron.ai', 234),\n",
       " (237, 'sudhashu', 'sudhanshu@ineuron.ai', 234),\n",
       " (238, 'sudhashu', 'sudhanshu@ineuron.ai', 234),\n",
       " (239, 'sudhashu', 'sudhanshu@ineuron.ai', 234)]"
      ]
     },
     "execution_count": 96,
     "metadata": {},
     "output_type": "execute_result"
    }
   ],
   "source": [
    "data = c.execute(\"select * from student\")\n",
    "data.fetchall()"
   ]
  },
  {
   "cell_type": "code",
   "execution_count": 98,
   "metadata": {},
   "outputs": [],
   "source": [
    "db.close()"
   ]
  },
  {
   "cell_type": "code",
   "execution_count": 99,
   "metadata": {},
   "outputs": [],
   "source": [
    "l = [1,2,3,4,5,6]"
   ]
  },
  {
   "cell_type": "code",
   "execution_count": 103,
   "metadata": {},
   "outputs": [],
   "source": [
    "def test(a) :\n",
    "    return a+5"
   ]
  },
  {
   "cell_type": "code",
   "execution_count": 100,
   "metadata": {},
   "outputs": [],
   "source": [
    "l1 = []\n",
    "for i in l:\n",
    "    l1.append(i+5)"
   ]
  },
  {
   "cell_type": "code",
   "execution_count": 101,
   "metadata": {},
   "outputs": [
    {
     "data": {
      "text/plain": [
       "[6, 7, 8, 9, 10, 11]"
      ]
     },
     "execution_count": 101,
     "metadata": {},
     "output_type": "execute_result"
    }
   ],
   "source": [
    "l1"
   ]
  },
  {
   "cell_type": "code",
   "execution_count": 102,
   "metadata": {},
   "outputs": [
    {
     "data": {
      "text/plain": [
       "[6, 7, 8, 9, 10, 11]"
      ]
     },
     "execution_count": 102,
     "metadata": {},
     "output_type": "execute_result"
    }
   ],
   "source": [
    "[i+5 for i in l ]"
   ]
  },
  {
   "cell_type": "code",
   "execution_count": 105,
   "metadata": {},
   "outputs": [
    {
     "data": {
      "text/plain": [
       "[6, 7, 8, 9, 10, 11]"
      ]
     },
     "execution_count": 105,
     "metadata": {},
     "output_type": "execute_result"
    }
   ],
   "source": [
    "list(map(test ,l))"
   ]
  },
  {
   "cell_type": "code",
   "execution_count": 106,
   "metadata": {},
   "outputs": [],
   "source": [
    "def test1(a) : \n",
    "    return a*3454+454"
   ]
  },
  {
   "cell_type": "code",
   "execution_count": 107,
   "metadata": {},
   "outputs": [
    {
     "data": {
      "text/plain": [
       "[3908, 7362, 10816, 14270, 17724, 21178]"
      ]
     },
     "execution_count": 107,
     "metadata": {},
     "output_type": "execute_result"
    }
   ],
   "source": [
    "list(map(test1,l))"
   ]
  },
  {
   "cell_type": "code",
   "execution_count": 108,
   "metadata": {},
   "outputs": [],
   "source": [
    "l1 = ['234','345','543','5435','543','5435']"
   ]
  },
  {
   "cell_type": "code",
   "execution_count": 109,
   "metadata": {},
   "outputs": [],
   "source": [
    "def test2(a):\n",
    "    return int(a)"
   ]
  },
  {
   "cell_type": "code",
   "execution_count": 110,
   "metadata": {},
   "outputs": [
    {
     "data": {
      "text/plain": [
       "54656"
      ]
     },
     "execution_count": 110,
     "metadata": {},
     "output_type": "execute_result"
    }
   ],
   "source": [
    "test2(\"54656\")"
   ]
  },
  {
   "cell_type": "code",
   "execution_count": 112,
   "metadata": {},
   "outputs": [
    {
     "data": {
      "text/plain": [
       "[234, 345, 543, 5435, 543, 5435]"
      ]
     },
     "execution_count": 112,
     "metadata": {},
     "output_type": "execute_result"
    }
   ],
   "source": [
    "list(map(test2,l1))"
   ]
  },
  {
   "cell_type": "code",
   "execution_count": 113,
   "metadata": {},
   "outputs": [
    {
     "data": {
      "text/plain": [
       "[234, 345, 543, 5435, 543, 5435]"
      ]
     },
     "execution_count": 113,
     "metadata": {},
     "output_type": "execute_result"
    }
   ],
   "source": [
    "list(map(lambda x :int(x) , l1))"
   ]
  },
  {
   "cell_type": "code",
   "execution_count": 114,
   "metadata": {},
   "outputs": [
    {
     "data": {
      "text/plain": [
       "[6, 7, 8, 9, 10, 11]"
      ]
     },
     "execution_count": 114,
     "metadata": {},
     "output_type": "execute_result"
    }
   ],
   "source": [
    "list(map(lambda x :x+5  , l))"
   ]
  },
  {
   "cell_type": "code",
   "execution_count": 115,
   "metadata": {},
   "outputs": [
    {
     "data": {
      "text/plain": [
       "[1, 2, 3, 4, 5, 6]"
      ]
     },
     "execution_count": 115,
     "metadata": {},
     "output_type": "execute_result"
    }
   ],
   "source": [
    "l"
   ]
  },
  {
   "cell_type": "code",
   "execution_count": 116,
   "metadata": {},
   "outputs": [],
   "source": [
    "l = [4,5,6,7,78,8,78]"
   ]
  },
  {
   "cell_type": "code",
   "execution_count": 117,
   "metadata": {},
   "outputs": [],
   "source": [
    "def test4(a):\n",
    "    if a%2 ==0:\n",
    "        return a"
   ]
  },
  {
   "cell_type": "code",
   "execution_count": 118,
   "metadata": {},
   "outputs": [
    {
     "data": {
      "text/plain": [
       "[4, 6, 78, 8, 78]"
      ]
     },
     "execution_count": 118,
     "metadata": {},
     "output_type": "execute_result"
    }
   ],
   "source": [
    "[i for i in l if i%2 == 0 ]"
   ]
  },
  {
   "cell_type": "code",
   "execution_count": 120,
   "metadata": {},
   "outputs": [
    {
     "data": {
      "text/plain": [
       "[4, 6, 78, 8, 78]"
      ]
     },
     "execution_count": 120,
     "metadata": {},
     "output_type": "execute_result"
    }
   ],
   "source": [
    "list(filter(test4,l))"
   ]
  },
  {
   "cell_type": "code",
   "execution_count": 121,
   "metadata": {},
   "outputs": [
    {
     "data": {
      "text/plain": [
       "[4, 6, 78, 8, 78]"
      ]
     },
     "execution_count": 121,
     "metadata": {},
     "output_type": "execute_result"
    }
   ],
   "source": [
    "list(filter(lambda x : x%2 ==0 , l))"
   ]
  },
  {
   "cell_type": "code",
   "execution_count": 124,
   "metadata": {},
   "outputs": [
    {
     "data": {
      "text/plain": [
       "[6, 78, 78]"
      ]
     },
     "execution_count": 124,
     "metadata": {},
     "output_type": "execute_result"
    }
   ],
   "source": [
    "list(filter(lambda x :x%3 ==0 , l))"
   ]
  },
  {
   "cell_type": "code",
   "execution_count": 125,
   "metadata": {},
   "outputs": [
    {
     "data": {
      "text/plain": [
       "[4, 5, 6, 7, 78, 8, 78]"
      ]
     },
     "execution_count": 125,
     "metadata": {},
     "output_type": "execute_result"
    }
   ],
   "source": [
    "l"
   ]
  },
  {
   "cell_type": "code",
   "execution_count": 127,
   "metadata": {},
   "outputs": [],
   "source": [
    "from functools import reduce"
   ]
  },
  {
   "cell_type": "code",
   "execution_count": 129,
   "metadata": {},
   "outputs": [],
   "source": [
    "l = [3,4,5,6,7,3,8]"
   ]
  },
  {
   "cell_type": "code",
   "execution_count": 130,
   "metadata": {},
   "outputs": [
    {
     "data": {
      "text/plain": [
       "36"
      ]
     },
     "execution_count": 130,
     "metadata": {},
     "output_type": "execute_result"
    }
   ],
   "source": [
    "sum(l)"
   ]
  },
  {
   "cell_type": "code",
   "execution_count": 142,
   "metadata": {},
   "outputs": [],
   "source": [
    "def test5(a,b):\n",
    "    return a+b"
   ]
  },
  {
   "cell_type": "code",
   "execution_count": 140,
   "metadata": {},
   "outputs": [
    {
     "ename": "TypeError",
     "evalue": "test5() missing 1 required positional argument: 'c'",
     "output_type": "error",
     "traceback": [
      "\u001b[1;31m---------------------------------------------------------------------------\u001b[0m",
      "\u001b[1;31mTypeError\u001b[0m                                 Traceback (most recent call last)",
      "\u001b[1;32m<ipython-input-140-d46681df47cb>\u001b[0m in \u001b[0;36m<module>\u001b[1;34m\u001b[0m\n\u001b[1;32m----> 1\u001b[1;33m \u001b[0mreduce\u001b[0m\u001b[1;33m(\u001b[0m\u001b[0mtest5\u001b[0m \u001b[1;33m,\u001b[0m \u001b[0ml\u001b[0m\u001b[1;33m)\u001b[0m\u001b[1;33m\u001b[0m\u001b[1;33m\u001b[0m\u001b[0m\n\u001b[0m",
      "\u001b[1;31mTypeError\u001b[0m: test5() missing 1 required positional argument: 'c'"
     ]
    }
   ],
   "source": [
    "reduce(test5 , l)"
   ]
  },
  {
   "cell_type": "code",
   "execution_count": 149,
   "metadata": {},
   "outputs": [],
   "source": [
    "l=[8,5,6,7,8,8]"
   ]
  },
  {
   "cell_type": "code",
   "execution_count": 150,
   "metadata": {},
   "outputs": [
    {
     "data": {
      "text/plain": [
       "42"
      ]
     },
     "execution_count": 150,
     "metadata": {},
     "output_type": "execute_result"
    }
   ],
   "source": [
    "reduce(test5,l)"
   ]
  },
  {
   "cell_type": "code",
   "execution_count": 153,
   "metadata": {},
   "outputs": [
    {
     "data": {
      "text/plain": [
       "0.0005952380952380952"
      ]
     },
     "execution_count": 153,
     "metadata": {},
     "output_type": "execute_result"
    }
   ],
   "source": [
    "reduce(lambda x,y :x/y , l)"
   ]
  },
  {
   "cell_type": "code",
   "execution_count": 159,
   "metadata": {},
   "outputs": [],
   "source": [
    "l = [1,2,3,4]\n",
    "l1 = [4,5,6,7,7]\n",
    "l2 = [\"sudhanshu\" , \"kumar\" , \"krish\" , \"sunny\" , \"ineuron\"]"
   ]
  },
  {
   "cell_type": "code",
   "execution_count": 160,
   "metadata": {},
   "outputs": [
    {
     "data": {
      "text/plain": [
       "[(1, 4, 'sudhanshu'), (2, 5, 'kumar'), (3, 6, 'krish'), (4, 7, 'sunny')]"
      ]
     },
     "execution_count": 160,
     "metadata": {},
     "output_type": "execute_result"
    }
   ],
   "source": [
    "list(zip(l,l1,l2))"
   ]
  },
  {
   "cell_type": "code",
   "execution_count": null,
   "metadata": {},
   "outputs": [],
   "source": [
    "\"\"\"Task for today :\n",
    "  dataset -   https://archive.ics.uci.edu/ml/datasets/Bag+of+Words\n",
    "    \n",
    "    q1 = try to find out a count of each and every word in a respective file return a list of tuple with word and its respective count \n",
    "       sample example -  [('sudh', 6 ) , ('kumar',3)]\n",
    "    q2 = try to perform a reduce operation to get a count of all the word starting with same alphabet\n",
    "        sample examle = [(a,56) , (b,34),...........]\n",
    "    q3 = Try to filter out all the words from dataset . \n",
    "    \n",
    "    .001.abstract = abstract\n",
    "    =.002 = delete\n",
    "    q4 = create a tuple set of all the records avaialble in all the five file and then store it in sqllite DB . \n",
    "    (aah,>=,354,fdsf,wer)\n",
    "    \n",
    "    Top 10 will be able to get kids neuron \"\"\"\n",
    "    "
   ]
  }
 ],
 "metadata": {
  "kernelspec": {
   "display_name": "Python 3",
   "language": "python",
   "name": "python3"
  },
  "language_info": {
   "codemirror_mode": {
    "name": "ipython",
    "version": 3
   },
   "file_extension": ".py",
   "mimetype": "text/x-python",
   "name": "python",
   "nbconvert_exporter": "python",
   "pygments_lexer": "ipython3",
   "version": "3.8.5"
  }
 },
 "nbformat": 4,
 "nbformat_minor": 4
}
