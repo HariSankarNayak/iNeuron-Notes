{
 "cells": [
  {
   "cell_type": "code",
   "execution_count": 1,
   "metadata": {},
   "outputs": [],
   "source": [
    "import sqlite3"
   ]
  },
  {
   "cell_type": "code",
   "execution_count": 2,
   "metadata": {},
   "outputs": [],
   "source": [
    "db = sqlite3.connect(\"ineuron.db\")"
   ]
  },
  {
   "cell_type": "code",
   "execution_count": 3,
   "metadata": {},
   "outputs": [
    {
     "name": "stdout",
     "output_type": "stream",
     "text": [
      " Volume in drive C has no label.\n",
      " Volume Serial Number is 022C-3D66\n",
      "\n",
      " Directory of c:\\Users\\nayak\\Desktop\\SelfProject\\iNeuron\\Python\n",
      "\n",
      "18-05-2022  00:07    <DIR>          .\n",
      "11-05-2022  21:37    <DIR>          ..\n",
      "11-05-2022  21:35    <DIR>          .ipynb_checkpoints\n",
      "07-03-2022  00:17            23,057 000.python basic.ipynb\n",
      "13-04-2022  22:44            23,471 001.python basic.ipynb\n",
      "13-04-2022  22:52            16,952 002.whileloop.ipynb\n",
      "16-04-2022  00:46            17,533 003.Forloop.ipynb\n",
      "16-04-2022  01:42            39,935 004.python string and list manupulation.ipynb\n",
      "16-04-2022  02:15            69,090 004.python string and list manupulation-nov.ipynb\n",
      "16-04-2022  02:08            56,644 005.list manupulaton.ipynb\n",
      "16-04-2022  02:54            54,898 006.TUPLE SET AND DICT-bckup.ipynb\n",
      "16-04-2022  02:44            59,358 006.Tuples , set , dict .ipynb\n",
      "16-04-2022  03:12            27,917 007.Function in pyton  (1).ipynb\n",
      "16-04-2022  03:24         9,562,697 008.Function and files.ipynb\n",
      "16-04-2022  16:35            23,880 009.logging and debuging.ipynb\n",
      "16-04-2022  22:13            28,599 010.class and object.ipynb\n",
      "16-04-2022  22:53            14,087 011.file sysetm.ipynb\n",
      "16-04-2022  22:58        21,685,762 012.iterator generator.ipynb\n",
      "16-04-2022  23:40            10,152 013.Exception handling class 1.ipynb\n",
      "17-04-2022  00:01            31,318 014.Exception handling class 2 (1).ipynb\n",
      "16-04-2022  23:59             4,052 015.logging (1).ipynb\n",
      "17-04-2022  00:07             4,053 016.logging (1).ipynb\n",
      "17-04-2022  00:10            33,508 017.oops class 1.ipynb\n",
      "17-04-2022  00:30            39,947 018.oops 29th .ipynb\n",
      "17-04-2022  00:33            41,225 019.oops 30th.ipynb\n",
      "17-04-2022  01:01            38,986 020.oops 2 (2).ipynb\n",
      "11-05-2022  21:50            48,670 021.if else , for loop.ipynb\n",
      "11-05-2022  21:50            25,286 022.for loops while loop.ipynb\n",
      "11-05-2022  21:57            49,806 023.practice problem python basic.ipynb\n",
      "12-05-2022  01:35            11,903 024.glass.data\n",
      "14-05-2022  01:38            79,978 025.SQL basic.ipynb\n",
      "14-05-2022  01:38           201,080 026.sql day 2.ipynb\n",
      "16-05-2022  23:20            13,501 027.mongodb class 1.ipynb\n",
      "18-05-2022  00:07            21,679 028.SQLLITE ,map ,reduce ,filter,zip.ipynb\n",
      "15-05-2021  17:58    <DIR>          19.2.MySQL\n",
      "16-05-2021  18:05    <DIR>          19.3 MongoDB\n",
      "17-05-2022  21:48            34,222 4.Control Flow.ipynb\n",
      "17-05-2022  21:45         6,049,711 deeplearningineuron.pdf\n",
      "18-05-2022  00:07                 0 ineuron.db\n",
      "11-05-2022  21:51                36 README.md\n",
      "              35 File(s)     38,442,993 bytes\n",
      "               5 Dir(s)  406,550,237,184 bytes free\n"
     ]
    }
   ],
   "source": [
    "ls"
   ]
  },
  {
   "cell_type": "code",
   "execution_count": 4,
   "metadata": {},
   "outputs": [],
   "source": [
    "c = db.cursor()"
   ]
  },
  {
   "cell_type": "code",
   "execution_count": 5,
   "metadata": {},
   "outputs": [
    {
     "data": {
      "text/plain": [
       "<sqlite3.Cursor at 0x14d5e57b540>"
      ]
     },
     "execution_count": 5,
     "metadata": {},
     "output_type": "execute_result"
    }
   ],
   "source": [
    "c.execute('create table fsds(name text , batchid int , marks real)')"
   ]
  },
  {
   "cell_type": "code",
   "execution_count": 6,
   "metadata": {},
   "outputs": [
    {
     "data": {
      "text/plain": [
       "<sqlite3.Cursor at 0x14d5e57b540>"
      ]
     },
     "execution_count": 6,
     "metadata": {},
     "output_type": "execute_result"
    }
   ],
   "source": [
    "c.execute(\"insert into fsds values('sudh' , 34535 , 454.67)\")"
   ]
  },
  {
   "cell_type": "code",
   "execution_count": 7,
   "metadata": {},
   "outputs": [
    {
     "data": {
      "text/plain": [
       "<sqlite3.Cursor at 0x14d5e57b540>"
      ]
     },
     "execution_count": 7,
     "metadata": {},
     "output_type": "execute_result"
    }
   ],
   "source": [
    "c.execute(\"insert into fsds values('sudh' , 34535 , 454.67)\")\n",
    "c.execute(\"insert into fsds values('sudh' , 34535 , 454.67)\")\n",
    "c.execute(\"insert into fsds values('sudh' , 34535 , 454.67)\")\n",
    "c.execute(\"insert into fsds values('sudh' , 34535 , 454.67)\")\n",
    "c.execute(\"insert into fsds values('sudh' , 34535 , 454.67)\")\n",
    "c.execute(\"insert into fsds values('sudh' , 34535 , 454.67)\")\n",
    "c.execute(\"insert into fsds values('sudh' , 34535 , 454.67)\")\n",
    "c.execute(\"insert into fsds values('sudh' , 34535 , 454.67)\")"
   ]
  },
  {
   "cell_type": "code",
   "execution_count": 8,
   "metadata": {},
   "outputs": [],
   "source": [
    "data = c.execute(\"select * from fsds\")"
   ]
  },
  {
   "cell_type": "code",
   "execution_count": 9,
   "metadata": {},
   "outputs": [
    {
     "name": "stdout",
     "output_type": "stream",
     "text": [
      "('sudh', 34535, 454.67)\n",
      "('sudh', 34535, 454.67)\n",
      "('sudh', 34535, 454.67)\n",
      "('sudh', 34535, 454.67)\n",
      "('sudh', 34535, 454.67)\n",
      "('sudh', 34535, 454.67)\n",
      "('sudh', 34535, 454.67)\n",
      "('sudh', 34535, 454.67)\n",
      "('sudh', 34535, 454.67)\n"
     ]
    }
   ],
   "source": [
    "for i in data:\n",
    "    print(i)"
   ]
  },
  {
   "cell_type": "code",
   "execution_count": 10,
   "metadata": {},
   "outputs": [],
   "source": [
    "db.commit()"
   ]
  },
  {
   "cell_type": "code",
   "execution_count": 11,
   "metadata": {},
   "outputs": [],
   "source": [
    "db.close()"
   ]
  },
  {
   "cell_type": "code",
   "execution_count": 12,
   "metadata": {},
   "outputs": [
    {
     "name": "stdout",
     "output_type": "stream",
     "text": [
      " Volume in drive C has no label.\n",
      " Volume Serial Number is 022C-3D66\n",
      "\n",
      " Directory of c:\\Users\\nayak\\Desktop\\SelfProject\\iNeuron\\Python\n",
      "\n",
      "18-05-2022  00:07    <DIR>          .\n",
      "11-05-2022  21:37    <DIR>          ..\n",
      "11-05-2022  21:35    <DIR>          .ipynb_checkpoints\n",
      "07-03-2022  00:17            23,057 000.python basic.ipynb\n",
      "13-04-2022  22:44            23,471 001.python basic.ipynb\n",
      "13-04-2022  22:52            16,952 002.whileloop.ipynb\n",
      "16-04-2022  00:46            17,533 003.Forloop.ipynb\n",
      "16-04-2022  01:42            39,935 004.python string and list manupulation.ipynb\n",
      "16-04-2022  02:15            69,090 004.python string and list manupulation-nov.ipynb\n",
      "16-04-2022  02:08            56,644 005.list manupulaton.ipynb\n",
      "16-04-2022  02:54            54,898 006.TUPLE SET AND DICT-bckup.ipynb\n",
      "16-04-2022  02:44            59,358 006.Tuples , set , dict .ipynb\n",
      "16-04-2022  03:12            27,917 007.Function in pyton  (1).ipynb\n",
      "16-04-2022  03:24         9,562,697 008.Function and files.ipynb\n",
      "16-04-2022  16:35            23,880 009.logging and debuging.ipynb\n",
      "16-04-2022  22:13            28,599 010.class and object.ipynb\n",
      "16-04-2022  22:53            14,087 011.file sysetm.ipynb\n",
      "16-04-2022  22:58        21,685,762 012.iterator generator.ipynb\n",
      "16-04-2022  23:40            10,152 013.Exception handling class 1.ipynb\n",
      "17-04-2022  00:01            31,318 014.Exception handling class 2 (1).ipynb\n",
      "16-04-2022  23:59             4,052 015.logging (1).ipynb\n",
      "17-04-2022  00:07             4,053 016.logging (1).ipynb\n",
      "17-04-2022  00:10            33,508 017.oops class 1.ipynb\n",
      "17-04-2022  00:30            39,947 018.oops 29th .ipynb\n",
      "17-04-2022  00:33            41,225 019.oops 30th.ipynb\n",
      "17-04-2022  01:01            38,986 020.oops 2 (2).ipynb\n",
      "11-05-2022  21:50            48,670 021.if else , for loop.ipynb\n",
      "11-05-2022  21:50            25,286 022.for loops while loop.ipynb\n",
      "11-05-2022  21:57            49,806 023.practice problem python basic.ipynb\n",
      "12-05-2022  01:35            11,903 024.glass.data\n",
      "14-05-2022  01:38            79,978 025.SQL basic.ipynb\n",
      "14-05-2022  01:38           201,080 026.sql day 2.ipynb\n",
      "16-05-2022  23:20            13,501 027.mongodb class 1.ipynb\n",
      "18-05-2022  00:07            21,679 028.SQLLITE ,map ,reduce ,filter,zip.ipynb\n",
      "15-05-2021  17:58    <DIR>          19.2.MySQL\n",
      "16-05-2021  18:05    <DIR>          19.3 MongoDB\n",
      "17-05-2022  21:48            34,222 4.Control Flow.ipynb\n",
      "17-05-2022  21:45         6,049,711 deeplearningineuron.pdf\n",
      "18-05-2022  00:07             8,192 ineuron.db\n",
      "11-05-2022  21:51                36 README.md\n",
      "              35 File(s)     38,451,185 bytes\n",
      "               5 Dir(s)  406,550,147,072 bytes free\n"
     ]
    }
   ],
   "source": [
    "ls"
   ]
  },
  {
   "cell_type": "code",
   "execution_count": 13,
   "metadata": {},
   "outputs": [],
   "source": [
    "db = sqlite3.connect(\"ineuron.db\")"
   ]
  },
  {
   "cell_type": "code",
   "execution_count": 14,
   "metadata": {},
   "outputs": [],
   "source": [
    "c = db.cursor()"
   ]
  },
  {
   "cell_type": "code",
   "execution_count": 15,
   "metadata": {},
   "outputs": [],
   "source": [
    "data = c.execute(\"select * from fsds where marks > 400\")"
   ]
  },
  {
   "cell_type": "code",
   "execution_count": 16,
   "metadata": {},
   "outputs": [
    {
     "name": "stdout",
     "output_type": "stream",
     "text": [
      "('sudh', 34535, 454.67)\n",
      "('sudh', 34535, 454.67)\n",
      "('sudh', 34535, 454.67)\n",
      "('sudh', 34535, 454.67)\n",
      "('sudh', 34535, 454.67)\n",
      "('sudh', 34535, 454.67)\n",
      "('sudh', 34535, 454.67)\n",
      "('sudh', 34535, 454.67)\n",
      "('sudh', 34535, 454.67)\n"
     ]
    }
   ],
   "source": [
    "for i in data :\n",
    "    print(i)"
   ]
  },
  {
   "cell_type": "code",
   "execution_count": 17,
   "metadata": {},
   "outputs": [],
   "source": [
    "data = c.execute(\"select * from fsds where name = 'sudh' \")"
   ]
  },
  {
   "cell_type": "code",
   "execution_count": 18,
   "metadata": {},
   "outputs": [
    {
     "name": "stdout",
     "output_type": "stream",
     "text": [
      "('sudh', 34535, 454.67)\n",
      "('sudh', 34535, 454.67)\n",
      "('sudh', 34535, 454.67)\n",
      "('sudh', 34535, 454.67)\n",
      "('sudh', 34535, 454.67)\n",
      "('sudh', 34535, 454.67)\n",
      "('sudh', 34535, 454.67)\n",
      "('sudh', 34535, 454.67)\n",
      "('sudh', 34535, 454.67)\n"
     ]
    }
   ],
   "source": [
    "for i in data :\n",
    "    print(i)"
   ]
  },
  {
   "cell_type": "code",
   "execution_count": 19,
   "metadata": {},
   "outputs": [],
   "source": [
    "data = c.execute(\"select name , marks from fsds\")"
   ]
  },
  {
   "cell_type": "code",
   "execution_count": 20,
   "metadata": {},
   "outputs": [
    {
     "name": "stdout",
     "output_type": "stream",
     "text": [
      "('sudh', 454.67)\n",
      "('sudh', 454.67)\n",
      "('sudh', 454.67)\n",
      "('sudh', 454.67)\n",
      "('sudh', 454.67)\n",
      "('sudh', 454.67)\n",
      "('sudh', 454.67)\n",
      "('sudh', 454.67)\n",
      "('sudh', 454.67)\n"
     ]
    }
   ],
   "source": [
    "for i in data :\n",
    "    print(i)"
   ]
  },
  {
   "cell_type": "code",
   "execution_count": 21,
   "metadata": {},
   "outputs": [],
   "source": [
    "data = c.execute(\"select name ,marks from fsds order  by marks \")"
   ]
  },
  {
   "cell_type": "code",
   "execution_count": 22,
   "metadata": {},
   "outputs": [
    {
     "name": "stdout",
     "output_type": "stream",
     "text": [
      "('sudh', 454.67)\n",
      "('sudh', 454.67)\n",
      "('sudh', 454.67)\n",
      "('sudh', 454.67)\n",
      "('sudh', 454.67)\n",
      "('sudh', 454.67)\n",
      "('sudh', 454.67)\n",
      "('sudh', 454.67)\n",
      "('sudh', 454.67)\n"
     ]
    }
   ],
   "source": [
    "for i in data :\n",
    "    print(i)"
   ]
  },
  {
   "cell_type": "code",
   "execution_count": 23,
   "metadata": {},
   "outputs": [],
   "source": [
    "db.close()"
   ]
  },
  {
   "cell_type": "code",
   "execution_count": 24,
   "metadata": {},
   "outputs": [],
   "source": [
    "db = sqlite3.connect(\"person.db\")"
   ]
  },
  {
   "cell_type": "code",
   "execution_count": 25,
   "metadata": {},
   "outputs": [],
   "source": [
    "c = db.cursor()"
   ]
  },
  {
   "cell_type": "code",
   "execution_count": 28,
   "metadata": {},
   "outputs": [
    {
     "data": {
      "text/plain": [
       "<sqlite3.Cursor at 0x14d5dd1cc40>"
      ]
     },
     "execution_count": 28,
     "metadata": {},
     "output_type": "execute_result"
    }
   ],
   "source": [
    "c.execute(\"create table person_table(name text , emailid text , age int , salary real)\")"
   ]
  },
  {
   "cell_type": "code",
   "execution_count": 29,
   "metadata": {},
   "outputs": [
    {
     "data": {
      "text/plain": [
       "<sqlite3.Cursor at 0x14d5dd1cc40>"
      ]
     },
     "execution_count": 29,
     "metadata": {},
     "output_type": "execute_result"
    }
   ],
   "source": [
    "c.execute(\"insert into person_table values('sudh' , 'sudhanshu@ineuron.ai' , 234 , 23424)\")\n",
    "c.execute(\"insert into person_table values('prashant' ,'prashant@ineuron.ai' , 345 , 23543543)\")\n",
    "c.execute(\"insert into person_table values('krish' , 'krish@ineuron.ai' , 2345 ,34534564)\")\n",
    "c.execute(\"insert into person_table values('sunnny' ,'sunny@ineuron.ai' , 2354,7789797)\")"
   ]
  },
  {
   "cell_type": "code",
   "execution_count": 30,
   "metadata": {},
   "outputs": [],
   "source": [
    "data = c.execute(\"select * from person_table\")"
   ]
  },
  {
   "cell_type": "code",
   "execution_count": 31,
   "metadata": {},
   "outputs": [
    {
     "name": "stdout",
     "output_type": "stream",
     "text": [
      "('sudh', 'sudhanshu@ineuron.ai', 234, 23424.0)\n",
      "('prashant', 'prashant@ineuron.ai', 345, 23543543.0)\n",
      "('krish', 'krish@ineuron.ai', 2345, 34534564.0)\n",
      "('sunnny', 'sunny@ineuron.ai', 2354, 7789797.0)\n"
     ]
    }
   ],
   "source": [
    "for i in data:\n",
    "    print(i)"
   ]
  },
  {
   "cell_type": "code",
   "execution_count": 32,
   "metadata": {},
   "outputs": [],
   "source": [
    "db.commit()"
   ]
  },
  {
   "cell_type": "code",
   "execution_count": 33,
   "metadata": {},
   "outputs": [],
   "source": [
    "db.close()"
   ]
  },
  {
   "cell_type": "code",
   "execution_count": 34,
   "metadata": {},
   "outputs": [
    {
     "name": "stdout",
     "output_type": "stream",
     "text": [
      " Volume in drive C has no label.\n",
      " Volume Serial Number is 022C-3D66\n",
      "\n",
      " Directory of c:\\Users\\nayak\\Desktop\\SelfProject\\iNeuron\\Python\n",
      "\n",
      "18-05-2022  00:08    <DIR>          .\n",
      "11-05-2022  21:37    <DIR>          ..\n",
      "11-05-2022  21:35    <DIR>          .ipynb_checkpoints\n",
      "07-03-2022  00:17            23,057 000.python basic.ipynb\n",
      "13-04-2022  22:44            23,471 001.python basic.ipynb\n",
      "13-04-2022  22:52            16,952 002.whileloop.ipynb\n",
      "16-04-2022  00:46            17,533 003.Forloop.ipynb\n",
      "16-04-2022  01:42            39,935 004.python string and list manupulation.ipynb\n",
      "16-04-2022  02:15            69,090 004.python string and list manupulation-nov.ipynb\n",
      "16-04-2022  02:08            56,644 005.list manupulaton.ipynb\n",
      "16-04-2022  02:54            54,898 006.TUPLE SET AND DICT-bckup.ipynb\n",
      "16-04-2022  02:44            59,358 006.Tuples , set , dict .ipynb\n",
      "16-04-2022  03:12            27,917 007.Function in pyton  (1).ipynb\n",
      "16-04-2022  03:24         9,562,697 008.Function and files.ipynb\n",
      "16-04-2022  16:35            23,880 009.logging and debuging.ipynb\n",
      "16-04-2022  22:13            28,599 010.class and object.ipynb\n",
      "16-04-2022  22:53            14,087 011.file sysetm.ipynb\n",
      "16-04-2022  22:58        21,685,762 012.iterator generator.ipynb\n",
      "16-04-2022  23:40            10,152 013.Exception handling class 1.ipynb\n",
      "17-04-2022  00:01            31,318 014.Exception handling class 2 (1).ipynb\n",
      "16-04-2022  23:59             4,052 015.logging (1).ipynb\n",
      "17-04-2022  00:07             4,053 016.logging (1).ipynb\n",
      "17-04-2022  00:10            33,508 017.oops class 1.ipynb\n",
      "17-04-2022  00:30            39,947 018.oops 29th .ipynb\n",
      "17-04-2022  00:33            41,225 019.oops 30th.ipynb\n",
      "17-04-2022  01:01            38,986 020.oops 2 (2).ipynb\n",
      "11-05-2022  21:50            48,670 021.if else , for loop.ipynb\n",
      "11-05-2022  21:50            25,286 022.for loops while loop.ipynb\n",
      "11-05-2022  21:57            49,806 023.practice problem python basic.ipynb\n",
      "12-05-2022  01:35            11,903 024.glass.data\n",
      "14-05-2022  01:38            79,978 025.SQL basic.ipynb\n",
      "14-05-2022  01:38           201,080 026.sql day 2.ipynb\n",
      "16-05-2022  23:20            13,501 027.mongodb class 1.ipynb\n",
      "18-05-2022  00:07            21,679 028.SQLLITE ,map ,reduce ,filter,zip.ipynb\n",
      "15-05-2021  17:58    <DIR>          19.2.MySQL\n",
      "16-05-2021  18:05    <DIR>          19.3 MongoDB\n",
      "17-05-2022  21:48            34,222 4.Control Flow.ipynb\n",
      "17-05-2022  21:45         6,049,711 deeplearningineuron.pdf\n",
      "18-05-2022  00:07             8,192 ineuron.db\n",
      "18-05-2022  00:08             8,192 person.db\n",
      "11-05-2022  21:51                36 README.md\n",
      "              36 File(s)     38,459,377 bytes\n",
      "               5 Dir(s)  406,550,720,512 bytes free\n"
     ]
    }
   ],
   "source": [
    "ls"
   ]
  },
  {
   "cell_type": "code",
   "execution_count": 35,
   "metadata": {},
   "outputs": [],
   "source": [
    "db = sqlite3.connect('ineuron.db')"
   ]
  },
  {
   "cell_type": "code",
   "execution_count": 36,
   "metadata": {},
   "outputs": [],
   "source": [
    "c = db.cursor()"
   ]
  },
  {
   "cell_type": "code",
   "execution_count": 37,
   "metadata": {},
   "outputs": [
    {
     "data": {
      "text/plain": [
       "<sqlite3.Cursor at 0x14d5f96b640>"
      ]
     },
     "execution_count": 37,
     "metadata": {},
     "output_type": "execute_result"
    }
   ],
   "source": [
    "c.execute('drop table fsds')"
   ]
  },
  {
   "cell_type": "code",
   "execution_count": 38,
   "metadata": {},
   "outputs": [
    {
     "ename": "OperationalError",
     "evalue": "no such table: fsds",
     "output_type": "error",
     "traceback": [
      "\u001b[1;31m---------------------------------------------------------------------------\u001b[0m",
      "\u001b[1;31mOperationalError\u001b[0m                          Traceback (most recent call last)",
      "\u001b[1;32mc:\\Users\\nayak\\Desktop\\SelfProject\\iNeuron\\Python\\028.SQLLITE ,map ,reduce ,filter,zip.ipynb Cell 36'\u001b[0m in \u001b[0;36m<cell line: 1>\u001b[1;34m()\u001b[0m\n\u001b[1;32m----> <a href='vscode-notebook-cell:/c%3A/Users/nayak/Desktop/SelfProject/iNeuron/Python/028.SQLLITE%20%2Cmap%20%2Creduce%20%2Cfilter%2Czip.ipynb#ch0000035?line=0'>1</a>\u001b[0m c\u001b[39m.\u001b[39;49mexecute(\u001b[39m'\u001b[39;49m\u001b[39mselect * from fsds\u001b[39;49m\u001b[39m'\u001b[39;49m)\n",
      "\u001b[1;31mOperationalError\u001b[0m: no such table: fsds"
     ]
    }
   ],
   "source": [
    "c.execute('select * from fsds')"
   ]
  },
  {
   "cell_type": "code",
   "execution_count": 39,
   "metadata": {},
   "outputs": [
    {
     "name": "stdout",
     "output_type": "stream",
     "text": [
      " Volume in drive C has no label.\n",
      " Volume Serial Number is 022C-3D66\n",
      "\n",
      " Directory of c:\\Users\\nayak\\Desktop\\SelfProject\\iNeuron\\Python\n",
      "\n",
      "18-05-2022  00:08    <DIR>          .\n",
      "11-05-2022  21:37    <DIR>          ..\n",
      "11-05-2022  21:35    <DIR>          .ipynb_checkpoints\n",
      "07-03-2022  00:17            23,057 000.python basic.ipynb\n",
      "13-04-2022  22:44            23,471 001.python basic.ipynb\n",
      "13-04-2022  22:52            16,952 002.whileloop.ipynb\n",
      "16-04-2022  00:46            17,533 003.Forloop.ipynb\n",
      "16-04-2022  01:42            39,935 004.python string and list manupulation.ipynb\n",
      "16-04-2022  02:15            69,090 004.python string and list manupulation-nov.ipynb\n",
      "16-04-2022  02:08            56,644 005.list manupulaton.ipynb\n",
      "16-04-2022  02:54            54,898 006.TUPLE SET AND DICT-bckup.ipynb\n",
      "16-04-2022  02:44            59,358 006.Tuples , set , dict .ipynb\n",
      "16-04-2022  03:12            27,917 007.Function in pyton  (1).ipynb\n",
      "16-04-2022  03:24         9,562,697 008.Function and files.ipynb\n",
      "16-04-2022  16:35            23,880 009.logging and debuging.ipynb\n",
      "16-04-2022  22:13            28,599 010.class and object.ipynb\n",
      "16-04-2022  22:53            14,087 011.file sysetm.ipynb\n",
      "16-04-2022  22:58        21,685,762 012.iterator generator.ipynb\n",
      "16-04-2022  23:40            10,152 013.Exception handling class 1.ipynb\n",
      "17-04-2022  00:01            31,318 014.Exception handling class 2 (1).ipynb\n",
      "16-04-2022  23:59             4,052 015.logging (1).ipynb\n",
      "17-04-2022  00:07             4,053 016.logging (1).ipynb\n",
      "17-04-2022  00:10            33,508 017.oops class 1.ipynb\n",
      "17-04-2022  00:30            39,947 018.oops 29th .ipynb\n",
      "17-04-2022  00:33            41,225 019.oops 30th.ipynb\n",
      "17-04-2022  01:01            38,986 020.oops 2 (2).ipynb\n",
      "11-05-2022  21:50            48,670 021.if else , for loop.ipynb\n",
      "11-05-2022  21:50            25,286 022.for loops while loop.ipynb\n",
      "11-05-2022  21:57            49,806 023.practice problem python basic.ipynb\n",
      "12-05-2022  01:35            11,903 024.glass.data\n",
      "14-05-2022  01:38            79,978 025.SQL basic.ipynb\n",
      "14-05-2022  01:38           201,080 026.sql day 2.ipynb\n",
      "16-05-2022  23:20            13,501 027.mongodb class 1.ipynb\n",
      "18-05-2022  00:07            21,679 028.SQLLITE ,map ,reduce ,filter,zip.ipynb\n",
      "15-05-2021  17:58    <DIR>          19.2.MySQL\n",
      "16-05-2021  18:05    <DIR>          19.3 MongoDB\n",
      "17-05-2022  21:48            34,222 4.Control Flow.ipynb\n",
      "17-05-2022  21:45         6,049,711 deeplearningineuron.pdf\n",
      "18-05-2022  00:08             8,192 ineuron.db\n",
      "18-05-2022  00:08             8,192 person.db\n",
      "11-05-2022  21:51                36 README.md\n",
      "              36 File(s)     38,459,377 bytes\n",
      "               5 Dir(s)  406,550,519,808 bytes free\n"
     ]
    }
   ],
   "source": [
    "ls"
   ]
  },
  {
   "cell_type": "code",
   "execution_count": 40,
   "metadata": {},
   "outputs": [],
   "source": [
    "db.close(\n",
    ")"
   ]
  },
  {
   "cell_type": "code",
   "execution_count": 41,
   "metadata": {},
   "outputs": [],
   "source": [
    "db = sqlite3.connect('person.db')"
   ]
  },
  {
   "cell_type": "code",
   "execution_count": 42,
   "metadata": {},
   "outputs": [],
   "source": [
    "c = db.cursor()"
   ]
  },
  {
   "cell_type": "code",
   "execution_count": 43,
   "metadata": {},
   "outputs": [],
   "source": [
    "data  = c.execute('SELECT * from person_table limit 2 ')"
   ]
  },
  {
   "cell_type": "code",
   "execution_count": 44,
   "metadata": {},
   "outputs": [
    {
     "name": "stdout",
     "output_type": "stream",
     "text": [
      "('sudh', 'sudhanshu@ineuron.ai', 234, 23424.0)\n",
      "('prashant', 'prashant@ineuron.ai', 345, 23543543.0)\n"
     ]
    }
   ],
   "source": [
    "for i in data:\n",
    "    print(i)"
   ]
  },
  {
   "cell_type": "code",
   "execution_count": 45,
   "metadata": {},
   "outputs": [],
   "source": [
    "db.close()"
   ]
  },
  {
   "cell_type": "code",
   "execution_count": 46,
   "metadata": {},
   "outputs": [],
   "source": [
    "db = sqlite3.connect('jobdb.db')"
   ]
  },
  {
   "cell_type": "code",
   "execution_count": 47,
   "metadata": {},
   "outputs": [],
   "source": [
    "c = db.cursor()"
   ]
  },
  {
   "cell_type": "code",
   "execution_count": 48,
   "metadata": {},
   "outputs": [
    {
     "data": {
      "text/plain": [
       "<sqlite3.Cursor at 0x14d5f968740>"
      ]
     },
     "execution_count": 48,
     "metadata": {},
     "output_type": "execute_result"
    }
   ],
   "source": [
    "c.execute('create table student(student_id int , student_name text , student_mailid text , marks int)')"
   ]
  },
  {
   "cell_type": "code",
   "execution_count": 49,
   "metadata": {},
   "outputs": [
    {
     "data": {
      "text/plain": [
       "<sqlite3.Cursor at 0x14d5f968740>"
      ]
     },
     "execution_count": 49,
     "metadata": {},
     "output_type": "execute_result"
    }
   ],
   "source": [
    "c.execute('create table address(student_id int ,pincode int  , location text , nearby text , phone_no int)')"
   ]
  },
  {
   "cell_type": "code",
   "execution_count": 50,
   "metadata": {},
   "outputs": [
    {
     "data": {
      "text/plain": [
       "<sqlite3.Cursor at 0x14d5f968740>"
      ]
     },
     "execution_count": 50,
     "metadata": {},
     "output_type": "execute_result"
    }
   ],
   "source": [
    "c.execute(\"insert into student values(234,'sudhashu' , 'sudhanshu@ineuron.ai' , 234)\")\n",
    "c.execute(\"insert into student values(235,'sudhashu' , 'sudhanshu@ineuron.ai' , 234)\")\n",
    "c.execute(\"insert into student values(236,'sudhashu' , 'sudhanshu@ineuron.ai' , 234)\")\n",
    "c.execute(\"insert into student values(237,'sudhashu' , 'sudhanshu@ineuron.ai' , 234)\")\n",
    "c.execute(\"insert into student values(238,'sudhashu' , 'sudhanshu@ineuron.ai' , 234)\")\n",
    "c.execute(\"insert into student values(239,'sudhashu' , 'sudhanshu@ineuron.ai' , 234)\")\n",
    "c.execute(\"insert into student values(2310,'sudhashu' , 'sudhanshu@ineuron.ai' , 234)\")\n",
    "c.execute(\"insert into student values(2311,'sudhashu' , 'sudhanshu@ineuron.ai' , 234)\")\n",
    "c.execute(\"insert into student values(2343,'sudhashu' , 'sudhanshu@ineuron.ai' , 234)\")\n",
    "c.execute(\"insert into student values(233543,'sudhashu' , 'sudhanshu@ineuron.ai' , 234)\")\n",
    "c.execute(\"insert into student values(23345,'sudhashu' , 'sudhanshu@ineuron.ai' , 234)\")\n",
    "c.execute(\"insert into student values(233543,'sudhashu' , 'sudhanshu@ineuron.ai' , 234)\")"
   ]
  },
  {
   "cell_type": "code",
   "execution_count": 51,
   "metadata": {},
   "outputs": [
    {
     "data": {
      "text/plain": [
       "<sqlite3.Cursor at 0x14d5f968740>"
      ]
     },
     "execution_count": 51,
     "metadata": {},
     "output_type": "execute_result"
    }
   ],
   "source": [
    "c.execute(\"insert into address values(235 , 560034 , 'whitefelid' ,'ineuron office ' , 2423543454353 )\")"
   ]
  },
  {
   "cell_type": "code",
   "execution_count": 52,
   "metadata": {},
   "outputs": [
    {
     "data": {
      "text/plain": [
       "<sqlite3.Cursor at 0x14d5f968740>"
      ]
     },
     "execution_count": 52,
     "metadata": {},
     "output_type": "execute_result"
    }
   ],
   "source": [
    "c.execute(\"insert into address values(236 , 560034 , 'whitefelid' ,'ineuron office ' , 2423543454353 )\")\n",
    "c.execute(\"insert into address values(237 , 560034 , 'whitefelid' ,'ineuron office ' , 2423543454353 )\")\n",
    "c.execute(\"insert into address values(238 , 560034 , 'whitefelid' ,'ineuron office ' , 2423543454353 )\")\n",
    "c.execute(\"insert into address values(239 , 560034 , 'whitefelid' ,'ineuron office ' , 2423543454353 )\")\n",
    "c.execute(\"insert into address values(210 , 560034 , 'whitefelid' ,'ineuron office ' , 2423543454353 )\")\n",
    "c.execute(\"insert into address values(23345 , 560034 , 'whitefelid' ,'ineuron office ' , 2423543454353 )\")\n",
    "c.execute(\"insert into address values(23345 , 560034 , 'whitefelid' ,'ineuron office ' , 2423543454353 )\")\n",
    "c.execute(\"insert into address values(23654 , 560034 , 'whitefelid' ,'ineuron office ' , 2423543454353 )\")\n",
    "c.execute(\"insert into address values(235345 , 560034 , 'whitefelid' ,'ineuron office ' , 2423543454353 )\")\n",
    "c.execute(\"insert into address values(23665 , 560034 , 'whitefelid' ,'ineuron office ' , 2423543454353 )\")\n",
    "c.execute(\"insert into address values(23623 , 560034 , 'whitefelid' ,'ineuron office ' , 2423543454353 )\")\n",
    "c.execute(\"insert into address values(23689 , 560034 , 'whitefelid' ,'ineuron office ' , 2423543454353 )\")\n",
    "c.execute(\"insert into address values(23609 , 560034 , 'whitefelid' ,'ineuron office ' , 2423543454353 )\")\n",
    "c.execute(\"insert into address values(23632 , 560034 , 'whitefelid' ,'ineuron office ' , 2423543454353 )\")\n",
    "c.execute(\"insert into address values(23689 , 560034 , 'whitefelid' ,'ineuron office ' , 2423543454353 )\")\n",
    "c.execute(\"insert into address values(23623 , 560034 , 'whitefelid' ,'ineuron office ' , 2423543454353 )\")\n",
    "c.execute(\"insert into address values(23698 , 560034 , 'whitefelid' ,'ineuron office ' , 2423543454353 )\")\n",
    "c.execute(\"insert into address values(23623 , 560034 , 'whitefelid' ,'ineuron office ' , 2423543454353 )\")\n",
    "c.execute(\"insert into address values(23689 , 560034 , 'whitefelid' ,'ineuron office ' , 2423543454353 )\")\n",
    "c.execute(\"insert into address values(23623 , 560034 , 'whitefelid' ,'ineuron office ' , 2423543454353 )\")\n",
    "c.execute(\"insert into address values(23690 , 560034 , 'whitefelid' ,'ineuron office ' , 2423543454353 )\")\n"
   ]
  },
  {
   "cell_type": "code",
   "execution_count": 53,
   "metadata": {},
   "outputs": [
    {
     "name": "stdout",
     "output_type": "stream",
     "text": [
      "(235, 560034, 'whitefelid', 'ineuron office ', 2423543454353)\n",
      "(236, 560034, 'whitefelid', 'ineuron office ', 2423543454353)\n",
      "(237, 560034, 'whitefelid', 'ineuron office ', 2423543454353)\n",
      "(238, 560034, 'whitefelid', 'ineuron office ', 2423543454353)\n",
      "(239, 560034, 'whitefelid', 'ineuron office ', 2423543454353)\n",
      "(210, 560034, 'whitefelid', 'ineuron office ', 2423543454353)\n",
      "(23345, 560034, 'whitefelid', 'ineuron office ', 2423543454353)\n",
      "(23345, 560034, 'whitefelid', 'ineuron office ', 2423543454353)\n",
      "(23654, 560034, 'whitefelid', 'ineuron office ', 2423543454353)\n",
      "(235345, 560034, 'whitefelid', 'ineuron office ', 2423543454353)\n",
      "(23665, 560034, 'whitefelid', 'ineuron office ', 2423543454353)\n",
      "(23623, 560034, 'whitefelid', 'ineuron office ', 2423543454353)\n",
      "(23689, 560034, 'whitefelid', 'ineuron office ', 2423543454353)\n",
      "(23609, 560034, 'whitefelid', 'ineuron office ', 2423543454353)\n",
      "(23632, 560034, 'whitefelid', 'ineuron office ', 2423543454353)\n",
      "(23689, 560034, 'whitefelid', 'ineuron office ', 2423543454353)\n",
      "(23623, 560034, 'whitefelid', 'ineuron office ', 2423543454353)\n",
      "(23698, 560034, 'whitefelid', 'ineuron office ', 2423543454353)\n",
      "(23623, 560034, 'whitefelid', 'ineuron office ', 2423543454353)\n",
      "(23689, 560034, 'whitefelid', 'ineuron office ', 2423543454353)\n",
      "(23623, 560034, 'whitefelid', 'ineuron office ', 2423543454353)\n",
      "(23690, 560034, 'whitefelid', 'ineuron office ', 2423543454353)\n"
     ]
    }
   ],
   "source": [
    "for i in c.execute(\"select * from address\"):\n",
    "    print(i)"
   ]
  },
  {
   "cell_type": "code",
   "execution_count": 54,
   "metadata": {},
   "outputs": [
    {
     "name": "stdout",
     "output_type": "stream",
     "text": [
      "(234, 'sudhashu', 'sudhanshu@ineuron.ai', 234)\n",
      "(235, 'sudhashu', 'sudhanshu@ineuron.ai', 234)\n",
      "(236, 'sudhashu', 'sudhanshu@ineuron.ai', 234)\n",
      "(237, 'sudhashu', 'sudhanshu@ineuron.ai', 234)\n",
      "(238, 'sudhashu', 'sudhanshu@ineuron.ai', 234)\n",
      "(239, 'sudhashu', 'sudhanshu@ineuron.ai', 234)\n",
      "(2310, 'sudhashu', 'sudhanshu@ineuron.ai', 234)\n",
      "(2311, 'sudhashu', 'sudhanshu@ineuron.ai', 234)\n",
      "(2343, 'sudhashu', 'sudhanshu@ineuron.ai', 234)\n",
      "(233543, 'sudhashu', 'sudhanshu@ineuron.ai', 234)\n",
      "(23345, 'sudhashu', 'sudhanshu@ineuron.ai', 234)\n",
      "(233543, 'sudhashu', 'sudhanshu@ineuron.ai', 234)\n"
     ]
    }
   ],
   "source": [
    "for i in c.execute(\"select * from student\"):\n",
    "    print(i)"
   ]
  },
  {
   "cell_type": "code",
   "execution_count": 55,
   "metadata": {},
   "outputs": [],
   "source": [
    "data = c.execute(\"select * from student s left join address a on s.student_id=a.student_id \")\n"
   ]
  },
  {
   "cell_type": "code",
   "execution_count": 56,
   "metadata": {},
   "outputs": [
    {
     "name": "stdout",
     "output_type": "stream",
     "text": [
      "(234, 'sudhashu', 'sudhanshu@ineuron.ai', 234, None, None, None, None, None)\n",
      "(235, 'sudhashu', 'sudhanshu@ineuron.ai', 234, 235, 560034, 'whitefelid', 'ineuron office ', 2423543454353)\n",
      "(236, 'sudhashu', 'sudhanshu@ineuron.ai', 234, 236, 560034, 'whitefelid', 'ineuron office ', 2423543454353)\n",
      "(237, 'sudhashu', 'sudhanshu@ineuron.ai', 234, 237, 560034, 'whitefelid', 'ineuron office ', 2423543454353)\n",
      "(238, 'sudhashu', 'sudhanshu@ineuron.ai', 234, 238, 560034, 'whitefelid', 'ineuron office ', 2423543454353)\n",
      "(239, 'sudhashu', 'sudhanshu@ineuron.ai', 234, 239, 560034, 'whitefelid', 'ineuron office ', 2423543454353)\n",
      "(2310, 'sudhashu', 'sudhanshu@ineuron.ai', 234, None, None, None, None, None)\n",
      "(2311, 'sudhashu', 'sudhanshu@ineuron.ai', 234, None, None, None, None, None)\n",
      "(2343, 'sudhashu', 'sudhanshu@ineuron.ai', 234, None, None, None, None, None)\n",
      "(233543, 'sudhashu', 'sudhanshu@ineuron.ai', 234, None, None, None, None, None)\n",
      "(23345, 'sudhashu', 'sudhanshu@ineuron.ai', 234, 23345, 560034, 'whitefelid', 'ineuron office ', 2423543454353)\n",
      "(23345, 'sudhashu', 'sudhanshu@ineuron.ai', 234, 23345, 560034, 'whitefelid', 'ineuron office ', 2423543454353)\n",
      "(233543, 'sudhashu', 'sudhanshu@ineuron.ai', 234, None, None, None, None, None)\n"
     ]
    }
   ],
   "source": [
    "for i in data :\n",
    "    print(i)"
   ]
  },
  {
   "cell_type": "code",
   "execution_count": 57,
   "metadata": {},
   "outputs": [],
   "source": [
    "# where a.student_id is not null"
   ]
  },
  {
   "cell_type": "code",
   "execution_count": 58,
   "metadata": {},
   "outputs": [],
   "source": [
    "data = c.execute(\"select * from address s left join student a on s.student_id=a.student_id \")"
   ]
  },
  {
   "cell_type": "code",
   "execution_count": 59,
   "metadata": {},
   "outputs": [
    {
     "name": "stdout",
     "output_type": "stream",
     "text": [
      "(235, 560034, 'whitefelid', 'ineuron office ', 2423543454353, 235, 'sudhashu', 'sudhanshu@ineuron.ai', 234)\n",
      "(236, 560034, 'whitefelid', 'ineuron office ', 2423543454353, 236, 'sudhashu', 'sudhanshu@ineuron.ai', 234)\n",
      "(237, 560034, 'whitefelid', 'ineuron office ', 2423543454353, 237, 'sudhashu', 'sudhanshu@ineuron.ai', 234)\n",
      "(238, 560034, 'whitefelid', 'ineuron office ', 2423543454353, 238, 'sudhashu', 'sudhanshu@ineuron.ai', 234)\n",
      "(239, 560034, 'whitefelid', 'ineuron office ', 2423543454353, 239, 'sudhashu', 'sudhanshu@ineuron.ai', 234)\n",
      "(210, 560034, 'whitefelid', 'ineuron office ', 2423543454353, None, None, None, None)\n",
      "(23345, 560034, 'whitefelid', 'ineuron office ', 2423543454353, 23345, 'sudhashu', 'sudhanshu@ineuron.ai', 234)\n",
      "(23345, 560034, 'whitefelid', 'ineuron office ', 2423543454353, 23345, 'sudhashu', 'sudhanshu@ineuron.ai', 234)\n",
      "(23654, 560034, 'whitefelid', 'ineuron office ', 2423543454353, None, None, None, None)\n",
      "(235345, 560034, 'whitefelid', 'ineuron office ', 2423543454353, None, None, None, None)\n",
      "(23665, 560034, 'whitefelid', 'ineuron office ', 2423543454353, None, None, None, None)\n",
      "(23623, 560034, 'whitefelid', 'ineuron office ', 2423543454353, None, None, None, None)\n",
      "(23689, 560034, 'whitefelid', 'ineuron office ', 2423543454353, None, None, None, None)\n",
      "(23609, 560034, 'whitefelid', 'ineuron office ', 2423543454353, None, None, None, None)\n",
      "(23632, 560034, 'whitefelid', 'ineuron office ', 2423543454353, None, None, None, None)\n",
      "(23689, 560034, 'whitefelid', 'ineuron office ', 2423543454353, None, None, None, None)\n",
      "(23623, 560034, 'whitefelid', 'ineuron office ', 2423543454353, None, None, None, None)\n",
      "(23698, 560034, 'whitefelid', 'ineuron office ', 2423543454353, None, None, None, None)\n",
      "(23623, 560034, 'whitefelid', 'ineuron office ', 2423543454353, None, None, None, None)\n",
      "(23689, 560034, 'whitefelid', 'ineuron office ', 2423543454353, None, None, None, None)\n",
      "(23623, 560034, 'whitefelid', 'ineuron office ', 2423543454353, None, None, None, None)\n",
      "(23690, 560034, 'whitefelid', 'ineuron office ', 2423543454353, None, None, None, None)\n"
     ]
    }
   ],
   "source": [
    "for i in data :\n",
    "    print(i)"
   ]
  },
  {
   "cell_type": "code",
   "execution_count": 60,
   "metadata": {},
   "outputs": [
    {
     "name": "stdout",
     "output_type": "stream",
     "text": [
      "(234, 'sudhashu', 'sudhanshu@ineuron.ai', 234)\n",
      "(235, 'sudhashu', 'sudhanshu@ineuron.ai', 234)\n",
      "(236, 'sudhashu', 'sudhanshu@ineuron.ai', 234)\n",
      "(237, 'sudhashu', 'sudhanshu@ineuron.ai', 234)\n",
      "(238, 'sudhashu', 'sudhanshu@ineuron.ai', 234)\n",
      "(239, 'sudhashu', 'sudhanshu@ineuron.ai', 234)\n",
      "(2310, 'sudhashu', 'sudhanshu@ineuron.ai', 234)\n",
      "(2311, 'sudhashu', 'sudhanshu@ineuron.ai', 234)\n",
      "(2343, 'sudhashu', 'sudhanshu@ineuron.ai', 234)\n",
      "(233543, 'sudhashu', 'sudhanshu@ineuron.ai', 234)\n",
      "(23345, 'sudhashu', 'sudhanshu@ineuron.ai', 234)\n",
      "(233543, 'sudhashu', 'sudhanshu@ineuron.ai', 234)\n"
     ]
    }
   ],
   "source": [
    "for i in c.execute(\"select * from student\"):\n",
    "    print(i)"
   ]
  },
  {
   "cell_type": "code",
   "execution_count": 61,
   "metadata": {},
   "outputs": [
    {
     "data": {
      "text/plain": [
       "<sqlite3.Cursor at 0x14d5f968740>"
      ]
     },
     "execution_count": 61,
     "metadata": {},
     "output_type": "execute_result"
    }
   ],
   "source": [
    "c.execute('delete from student where student_id > 2000')"
   ]
  },
  {
   "cell_type": "code",
   "execution_count": 62,
   "metadata": {},
   "outputs": [
    {
     "name": "stdout",
     "output_type": "stream",
     "text": [
      "(234, 'sudhashu', 'sudhanshu@ineuron.ai', 234)\n",
      "(235, 'sudhashu', 'sudhanshu@ineuron.ai', 234)\n",
      "(236, 'sudhashu', 'sudhanshu@ineuron.ai', 234)\n",
      "(237, 'sudhashu', 'sudhanshu@ineuron.ai', 234)\n",
      "(238, 'sudhashu', 'sudhanshu@ineuron.ai', 234)\n",
      "(239, 'sudhashu', 'sudhanshu@ineuron.ai', 234)\n"
     ]
    }
   ],
   "source": [
    "for i in c.execute(\"select * from student\"):\n",
    "    print(i)"
   ]
  },
  {
   "cell_type": "code",
   "execution_count": 63,
   "metadata": {},
   "outputs": [],
   "source": [
    "data = c.execute(\"select * from student\")"
   ]
  },
  {
   "cell_type": "code",
   "execution_count": 64,
   "metadata": {},
   "outputs": [
    {
     "data": {
      "text/plain": [
       "[(234, 'sudhashu', 'sudhanshu@ineuron.ai', 234),\n",
       " (235, 'sudhashu', 'sudhanshu@ineuron.ai', 234),\n",
       " (236, 'sudhashu', 'sudhanshu@ineuron.ai', 234),\n",
       " (237, 'sudhashu', 'sudhanshu@ineuron.ai', 234),\n",
       " (238, 'sudhashu', 'sudhanshu@ineuron.ai', 234),\n",
       " (239, 'sudhashu', 'sudhanshu@ineuron.ai', 234)]"
      ]
     },
     "execution_count": 64,
     "metadata": {},
     "output_type": "execute_result"
    }
   ],
   "source": [
    "data.fetchall()"
   ]
  },
  {
   "cell_type": "code",
   "execution_count": 65,
   "metadata": {},
   "outputs": [
    {
     "data": {
      "text/plain": [
       "<sqlite3.Cursor at 0x14d5f968740>"
      ]
     },
     "execution_count": 65,
     "metadata": {},
     "output_type": "execute_result"
    }
   ],
   "source": [
    "c.execute(\"update student set student_id = 1000 where student_id = 236\")"
   ]
  },
  {
   "cell_type": "code",
   "execution_count": 66,
   "metadata": {},
   "outputs": [
    {
     "data": {
      "text/plain": [
       "[(234, 'sudhashu', 'sudhanshu@ineuron.ai', 234),\n",
       " (235, 'sudhashu', 'sudhanshu@ineuron.ai', 234),\n",
       " (1000, 'sudhashu', 'sudhanshu@ineuron.ai', 234),\n",
       " (237, 'sudhashu', 'sudhanshu@ineuron.ai', 234),\n",
       " (238, 'sudhashu', 'sudhanshu@ineuron.ai', 234),\n",
       " (239, 'sudhashu', 'sudhanshu@ineuron.ai', 234)]"
      ]
     },
     "execution_count": 66,
     "metadata": {},
     "output_type": "execute_result"
    }
   ],
   "source": [
    "data = c.execute(\"select * from student\")\n",
    "data.fetchall()"
   ]
  },
  {
   "cell_type": "code",
   "execution_count": 67,
   "metadata": {},
   "outputs": [],
   "source": [
    "db.close()"
   ]
  },
  {
   "cell_type": "code",
   "execution_count": 68,
   "metadata": {},
   "outputs": [],
   "source": [
    "l = [1,2,3,4,5,6]"
   ]
  },
  {
   "cell_type": "code",
   "execution_count": 69,
   "metadata": {},
   "outputs": [],
   "source": [
    "def test(a) :\n",
    "    return a+5"
   ]
  },
  {
   "cell_type": "code",
   "execution_count": 70,
   "metadata": {},
   "outputs": [],
   "source": [
    "l1 = []\n",
    "for i in l:\n",
    "    l1.append(i+5)"
   ]
  },
  {
   "cell_type": "code",
   "execution_count": 71,
   "metadata": {},
   "outputs": [
    {
     "data": {
      "text/plain": [
       "[6, 7, 8, 9, 10, 11]"
      ]
     },
     "execution_count": 71,
     "metadata": {},
     "output_type": "execute_result"
    }
   ],
   "source": [
    "l1"
   ]
  },
  {
   "cell_type": "code",
   "execution_count": 72,
   "metadata": {},
   "outputs": [
    {
     "data": {
      "text/plain": [
       "[6, 7, 8, 9, 10, 11]"
      ]
     },
     "execution_count": 72,
     "metadata": {},
     "output_type": "execute_result"
    }
   ],
   "source": [
    "[i+5 for i in l ]"
   ]
  },
  {
   "cell_type": "code",
   "execution_count": 73,
   "metadata": {},
   "outputs": [
    {
     "data": {
      "text/plain": [
       "[6, 7, 8, 9, 10, 11]"
      ]
     },
     "execution_count": 73,
     "metadata": {},
     "output_type": "execute_result"
    }
   ],
   "source": [
    "list(map(test ,l))"
   ]
  },
  {
   "cell_type": "code",
   "execution_count": 74,
   "metadata": {},
   "outputs": [],
   "source": [
    "def test1(a) : \n",
    "    return a*3454+454"
   ]
  },
  {
   "cell_type": "code",
   "execution_count": 75,
   "metadata": {},
   "outputs": [
    {
     "data": {
      "text/plain": [
       "[3908, 7362, 10816, 14270, 17724, 21178]"
      ]
     },
     "execution_count": 75,
     "metadata": {},
     "output_type": "execute_result"
    }
   ],
   "source": [
    "list(map(test1,l))"
   ]
  },
  {
   "cell_type": "code",
   "execution_count": 76,
   "metadata": {},
   "outputs": [],
   "source": [
    "l1 = ['234','345','543','5435','543','5435']"
   ]
  },
  {
   "cell_type": "code",
   "execution_count": 77,
   "metadata": {},
   "outputs": [],
   "source": [
    "def test2(a):\n",
    "    return int(a)"
   ]
  },
  {
   "cell_type": "code",
   "execution_count": 78,
   "metadata": {},
   "outputs": [
    {
     "data": {
      "text/plain": [
       "54656"
      ]
     },
     "execution_count": 78,
     "metadata": {},
     "output_type": "execute_result"
    }
   ],
   "source": [
    "test2(\"54656\")"
   ]
  },
  {
   "cell_type": "code",
   "execution_count": 79,
   "metadata": {},
   "outputs": [
    {
     "data": {
      "text/plain": [
       "[234, 345, 543, 5435, 543, 5435]"
      ]
     },
     "execution_count": 79,
     "metadata": {},
     "output_type": "execute_result"
    }
   ],
   "source": [
    "list(map(test2,l1))"
   ]
  },
  {
   "cell_type": "code",
   "execution_count": 80,
   "metadata": {},
   "outputs": [
    {
     "data": {
      "text/plain": [
       "[234, 345, 543, 5435, 543, 5435]"
      ]
     },
     "execution_count": 80,
     "metadata": {},
     "output_type": "execute_result"
    }
   ],
   "source": [
    "list(map(lambda x :int(x) , l1))"
   ]
  },
  {
   "cell_type": "code",
   "execution_count": 81,
   "metadata": {},
   "outputs": [
    {
     "data": {
      "text/plain": [
       "[6, 7, 8, 9, 10, 11]"
      ]
     },
     "execution_count": 81,
     "metadata": {},
     "output_type": "execute_result"
    }
   ],
   "source": [
    "list(map(lambda x :x+5  , l))"
   ]
  },
  {
   "cell_type": "code",
   "execution_count": 82,
   "metadata": {},
   "outputs": [
    {
     "data": {
      "text/plain": [
       "[1, 2, 3, 4, 5, 6]"
      ]
     },
     "execution_count": 82,
     "metadata": {},
     "output_type": "execute_result"
    }
   ],
   "source": [
    "l"
   ]
  },
  {
   "cell_type": "code",
   "execution_count": 83,
   "metadata": {},
   "outputs": [],
   "source": [
    "l = [4,5,6,7,78,8,78]"
   ]
  },
  {
   "cell_type": "code",
   "execution_count": 84,
   "metadata": {},
   "outputs": [],
   "source": [
    "def test4(a):\n",
    "    if a%2 ==0:\n",
    "        return a"
   ]
  },
  {
   "cell_type": "code",
   "execution_count": 85,
   "metadata": {},
   "outputs": [
    {
     "data": {
      "text/plain": [
       "[4, 6, 78, 8, 78]"
      ]
     },
     "execution_count": 85,
     "metadata": {},
     "output_type": "execute_result"
    }
   ],
   "source": [
    "[i for i in l if i%2 == 0 ]"
   ]
  },
  {
   "cell_type": "code",
   "execution_count": 86,
   "metadata": {},
   "outputs": [
    {
     "data": {
      "text/plain": [
       "[4, 6, 78, 8, 78]"
      ]
     },
     "execution_count": 86,
     "metadata": {},
     "output_type": "execute_result"
    }
   ],
   "source": [
    "list(filter(test4,l))"
   ]
  },
  {
   "cell_type": "code",
   "execution_count": 87,
   "metadata": {},
   "outputs": [
    {
     "data": {
      "text/plain": [
       "[4, 6, 78, 8, 78]"
      ]
     },
     "execution_count": 87,
     "metadata": {},
     "output_type": "execute_result"
    }
   ],
   "source": [
    "list(filter(lambda x : x%2 ==0 , l))"
   ]
  },
  {
   "cell_type": "code",
   "execution_count": 88,
   "metadata": {},
   "outputs": [
    {
     "data": {
      "text/plain": [
       "[6, 78, 78]"
      ]
     },
     "execution_count": 88,
     "metadata": {},
     "output_type": "execute_result"
    }
   ],
   "source": [
    "list(filter(lambda x :x%3 ==0 , l))"
   ]
  },
  {
   "cell_type": "code",
   "execution_count": 89,
   "metadata": {},
   "outputs": [
    {
     "data": {
      "text/plain": [
       "[4, 5, 6, 7, 78, 8, 78]"
      ]
     },
     "execution_count": 89,
     "metadata": {},
     "output_type": "execute_result"
    }
   ],
   "source": [
    "l"
   ]
  },
  {
   "cell_type": "code",
   "execution_count": 90,
   "metadata": {},
   "outputs": [],
   "source": [
    "from functools import reduce"
   ]
  },
  {
   "cell_type": "code",
   "execution_count": 110,
   "metadata": {},
   "outputs": [],
   "source": [
    "l = [3,4,5,6,7,3,8]"
   ]
  },
  {
   "cell_type": "code",
   "execution_count": 111,
   "metadata": {},
   "outputs": [
    {
     "data": {
      "text/plain": [
       "36"
      ]
     },
     "execution_count": 111,
     "metadata": {},
     "output_type": "execute_result"
    }
   ],
   "source": [
    "sum(l)"
   ]
  },
  {
   "cell_type": "code",
   "execution_count": 108,
   "metadata": {},
   "outputs": [],
   "source": [
    "def test5(a,b):\n",
    "    return a+b"
   ]
  },
  {
   "cell_type": "code",
   "execution_count": 112,
   "metadata": {},
   "outputs": [
    {
     "data": {
      "text/plain": [
       "36"
      ]
     },
     "execution_count": 112,
     "metadata": {},
     "output_type": "execute_result"
    }
   ],
   "source": [
    "reduce(test5 , l)"
   ]
  },
  {
   "cell_type": "code",
   "execution_count": 113,
   "metadata": {},
   "outputs": [],
   "source": [
    "l=[8,5,6,7,8,8]"
   ]
  },
  {
   "cell_type": "code",
   "execution_count": 114,
   "metadata": {},
   "outputs": [
    {
     "data": {
      "text/plain": [
       "42"
      ]
     },
     "execution_count": 114,
     "metadata": {},
     "output_type": "execute_result"
    }
   ],
   "source": [
    "reduce(test5,l)"
   ]
  },
  {
   "cell_type": "code",
   "execution_count": 97,
   "metadata": {},
   "outputs": [
    {
     "data": {
      "text/plain": [
       "0.0005952380952380952"
      ]
     },
     "execution_count": 97,
     "metadata": {},
     "output_type": "execute_result"
    }
   ],
   "source": [
    "reduce(lambda x,y :x/y , l)"
   ]
  },
  {
   "cell_type": "code",
   "execution_count": 116,
   "metadata": {},
   "outputs": [],
   "source": [
    "l = [1,2,3,4]\n",
    "l1 = [4,5,6,7,7]\n",
    "l2 = [\"sudhanshu\" , \"kumar\" , \"krish\" , \"sunny\" , \"ineuron\"]"
   ]
  },
  {
   "cell_type": "code",
   "execution_count": 117,
   "metadata": {},
   "outputs": [
    {
     "data": {
      "text/plain": [
       "[(1, 4, 'sudhanshu'), (2, 5, 'kumar'), (3, 6, 'krish'), (4, 7, 'sunny')]"
      ]
     },
     "execution_count": 117,
     "metadata": {},
     "output_type": "execute_result"
    }
   ],
   "source": [
    "list(zip(l,l1,l2))"
   ]
  },
  {
   "cell_type": "code",
   "execution_count": 100,
   "metadata": {},
   "outputs": [
    {
     "data": {
      "text/plain": [
       "\"Task for today :\\n  dataset -   https://archive.ics.uci.edu/ml/datasets/Bag+of+Words\\n    \\n    q1 = try to find out a count of each and every word in a respective file return a list of tuple with word and its respective count \\n       sample example -  [('sudh', 6 ) , ('kumar',3)]\\n    q2 = try to perform a reduce operation to get a count of all the word starting with same alphabet\\n        sample examle = [(a,56) , (b,34),...........]\\n    q3 = Try to filter out all the words from dataset . \\n    \\n    .001.abstract = abstract\\n    =.002 = delete\\n    q4 = create a tuple set of all the records avaialble in all the five file and then store it in sqllite DB . \\n    (aah,>=,354,fdsf,wer)\\n    \\n    Top 10 will be able to get kids neuron \""
      ]
     },
     "execution_count": 100,
     "metadata": {},
     "output_type": "execute_result"
    }
   ],
   "source": [
    "\"\"\"Task for today :\n",
    "  dataset -   https://archive.ics.uci.edu/ml/datasets/Bag+of+Words\n",
    "    \n",
    "    q1 = try to find out a count of each and every word in a respective file return a list of tuple with word and its respective count \n",
    "       sample example -  [('sudh', 6 ) , ('kumar',3)]\n",
    "    q2 = try to perform a reduce operation to get a count of all the word starting with same alphabet\n",
    "        sample examle = [(a,56) , (b,34),...........]\n",
    "    q3 = Try to filter out all the words from dataset . \n",
    "    \n",
    "    .001.abstract = abstract\n",
    "    =.002 = delete\n",
    "    q4 = create a tuple set of all the records avaialble in all the five file and then store it in sqllite DB . \n",
    "    (aah,>=,354,fdsf,wer)\n",
    "    \n",
    "    Top 10 will be able to get kids neuron \"\"\"\n",
    "    "
   ]
  }
 ],
 "metadata": {
  "interpreter": {
   "hash": "fd354288a369f680a7322ddff2a06d3b3ac546c5fe22b956c0c96b589b2c4d3d"
  },
  "kernelspec": {
   "display_name": "Python 3.10.4 64-bit",
   "language": "python",
   "name": "python3"
  },
  "language_info": {
   "codemirror_mode": {
    "name": "ipython",
    "version": 3
   },
   "file_extension": ".py",
   "mimetype": "text/x-python",
   "name": "python",
   "nbconvert_exporter": "python",
   "pygments_lexer": "ipython3",
   "version": "3.10.4"
  }
 },
 "nbformat": 4,
 "nbformat_minor": 4
}
