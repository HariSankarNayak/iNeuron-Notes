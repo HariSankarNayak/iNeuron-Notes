{
 "cells": [
  {
   "cell_type": "code",
   "execution_count": 1,
   "metadata": {},
   "outputs": [],
   "source": [
    "import pandas as pd"
   ]
  },
  {
   "cell_type": "code",
   "execution_count": 2,
   "metadata": {},
   "outputs": [],
   "source": [
    "df = pd.DataFrame({'col1' : [1,2,3,4,5],\n",
    "              'col2' : [45,56,67,34,34],\n",
    "              'col3': \"sudhanshu kumar krish ineuron one\".split()\n",
    "     })"
   ]
  },
  {
   "cell_type": "code",
   "execution_count": 3,
   "metadata": {},
   "outputs": [
    {
     "data": {
      "text/plain": [
       "['sudhanshu', 'kumar', 'krish', 'ineuron', 'one']"
      ]
     },
     "execution_count": 3,
     "metadata": {},
     "output_type": "execute_result"
    }
   ],
   "source": [
    "\"sudhanshu kumar krish ineuron one\".split()"
   ]
  },
  {
   "cell_type": "code",
   "execution_count": 4,
   "metadata": {},
   "outputs": [
    {
     "data": {
      "text/html": [
       "<div>\n",
       "<style scoped>\n",
       "    .dataframe tbody tr th:only-of-type {\n",
       "        vertical-align: middle;\n",
       "    }\n",
       "\n",
       "    .dataframe tbody tr th {\n",
       "        vertical-align: top;\n",
       "    }\n",
       "\n",
       "    .dataframe thead th {\n",
       "        text-align: right;\n",
       "    }\n",
       "</style>\n",
       "<table border=\"1\" class=\"dataframe\">\n",
       "  <thead>\n",
       "    <tr style=\"text-align: right;\">\n",
       "      <th></th>\n",
       "      <th>col1</th>\n",
       "      <th>col2</th>\n",
       "      <th>col3</th>\n",
       "    </tr>\n",
       "  </thead>\n",
       "  <tbody>\n",
       "    <tr>\n",
       "      <th>0</th>\n",
       "      <td>1</td>\n",
       "      <td>45</td>\n",
       "      <td>sudhanshu</td>\n",
       "    </tr>\n",
       "    <tr>\n",
       "      <th>1</th>\n",
       "      <td>2</td>\n",
       "      <td>56</td>\n",
       "      <td>kumar</td>\n",
       "    </tr>\n",
       "    <tr>\n",
       "      <th>2</th>\n",
       "      <td>3</td>\n",
       "      <td>67</td>\n",
       "      <td>krish</td>\n",
       "    </tr>\n",
       "    <tr>\n",
       "      <th>3</th>\n",
       "      <td>4</td>\n",
       "      <td>34</td>\n",
       "      <td>ineuron</td>\n",
       "    </tr>\n",
       "    <tr>\n",
       "      <th>4</th>\n",
       "      <td>5</td>\n",
       "      <td>34</td>\n",
       "      <td>one</td>\n",
       "    </tr>\n",
       "  </tbody>\n",
       "</table>\n",
       "</div>"
      ],
      "text/plain": [
       "   col1  col2       col3\n",
       "0     1    45  sudhanshu\n",
       "1     2    56      kumar\n",
       "2     3    67      krish\n",
       "3     4    34    ineuron\n",
       "4     5    34        one"
      ]
     },
     "execution_count": 4,
     "metadata": {},
     "output_type": "execute_result"
    }
   ],
   "source": [
    "df"
   ]
  },
  {
   "cell_type": "code",
   "execution_count": 5,
   "metadata": {},
   "outputs": [],
   "source": [
    "df['col4'] = df['col1']**2"
   ]
  },
  {
   "cell_type": "code",
   "execution_count": 6,
   "metadata": {},
   "outputs": [
    {
     "data": {
      "text/html": [
       "<div>\n",
       "<style scoped>\n",
       "    .dataframe tbody tr th:only-of-type {\n",
       "        vertical-align: middle;\n",
       "    }\n",
       "\n",
       "    .dataframe tbody tr th {\n",
       "        vertical-align: top;\n",
       "    }\n",
       "\n",
       "    .dataframe thead th {\n",
       "        text-align: right;\n",
       "    }\n",
       "</style>\n",
       "<table border=\"1\" class=\"dataframe\">\n",
       "  <thead>\n",
       "    <tr style=\"text-align: right;\">\n",
       "      <th></th>\n",
       "      <th>col1</th>\n",
       "      <th>col2</th>\n",
       "      <th>col3</th>\n",
       "      <th>col4</th>\n",
       "    </tr>\n",
       "  </thead>\n",
       "  <tbody>\n",
       "    <tr>\n",
       "      <th>0</th>\n",
       "      <td>1</td>\n",
       "      <td>45</td>\n",
       "      <td>sudhanshu</td>\n",
       "      <td>1</td>\n",
       "    </tr>\n",
       "    <tr>\n",
       "      <th>1</th>\n",
       "      <td>2</td>\n",
       "      <td>56</td>\n",
       "      <td>kumar</td>\n",
       "      <td>4</td>\n",
       "    </tr>\n",
       "    <tr>\n",
       "      <th>2</th>\n",
       "      <td>3</td>\n",
       "      <td>67</td>\n",
       "      <td>krish</td>\n",
       "      <td>9</td>\n",
       "    </tr>\n",
       "    <tr>\n",
       "      <th>3</th>\n",
       "      <td>4</td>\n",
       "      <td>34</td>\n",
       "      <td>ineuron</td>\n",
       "      <td>16</td>\n",
       "    </tr>\n",
       "    <tr>\n",
       "      <th>4</th>\n",
       "      <td>5</td>\n",
       "      <td>34</td>\n",
       "      <td>one</td>\n",
       "      <td>25</td>\n",
       "    </tr>\n",
       "  </tbody>\n",
       "</table>\n",
       "</div>"
      ],
      "text/plain": [
       "   col1  col2       col3  col4\n",
       "0     1    45  sudhanshu     1\n",
       "1     2    56      kumar     4\n",
       "2     3    67      krish     9\n",
       "3     4    34    ineuron    16\n",
       "4     5    34        one    25"
      ]
     },
     "execution_count": 6,
     "metadata": {},
     "output_type": "execute_result"
    }
   ],
   "source": [
    "df"
   ]
  },
  {
   "cell_type": "code",
   "execution_count": 7,
   "metadata": {},
   "outputs": [],
   "source": [
    "df['col5'] = df['col3'].str[0]"
   ]
  },
  {
   "cell_type": "code",
   "execution_count": 8,
   "metadata": {},
   "outputs": [
    {
     "data": {
      "text/html": [
       "<div>\n",
       "<style scoped>\n",
       "    .dataframe tbody tr th:only-of-type {\n",
       "        vertical-align: middle;\n",
       "    }\n",
       "\n",
       "    .dataframe tbody tr th {\n",
       "        vertical-align: top;\n",
       "    }\n",
       "\n",
       "    .dataframe thead th {\n",
       "        text-align: right;\n",
       "    }\n",
       "</style>\n",
       "<table border=\"1\" class=\"dataframe\">\n",
       "  <thead>\n",
       "    <tr style=\"text-align: right;\">\n",
       "      <th></th>\n",
       "      <th>col1</th>\n",
       "      <th>col2</th>\n",
       "      <th>col3</th>\n",
       "      <th>col4</th>\n",
       "      <th>col5</th>\n",
       "    </tr>\n",
       "  </thead>\n",
       "  <tbody>\n",
       "    <tr>\n",
       "      <th>0</th>\n",
       "      <td>1</td>\n",
       "      <td>45</td>\n",
       "      <td>sudhanshu</td>\n",
       "      <td>1</td>\n",
       "      <td>s</td>\n",
       "    </tr>\n",
       "    <tr>\n",
       "      <th>1</th>\n",
       "      <td>2</td>\n",
       "      <td>56</td>\n",
       "      <td>kumar</td>\n",
       "      <td>4</td>\n",
       "      <td>k</td>\n",
       "    </tr>\n",
       "    <tr>\n",
       "      <th>2</th>\n",
       "      <td>3</td>\n",
       "      <td>67</td>\n",
       "      <td>krish</td>\n",
       "      <td>9</td>\n",
       "      <td>k</td>\n",
       "    </tr>\n",
       "    <tr>\n",
       "      <th>3</th>\n",
       "      <td>4</td>\n",
       "      <td>34</td>\n",
       "      <td>ineuron</td>\n",
       "      <td>16</td>\n",
       "      <td>i</td>\n",
       "    </tr>\n",
       "    <tr>\n",
       "      <th>4</th>\n",
       "      <td>5</td>\n",
       "      <td>34</td>\n",
       "      <td>one</td>\n",
       "      <td>25</td>\n",
       "      <td>o</td>\n",
       "    </tr>\n",
       "  </tbody>\n",
       "</table>\n",
       "</div>"
      ],
      "text/plain": [
       "   col1  col2       col3  col4 col5\n",
       "0     1    45  sudhanshu     1    s\n",
       "1     2    56      kumar     4    k\n",
       "2     3    67      krish     9    k\n",
       "3     4    34    ineuron    16    i\n",
       "4     5    34        one    25    o"
      ]
     },
     "execution_count": 8,
     "metadata": {},
     "output_type": "execute_result"
    }
   ],
   "source": [
    "df"
   ]
  },
  {
   "cell_type": "code",
   "execution_count": 9,
   "metadata": {},
   "outputs": [],
   "source": [
    "def test(a) :\n",
    "    return a**2"
   ]
  },
  {
   "cell_type": "code",
   "execution_count": 10,
   "metadata": {},
   "outputs": [],
   "source": [
    "df['col4_4']  = df['col1'].apply(test)"
   ]
  },
  {
   "cell_type": "code",
   "execution_count": 11,
   "metadata": {},
   "outputs": [
    {
     "data": {
      "text/html": [
       "<div>\n",
       "<style scoped>\n",
       "    .dataframe tbody tr th:only-of-type {\n",
       "        vertical-align: middle;\n",
       "    }\n",
       "\n",
       "    .dataframe tbody tr th {\n",
       "        vertical-align: top;\n",
       "    }\n",
       "\n",
       "    .dataframe thead th {\n",
       "        text-align: right;\n",
       "    }\n",
       "</style>\n",
       "<table border=\"1\" class=\"dataframe\">\n",
       "  <thead>\n",
       "    <tr style=\"text-align: right;\">\n",
       "      <th></th>\n",
       "      <th>col1</th>\n",
       "      <th>col2</th>\n",
       "      <th>col3</th>\n",
       "      <th>col4</th>\n",
       "      <th>col5</th>\n",
       "      <th>col4_4</th>\n",
       "    </tr>\n",
       "  </thead>\n",
       "  <tbody>\n",
       "    <tr>\n",
       "      <th>0</th>\n",
       "      <td>1</td>\n",
       "      <td>45</td>\n",
       "      <td>sudhanshu</td>\n",
       "      <td>1</td>\n",
       "      <td>s</td>\n",
       "      <td>1</td>\n",
       "    </tr>\n",
       "    <tr>\n",
       "      <th>1</th>\n",
       "      <td>2</td>\n",
       "      <td>56</td>\n",
       "      <td>kumar</td>\n",
       "      <td>4</td>\n",
       "      <td>k</td>\n",
       "      <td>4</td>\n",
       "    </tr>\n",
       "    <tr>\n",
       "      <th>2</th>\n",
       "      <td>3</td>\n",
       "      <td>67</td>\n",
       "      <td>krish</td>\n",
       "      <td>9</td>\n",
       "      <td>k</td>\n",
       "      <td>9</td>\n",
       "    </tr>\n",
       "    <tr>\n",
       "      <th>3</th>\n",
       "      <td>4</td>\n",
       "      <td>34</td>\n",
       "      <td>ineuron</td>\n",
       "      <td>16</td>\n",
       "      <td>i</td>\n",
       "      <td>16</td>\n",
       "    </tr>\n",
       "    <tr>\n",
       "      <th>4</th>\n",
       "      <td>5</td>\n",
       "      <td>34</td>\n",
       "      <td>one</td>\n",
       "      <td>25</td>\n",
       "      <td>o</td>\n",
       "      <td>25</td>\n",
       "    </tr>\n",
       "  </tbody>\n",
       "</table>\n",
       "</div>"
      ],
      "text/plain": [
       "   col1  col2       col3  col4 col5  col4_4\n",
       "0     1    45  sudhanshu     1    s       1\n",
       "1     2    56      kumar     4    k       4\n",
       "2     3    67      krish     9    k       9\n",
       "3     4    34    ineuron    16    i      16\n",
       "4     5    34        one    25    o      25"
      ]
     },
     "execution_count": 11,
     "metadata": {},
     "output_type": "execute_result"
    }
   ],
   "source": [
    "df"
   ]
  },
  {
   "cell_type": "code",
   "execution_count": 12,
   "metadata": {},
   "outputs": [],
   "source": [
    "def test1(a):\n",
    "    if a =='s':\n",
    "        return 's'\n",
    "    else:\n",
    "        return 'z'"
   ]
  },
  {
   "cell_type": "code",
   "execution_count": 13,
   "metadata": {},
   "outputs": [],
   "source": [
    "df['col6'] = df['col5'].apply(test1)"
   ]
  },
  {
   "cell_type": "code",
   "execution_count": 14,
   "metadata": {},
   "outputs": [
    {
     "data": {
      "text/html": [
       "<div>\n",
       "<style scoped>\n",
       "    .dataframe tbody tr th:only-of-type {\n",
       "        vertical-align: middle;\n",
       "    }\n",
       "\n",
       "    .dataframe tbody tr th {\n",
       "        vertical-align: top;\n",
       "    }\n",
       "\n",
       "    .dataframe thead th {\n",
       "        text-align: right;\n",
       "    }\n",
       "</style>\n",
       "<table border=\"1\" class=\"dataframe\">\n",
       "  <thead>\n",
       "    <tr style=\"text-align: right;\">\n",
       "      <th></th>\n",
       "      <th>col1</th>\n",
       "      <th>col2</th>\n",
       "      <th>col3</th>\n",
       "      <th>col4</th>\n",
       "      <th>col5</th>\n",
       "      <th>col4_4</th>\n",
       "      <th>col6</th>\n",
       "    </tr>\n",
       "  </thead>\n",
       "  <tbody>\n",
       "    <tr>\n",
       "      <th>0</th>\n",
       "      <td>1</td>\n",
       "      <td>45</td>\n",
       "      <td>sudhanshu</td>\n",
       "      <td>1</td>\n",
       "      <td>s</td>\n",
       "      <td>1</td>\n",
       "      <td>s</td>\n",
       "    </tr>\n",
       "    <tr>\n",
       "      <th>1</th>\n",
       "      <td>2</td>\n",
       "      <td>56</td>\n",
       "      <td>kumar</td>\n",
       "      <td>4</td>\n",
       "      <td>k</td>\n",
       "      <td>4</td>\n",
       "      <td>z</td>\n",
       "    </tr>\n",
       "    <tr>\n",
       "      <th>2</th>\n",
       "      <td>3</td>\n",
       "      <td>67</td>\n",
       "      <td>krish</td>\n",
       "      <td>9</td>\n",
       "      <td>k</td>\n",
       "      <td>9</td>\n",
       "      <td>z</td>\n",
       "    </tr>\n",
       "    <tr>\n",
       "      <th>3</th>\n",
       "      <td>4</td>\n",
       "      <td>34</td>\n",
       "      <td>ineuron</td>\n",
       "      <td>16</td>\n",
       "      <td>i</td>\n",
       "      <td>16</td>\n",
       "      <td>z</td>\n",
       "    </tr>\n",
       "    <tr>\n",
       "      <th>4</th>\n",
       "      <td>5</td>\n",
       "      <td>34</td>\n",
       "      <td>one</td>\n",
       "      <td>25</td>\n",
       "      <td>o</td>\n",
       "      <td>25</td>\n",
       "      <td>z</td>\n",
       "    </tr>\n",
       "  </tbody>\n",
       "</table>\n",
       "</div>"
      ],
      "text/plain": [
       "   col1  col2       col3  col4 col5  col4_4 col6\n",
       "0     1    45  sudhanshu     1    s       1    s\n",
       "1     2    56      kumar     4    k       4    z\n",
       "2     3    67      krish     9    k       9    z\n",
       "3     4    34    ineuron    16    i      16    z\n",
       "4     5    34        one    25    o      25    z"
      ]
     },
     "execution_count": 14,
     "metadata": {},
     "output_type": "execute_result"
    }
   ],
   "source": [
    "df"
   ]
  },
  {
   "cell_type": "code",
   "execution_count": 15,
   "metadata": {},
   "outputs": [],
   "source": [
    "df['col6_6'] = df['col5'].apply(lambda a : 's' if a == 's' else 'z')"
   ]
  },
  {
   "cell_type": "code",
   "execution_count": 16,
   "metadata": {},
   "outputs": [
    {
     "data": {
      "text/html": [
       "<div>\n",
       "<style scoped>\n",
       "    .dataframe tbody tr th:only-of-type {\n",
       "        vertical-align: middle;\n",
       "    }\n",
       "\n",
       "    .dataframe tbody tr th {\n",
       "        vertical-align: top;\n",
       "    }\n",
       "\n",
       "    .dataframe thead th {\n",
       "        text-align: right;\n",
       "    }\n",
       "</style>\n",
       "<table border=\"1\" class=\"dataframe\">\n",
       "  <thead>\n",
       "    <tr style=\"text-align: right;\">\n",
       "      <th></th>\n",
       "      <th>col1</th>\n",
       "      <th>col2</th>\n",
       "      <th>col3</th>\n",
       "      <th>col4</th>\n",
       "      <th>col5</th>\n",
       "      <th>col4_4</th>\n",
       "      <th>col6</th>\n",
       "      <th>col6_6</th>\n",
       "    </tr>\n",
       "  </thead>\n",
       "  <tbody>\n",
       "    <tr>\n",
       "      <th>0</th>\n",
       "      <td>1</td>\n",
       "      <td>45</td>\n",
       "      <td>sudhanshu</td>\n",
       "      <td>1</td>\n",
       "      <td>s</td>\n",
       "      <td>1</td>\n",
       "      <td>s</td>\n",
       "      <td>s</td>\n",
       "    </tr>\n",
       "    <tr>\n",
       "      <th>1</th>\n",
       "      <td>2</td>\n",
       "      <td>56</td>\n",
       "      <td>kumar</td>\n",
       "      <td>4</td>\n",
       "      <td>k</td>\n",
       "      <td>4</td>\n",
       "      <td>z</td>\n",
       "      <td>z</td>\n",
       "    </tr>\n",
       "    <tr>\n",
       "      <th>2</th>\n",
       "      <td>3</td>\n",
       "      <td>67</td>\n",
       "      <td>krish</td>\n",
       "      <td>9</td>\n",
       "      <td>k</td>\n",
       "      <td>9</td>\n",
       "      <td>z</td>\n",
       "      <td>z</td>\n",
       "    </tr>\n",
       "    <tr>\n",
       "      <th>3</th>\n",
       "      <td>4</td>\n",
       "      <td>34</td>\n",
       "      <td>ineuron</td>\n",
       "      <td>16</td>\n",
       "      <td>i</td>\n",
       "      <td>16</td>\n",
       "      <td>z</td>\n",
       "      <td>z</td>\n",
       "    </tr>\n",
       "    <tr>\n",
       "      <th>4</th>\n",
       "      <td>5</td>\n",
       "      <td>34</td>\n",
       "      <td>one</td>\n",
       "      <td>25</td>\n",
       "      <td>o</td>\n",
       "      <td>25</td>\n",
       "      <td>z</td>\n",
       "      <td>z</td>\n",
       "    </tr>\n",
       "  </tbody>\n",
       "</table>\n",
       "</div>"
      ],
      "text/plain": [
       "   col1  col2       col3  col4 col5  col4_4 col6 col6_6\n",
       "0     1    45  sudhanshu     1    s       1    s      s\n",
       "1     2    56      kumar     4    k       4    z      z\n",
       "2     3    67      krish     9    k       9    z      z\n",
       "3     4    34    ineuron    16    i      16    z      z\n",
       "4     5    34        one    25    o      25    z      z"
      ]
     },
     "execution_count": 16,
     "metadata": {},
     "output_type": "execute_result"
    }
   ],
   "source": [
    "df"
   ]
  },
  {
   "cell_type": "code",
   "execution_count": 17,
   "metadata": {},
   "outputs": [],
   "source": [
    "df['col7'] = df['col3'].apply(len)"
   ]
  },
  {
   "cell_type": "code",
   "execution_count": 18,
   "metadata": {},
   "outputs": [
    {
     "data": {
      "text/html": [
       "<div>\n",
       "<style scoped>\n",
       "    .dataframe tbody tr th:only-of-type {\n",
       "        vertical-align: middle;\n",
       "    }\n",
       "\n",
       "    .dataframe tbody tr th {\n",
       "        vertical-align: top;\n",
       "    }\n",
       "\n",
       "    .dataframe thead th {\n",
       "        text-align: right;\n",
       "    }\n",
       "</style>\n",
       "<table border=\"1\" class=\"dataframe\">\n",
       "  <thead>\n",
       "    <tr style=\"text-align: right;\">\n",
       "      <th></th>\n",
       "      <th>col1</th>\n",
       "      <th>col2</th>\n",
       "      <th>col3</th>\n",
       "      <th>col4</th>\n",
       "      <th>col5</th>\n",
       "      <th>col4_4</th>\n",
       "      <th>col6</th>\n",
       "      <th>col6_6</th>\n",
       "      <th>col7</th>\n",
       "    </tr>\n",
       "  </thead>\n",
       "  <tbody>\n",
       "    <tr>\n",
       "      <th>0</th>\n",
       "      <td>1</td>\n",
       "      <td>45</td>\n",
       "      <td>sudhanshu</td>\n",
       "      <td>1</td>\n",
       "      <td>s</td>\n",
       "      <td>1</td>\n",
       "      <td>s</td>\n",
       "      <td>s</td>\n",
       "      <td>9</td>\n",
       "    </tr>\n",
       "    <tr>\n",
       "      <th>1</th>\n",
       "      <td>2</td>\n",
       "      <td>56</td>\n",
       "      <td>kumar</td>\n",
       "      <td>4</td>\n",
       "      <td>k</td>\n",
       "      <td>4</td>\n",
       "      <td>z</td>\n",
       "      <td>z</td>\n",
       "      <td>5</td>\n",
       "    </tr>\n",
       "    <tr>\n",
       "      <th>2</th>\n",
       "      <td>3</td>\n",
       "      <td>67</td>\n",
       "      <td>krish</td>\n",
       "      <td>9</td>\n",
       "      <td>k</td>\n",
       "      <td>9</td>\n",
       "      <td>z</td>\n",
       "      <td>z</td>\n",
       "      <td>5</td>\n",
       "    </tr>\n",
       "    <tr>\n",
       "      <th>3</th>\n",
       "      <td>4</td>\n",
       "      <td>34</td>\n",
       "      <td>ineuron</td>\n",
       "      <td>16</td>\n",
       "      <td>i</td>\n",
       "      <td>16</td>\n",
       "      <td>z</td>\n",
       "      <td>z</td>\n",
       "      <td>7</td>\n",
       "    </tr>\n",
       "    <tr>\n",
       "      <th>4</th>\n",
       "      <td>5</td>\n",
       "      <td>34</td>\n",
       "      <td>one</td>\n",
       "      <td>25</td>\n",
       "      <td>o</td>\n",
       "      <td>25</td>\n",
       "      <td>z</td>\n",
       "      <td>z</td>\n",
       "      <td>3</td>\n",
       "    </tr>\n",
       "  </tbody>\n",
       "</table>\n",
       "</div>"
      ],
      "text/plain": [
       "   col1  col2       col3  col4 col5  col4_4 col6 col6_6  col7\n",
       "0     1    45  sudhanshu     1    s       1    s      s     9\n",
       "1     2    56      kumar     4    k       4    z      z     5\n",
       "2     3    67      krish     9    k       9    z      z     5\n",
       "3     4    34    ineuron    16    i      16    z      z     7\n",
       "4     5    34        one    25    o      25    z      z     3"
      ]
     },
     "execution_count": 18,
     "metadata": {},
     "output_type": "execute_result"
    }
   ],
   "source": [
    "df"
   ]
  },
  {
   "cell_type": "code",
   "execution_count": 19,
   "metadata": {},
   "outputs": [],
   "source": [
    "import math"
   ]
  },
  {
   "cell_type": "code",
   "execution_count": 20,
   "metadata": {},
   "outputs": [],
   "source": [
    "df['col8'] = df['col2'].apply(math.log)"
   ]
  },
  {
   "cell_type": "code",
   "execution_count": 21,
   "metadata": {},
   "outputs": [
    {
     "data": {
      "text/html": [
       "<div>\n",
       "<style scoped>\n",
       "    .dataframe tbody tr th:only-of-type {\n",
       "        vertical-align: middle;\n",
       "    }\n",
       "\n",
       "    .dataframe tbody tr th {\n",
       "        vertical-align: top;\n",
       "    }\n",
       "\n",
       "    .dataframe thead th {\n",
       "        text-align: right;\n",
       "    }\n",
       "</style>\n",
       "<table border=\"1\" class=\"dataframe\">\n",
       "  <thead>\n",
       "    <tr style=\"text-align: right;\">\n",
       "      <th></th>\n",
       "      <th>col1</th>\n",
       "      <th>col2</th>\n",
       "      <th>col3</th>\n",
       "      <th>col4</th>\n",
       "      <th>col5</th>\n",
       "      <th>col4_4</th>\n",
       "      <th>col6</th>\n",
       "      <th>col6_6</th>\n",
       "      <th>col7</th>\n",
       "      <th>col8</th>\n",
       "    </tr>\n",
       "  </thead>\n",
       "  <tbody>\n",
       "    <tr>\n",
       "      <th>0</th>\n",
       "      <td>1</td>\n",
       "      <td>45</td>\n",
       "      <td>sudhanshu</td>\n",
       "      <td>1</td>\n",
       "      <td>s</td>\n",
       "      <td>1</td>\n",
       "      <td>s</td>\n",
       "      <td>s</td>\n",
       "      <td>9</td>\n",
       "      <td>3.806662</td>\n",
       "    </tr>\n",
       "    <tr>\n",
       "      <th>1</th>\n",
       "      <td>2</td>\n",
       "      <td>56</td>\n",
       "      <td>kumar</td>\n",
       "      <td>4</td>\n",
       "      <td>k</td>\n",
       "      <td>4</td>\n",
       "      <td>z</td>\n",
       "      <td>z</td>\n",
       "      <td>5</td>\n",
       "      <td>4.025352</td>\n",
       "    </tr>\n",
       "    <tr>\n",
       "      <th>2</th>\n",
       "      <td>3</td>\n",
       "      <td>67</td>\n",
       "      <td>krish</td>\n",
       "      <td>9</td>\n",
       "      <td>k</td>\n",
       "      <td>9</td>\n",
       "      <td>z</td>\n",
       "      <td>z</td>\n",
       "      <td>5</td>\n",
       "      <td>4.204693</td>\n",
       "    </tr>\n",
       "    <tr>\n",
       "      <th>3</th>\n",
       "      <td>4</td>\n",
       "      <td>34</td>\n",
       "      <td>ineuron</td>\n",
       "      <td>16</td>\n",
       "      <td>i</td>\n",
       "      <td>16</td>\n",
       "      <td>z</td>\n",
       "      <td>z</td>\n",
       "      <td>7</td>\n",
       "      <td>3.526361</td>\n",
       "    </tr>\n",
       "    <tr>\n",
       "      <th>4</th>\n",
       "      <td>5</td>\n",
       "      <td>34</td>\n",
       "      <td>one</td>\n",
       "      <td>25</td>\n",
       "      <td>o</td>\n",
       "      <td>25</td>\n",
       "      <td>z</td>\n",
       "      <td>z</td>\n",
       "      <td>3</td>\n",
       "      <td>3.526361</td>\n",
       "    </tr>\n",
       "  </tbody>\n",
       "</table>\n",
       "</div>"
      ],
      "text/plain": [
       "   col1  col2       col3  col4 col5  col4_4 col6 col6_6  col7      col8\n",
       "0     1    45  sudhanshu     1    s       1    s      s     9  3.806662\n",
       "1     2    56      kumar     4    k       4    z      z     5  4.025352\n",
       "2     3    67      krish     9    k       9    z      z     5  4.204693\n",
       "3     4    34    ineuron    16    i      16    z      z     7  3.526361\n",
       "4     5    34        one    25    o      25    z      z     3  3.526361"
      ]
     },
     "execution_count": 21,
     "metadata": {},
     "output_type": "execute_result"
    }
   ],
   "source": [
    "df"
   ]
  },
  {
   "cell_type": "code",
   "execution_count": 22,
   "metadata": {},
   "outputs": [],
   "source": [
    "import numpy as np"
   ]
  },
  {
   "cell_type": "code",
   "execution_count": 23,
   "metadata": {},
   "outputs": [],
   "source": [
    "l = [\"sudh\" , 1,2,3,4]"
   ]
  },
  {
   "cell_type": "code",
   "execution_count": 24,
   "metadata": {},
   "outputs": [
    {
     "data": {
      "text/plain": [
       "list"
      ]
     },
     "execution_count": 24,
     "metadata": {},
     "output_type": "execute_result"
    }
   ],
   "source": [
    "type(l)"
   ]
  },
  {
   "cell_type": "code",
   "execution_count": 25,
   "metadata": {},
   "outputs": [
    {
     "data": {
      "text/plain": [
       "numpy.ndarray"
      ]
     },
     "execution_count": 25,
     "metadata": {},
     "output_type": "execute_result"
    }
   ],
   "source": [
    "type(np.array(l))"
   ]
  },
  {
   "cell_type": "code",
   "execution_count": 26,
   "metadata": {},
   "outputs": [],
   "source": [
    "a1 = np.array([3,4,5,6,3.0])"
   ]
  },
  {
   "cell_type": "code",
   "execution_count": 27,
   "metadata": {},
   "outputs": [],
   "source": [
    "a = np.array([[1,2] , [3,4]])"
   ]
  },
  {
   "cell_type": "code",
   "execution_count": 28,
   "metadata": {},
   "outputs": [
    {
     "data": {
      "text/plain": [
       "array([[1, 2],\n",
       "       [3, 4]])"
      ]
     },
     "execution_count": 28,
     "metadata": {},
     "output_type": "execute_result"
    }
   ],
   "source": [
    "a"
   ]
  },
  {
   "cell_type": "code",
   "execution_count": 29,
   "metadata": {},
   "outputs": [
    {
     "data": {
      "text/plain": [
       "4"
      ]
     },
     "execution_count": 29,
     "metadata": {},
     "output_type": "execute_result"
    }
   ],
   "source": [
    "a[1][1]"
   ]
  },
  {
   "cell_type": "code",
   "execution_count": 30,
   "metadata": {},
   "outputs": [
    {
     "data": {
      "text/plain": [
       "array([3., 4., 5., 6., 3.])"
      ]
     },
     "execution_count": 30,
     "metadata": {},
     "output_type": "execute_result"
    }
   ],
   "source": [
    "a1"
   ]
  },
  {
   "cell_type": "code",
   "execution_count": 31,
   "metadata": {},
   "outputs": [
    {
     "data": {
      "text/plain": [
       "4.0"
      ]
     },
     "execution_count": 31,
     "metadata": {},
     "output_type": "execute_result"
    }
   ],
   "source": [
    "a1[1]"
   ]
  },
  {
   "cell_type": "code",
   "execution_count": 32,
   "metadata": {},
   "outputs": [],
   "source": [
    "a2 = np.array([1,2,3,4],ndmin = 4)"
   ]
  },
  {
   "cell_type": "code",
   "execution_count": 33,
   "metadata": {},
   "outputs": [
    {
     "data": {
      "text/plain": [
       "array([[[[1, 2, 3, 4]]]])"
      ]
     },
     "execution_count": 33,
     "metadata": {},
     "output_type": "execute_result"
    }
   ],
   "source": [
    "a2"
   ]
  },
  {
   "cell_type": "code",
   "execution_count": 34,
   "metadata": {},
   "outputs": [
    {
     "data": {
      "text/plain": [
       "1"
      ]
     },
     "execution_count": 34,
     "metadata": {},
     "output_type": "execute_result"
    }
   ],
   "source": [
    "a2[0][0][0][0]"
   ]
  },
  {
   "cell_type": "code",
   "execution_count": 35,
   "metadata": {},
   "outputs": [
    {
     "data": {
      "text/plain": [
       "array([[1, 2],\n",
       "       [3, 4]])"
      ]
     },
     "execution_count": 35,
     "metadata": {},
     "output_type": "execute_result"
    }
   ],
   "source": [
    "a"
   ]
  },
  {
   "cell_type": "code",
   "execution_count": 36,
   "metadata": {},
   "outputs": [
    {
     "data": {
      "text/plain": [
       "array([1, 2, 3, 4, 5])"
      ]
     },
     "execution_count": 36,
     "metadata": {},
     "output_type": "execute_result"
    }
   ],
   "source": [
    "np.asarray([1,2,3,4,5])"
   ]
  },
  {
   "cell_type": "code",
   "execution_count": 37,
   "metadata": {},
   "outputs": [
    {
     "data": {
      "text/plain": [
       "array([1, 2, 3, 4, 5])"
      ]
     },
     "execution_count": 37,
     "metadata": {},
     "output_type": "execute_result"
    }
   ],
   "source": [
    "np.asanyarray([1,2,3,4,5])"
   ]
  },
  {
   "cell_type": "code",
   "execution_count": 38,
   "metadata": {},
   "outputs": [
    {
     "data": {
      "text/plain": [
       "matrix([[1, 2, 3, 4, 5]])"
      ]
     },
     "execution_count": 38,
     "metadata": {},
     "output_type": "execute_result"
    }
   ],
   "source": [
    "np.mat([1,2,3,4,5])"
   ]
  },
  {
   "cell_type": "code",
   "execution_count": 39,
   "metadata": {},
   "outputs": [
    {
     "data": {
      "text/plain": [
       "array([1, 2, 3, 4, 5])"
      ]
     },
     "execution_count": 39,
     "metadata": {},
     "output_type": "execute_result"
    }
   ],
   "source": [
    "a = [1,2,3,4,5]\n",
    "np.asarray(a)"
   ]
  },
  {
   "cell_type": "code",
   "execution_count": 40,
   "metadata": {},
   "outputs": [
    {
     "data": {
      "text/plain": [
       "matrix([[1, 2, 3, 4, 5]])"
      ]
     },
     "execution_count": 40,
     "metadata": {},
     "output_type": "execute_result"
    }
   ],
   "source": [
    "np.mat(a)"
   ]
  },
  {
   "cell_type": "code",
   "execution_count": 41,
   "metadata": {},
   "outputs": [
    {
     "data": {
      "text/plain": [
       "array([1, 2, 3, 4, 5])"
      ]
     },
     "execution_count": 41,
     "metadata": {},
     "output_type": "execute_result"
    }
   ],
   "source": [
    "np.asanyarray(a)"
   ]
  },
  {
   "cell_type": "code",
   "execution_count": 42,
   "metadata": {},
   "outputs": [
    {
     "data": {
      "text/plain": [
       "matrix([[1, 2, 3, 4, 5]])"
      ]
     },
     "execution_count": 42,
     "metadata": {},
     "output_type": "execute_result"
    }
   ],
   "source": [
    "np.asanyarray(np.mat(a))"
   ]
  },
  {
   "cell_type": "code",
   "execution_count": 43,
   "metadata": {},
   "outputs": [
    {
     "data": {
      "text/plain": [
       "array([[ True, False, False],\n",
       "       [False,  True, False],\n",
       "       [False, False,  True]])"
      ]
     },
     "execution_count": 43,
     "metadata": {},
     "output_type": "execute_result"
    }
   ],
   "source": [
    "np.fromfunction(lambda i , j : i==j , (3,3))"
   ]
  },
  {
   "cell_type": "code",
   "execution_count": 44,
   "metadata": {},
   "outputs": [
    {
     "data": {
      "text/plain": [
       "array([[0, 0, 0, 0],\n",
       "       [0, 1, 2, 3],\n",
       "       [0, 2, 4, 6],\n",
       "       [0, 3, 6, 9]])"
      ]
     },
     "execution_count": 44,
     "metadata": {},
     "output_type": "execute_result"
    }
   ],
   "source": [
    "np.fromfunction(lambda i , j : i*j , (4,4), dtype=int)"
   ]
  },
  {
   "cell_type": "code",
   "execution_count": 45,
   "metadata": {},
   "outputs": [
    {
     "data": {
      "text/plain": [
       "array([[[[0, 0],\n",
       "         [0, 0]],\n",
       "\n",
       "        [[0, 0],\n",
       "         [0, 0]],\n",
       "\n",
       "        [[0, 0],\n",
       "         [0, 0]]],\n",
       "\n",
       "\n",
       "       [[[0, 0],\n",
       "         [0, 0]],\n",
       "\n",
       "        [[0, 0],\n",
       "         [0, 1]],\n",
       "\n",
       "        [[0, 0],\n",
       "         [0, 2]]],\n",
       "\n",
       "\n",
       "       [[[0, 0],\n",
       "         [0, 0]],\n",
       "\n",
       "        [[0, 0],\n",
       "         [0, 2]],\n",
       "\n",
       "        [[0, 0],\n",
       "         [0, 4]]],\n",
       "\n",
       "\n",
       "       [[[0, 0],\n",
       "         [0, 0]],\n",
       "\n",
       "        [[0, 0],\n",
       "         [0, 3]],\n",
       "\n",
       "        [[0, 0],\n",
       "         [0, 6]]]])"
      ]
     },
     "execution_count": 45,
     "metadata": {},
     "output_type": "execute_result"
    }
   ],
   "source": [
    "np.fromfunction(lambda i , j ,z ,p: i*j*z*p , (4,3,2,2),dtype = int)"
   ]
  },
  {
   "cell_type": "code",
   "execution_count": 46,
   "metadata": {},
   "outputs": [],
   "source": [
    "a = np.fromfunction(lambda i , j ,z : i*j*z , (4,3,2),dtype = int)"
   ]
  },
  {
   "cell_type": "code",
   "execution_count": 47,
   "metadata": {},
   "outputs": [
    {
     "data": {
      "text/plain": [
       "array([[[0, 0, 0],\n",
       "        [0, 0, 0],\n",
       "        [0, 0, 0],\n",
       "        [1, 0, 2]],\n",
       "\n",
       "       [[0, 0, 0],\n",
       "        [2, 0, 4],\n",
       "        [0, 0, 0],\n",
       "        [3, 0, 6]]])"
      ]
     },
     "execution_count": 47,
     "metadata": {},
     "output_type": "execute_result"
    }
   ],
   "source": [
    "a.reshape(2,4,-234)"
   ]
  },
  {
   "cell_type": "code",
   "execution_count": 48,
   "metadata": {},
   "outputs": [
    {
     "data": {
      "text/plain": [
       "array([[[0, 0],\n",
       "        [0, 0],\n",
       "        [0, 0]],\n",
       "\n",
       "       [[0, 0],\n",
       "        [0, 1],\n",
       "        [0, 2]],\n",
       "\n",
       "       [[0, 0],\n",
       "        [0, 2],\n",
       "        [0, 4]],\n",
       "\n",
       "       [[0, 0],\n",
       "        [0, 3],\n",
       "        [0, 6]]])"
      ]
     },
     "execution_count": 48,
     "metadata": {},
     "output_type": "execute_result"
    }
   ],
   "source": [
    "a"
   ]
  },
  {
   "cell_type": "code",
   "execution_count": 49,
   "metadata": {},
   "outputs": [
    {
     "data": {
      "text/plain": [
       "3"
      ]
     },
     "execution_count": 49,
     "metadata": {},
     "output_type": "execute_result"
    }
   ],
   "source": [
    "a.ndim"
   ]
  },
  {
   "cell_type": "code",
   "execution_count": 50,
   "metadata": {},
   "outputs": [
    {
     "data": {
      "text/plain": [
       "24"
      ]
     },
     "execution_count": 50,
     "metadata": {},
     "output_type": "execute_result"
    }
   ],
   "source": [
    "a.size"
   ]
  },
  {
   "cell_type": "code",
   "execution_count": 51,
   "metadata": {},
   "outputs": [
    {
     "data": {
      "text/plain": [
       "(4, 3, 2)"
      ]
     },
     "execution_count": 51,
     "metadata": {},
     "output_type": "execute_result"
    }
   ],
   "source": [
    "a.shape"
   ]
  },
  {
   "cell_type": "code",
   "execution_count": 52,
   "metadata": {},
   "outputs": [
    {
     "data": {
      "text/plain": [
       "dtype('int32')"
      ]
     },
     "execution_count": 52,
     "metadata": {},
     "output_type": "execute_result"
    }
   ],
   "source": [
    "a.dtype"
   ]
  },
  {
   "cell_type": "code",
   "execution_count": 53,
   "metadata": {},
   "outputs": [
    {
     "data": {
      "text/plain": [
       "array([[[0, 0],\n",
       "        [0, 0],\n",
       "        [0, 0]],\n",
       "\n",
       "       [[0, 0],\n",
       "        [0, 1],\n",
       "        [0, 2]],\n",
       "\n",
       "       [[0, 0],\n",
       "        [0, 2],\n",
       "        [0, 4]],\n",
       "\n",
       "       [[0, 0],\n",
       "        [0, 3],\n",
       "        [0, 6]]])"
      ]
     },
     "execution_count": 53,
     "metadata": {},
     "output_type": "execute_result"
    }
   ],
   "source": [
    "a"
   ]
  },
  {
   "cell_type": "code",
   "execution_count": 54,
   "metadata": {},
   "outputs": [
    {
     "ename": "ValueError",
     "evalue": "Must pass 2-d input. shape=(4, 3, 2)",
     "output_type": "error",
     "traceback": [
      "\u001b[1;31m---------------------------------------------------------------------------\u001b[0m",
      "\u001b[1;31mValueError\u001b[0m                                Traceback (most recent call last)",
      "\u001b[1;32mc:\\Users\\nayak\\Desktop\\SelfProject\\iNeuron\\Python\\035.pandas and numpy.ipynb Cell 54'\u001b[0m in \u001b[0;36m<cell line: 1>\u001b[1;34m()\u001b[0m\n\u001b[1;32m----> <a href='vscode-notebook-cell:/c%3A/Users/nayak/Desktop/SelfProject/iNeuron/Python/035.pandas%20and%20numpy.ipynb#ch0000053?line=0'>1</a>\u001b[0m pd\u001b[39m.\u001b[39;49mDataFrame(a)\n",
      "File \u001b[1;32mc:\\Users\\nayak\\AppData\\Local\\Programs\\Python\\Python310\\lib\\site-packages\\pandas\\core\\frame.py:694\u001b[0m, in \u001b[0;36mDataFrame.__init__\u001b[1;34m(self, data, index, columns, dtype, copy)\u001b[0m\n\u001b[0;32m    <a href='file:///c%3A/Users/nayak/AppData/Local/Programs/Python/Python310/lib/site-packages/pandas/core/frame.py?line=683'>684</a>\u001b[0m         mgr \u001b[39m=\u001b[39m dict_to_mgr(\n\u001b[0;32m    <a href='file:///c%3A/Users/nayak/AppData/Local/Programs/Python/Python310/lib/site-packages/pandas/core/frame.py?line=684'>685</a>\u001b[0m             \u001b[39m# error: Item \"ndarray\" of \"Union[ndarray, Series, Index]\" has no\u001b[39;00m\n\u001b[0;32m    <a href='file:///c%3A/Users/nayak/AppData/Local/Programs/Python/Python310/lib/site-packages/pandas/core/frame.py?line=685'>686</a>\u001b[0m             \u001b[39m# attribute \"name\"\u001b[39;00m\n\u001b[1;32m   (...)\u001b[0m\n\u001b[0;32m    <a href='file:///c%3A/Users/nayak/AppData/Local/Programs/Python/Python310/lib/site-packages/pandas/core/frame.py?line=690'>691</a>\u001b[0m             typ\u001b[39m=\u001b[39mmanager,\n\u001b[0;32m    <a href='file:///c%3A/Users/nayak/AppData/Local/Programs/Python/Python310/lib/site-packages/pandas/core/frame.py?line=691'>692</a>\u001b[0m         )\n\u001b[0;32m    <a href='file:///c%3A/Users/nayak/AppData/Local/Programs/Python/Python310/lib/site-packages/pandas/core/frame.py?line=692'>693</a>\u001b[0m     \u001b[39melse\u001b[39;00m:\n\u001b[1;32m--> <a href='file:///c%3A/Users/nayak/AppData/Local/Programs/Python/Python310/lib/site-packages/pandas/core/frame.py?line=693'>694</a>\u001b[0m         mgr \u001b[39m=\u001b[39m ndarray_to_mgr(\n\u001b[0;32m    <a href='file:///c%3A/Users/nayak/AppData/Local/Programs/Python/Python310/lib/site-packages/pandas/core/frame.py?line=694'>695</a>\u001b[0m             data,\n\u001b[0;32m    <a href='file:///c%3A/Users/nayak/AppData/Local/Programs/Python/Python310/lib/site-packages/pandas/core/frame.py?line=695'>696</a>\u001b[0m             index,\n\u001b[0;32m    <a href='file:///c%3A/Users/nayak/AppData/Local/Programs/Python/Python310/lib/site-packages/pandas/core/frame.py?line=696'>697</a>\u001b[0m             columns,\n\u001b[0;32m    <a href='file:///c%3A/Users/nayak/AppData/Local/Programs/Python/Python310/lib/site-packages/pandas/core/frame.py?line=697'>698</a>\u001b[0m             dtype\u001b[39m=\u001b[39;49mdtype,\n\u001b[0;32m    <a href='file:///c%3A/Users/nayak/AppData/Local/Programs/Python/Python310/lib/site-packages/pandas/core/frame.py?line=698'>699</a>\u001b[0m             copy\u001b[39m=\u001b[39;49mcopy,\n\u001b[0;32m    <a href='file:///c%3A/Users/nayak/AppData/Local/Programs/Python/Python310/lib/site-packages/pandas/core/frame.py?line=699'>700</a>\u001b[0m             typ\u001b[39m=\u001b[39;49mmanager,\n\u001b[0;32m    <a href='file:///c%3A/Users/nayak/AppData/Local/Programs/Python/Python310/lib/site-packages/pandas/core/frame.py?line=700'>701</a>\u001b[0m         )\n\u001b[0;32m    <a href='file:///c%3A/Users/nayak/AppData/Local/Programs/Python/Python310/lib/site-packages/pandas/core/frame.py?line=702'>703</a>\u001b[0m \u001b[39m# For data is list-like, or Iterable (will consume into list)\u001b[39;00m\n\u001b[0;32m    <a href='file:///c%3A/Users/nayak/AppData/Local/Programs/Python/Python310/lib/site-packages/pandas/core/frame.py?line=703'>704</a>\u001b[0m \u001b[39melif\u001b[39;00m is_list_like(data):\n",
      "File \u001b[1;32mc:\\Users\\nayak\\AppData\\Local\\Programs\\Python\\Python310\\lib\\site-packages\\pandas\\core\\internals\\construction.py:331\u001b[0m, in \u001b[0;36mndarray_to_mgr\u001b[1;34m(values, index, columns, dtype, copy, typ)\u001b[0m\n\u001b[0;32m    <a href='file:///c%3A/Users/nayak/AppData/Local/Programs/Python/Python310/lib/site-packages/pandas/core/internals/construction.py?line=325'>326</a>\u001b[0m         values \u001b[39m=\u001b[39m values\u001b[39m.\u001b[39mreshape(\u001b[39m-\u001b[39m\u001b[39m1\u001b[39m, \u001b[39m1\u001b[39m)\n\u001b[0;32m    <a href='file:///c%3A/Users/nayak/AppData/Local/Programs/Python/Python310/lib/site-packages/pandas/core/internals/construction.py?line=327'>328</a>\u001b[0m \u001b[39melse\u001b[39;00m:\n\u001b[0;32m    <a href='file:///c%3A/Users/nayak/AppData/Local/Programs/Python/Python310/lib/site-packages/pandas/core/internals/construction.py?line=328'>329</a>\u001b[0m     \u001b[39m# by definition an array here\u001b[39;00m\n\u001b[0;32m    <a href='file:///c%3A/Users/nayak/AppData/Local/Programs/Python/Python310/lib/site-packages/pandas/core/internals/construction.py?line=329'>330</a>\u001b[0m     \u001b[39m# the dtypes will be coerced to a single dtype\u001b[39;00m\n\u001b[1;32m--> <a href='file:///c%3A/Users/nayak/AppData/Local/Programs/Python/Python310/lib/site-packages/pandas/core/internals/construction.py?line=330'>331</a>\u001b[0m     values \u001b[39m=\u001b[39m _prep_ndarray(values, copy\u001b[39m=\u001b[39;49mcopy_on_sanitize)\n\u001b[0;32m    <a href='file:///c%3A/Users/nayak/AppData/Local/Programs/Python/Python310/lib/site-packages/pandas/core/internals/construction.py?line=332'>333</a>\u001b[0m \u001b[39mif\u001b[39;00m dtype \u001b[39mis\u001b[39;00m \u001b[39mnot\u001b[39;00m \u001b[39mNone\u001b[39;00m \u001b[39mand\u001b[39;00m \u001b[39mnot\u001b[39;00m is_dtype_equal(values\u001b[39m.\u001b[39mdtype, dtype):\n\u001b[0;32m    <a href='file:///c%3A/Users/nayak/AppData/Local/Programs/Python/Python310/lib/site-packages/pandas/core/internals/construction.py?line=333'>334</a>\u001b[0m     shape \u001b[39m=\u001b[39m values\u001b[39m.\u001b[39mshape\n",
      "File \u001b[1;32mc:\\Users\\nayak\\AppData\\Local\\Programs\\Python\\Python310\\lib\\site-packages\\pandas\\core\\internals\\construction.py:591\u001b[0m, in \u001b[0;36m_prep_ndarray\u001b[1;34m(values, copy)\u001b[0m\n\u001b[0;32m    <a href='file:///c%3A/Users/nayak/AppData/Local/Programs/Python/Python310/lib/site-packages/pandas/core/internals/construction.py?line=588'>589</a>\u001b[0m     values \u001b[39m=\u001b[39m values\u001b[39m.\u001b[39mreshape((values\u001b[39m.\u001b[39mshape[\u001b[39m0\u001b[39m], \u001b[39m1\u001b[39m))\n\u001b[0;32m    <a href='file:///c%3A/Users/nayak/AppData/Local/Programs/Python/Python310/lib/site-packages/pandas/core/internals/construction.py?line=589'>590</a>\u001b[0m \u001b[39melif\u001b[39;00m values\u001b[39m.\u001b[39mndim \u001b[39m!=\u001b[39m \u001b[39m2\u001b[39m:\n\u001b[1;32m--> <a href='file:///c%3A/Users/nayak/AppData/Local/Programs/Python/Python310/lib/site-packages/pandas/core/internals/construction.py?line=590'>591</a>\u001b[0m     \u001b[39mraise\u001b[39;00m \u001b[39mValueError\u001b[39;00m(\u001b[39mf\u001b[39m\u001b[39m\"\u001b[39m\u001b[39mMust pass 2-d input. shape=\u001b[39m\u001b[39m{\u001b[39;00mvalues\u001b[39m.\u001b[39mshape\u001b[39m}\u001b[39;00m\u001b[39m\"\u001b[39m)\n\u001b[0;32m    <a href='file:///c%3A/Users/nayak/AppData/Local/Programs/Python/Python310/lib/site-packages/pandas/core/internals/construction.py?line=592'>593</a>\u001b[0m \u001b[39mreturn\u001b[39;00m values\n",
      "\u001b[1;31mValueError\u001b[0m: Must pass 2-d input. shape=(4, 3, 2)"
     ]
    }
   ],
   "source": [
    "pd.DataFrame(a)"
   ]
  },
  {
   "cell_type": "code",
   "execution_count": null,
   "metadata": {},
   "outputs": [],
   "source": [
    "a = np.fromfunction(lambda i , j : i*j , (400,100),dtype = int)"
   ]
  },
  {
   "cell_type": "code",
   "execution_count": null,
   "metadata": {},
   "outputs": [
    {
     "data": {
      "text/plain": [
       "array([[    0,     0,     0, ...,     0,     0,     0],\n",
       "       [    0,     1,     2, ...,    97,    98,    99],\n",
       "       [    0,     2,     4, ...,   194,   196,   198],\n",
       "       ...,\n",
       "       [    0,   397,   794, ..., 38509, 38906, 39303],\n",
       "       [    0,   398,   796, ..., 38606, 39004, 39402],\n",
       "       [    0,   399,   798, ..., 38703, 39102, 39501]])"
      ]
     },
     "execution_count": 89,
     "metadata": {},
     "output_type": "execute_result"
    }
   ],
   "source": [
    "a"
   ]
  },
  {
   "cell_type": "code",
   "execution_count": null,
   "metadata": {},
   "outputs": [
    {
     "data": {
      "text/html": [
       "<div>\n",
       "<style scoped>\n",
       "    .dataframe tbody tr th:only-of-type {\n",
       "        vertical-align: middle;\n",
       "    }\n",
       "\n",
       "    .dataframe tbody tr th {\n",
       "        vertical-align: top;\n",
       "    }\n",
       "\n",
       "    .dataframe thead th {\n",
       "        text-align: right;\n",
       "    }\n",
       "</style>\n",
       "<table border=\"1\" class=\"dataframe\">\n",
       "  <thead>\n",
       "    <tr style=\"text-align: right;\">\n",
       "      <th></th>\n",
       "      <th>0</th>\n",
       "      <th>1</th>\n",
       "      <th>2</th>\n",
       "      <th>3</th>\n",
       "      <th>4</th>\n",
       "      <th>5</th>\n",
       "      <th>6</th>\n",
       "      <th>7</th>\n",
       "      <th>8</th>\n",
       "      <th>9</th>\n",
       "      <th>...</th>\n",
       "      <th>90</th>\n",
       "      <th>91</th>\n",
       "      <th>92</th>\n",
       "      <th>93</th>\n",
       "      <th>94</th>\n",
       "      <th>95</th>\n",
       "      <th>96</th>\n",
       "      <th>97</th>\n",
       "      <th>98</th>\n",
       "      <th>99</th>\n",
       "    </tr>\n",
       "  </thead>\n",
       "  <tbody>\n",
       "    <tr>\n",
       "      <th>0</th>\n",
       "      <td>0</td>\n",
       "      <td>0</td>\n",
       "      <td>0</td>\n",
       "      <td>0</td>\n",
       "      <td>0</td>\n",
       "      <td>0</td>\n",
       "      <td>0</td>\n",
       "      <td>0</td>\n",
       "      <td>0</td>\n",
       "      <td>0</td>\n",
       "      <td>...</td>\n",
       "      <td>0</td>\n",
       "      <td>0</td>\n",
       "      <td>0</td>\n",
       "      <td>0</td>\n",
       "      <td>0</td>\n",
       "      <td>0</td>\n",
       "      <td>0</td>\n",
       "      <td>0</td>\n",
       "      <td>0</td>\n",
       "      <td>0</td>\n",
       "    </tr>\n",
       "    <tr>\n",
       "      <th>1</th>\n",
       "      <td>0</td>\n",
       "      <td>1</td>\n",
       "      <td>2</td>\n",
       "      <td>3</td>\n",
       "      <td>4</td>\n",
       "      <td>5</td>\n",
       "      <td>6</td>\n",
       "      <td>7</td>\n",
       "      <td>8</td>\n",
       "      <td>9</td>\n",
       "      <td>...</td>\n",
       "      <td>90</td>\n",
       "      <td>91</td>\n",
       "      <td>92</td>\n",
       "      <td>93</td>\n",
       "      <td>94</td>\n",
       "      <td>95</td>\n",
       "      <td>96</td>\n",
       "      <td>97</td>\n",
       "      <td>98</td>\n",
       "      <td>99</td>\n",
       "    </tr>\n",
       "    <tr>\n",
       "      <th>2</th>\n",
       "      <td>0</td>\n",
       "      <td>2</td>\n",
       "      <td>4</td>\n",
       "      <td>6</td>\n",
       "      <td>8</td>\n",
       "      <td>10</td>\n",
       "      <td>12</td>\n",
       "      <td>14</td>\n",
       "      <td>16</td>\n",
       "      <td>18</td>\n",
       "      <td>...</td>\n",
       "      <td>180</td>\n",
       "      <td>182</td>\n",
       "      <td>184</td>\n",
       "      <td>186</td>\n",
       "      <td>188</td>\n",
       "      <td>190</td>\n",
       "      <td>192</td>\n",
       "      <td>194</td>\n",
       "      <td>196</td>\n",
       "      <td>198</td>\n",
       "    </tr>\n",
       "    <tr>\n",
       "      <th>3</th>\n",
       "      <td>0</td>\n",
       "      <td>3</td>\n",
       "      <td>6</td>\n",
       "      <td>9</td>\n",
       "      <td>12</td>\n",
       "      <td>15</td>\n",
       "      <td>18</td>\n",
       "      <td>21</td>\n",
       "      <td>24</td>\n",
       "      <td>27</td>\n",
       "      <td>...</td>\n",
       "      <td>270</td>\n",
       "      <td>273</td>\n",
       "      <td>276</td>\n",
       "      <td>279</td>\n",
       "      <td>282</td>\n",
       "      <td>285</td>\n",
       "      <td>288</td>\n",
       "      <td>291</td>\n",
       "      <td>294</td>\n",
       "      <td>297</td>\n",
       "    </tr>\n",
       "    <tr>\n",
       "      <th>4</th>\n",
       "      <td>0</td>\n",
       "      <td>4</td>\n",
       "      <td>8</td>\n",
       "      <td>12</td>\n",
       "      <td>16</td>\n",
       "      <td>20</td>\n",
       "      <td>24</td>\n",
       "      <td>28</td>\n",
       "      <td>32</td>\n",
       "      <td>36</td>\n",
       "      <td>...</td>\n",
       "      <td>360</td>\n",
       "      <td>364</td>\n",
       "      <td>368</td>\n",
       "      <td>372</td>\n",
       "      <td>376</td>\n",
       "      <td>380</td>\n",
       "      <td>384</td>\n",
       "      <td>388</td>\n",
       "      <td>392</td>\n",
       "      <td>396</td>\n",
       "    </tr>\n",
       "    <tr>\n",
       "      <th>...</th>\n",
       "      <td>...</td>\n",
       "      <td>...</td>\n",
       "      <td>...</td>\n",
       "      <td>...</td>\n",
       "      <td>...</td>\n",
       "      <td>...</td>\n",
       "      <td>...</td>\n",
       "      <td>...</td>\n",
       "      <td>...</td>\n",
       "      <td>...</td>\n",
       "      <td>...</td>\n",
       "      <td>...</td>\n",
       "      <td>...</td>\n",
       "      <td>...</td>\n",
       "      <td>...</td>\n",
       "      <td>...</td>\n",
       "      <td>...</td>\n",
       "      <td>...</td>\n",
       "      <td>...</td>\n",
       "      <td>...</td>\n",
       "      <td>...</td>\n",
       "    </tr>\n",
       "    <tr>\n",
       "      <th>395</th>\n",
       "      <td>0</td>\n",
       "      <td>395</td>\n",
       "      <td>790</td>\n",
       "      <td>1185</td>\n",
       "      <td>1580</td>\n",
       "      <td>1975</td>\n",
       "      <td>2370</td>\n",
       "      <td>2765</td>\n",
       "      <td>3160</td>\n",
       "      <td>3555</td>\n",
       "      <td>...</td>\n",
       "      <td>35550</td>\n",
       "      <td>35945</td>\n",
       "      <td>36340</td>\n",
       "      <td>36735</td>\n",
       "      <td>37130</td>\n",
       "      <td>37525</td>\n",
       "      <td>37920</td>\n",
       "      <td>38315</td>\n",
       "      <td>38710</td>\n",
       "      <td>39105</td>\n",
       "    </tr>\n",
       "    <tr>\n",
       "      <th>396</th>\n",
       "      <td>0</td>\n",
       "      <td>396</td>\n",
       "      <td>792</td>\n",
       "      <td>1188</td>\n",
       "      <td>1584</td>\n",
       "      <td>1980</td>\n",
       "      <td>2376</td>\n",
       "      <td>2772</td>\n",
       "      <td>3168</td>\n",
       "      <td>3564</td>\n",
       "      <td>...</td>\n",
       "      <td>35640</td>\n",
       "      <td>36036</td>\n",
       "      <td>36432</td>\n",
       "      <td>36828</td>\n",
       "      <td>37224</td>\n",
       "      <td>37620</td>\n",
       "      <td>38016</td>\n",
       "      <td>38412</td>\n",
       "      <td>38808</td>\n",
       "      <td>39204</td>\n",
       "    </tr>\n",
       "    <tr>\n",
       "      <th>397</th>\n",
       "      <td>0</td>\n",
       "      <td>397</td>\n",
       "      <td>794</td>\n",
       "      <td>1191</td>\n",
       "      <td>1588</td>\n",
       "      <td>1985</td>\n",
       "      <td>2382</td>\n",
       "      <td>2779</td>\n",
       "      <td>3176</td>\n",
       "      <td>3573</td>\n",
       "      <td>...</td>\n",
       "      <td>35730</td>\n",
       "      <td>36127</td>\n",
       "      <td>36524</td>\n",
       "      <td>36921</td>\n",
       "      <td>37318</td>\n",
       "      <td>37715</td>\n",
       "      <td>38112</td>\n",
       "      <td>38509</td>\n",
       "      <td>38906</td>\n",
       "      <td>39303</td>\n",
       "    </tr>\n",
       "    <tr>\n",
       "      <th>398</th>\n",
       "      <td>0</td>\n",
       "      <td>398</td>\n",
       "      <td>796</td>\n",
       "      <td>1194</td>\n",
       "      <td>1592</td>\n",
       "      <td>1990</td>\n",
       "      <td>2388</td>\n",
       "      <td>2786</td>\n",
       "      <td>3184</td>\n",
       "      <td>3582</td>\n",
       "      <td>...</td>\n",
       "      <td>35820</td>\n",
       "      <td>36218</td>\n",
       "      <td>36616</td>\n",
       "      <td>37014</td>\n",
       "      <td>37412</td>\n",
       "      <td>37810</td>\n",
       "      <td>38208</td>\n",
       "      <td>38606</td>\n",
       "      <td>39004</td>\n",
       "      <td>39402</td>\n",
       "    </tr>\n",
       "    <tr>\n",
       "      <th>399</th>\n",
       "      <td>0</td>\n",
       "      <td>399</td>\n",
       "      <td>798</td>\n",
       "      <td>1197</td>\n",
       "      <td>1596</td>\n",
       "      <td>1995</td>\n",
       "      <td>2394</td>\n",
       "      <td>2793</td>\n",
       "      <td>3192</td>\n",
       "      <td>3591</td>\n",
       "      <td>...</td>\n",
       "      <td>35910</td>\n",
       "      <td>36309</td>\n",
       "      <td>36708</td>\n",
       "      <td>37107</td>\n",
       "      <td>37506</td>\n",
       "      <td>37905</td>\n",
       "      <td>38304</td>\n",
       "      <td>38703</td>\n",
       "      <td>39102</td>\n",
       "      <td>39501</td>\n",
       "    </tr>\n",
       "  </tbody>\n",
       "</table>\n",
       "<p>400 rows × 100 columns</p>\n",
       "</div>"
      ],
      "text/plain": [
       "     0    1    2     3     4     5     6     7     8     9   ...     90  \\\n",
       "0     0    0    0     0     0     0     0     0     0     0  ...      0   \n",
       "1     0    1    2     3     4     5     6     7     8     9  ...     90   \n",
       "2     0    2    4     6     8    10    12    14    16    18  ...    180   \n",
       "3     0    3    6     9    12    15    18    21    24    27  ...    270   \n",
       "4     0    4    8    12    16    20    24    28    32    36  ...    360   \n",
       "..   ..  ...  ...   ...   ...   ...   ...   ...   ...   ...  ...    ...   \n",
       "395   0  395  790  1185  1580  1975  2370  2765  3160  3555  ...  35550   \n",
       "396   0  396  792  1188  1584  1980  2376  2772  3168  3564  ...  35640   \n",
       "397   0  397  794  1191  1588  1985  2382  2779  3176  3573  ...  35730   \n",
       "398   0  398  796  1194  1592  1990  2388  2786  3184  3582  ...  35820   \n",
       "399   0  399  798  1197  1596  1995  2394  2793  3192  3591  ...  35910   \n",
       "\n",
       "        91     92     93     94     95     96     97     98     99  \n",
       "0        0      0      0      0      0      0      0      0      0  \n",
       "1       91     92     93     94     95     96     97     98     99  \n",
       "2      182    184    186    188    190    192    194    196    198  \n",
       "3      273    276    279    282    285    288    291    294    297  \n",
       "4      364    368    372    376    380    384    388    392    396  \n",
       "..     ...    ...    ...    ...    ...    ...    ...    ...    ...  \n",
       "395  35945  36340  36735  37130  37525  37920  38315  38710  39105  \n",
       "396  36036  36432  36828  37224  37620  38016  38412  38808  39204  \n",
       "397  36127  36524  36921  37318  37715  38112  38509  38906  39303  \n",
       "398  36218  36616  37014  37412  37810  38208  38606  39004  39402  \n",
       "399  36309  36708  37107  37506  37905  38304  38703  39102  39501  \n",
       "\n",
       "[400 rows x 100 columns]"
      ]
     },
     "execution_count": 59,
     "metadata": {},
     "output_type": "execute_result"
    }
   ],
   "source": [
    "pd.DataFrame(a)"
   ]
  },
  {
   "cell_type": "code",
   "execution_count": null,
   "metadata": {},
   "outputs": [
    {
     "data": {
      "text/plain": [
       "array([[0.85248306, 0.50369384, 0.73589494, 0.71108344],\n",
       "       [0.03557535, 0.1859478 , 0.54792515, 0.29826987],\n",
       "       [0.47020033, 0.09757954, 0.0085836 , 0.23671553],\n",
       "       [0.177115  , 0.53807654, 0.58360737, 0.89405461],\n",
       "       [0.24221316, 0.93601782, 0.87873631, 0.99968975],\n",
       "       [0.49669828, 0.10051399, 0.57778719, 0.73222407],\n",
       "       [0.57273056, 0.65615228, 0.85365732, 0.3043315 ],\n",
       "       [0.30293881, 0.04212381, 0.35882397, 0.58153297],\n",
       "       [0.48689337, 0.76949878, 0.83890621, 0.45277385],\n",
       "       [0.50734949, 0.27287842, 0.71626996, 0.00446464],\n",
       "       [0.74839992, 0.3543821 , 0.0870626 , 0.31672754],\n",
       "       [0.2392736 , 0.17958995, 0.43395018, 0.05833227],\n",
       "       [0.92283417, 0.64931207, 0.22732269, 0.40600271],\n",
       "       [0.87735397, 0.7300379 , 0.92957711, 0.62558114],\n",
       "       [0.9110881 , 0.49972376, 0.81965813, 0.61792837],\n",
       "       [0.38391144, 0.12393006, 0.13491578, 0.29163237],\n",
       "       [0.53548492, 0.79361367, 0.41141431, 0.6552665 ],\n",
       "       [0.73633782, 0.18449557, 0.54106292, 0.08333149],\n",
       "       [0.32074659, 0.08615469, 0.32198603, 0.95588267],\n",
       "       [0.28289942, 0.01645171, 0.32830811, 0.63269302],\n",
       "       [0.34172758, 0.60777356, 0.48965122, 0.06727613],\n",
       "       [0.15130666, 0.65497846, 0.7854535 , 0.27608042],\n",
       "       [0.76987491, 0.43045301, 0.6179725 , 0.95606081],\n",
       "       [0.47934627, 0.77163657, 0.15952432, 0.84200863],\n",
       "       [0.23845652, 0.44172124, 0.22986536, 0.15707269],\n",
       "       [0.50876177, 0.52899145, 0.65320951, 0.8585933 ],\n",
       "       [0.64412176, 0.5581289 , 0.43885661, 0.60230533],\n",
       "       [0.98167232, 0.14232089, 0.42510643, 0.79626116],\n",
       "       [0.95525756, 0.91288568, 0.62646652, 0.26542712],\n",
       "       [0.78800256, 0.76277063, 0.53557527, 0.13253202],\n",
       "       [0.59596723, 0.62457393, 0.47452017, 0.9342575 ],\n",
       "       [0.82911575, 0.47930498, 0.95835057, 0.91640898],\n",
       "       [0.4928662 , 0.91264368, 0.34253204, 0.23797536],\n",
       "       [0.30023155, 0.62020778, 0.05771439, 0.22479054],\n",
       "       [0.7728211 , 0.28150017, 0.75837951, 0.78903807],\n",
       "       [0.63759393, 0.41889695, 0.96117883, 0.76872294],\n",
       "       [0.24492826, 0.6778757 , 0.67047961, 0.17674937],\n",
       "       [0.04087555, 0.09510355, 0.91405367, 0.92315983],\n",
       "       [0.45808532, 0.337211  , 0.62020098, 0.76612129],\n",
       "       [0.04949441, 0.29412804, 0.69256757, 0.69188312],\n",
       "       [0.97943108, 0.97262619, 0.28170011, 0.47720764],\n",
       "       [0.3585343 , 0.53565699, 0.51908226, 0.55839016],\n",
       "       [0.68883478, 0.388797  , 0.37233618, 0.80878195],\n",
       "       [0.72125881, 0.15181236, 0.41345261, 0.7022944 ],\n",
       "       [0.33217714, 0.95218211, 0.84934699, 0.01758201],\n",
       "       [0.07909728, 0.15421344, 0.95145095, 0.46476932],\n",
       "       [0.97611227, 0.46125546, 0.19810336, 0.26257806],\n",
       "       [0.67845234, 0.34490566, 0.21395825, 0.39048709],\n",
       "       [0.95297084, 0.86552658, 0.15063978, 0.68546048],\n",
       "       [0.15685802, 0.73310387, 0.73794504, 0.11424116],\n",
       "       [0.61293555, 0.60004414, 0.90921315, 0.96140797],\n",
       "       [0.86698347, 0.2957554 , 0.35759461, 0.66109309],\n",
       "       [0.37508932, 0.20833712, 0.68241051, 0.49290636],\n",
       "       [0.52391292, 0.41484092, 0.72636811, 0.90628728],\n",
       "       [0.86265061, 0.63924855, 0.53303973, 0.10339495],\n",
       "       [0.84843941, 0.62084555, 0.89924373, 0.79977569],\n",
       "       [0.29275493, 0.47130962, 0.88284482, 0.8122364 ],\n",
       "       [0.56108892, 0.03539537, 0.62133026, 0.43766576],\n",
       "       [0.15452413, 0.24089918, 0.46157934, 0.00236808],\n",
       "       [0.17692032, 0.13319481, 0.6907949 , 0.6633975 ],\n",
       "       [0.04546103, 0.10005292, 0.81622135, 0.46550641],\n",
       "       [0.52020472, 0.56953605, 0.84586988, 0.30896293],\n",
       "       [0.2362436 , 0.96388894, 0.50915015, 0.12488768],\n",
       "       [0.97472959, 0.31480757, 0.56544468, 0.43508609],\n",
       "       [0.96642385, 0.39273655, 0.67505606, 0.77765152],\n",
       "       [0.88980372, 0.33520331, 0.66828441, 0.62664962],\n",
       "       [0.59506773, 0.53332868, 0.94991358, 0.15987172],\n",
       "       [0.57208473, 0.34226031, 0.91653421, 0.45056516],\n",
       "       [0.59871295, 0.18070207, 0.37059799, 0.54796479],\n",
       "       [0.40465421, 0.8999521 , 0.09927339, 0.41725676],\n",
       "       [0.37812068, 0.91313873, 0.08103232, 0.40430132],\n",
       "       [0.77445205, 0.01955167, 0.00350966, 0.00175486],\n",
       "       [0.06572553, 0.97757197, 0.72147189, 0.46950836],\n",
       "       [0.5122281 , 0.88866806, 0.67850554, 0.88768945],\n",
       "       [0.34334762, 0.56973802, 0.92401881, 0.86817821],\n",
       "       [0.51676284, 0.37105445, 0.4803398 , 0.70042795],\n",
       "       [0.72849021, 0.15641005, 0.83554096, 0.63791847],\n",
       "       [0.47877435, 0.25347183, 0.27601672, 0.89057527],\n",
       "       [0.02504129, 0.76464743, 0.80733829, 0.66961899],\n",
       "       [0.21567813, 0.58757846, 0.79737171, 0.41610736],\n",
       "       [0.88179309, 0.47188947, 0.94502083, 0.73542739],\n",
       "       [0.98864689, 0.39736546, 0.71582202, 0.8004482 ],\n",
       "       [0.28075412, 0.50457202, 0.93639866, 0.9904635 ],\n",
       "       [0.52754725, 0.09900645, 0.9872847 , 0.03289829],\n",
       "       [0.69839758, 0.00568583, 0.01845362, 0.68907306],\n",
       "       [0.53656132, 0.62523784, 0.65778219, 0.64260047],\n",
       "       [0.60754712, 0.92431267, 0.73047714, 0.18877838],\n",
       "       [0.2980701 , 0.13244044, 0.3753273 , 0.29369628],\n",
       "       [0.18997784, 0.99665115, 0.86098877, 0.11398817],\n",
       "       [0.74382909, 0.15852796, 0.42820654, 0.50920853],\n",
       "       [0.3100446 , 0.71444476, 0.19581159, 0.56607772],\n",
       "       [0.87869926, 0.43480606, 0.28739728, 0.70303758],\n",
       "       [0.46499009, 0.33811776, 0.91349242, 0.69667937],\n",
       "       [0.31277389, 0.86777885, 0.64512937, 0.96920015],\n",
       "       [0.42897922, 0.35145328, 0.76055137, 0.6803548 ],\n",
       "       [0.17510583, 0.44298339, 0.46681761, 0.85343336],\n",
       "       [0.41699663, 0.66937368, 0.92298109, 0.7551601 ],\n",
       "       [0.15880567, 0.2427007 , 0.254617  , 0.98413796],\n",
       "       [0.0620774 , 0.36812216, 0.85036069, 0.58457368],\n",
       "       [0.13611575, 0.69383663, 0.3889049 , 0.45137691]])"
      ]
     },
     "execution_count": 60,
     "metadata": {},
     "output_type": "execute_result"
    }
   ],
   "source": [
    "np.random.rand(100,4)"
   ]
  },
  {
   "cell_type": "code",
   "execution_count": null,
   "metadata": {},
   "outputs": [
    {
     "data": {
      "text/plain": [
       "32"
      ]
     },
     "execution_count": 61,
     "metadata": {},
     "output_type": "execute_result"
    }
   ],
   "source": [
    "np.random.randint(4,50)"
   ]
  },
  {
   "cell_type": "code",
   "execution_count": null,
   "metadata": {},
   "outputs": [
    {
     "data": {
      "text/html": [
       "<div>\n",
       "<style scoped>\n",
       "    .dataframe tbody tr th:only-of-type {\n",
       "        vertical-align: middle;\n",
       "    }\n",
       "\n",
       "    .dataframe tbody tr th {\n",
       "        vertical-align: top;\n",
       "    }\n",
       "\n",
       "    .dataframe thead th {\n",
       "        text-align: right;\n",
       "    }\n",
       "</style>\n",
       "<table border=\"1\" class=\"dataframe\">\n",
       "  <thead>\n",
       "    <tr style=\"text-align: right;\">\n",
       "      <th></th>\n",
       "      <th>0</th>\n",
       "      <th>1</th>\n",
       "      <th>2</th>\n",
       "      <th>3</th>\n",
       "      <th>4</th>\n",
       "    </tr>\n",
       "  </thead>\n",
       "  <tbody>\n",
       "    <tr>\n",
       "      <th>0</th>\n",
       "      <td>-0.753941</td>\n",
       "      <td>-0.817731</td>\n",
       "      <td>0.497913</td>\n",
       "      <td>-0.154877</td>\n",
       "      <td>0.440541</td>\n",
       "    </tr>\n",
       "    <tr>\n",
       "      <th>1</th>\n",
       "      <td>-0.125808</td>\n",
       "      <td>0.277854</td>\n",
       "      <td>-0.078865</td>\n",
       "      <td>0.904879</td>\n",
       "      <td>0.011927</td>\n",
       "    </tr>\n",
       "    <tr>\n",
       "      <th>2</th>\n",
       "      <td>1.019199</td>\n",
       "      <td>-0.048980</td>\n",
       "      <td>-0.727625</td>\n",
       "      <td>0.619149</td>\n",
       "      <td>-0.450642</td>\n",
       "    </tr>\n",
       "    <tr>\n",
       "      <th>3</th>\n",
       "      <td>-0.747283</td>\n",
       "      <td>0.967514</td>\n",
       "      <td>-0.150226</td>\n",
       "      <td>-0.107359</td>\n",
       "      <td>0.323435</td>\n",
       "    </tr>\n",
       "  </tbody>\n",
       "</table>\n",
       "</div>"
      ],
      "text/plain": [
       "          0         1         2         3         4\n",
       "0 -0.753941 -0.817731  0.497913 -0.154877  0.440541\n",
       "1 -0.125808  0.277854 -0.078865  0.904879  0.011927\n",
       "2  1.019199 -0.048980 -0.727625  0.619149 -0.450642\n",
       "3 -0.747283  0.967514 -0.150226 -0.107359  0.323435"
      ]
     },
     "execution_count": 62,
     "metadata": {},
     "output_type": "execute_result"
    }
   ],
   "source": [
    "pd.DataFrame(np.random.randn(4,5))"
   ]
  },
  {
   "cell_type": "code",
   "execution_count": null,
   "metadata": {},
   "outputs": [
    {
     "ename": "TypeError",
     "evalue": "'float' object cannot be interpreted as an integer",
     "output_type": "error",
     "traceback": [
      "\u001b[1;31m---------------------------------------------------------------------------\u001b[0m",
      "\u001b[1;31mTypeError\u001b[0m                                 Traceback (most recent call last)",
      "\u001b[1;32mc:\\Users\\nayak\\Desktop\\SelfProject\\iNeuron\\Python\\035.pandas and numpy.ipynb Cell 61'\u001b[0m in \u001b[0;36m<cell line: 1>\u001b[1;34m()\u001b[0m\n\u001b[1;32m----> <a href='vscode-notebook-cell:/c%3A/Users/nayak/Desktop/SelfProject/iNeuron/Python/035.pandas%20and%20numpy.ipynb#ch0000059?line=0'>1</a>\u001b[0m \u001b[39mlist\u001b[39m(\u001b[39mrange\u001b[39;49m(\u001b[39m4\u001b[39;49m,\u001b[39m10.5\u001b[39;49m,\u001b[39m2\u001b[39;49m))\n",
      "\u001b[1;31mTypeError\u001b[0m: 'float' object cannot be interpreted as an integer"
     ]
    }
   ],
   "source": [
    "list(range(4,10.5,2))"
   ]
  },
  {
   "cell_type": "code",
   "execution_count": null,
   "metadata": {},
   "outputs": [],
   "source": [
    "a1 = np.arange(4,10.5,.2)"
   ]
  },
  {
   "cell_type": "code",
   "execution_count": null,
   "metadata": {},
   "outputs": [
    {
     "data": {
      "text/plain": [
       "array([ 4. ,  4.2,  4.4,  4.6,  4.8,  5. ,  5.2,  5.4,  5.6,  5.8,  6. ,\n",
       "        6.2,  6.4,  6.6,  6.8,  7. ,  7.2,  7.4,  7.6,  7.8,  8. ,  8.2,\n",
       "        8.4,  8.6,  8.8,  9. ,  9.2,  9.4,  9.6,  9.8, 10. , 10.2, 10.4])"
      ]
     },
     "execution_count": 65,
     "metadata": {},
     "output_type": "execute_result"
    }
   ],
   "source": [
    "a1"
   ]
  },
  {
   "cell_type": "code",
   "execution_count": null,
   "metadata": {},
   "outputs": [
    {
     "data": {
      "text/plain": [
       "array([4.2, 4.4, 4.6])"
      ]
     },
     "execution_count": 131,
     "metadata": {},
     "output_type": "execute_result"
    }
   ],
   "source": [
    "a1[1:4]"
   ]
  },
  {
   "cell_type": "code",
   "execution_count": null,
   "metadata": {},
   "outputs": [],
   "source": [
    "arr = np.random.rand(4,5)"
   ]
  },
  {
   "cell_type": "code",
   "execution_count": null,
   "metadata": {},
   "outputs": [
    {
     "data": {
      "text/plain": [
       "array([[0.96678281, 0.35166023, 0.93708152, 0.14640636, 0.62546993],\n",
       "       [0.97404849, 0.65757559, 0.83201895, 0.84742022, 0.15049037],\n",
       "       [0.78251624, 0.53726751, 0.44797833, 0.61201076, 0.49516571],\n",
       "       [0.03779152, 0.15470719, 0.27272052, 0.51001873, 0.91056495]])"
      ]
     },
     "execution_count": 67,
     "metadata": {},
     "output_type": "execute_result"
    }
   ],
   "source": [
    "arr"
   ]
  },
  {
   "cell_type": "code",
   "execution_count": null,
   "metadata": {},
   "outputs": [
    {
     "data": {
      "text/plain": [
       "array([0.96678281, 0.93708152, 0.62546993, 0.97404849, 0.65757559,\n",
       "       0.83201895, 0.84742022, 0.78251624, 0.53726751, 0.61201076,\n",
       "       0.51001873, 0.91056495])"
      ]
     },
     "execution_count": 68,
     "metadata": {},
     "output_type": "execute_result"
    }
   ],
   "source": [
    "arr[arr > .5]"
   ]
  },
  {
   "cell_type": "code",
   "execution_count": null,
   "metadata": {},
   "outputs": [
    {
     "data": {
      "text/plain": [
       "array([[0.96678281, 0.35166023, 0.93708152, 0.14640636, 0.62546993],\n",
       "       [0.97404849, 0.65757559, 0.83201895, 0.84742022, 0.15049037],\n",
       "       [0.78251624, 0.53726751, 0.44797833, 0.61201076, 0.49516571],\n",
       "       [0.03779152, 0.15470719, 0.27272052, 0.51001873, 0.91056495]])"
      ]
     },
     "execution_count": 69,
     "metadata": {},
     "output_type": "execute_result"
    }
   ],
   "source": [
    "arr"
   ]
  },
  {
   "cell_type": "code",
   "execution_count": null,
   "metadata": {},
   "outputs": [
    {
     "data": {
      "text/plain": [
       "array([0.84742022, 0.44797833, 0.15470719])"
      ]
     },
     "execution_count": 85,
     "metadata": {},
     "output_type": "execute_result"
    }
   ],
   "source": [
    "arr[[1,2,3] , [3,2,1]]"
   ]
  },
  {
   "cell_type": "code",
   "execution_count": 56,
   "metadata": {},
   "outputs": [],
   "source": [
    "arr = np.random.rand(8,5)"
   ]
  },
  {
   "cell_type": "code",
   "execution_count": 57,
   "metadata": {},
   "outputs": [
    {
     "data": {
      "text/plain": [
       "array([[0.40609796, 0.12665626, 0.76652958, 0.51767646, 0.98872453],\n",
       "       [0.13021369, 0.05146827, 0.27575668, 0.70368537, 0.29472785],\n",
       "       [0.41336676, 0.02703933, 0.62864043, 0.9138082 , 0.77481945],\n",
       "       [0.22233306, 0.00713728, 0.10837107, 0.31382084, 0.22122743],\n",
       "       [0.96019693, 0.61092574, 0.65518297, 0.36593398, 0.73337177],\n",
       "       [0.56305289, 0.69624037, 0.79489584, 0.74628202, 0.48523429],\n",
       "       [0.62817502, 0.08762824, 0.27283126, 0.72384411, 0.99323923],\n",
       "       [0.10284734, 0.61716235, 0.72505942, 0.5887093 , 0.30204991]])"
      ]
     },
     "execution_count": 57,
     "metadata": {},
     "output_type": "execute_result"
    }
   ],
   "source": [
    "arr"
   ]
  },
  {
   "cell_type": "code",
   "execution_count": 61,
   "metadata": {},
   "outputs": [
    {
     "data": {
      "text/plain": [
       "array([[0.05146827, 0.27575668],\n",
       "       [0.02703933, 0.62864043],\n",
       "       [0.00713728, 0.10837107],\n",
       "       [0.61092574, 0.65518297],\n",
       "       [0.69624037, 0.79489584],\n",
       "       [0.08762824, 0.27283126],\n",
       "       [0.61716235, 0.72505942]])"
      ]
     },
     "execution_count": 61,
     "metadata": {},
     "output_type": "execute_result"
    }
   ],
   "source": [
    "arr[1:9 , 1:3]  # first 1:9 rows and first 1:3 columns"
   ]
  },
  {
   "cell_type": "code",
   "execution_count": null,
   "metadata": {},
   "outputs": [],
   "source": [
    "a2 = arr[1:8 , [0,1,2]]"
   ]
  },
  {
   "cell_type": "code",
   "execution_count": null,
   "metadata": {},
   "outputs": [
    {
     "data": {
      "text/plain": [
       "array([[0.83424788, 0.9772043 , 0.92511126],\n",
       "       [0.02881714, 0.37262213, 0.60478181],\n",
       "       [0.11836055, 0.11416884, 0.70530161],\n",
       "       [0.69056392, 0.62870346, 0.79559066],\n",
       "       [0.37055243, 0.9953446 , 0.41917872],\n",
       "       [0.26717586, 0.52987176, 0.07728285],\n",
       "       [0.57603315, 0.17999688, 0.42020654]])"
      ]
     },
     "execution_count": 90,
     "metadata": {},
     "output_type": "execute_result"
    }
   ],
   "source": [
    "a2"
   ]
  },
  {
   "cell_type": "code",
   "execution_count": null,
   "metadata": {},
   "outputs": [],
   "source": [
    "a2[0][0] = 100"
   ]
  },
  {
   "cell_type": "code",
   "execution_count": null,
   "metadata": {},
   "outputs": [
    {
     "data": {
      "text/plain": [
       "array([[1.00000000e+02, 9.77204302e-01, 9.25111259e-01],\n",
       "       [2.88171413e-02, 3.72622133e-01, 6.04781809e-01],\n",
       "       [1.18360547e-01, 1.14168838e-01, 7.05301614e-01],\n",
       "       [6.90563924e-01, 6.28703457e-01, 7.95590662e-01],\n",
       "       [3.70552429e-01, 9.95344596e-01, 4.19178716e-01],\n",
       "       [2.67175859e-01, 5.29871760e-01, 7.72828526e-02],\n",
       "       [5.76033147e-01, 1.79996880e-01, 4.20206541e-01]])"
      ]
     },
     "execution_count": 92,
     "metadata": {},
     "output_type": "execute_result"
    }
   ],
   "source": [
    "a2"
   ]
  },
  {
   "cell_type": "code",
   "execution_count": null,
   "metadata": {},
   "outputs": [],
   "source": [
    "a = np.array([[1,2] ,[3,4]])\n",
    "b = np.array([[2,3] , [4,5]])"
   ]
  },
  {
   "cell_type": "code",
   "execution_count": null,
   "metadata": {},
   "outputs": [
    {
     "data": {
      "text/plain": [
       "array([[1, 2],\n",
       "       [3, 4]])"
      ]
     },
     "execution_count": 94,
     "metadata": {},
     "output_type": "execute_result"
    }
   ],
   "source": [
    "a"
   ]
  },
  {
   "cell_type": "code",
   "execution_count": null,
   "metadata": {},
   "outputs": [
    {
     "data": {
      "text/plain": [
       "array([[2, 3],\n",
       "       [4, 5]])"
      ]
     },
     "execution_count": 95,
     "metadata": {},
     "output_type": "execute_result"
    }
   ],
   "source": [
    "b"
   ]
  },
  {
   "cell_type": "code",
   "execution_count": null,
   "metadata": {},
   "outputs": [
    {
     "data": {
      "text/plain": [
       "array([[ 2,  6],\n",
       "       [12, 20]])"
      ]
     },
     "execution_count": 96,
     "metadata": {},
     "output_type": "execute_result"
    }
   ],
   "source": [
    "a*b"
   ]
  },
  {
   "cell_type": "code",
   "execution_count": null,
   "metadata": {},
   "outputs": [],
   "source": [
    "m = a@b\n",
    "# matrix multiplication formula = \n",
    "#  1st row of a * 1st column of b"
   ]
  },
  {
   "cell_type": "code",
   "execution_count": null,
   "metadata": {},
   "outputs": [
    {
     "data": {
      "text/plain": [
       "array([[10, 13],\n",
       "       [22, 29]])"
      ]
     },
     "execution_count": 98,
     "metadata": {},
     "output_type": "execute_result"
    }
   ],
   "source": [
    "m"
   ]
  },
  {
   "cell_type": "code",
   "execution_count": null,
   "metadata": {},
   "outputs": [
    {
     "name": "stderr",
     "output_type": "stream",
     "text": [
      "C:\\Users\\nayak\\AppData\\Local\\Temp\\ipykernel_12720\\3791875896.py:1: RuntimeWarning: divide by zero encountered in true_divide\n",
      "  m/0\n"
     ]
    },
    {
     "data": {
      "text/plain": [
       "array([[inf, inf],\n",
       "       [inf, inf]])"
      ]
     },
     "execution_count": 99,
     "metadata": {},
     "output_type": "execute_result"
    }
   ],
   "source": [
    "m/0"
   ]
  },
  {
   "cell_type": "code",
   "execution_count": null,
   "metadata": {},
   "outputs": [],
   "source": []
  }
 ],
 "metadata": {
  "interpreter": {
   "hash": "fd354288a369f680a7322ddff2a06d3b3ac546c5fe22b956c0c96b589b2c4d3d"
  },
  "kernelspec": {
   "display_name": "Python 3.10.4 64-bit",
   "language": "python",
   "name": "python3"
  },
  "language_info": {
   "codemirror_mode": {
    "name": "ipython",
    "version": 3
   },
   "file_extension": ".py",
   "mimetype": "text/x-python",
   "name": "python",
   "nbconvert_exporter": "python",
   "pygments_lexer": "ipython3",
   "version": "3.10.4"
  }
 },
 "nbformat": 4,
 "nbformat_minor": 4
}
