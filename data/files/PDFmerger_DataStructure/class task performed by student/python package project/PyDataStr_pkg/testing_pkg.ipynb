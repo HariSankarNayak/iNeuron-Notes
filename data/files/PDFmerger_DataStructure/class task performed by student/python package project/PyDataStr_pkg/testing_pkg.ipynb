{
 "cells": [
  {
   "cell_type": "code",
   "execution_count": 16,
   "id": "2e1c0f08",
   "metadata": {},
   "outputs": [],
   "source": [
    "import PyDataStr_pkg.LIST\n",
    "from PyDataStr_pkg.LIST import mylist"
   ]
  },
  {
   "cell_type": "code",
   "execution_count": 17,
   "id": "887d42db",
   "metadata": {},
   "outputs": [],
   "source": [
    "l3=mylist([1,2,3,4,5,6])"
   ]
  },
  {
   "cell_type": "code",
   "execution_count": 18,
   "id": "5b4197c9",
   "metadata": {},
   "outputs": [
    {
     "data": {
      "text/plain": [
       "[1, 2, 3, 4, 5, 6, 100, 15, 19, 17, 18]"
      ]
     },
     "execution_count": 18,
     "metadata": {},
     "output_type": "execute_result"
    }
   ],
   "source": [
    "\n",
    "l3.APPEND([100,15,19,17,18])\n"
   ]
  },
  {
   "cell_type": "code",
   "execution_count": 19,
   "id": "55626756",
   "metadata": {},
   "outputs": [
    {
     "data": {
      "text/plain": [
       "[5]"
      ]
     },
     "execution_count": 19,
     "metadata": {},
     "output_type": "execute_result"
    }
   ],
   "source": [
    "l3.INDEX(6)"
   ]
  },
  {
   "cell_type": "code",
   "execution_count": 20,
   "id": "150eedc5",
   "metadata": {},
   "outputs": [],
   "source": [
    "import PyDataStr_pkg.DICT \n",
    "from PyDataStr_pkg.DICT import mydict"
   ]
  },
  {
   "cell_type": "code",
   "execution_count": 21,
   "id": "04524c20",
   "metadata": {},
   "outputs": [],
   "source": [
    "d=mydict({'k1':20,'k2':25,'k3':[1,2,3,5],'k4':'atu'})"
   ]
  },
  {
   "cell_type": "code",
   "execution_count": 22,
   "id": "5198ff0b",
   "metadata": {},
   "outputs": [
    {
     "name": "stdout",
     "output_type": "stream",
     "text": [
      "20\n",
      "25\n",
      "[1, 2, 3, 5]\n",
      "atu\n"
     ]
    }
   ],
   "source": [
    "d.VALUES()"
   ]
  },
  {
   "cell_type": "code",
   "execution_count": 23,
   "id": "ee7f99e5",
   "metadata": {},
   "outputs": [
    {
     "data": {
      "text/plain": [
       "{'k1': 20, 'k2': 25, 'k3': [1, 2, 3, 5]}"
      ]
     },
     "execution_count": 23,
     "metadata": {},
     "output_type": "execute_result"
    }
   ],
   "source": [
    "d.POPITEM()"
   ]
  },
  {
   "cell_type": "code",
   "execution_count": 24,
   "id": "c8ec3bf9",
   "metadata": {},
   "outputs": [
    {
     "data": {
      "text/plain": [
       "'C:\\\\Users\\\\chand_rqrb1g\\\\iNeuron Live class'"
      ]
     },
     "execution_count": 24,
     "metadata": {},
     "output_type": "execute_result"
    }
   ],
   "source": [
    "pwd()"
   ]
  },
  {
   "cell_type": "code",
   "execution_count": 25,
   "id": "7d6cc423",
   "metadata": {},
   "outputs": [],
   "source": [
    "import PyDataStr_pkg.SET\n",
    "from PyDataStr_pkg.SET import myset"
   ]
  },
  {
   "cell_type": "code",
   "execution_count": 26,
   "id": "ac1ad34e",
   "metadata": {},
   "outputs": [],
   "source": [
    "s1=myset({22,56,98,78,96,'atu'})"
   ]
  },
  {
   "cell_type": "code",
   "execution_count": 27,
   "id": "3cbca2db",
   "metadata": {},
   "outputs": [
    {
     "data": {
      "text/plain": [
       "{78, 96, 98}"
      ]
     },
     "execution_count": 27,
     "metadata": {},
     "output_type": "execute_result"
    }
   ],
   "source": [
    "s1.DIFFERENCE({22,56,'atu'})"
   ]
  },
  {
   "cell_type": "code",
   "execution_count": 1,
   "id": "9a7c0d2c",
   "metadata": {},
   "outputs": [],
   "source": [
    "import PyDataStr_pkg.TUPLE\n",
    "from PyDataStr_pkg.TUPLE import mytuple"
   ]
  },
  {
   "cell_type": "code",
   "execution_count": 2,
   "id": "7f5ec7c8",
   "metadata": {},
   "outputs": [],
   "source": [
    "t=mytuple((22,56,56,'atu',98,56,100))"
   ]
  },
  {
   "cell_type": "code",
   "execution_count": 4,
   "id": "bf321c1f",
   "metadata": {},
   "outputs": [
    {
     "data": {
      "text/plain": [
       "[1, 2, 5]"
      ]
     },
     "execution_count": 4,
     "metadata": {},
     "output_type": "execute_result"
    }
   ],
   "source": [
    "t.INDEX(56)"
   ]
  },
  {
   "cell_type": "code",
   "execution_count": null,
   "id": "194f1345",
   "metadata": {},
   "outputs": [],
   "source": []
  }
 ],
 "metadata": {
  "kernelspec": {
   "display_name": "Python 3",
   "language": "python",
   "name": "python3"
  },
  "language_info": {
   "codemirror_mode": {
    "name": "ipython",
    "version": 3
   },
   "file_extension": ".py",
   "mimetype": "text/x-python",
   "name": "python",
   "nbconvert_exporter": "python",
   "pygments_lexer": "ipython3",
   "version": "3.8.8"
  }
 },
 "nbformat": 4,
 "nbformat_minor": 5
}
