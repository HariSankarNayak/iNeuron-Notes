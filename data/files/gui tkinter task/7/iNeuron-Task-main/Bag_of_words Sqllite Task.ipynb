{
 "cells": [
  {
   "cell_type": "code",
   "execution_count": 1,
   "id": "8d31e8fd",
   "metadata": {},
   "outputs": [],
   "source": [
    "import csv\n",
    "import logging\n",
    "import string\n",
    "import sqlite3"
   ]
  },
  {
   "cell_type": "code",
   "execution_count": 2,
   "id": "c05bfa61",
   "metadata": {},
   "outputs": [],
   "source": [
    "logging.basicConfig(filename='word_task.log',encoding = \"utf8\", level = logging.INFO, format = \"%(asctime)s \\t %(levelname)s \\t %(message)s\")"
   ]
  },
  {
   "cell_type": "code",
   "execution_count": 3,
   "id": "64f33491",
   "metadata": {},
   "outputs": [],
   "source": [
    "class words:\n",
    "    \n",
    "    def __init__(self, fileName):\n",
    "        self.fileName = fileName\n",
    "        logging.info(f\"Object Created for dataset {fileName}!!!\")\n",
    "        \n",
    "    def text_reader(self):\n",
    "        \"\"\"Reads the given data and store it into list and returns it. \"\"\"\n",
    "        temp = []\n",
    "        logging.info(f\"Reading Dataset: {self.fileName}\")\n",
    "        try:\n",
    "            with open(self.fileName, \"r+\", encoding = \"utf8\") as f:\n",
    "                data = csv.reader(f, delimiter = \"\\n\")\n",
    "                for i in data:\n",
    "                    if i[0][-1]==\"_\":\n",
    "                        i[0]=i[0].strip(\"_\")\n",
    "                    temp.append(i[0])\n",
    "            logging.info(f\"Reading Dataset {self.fileName} is successful....!!\")\n",
    "            return temp\n",
    "        except Exception as e:\n",
    "            logging.warning(\"Problem Occured while reading the data...!!\")\n",
    "            logging.exception(\"Error:\", e)\n",
    "            \n",
    "    def occurance_counter(self,data_list):\n",
    "        \"\"\"It counts the occurrances of each word. Returns the list of tuples of word and its count. \"\"\"\n",
    "        try:\n",
    "            s = set()\n",
    "            logging.info(f\"Counting Occurance of each word in the dataset {self.fileName}\")\n",
    "            for i in range(0, len(data_list)):\n",
    "                s.add((data_list[i], data_list.count(data_list[i])))\n",
    "            final_data = list(s)\n",
    "            final_data.sort()\n",
    "            return final_data\n",
    "        except Exception as e:\n",
    "            logging.warning(\"Problem occurred in occurance_counter() method\")\n",
    "            logging.exception(e)\n",
    "    \n",
    "    def starting_occurance_counter(self,data_list):\n",
    "        \"\"\"It counts the words starting with same alphabet and returns list of tuples of alphabet and its count.\"\"\"\n",
    "        logging.info(f\"Counting no. of words starting with same alphabet for dataset {self.fileName}\")\n",
    "        try:\n",
    "            counter = []\n",
    "            for i in string.ascii_lowercase:\n",
    "                count = 0\n",
    "                for j in data_list:\n",
    "                    if j.startswith(i) == True:\n",
    "                        count+=1\n",
    "                counter.append((i, count))\n",
    "            return counter\n",
    "        except Exception as e:\n",
    "            logging.warning(\"Problem occurred in starting_occurance_counter() method\")\n",
    "            logging.exception(e) \n",
    "    \n",
    "    def word_extracter(self,data_list):\n",
    "        \"\"\"This fuction removes all the digits and punctuation returns only words\"\"\"\n",
    "        logging.info(f\"Counting no of words starting with same alphabet in {self.fileName}\")\n",
    "        unwanted =  string.digits + string.punctuation\n",
    "        for i in range(0, len(data_list)):\n",
    "            for j in unwanted:\n",
    "                data_list[i] = data_list[i].replace(j, \"\")\n",
    "        data_list = self.null_remover(data_list)\n",
    "        return data_list\n",
    "    \n",
    "    def null_remover(self,data_list):\n",
    "        \"\"\"It removes the null strings from the list\"\"\"\n",
    "        data_list = list(filter(lambda x: x!='', data_list))\n",
    "        return data_list\n",
    "    \n",
    "    def dataset_zipper(self, *args):\n",
    "        \"\"\"It returns the list of tuples of all dataset where each records of dataset is mapped to other dataset \\n\n",
    "        to form one single tuple\"\"\"\n",
    "        try:\n",
    "            logging.info(f\"Zipping datasets {args} into one........\")\n",
    "            zipped = list(zip(*args))\n",
    "            logging.info(\"Datasets zipped into one dataset successful\")\n",
    "            return zipped\n",
    "        except Exception as e:\n",
    "            logging.warning(\"Problem occurred while zipping datasets\")\n",
    "            logging.exception(e)\n",
    "            \n",
    "    \n",
    "    def sqlite_database(self,data):\n",
    "        \"\"\"This function helps to create in-memory database\"\"\"\n",
    "        logging.info(\"Creating in-memory database\")\n",
    "        \n",
    "        try: \n",
    "            db_name = input(\"Enter name of the database: \")\n",
    "            table_name= input(\"Enter table name: \")\n",
    "        \n",
    "            db = sqlite3.connect(db_name+\".db\")\n",
    "            logging.info(f\"Database {db_name} created successfully!!!\")\n",
    "\n",
    "            cur = db.cursor()\n",
    "            cur.execute(f\"create table {table_name}(col1 text, col2 text, col3 text, col4 text, col5 text)\")\n",
    "            logging.info(f\"Table {table_name} created successfully!!!\")\n",
    "\n",
    "            for i in data:\n",
    "                cur.execute(\"insert into \"+table_name+\" values(?,?,?,?,?)\",i)\n",
    "            cur.execute(f\"select * from {table_name}\")\n",
    "            data = cur.fetchall()\n",
    "            db.commit()\n",
    "            db.close()\n",
    "            logging.info(\"Data inserted into database successfully..!!!!!\")\n",
    "            return data\n",
    "                \n",
    "        except Exception as e:\n",
    "            logging.warning(\"Problem occured while database creation\")\n",
    "            logging.exception(\"Error: \",e)\n",
    "        \n",
    "    def __repr__(self):\n",
    "        return (f\"This is the object of file {fileName}\")\n",
    "        "
   ]
  },
  {
   "cell_type": "code",
   "execution_count": 4,
   "id": "1bc9894b",
   "metadata": {},
   "outputs": [],
   "source": [
    "# Creating object for file 'vocab.enron.txt'\n",
    "obj1 = words(\"vocab.enron.txt\")"
   ]
  },
  {
   "cell_type": "code",
   "execution_count": 5,
   "id": "901b3f20",
   "metadata": {},
   "outputs": [],
   "source": [
    "# Creating object for file 'vocab.kos.txt'\n",
    "obj2 = words(\"vocab.kos.txt\")"
   ]
  },
  {
   "cell_type": "code",
   "execution_count": 6,
   "id": "20de7c85",
   "metadata": {},
   "outputs": [],
   "source": [
    "# Creating object for file 'vocab.nips.txt'\n",
    "obj3 = words(\"vocab.nips.txt\")"
   ]
  },
  {
   "cell_type": "code",
   "execution_count": 7,
   "id": "c297737a",
   "metadata": {},
   "outputs": [],
   "source": [
    "# Creating object for file 'vocab.nytimes.txt'\n",
    "obj4 = words(\"vocab.nytimes.txt\")"
   ]
  },
  {
   "cell_type": "code",
   "execution_count": 8,
   "id": "e55531ef",
   "metadata": {},
   "outputs": [],
   "source": [
    "# Creating object for file 'vocab.pubmed.txt'\n",
    "obj5 = words(\"vocab.pubmed.txt\")"
   ]
  },
  {
   "cell_type": "code",
   "execution_count": 9,
   "id": "95c67697",
   "metadata": {},
   "outputs": [],
   "source": [
    "# Reading data from 'vocab.enron.txt'\n",
    "enron = obj1.text_reader()"
   ]
  },
  {
   "cell_type": "code",
   "execution_count": 10,
   "id": "2c5a6bcd",
   "metadata": {},
   "outputs": [],
   "source": [
    "# Reading data from 'vocab.kos.txt'\n",
    "kos = obj2.text_reader()"
   ]
  },
  {
   "cell_type": "code",
   "execution_count": 11,
   "id": "0657b830",
   "metadata": {},
   "outputs": [],
   "source": [
    "# Reading data from 'vocab.nips.txt'\n",
    "nips = obj3.text_reader()"
   ]
  },
  {
   "cell_type": "code",
   "execution_count": 12,
   "id": "2a48d76d",
   "metadata": {},
   "outputs": [],
   "source": [
    "# Reading data from 'vocab.nytimes.txt'\n",
    "nytimes = obj4.text_reader()"
   ]
  },
  {
   "cell_type": "code",
   "execution_count": 13,
   "id": "17c19169",
   "metadata": {},
   "outputs": [],
   "source": [
    "# Reading data from 'vocab.pubmed.txt'\n",
    "pubmed = obj5.text_reader()"
   ]
  },
  {
   "cell_type": "markdown",
   "id": "9168657e",
   "metadata": {},
   "source": [
    "##### Finding occurrrence of each word in each dataset"
   ]
  },
  {
   "cell_type": "code",
   "execution_count": null,
   "id": "342ea684",
   "metadata": {},
   "outputs": [],
   "source": [
    "occur_enron = obj1.occurance_counter(enron)"
   ]
  },
  {
   "cell_type": "code",
   "execution_count": null,
   "id": "b0739102",
   "metadata": {},
   "outputs": [],
   "source": [
    "for i in occur_enron:\n",
    "    print(i)"
   ]
  },
  {
   "cell_type": "code",
   "execution_count": null,
   "id": "4e45c9bd",
   "metadata": {},
   "outputs": [],
   "source": [
    "occur_kos = obj2.occurance_counter(kos)"
   ]
  },
  {
   "cell_type": "code",
   "execution_count": null,
   "id": "d7f9053d",
   "metadata": {},
   "outputs": [],
   "source": [
    "for i in occur_kos:\n",
    "    print(i)"
   ]
  },
  {
   "cell_type": "code",
   "execution_count": null,
   "id": "064e0009",
   "metadata": {},
   "outputs": [],
   "source": [
    "occur_nips = obj3.occurance_counter(nips)"
   ]
  },
  {
   "cell_type": "code",
   "execution_count": null,
   "id": "1592c45f",
   "metadata": {},
   "outputs": [],
   "source": [
    "for i in occur_nips:\n",
    "    print(i)"
   ]
  },
  {
   "cell_type": "code",
   "execution_count": null,
   "id": "8bd1f0a7",
   "metadata": {},
   "outputs": [],
   "source": [
    "occur_nytimes = obj4.occurance_counter(nytimes)"
   ]
  },
  {
   "cell_type": "code",
   "execution_count": null,
   "id": "9d833b66",
   "metadata": {},
   "outputs": [],
   "source": [
    "for i in occur_nytimes:\n",
    "    print(i)"
   ]
  },
  {
   "cell_type": "code",
   "execution_count": null,
   "id": "394e6613",
   "metadata": {},
   "outputs": [],
   "source": [
    "occur_pubmed = obj5.occurance_counter(pubmed)"
   ]
  },
  {
   "cell_type": "code",
   "execution_count": null,
   "id": "c5c7e2e0",
   "metadata": {},
   "outputs": [],
   "source": [
    "for i in occur_pubmed:\n",
    "    print(i)"
   ]
  },
  {
   "cell_type": "markdown",
   "id": "a20d3035",
   "metadata": {},
   "source": [
    "##### Finding count of each words starting with same alphabet"
   ]
  },
  {
   "cell_type": "code",
   "execution_count": null,
   "id": "9520ec53",
   "metadata": {},
   "outputs": [],
   "source": [
    "start_enron = obj1.starting_occurance_counter(enron)"
   ]
  },
  {
   "cell_type": "code",
   "execution_count": null,
   "id": "275fbf67",
   "metadata": {},
   "outputs": [],
   "source": [
    "for i in start_enron:\n",
    "    print(i)"
   ]
  },
  {
   "cell_type": "code",
   "execution_count": null,
   "id": "4aa2f75b",
   "metadata": {},
   "outputs": [],
   "source": [
    "start_kos = obj2.starting_occurance_counter(kos)"
   ]
  },
  {
   "cell_type": "code",
   "execution_count": null,
   "id": "2f3b80b1",
   "metadata": {},
   "outputs": [],
   "source": [
    "for i in start_kos:\n",
    "    print(i)"
   ]
  },
  {
   "cell_type": "code",
   "execution_count": null,
   "id": "be722134",
   "metadata": {},
   "outputs": [],
   "source": [
    "start_nips = obj3.starting_occurance_counter(nips)"
   ]
  },
  {
   "cell_type": "code",
   "execution_count": null,
   "id": "b65a62b1",
   "metadata": {},
   "outputs": [],
   "source": [
    "for i in start_nips:\n",
    "    print(i)"
   ]
  },
  {
   "cell_type": "code",
   "execution_count": null,
   "id": "0110d829",
   "metadata": {},
   "outputs": [],
   "source": [
    "start_nytimes = obj4.starting_occurance_counter(nytimes)"
   ]
  },
  {
   "cell_type": "code",
   "execution_count": null,
   "id": "b8f0a4ff",
   "metadata": {},
   "outputs": [],
   "source": [
    "for i in start_nytimes:\n",
    "    print(i)"
   ]
  },
  {
   "cell_type": "code",
   "execution_count": null,
   "id": "cc37e4f5",
   "metadata": {},
   "outputs": [],
   "source": [
    "start_pubmed = obj5.starting_occurance_counter(pubmed)"
   ]
  },
  {
   "cell_type": "code",
   "execution_count": null,
   "id": "0e29422c",
   "metadata": {},
   "outputs": [],
   "source": [
    "for i in start_pubmed:\n",
    "    print(i)"
   ]
  },
  {
   "cell_type": "markdown",
   "id": "6bda12c8",
   "metadata": {},
   "source": [
    "##### Extracting only words after removing all the puctuations and digits from 'vocab.pubmed.txt'"
   ]
  },
  {
   "cell_type": "code",
   "execution_count": null,
   "id": "42a86b41",
   "metadata": {},
   "outputs": [],
   "source": [
    "extract_pubmed = obj5.word_extracter(pubmed)"
   ]
  },
  {
   "cell_type": "code",
   "execution_count": null,
   "id": "272f2f67",
   "metadata": {},
   "outputs": [],
   "source": [
    "for i in extract_pubmed:\n",
    "    print(i)"
   ]
  },
  {
   "cell_type": "markdown",
   "id": "dd537242",
   "metadata": {},
   "source": [
    "##### Zipping all five datasets into one and creating a in-memory database for it"
   ]
  },
  {
   "cell_type": "code",
   "execution_count": 14,
   "id": "3304d959",
   "metadata": {},
   "outputs": [],
   "source": [
    "zipped = obj1.dataset_zipper(enron, kos, nips,nytimes, pubmed)"
   ]
  },
  {
   "cell_type": "code",
   "execution_count": 15,
   "id": "f8f7721e",
   "metadata": {},
   "outputs": [
    {
     "name": "stdout",
     "output_type": "stream",
     "text": [
      "('aaa', 'aarp', 'a2i', 'aah', '>=') \r\n",
      "('aaas', 'abandon', 'aaa', 'aahed', '>>') \r\n",
      "('aactive', 'abandoned', 'aaai', 'aaron', '>>>') \r\n",
      "('aadvantage', 'abandoning', 'aapo', 'aback', '>/=') \r\n",
      "('aaker', 'abb', 'aat', 'abacus', '->') \r\n",
      "('aap', 'abc', 'aazhang', 'abajo', '--') \r\n",
      "('aapg', 'abcs', 'abandonment', 'abalone', '-->') \r\n",
      "('aaron', 'abdullah', 'abbott', 'abandon', '-/-') \r\n",
      "('aarp', 'ability', 'abbreviated', 'abandoned', '-/+') \r\n",
      "('aas', 'aboard', 'abcde', 'abandoning', '/-') \r\n",
      "('aau', 'abortion', 'abe', 'abandonment', '/+-') \r\n",
      "('ab1890', 'abortions', 'abeles', 'abandono', '..') \r\n",
      "('ab1x', 'abraham', 'abi', 'abarnard', '...') \r\n",
      "('ab31x', 'abrams', 'abilistic', 'abashed', '+-') \r\n",
      "('aba', 'abroad', 'abilities', 'abate', '+/') \r\n",
      "('abacus', 'absence', 'ability', 'abated', '+/--') \r\n",
      "('abag', 'absent', 'abl', 'abatement', '+/?') \r\n",
      "('abalone', 'absentee', 'able', 'abating', '+/+') \r\n",
      "('abandon', 'absolute', 'ables', 'abbey', '++') \r\n",
      "('abandoned', 'absolutely', 'ablex', 'abbot', '+++') \r\n"
     ]
    }
   ],
   "source": [
    "for i in range(0,20):\n",
    "    print(zipped[i],\"\\r\")"
   ]
  },
  {
   "cell_type": "code",
   "execution_count": 16,
   "id": "dd5d92eb",
   "metadata": {},
   "outputs": [
    {
     "name": "stdout",
     "output_type": "stream",
     "text": [
      "Enter name of the database: sqllite_task\n",
      "Enter table name: bag_of_words\n"
     ]
    }
   ],
   "source": [
    "# Creating Database for the above data\n",
    "database = obj1.sqlite_database(zipped)"
   ]
  },
  {
   "cell_type": "code",
   "execution_count": 17,
   "id": "0ec24af9",
   "metadata": {},
   "outputs": [
    {
     "name": "stdout",
     "output_type": "stream",
     "text": [
      "('aaa', 'aarp', 'a2i', 'aah', '>=')\n",
      "('aaas', 'abandon', 'aaa', 'aahed', '>>')\n",
      "('aactive', 'abandoned', 'aaai', 'aaron', '>>>')\n",
      "('aadvantage', 'abandoning', 'aapo', 'aback', '>/=')\n",
      "('aaker', 'abb', 'aat', 'abacus', '->')\n",
      "('aap', 'abc', 'aazhang', 'abajo', '--')\n",
      "('aapg', 'abcs', 'abandonment', 'abalone', '-->')\n",
      "('aaron', 'abdullah', 'abbott', 'abandon', '-/-')\n",
      "('aarp', 'ability', 'abbreviated', 'abandoned', '-/+')\n",
      "('aas', 'aboard', 'abcde', 'abandoning', '/-')\n"
     ]
    }
   ],
   "source": [
    "# Here is your database (first 10 rows)\n",
    "for i in range(0, 10):\n",
    "    print(database[i])"
   ]
  },
  {
   "cell_type": "code",
   "execution_count": null,
   "id": "ebcec07c",
   "metadata": {},
   "outputs": [],
   "source": []
  }
 ],
 "metadata": {
  "kernelspec": {
   "display_name": "Python 3 (ipykernel)",
   "language": "python",
   "name": "python3"
  },
  "language_info": {
   "codemirror_mode": {
    "name": "ipython",
    "version": 3
   },
   "file_extension": ".py",
   "mimetype": "text/x-python",
   "name": "python",
   "nbconvert_exporter": "python",
   "pygments_lexer": "ipython3",
   "version": "3.9.7"
  }
 },
 "nbformat": 4,
 "nbformat_minor": 5
}
