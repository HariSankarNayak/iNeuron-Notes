{
 "cells": [
  {
   "cell_type": "markdown",
   "id": "82dbe25a",
   "metadata": {},
   "source": [
    "#### Q1. Define the relationship between a class and its instances. Is it a one-to-one or a one-to-many partnership, for example?\n",
    "A class is a blueprint which you use to create objects. \n",
    "An object is an instance of a class - it's a concrete 'thing' that you made using a specific class.\n",
    "So, 'object' and 'instance' are the same thing, but the word 'instance' indicates the relationship of an object to its class."
   ]
  },
  {
   "cell_type": "code",
   "execution_count": 2,
   "id": "fecc390b",
   "metadata": {},
   "outputs": [],
   "source": [
    "class House :\n",
    "# blue print for House Objects\n",
    "  pass\n",
    "\n",
    "class Car:\n",
    "# blue print for Instances of Class Car \n",
    "    pass\n",
    "\n",
    "myHouse = House()\n",
    "mysisHouse=House()\n",
    "myCar =Car()"
   ]
  },
  {
   "cell_type": "markdown",
   "id": "d8ecabd0",
   "metadata": {},
   "source": [
    "#### Q2. What kind of data is held only in an instance?\n",
    "        instance variables and instance methods\n"
   ]
  },
  {
   "cell_type": "markdown",
   "id": "4f9c45bc",
   "metadata": {},
   "source": [
    "#### Q3. What kind of knowledge is stored in a class?\n",
    "a class describes the contents of the objects that belong to it: it describes an aggregate of data fields (called instance variables), and defines the operations (called methods). object: an object is an element (or instance) of a class; objects have the behaviors of their class."
   ]
  },
  {
   "cell_type": "markdown",
   "id": "d54bf988",
   "metadata": {},
   "source": [
    "#### Q4. What exactly is a method, and how is it different from a regular function?\n",
    "Methods are associated with the objects of the class they belong to. \n",
    "Functions are not associated with any object.\n",
    "We can invoke a function just by its name. \n",
    "Functions operate on the data you pass to them as arguments."
   ]
  },
  {
   "cell_type": "markdown",
   "id": "ddd159bd",
   "metadata": {},
   "source": [
    "#### Q5. Is inheritance supported in Python, and if so, what is the syntax?\n",
    "An object-oriented programming language like Python, not only supports inheritance but multiple inheritance as well. The mechanism of inheritance allows programmers to create a new class from a pre-existing class, which supports code reusability."
   ]
  },
  {
   "cell_type": "code",
   "execution_count": 3,
   "id": "10dad83f",
   "metadata": {},
   "outputs": [],
   "source": [
    "# Python program to show single inheritance\n",
    " \n",
    "class a:\n",
    "    def __init__(self):\n",
    "        self.name = n\n",
    "class b(a):\n",
    "    def __init__(self):\n",
    "        self.roll = roll"
   ]
  },
  {
   "cell_type": "markdown",
   "id": "add390c3",
   "metadata": {},
   "source": [
    "#### Q6. How much encapsulation (making instance or class variables private) does Python support?\n",
    "Python does not have the private keyword, unlike some other object oriented languages, but encapsulation can be done. Instead, it relies on the convention: a class variable that should not directly be accessed should be prefixed with an underscore."
   ]
  },
  {
   "cell_type": "markdown",
   "id": "a9d4ca7c",
   "metadata": {},
   "source": [
    "#### Q7. How do you distinguish between a class variable and an instance variable?\n",
    "ariables that are owned by the class instances are known as instance variables. This statement implies that for every instance or object of a class, the instance variables are unlike.\n",
    "\n",
    "Different from class variables, instance variables are defined within the functions.\n",
    "\n",
    "The syntax to use the instance variables is shown below."
   ]
  },
  {
   "cell_type": "code",
   "execution_count": 4,
   "id": "3c715867",
   "metadata": {},
   "outputs": [],
   "source": [
    "class Class_name:  \n",
    "    # using the initializing function  \n",
    "    def __init__(self, var1, var2):  \n",
    "        self.var1 = var1  \n",
    "        self.var2 = var2  "
   ]
  },
  {
   "cell_type": "markdown",
   "id": "af78ec5f",
   "metadata": {},
   "source": [
    "In the above snippet of code, var1 and var2 are instance variables."
   ]
  },
  {
   "cell_type": "markdown",
   "id": "4ecdcfe3",
   "metadata": {},
   "source": [
    "Class Variables are declared inside the construction of class. Since these variables are owned by the class itself, they are shared by all class instances. They, therefore, will usually have the equivalent value for each instance unless we are utilizing the class variable in order to initialize a variable.\n",
    "\n",
    "Class Variables are defined outside of all the methods by convention, classically placed right under the header class and before the method of constructor and other functions.\n",
    "\n"
   ]
  },
  {
   "cell_type": "code",
   "execution_count": 5,
   "id": "42ed67f0",
   "metadata": {},
   "outputs": [],
   "source": [
    "# defining the class  \n",
    "class Class_name:  \n",
    "    # declaring the variable in the class  \n",
    "    var = \"xyz\"  "
   ]
  },
  {
   "cell_type": "markdown",
   "id": "2de567cf",
   "metadata": {},
   "source": [
    "#### Q8. When, if ever, can self be included in a class's method definitions?\n",
    "The self is used to represent the instance of the class. With this keyword, you can access the attributes and methods of the class in python. It binds the attributes with the given arguments."
   ]
  },
  {
   "cell_type": "code",
   "execution_count": 7,
   "id": "35ea91e4",
   "metadata": {},
   "outputs": [
    {
     "name": "stdout",
     "output_type": "stream",
     "text": [
      "fruit is apple\n",
      "color is red\n",
      "fruit is grapes\n",
      "color is green\n"
     ]
    }
   ],
   "source": [
    "class food():\n",
    "\n",
    "    # init method or constructor\n",
    "    def __init__(self, fruit, color):\n",
    "        self.fruit = fruit\n",
    "        self.color = color\n",
    "\n",
    "    def show(self):\n",
    "        print(\"fruit is\", self.fruit)\n",
    "        print(\"color is\", self.color )\n",
    "\n",
    "apple = food(\"apple\", \"red\")\n",
    "grapes = food(\"grapes\", \"green\")\n",
    " \n",
    "apple.show()\n",
    "grapes.show()"
   ]
  },
  {
   "cell_type": "markdown",
   "id": "0d006e12",
   "metadata": {},
   "source": [
    "#### Q9. What is the difference between the _ _add_ _ and the _ _radd_ _ methods?\n",
    "The expression a+b is internally translated to the method call a.__add__(b). But if a and b are of different types, it is possible that a's implementation of addition cannot deal with objects of b's type (or maybe a does not have a __add__ method, at all). So, if a.__add__(b) fails, Python tries b.__radd__(a) instead, to see if b's implementation can deal with objects of a's type.\n",
    "\n",
    "A concrete example would be if you want to implement your own version of a mathematical vector and you want to support adding scalars (ints or floats) to the vector (so adding them to all values within the vector):\n",
    "\n",
    "\n",
    "\n",
    "\n",
    "\n",
    "\n"
   ]
  },
  {
   "cell_type": "code",
   "execution_count": null,
   "id": "20888a35",
   "metadata": {},
   "outputs": [],
   "source": [
    "\n",
    "class Vector:\n",
    "    def __init__(self, values):\n",
    "        self.values = values\n",
    "\n",
    "    def __add__(self, other):\n",
    "        if isinstance(other, Vector):\n",
    "            # Vector-vector addition\n",
    "            return Vector([a+b for a, b in zip(self.values, other.values)])\n",
    "        if type(other) in (int, float):\n",
    "            # Vector-scalar addition\n",
    "            return Vector([a+other for a in self.values])\n",
    "        return NotImplemented\n",
    "    \n",
    "v1 = Vector([1, 2, 3])\n",
    "#With this class definition which only defines __add__, you can add scalars from the right:\n",
    "v2 = v1 + 2 # Creates the vector [3, 4, 5]\n"
   ]
  },
  {
   "cell_type": "code",
   "execution_count": 11,
   "id": "e04f5fed",
   "metadata": {},
   "outputs": [
    {
     "ename": "TypeError",
     "evalue": "unsupported operand type(s) for +: 'int' and 'Vector'",
     "output_type": "error",
     "traceback": [
      "\u001b[1;31m---------------------------------------------------------------------------\u001b[0m",
      "\u001b[1;31mTypeError\u001b[0m                                 Traceback (most recent call last)",
      "\u001b[1;32mC:\\Users\\MADHUR~1\\AppData\\Local\\Temp/ipykernel_17064/989245715.py\u001b[0m in \u001b[0;36m<module>\u001b[1;34m\u001b[0m\n\u001b[0;32m      2\u001b[0m \u001b[1;33m\u001b[0m\u001b[0m\n\u001b[0;32m      3\u001b[0m \u001b[0mv1\u001b[0m \u001b[1;33m=\u001b[0m \u001b[0mVector\u001b[0m\u001b[1;33m(\u001b[0m\u001b[1;33m[\u001b[0m\u001b[1;36m1\u001b[0m\u001b[1;33m,\u001b[0m \u001b[1;36m2\u001b[0m\u001b[1;33m,\u001b[0m \u001b[1;36m3\u001b[0m\u001b[1;33m]\u001b[0m\u001b[1;33m)\u001b[0m\u001b[1;33m\u001b[0m\u001b[1;33m\u001b[0m\u001b[0m\n\u001b[1;32m----> 4\u001b[1;33m \u001b[0mv2\u001b[0m \u001b[1;33m=\u001b[0m \u001b[1;36m2\u001b[0m \u001b[1;33m+\u001b[0m \u001b[0mv1\u001b[0m \u001b[1;31m# Raises an error\u001b[0m\u001b[1;33m\u001b[0m\u001b[1;33m\u001b[0m\u001b[0m\n\u001b[0m",
      "\u001b[1;31mTypeError\u001b[0m: unsupported operand type(s) for +: 'int' and 'Vector'"
     ]
    }
   ],
   "source": [
    "#But you cannot add them from the left, because int doesn't know what a Vector object is:\n",
    "\n",
    "v1 = Vector([1, 2, 3])\n",
    "v2 = 2 + v1 # Raises an error\n"
   ]
  },
  {
   "cell_type": "code",
   "execution_count": 12,
   "id": "c32890e8",
   "metadata": {},
   "outputs": [],
   "source": [
    "\n",
    "def __radd__(self, other):\n",
    "    if type(other) in (int, float):\n",
    "        return Vector([a+other for a in self.values])\n",
    "    return NotImplemented\n",
    "#then 2 + v1 is redirected to that method and it actually works."
   ]
  },
  {
   "cell_type": "markdown",
   "id": "826d9c64",
   "metadata": {},
   "source": [
    "#### Q10. When is it necessary to use a reflection method? When do you not need it, even though you support the operation in question?\n",
    "class a:\n",
    "    def __init__(self,num):\n",
    "     self.num=num\n",
    "    \n",
    "    def __add__(self,other):\n",
    "     print(self.num+other.num)\n",
    "\n",
    "\n",
    "class b:\n",
    "    def __init__(self,num):\n",
    "     self.num=num\n",
    "    \n",
    "    #def __radd__(self,other):\n",
    "     # print(self.num+other.num)\n",
    "\n",
    "num1=a(5)\n",
    "num2=b(6)\n",
    "num1+num2\n",
    "\n",
    "\n",
    "In  the code above i create two objects and add them. Since num1 is the first object in expression \"num1+num2\" , the num1 add method is called first , so self refers to num1 and other object is the right to \"+\".\n",
    "\n",
    "Now if you comment out the the add method in class a.Then you will get an error since num1 has no add method . You can do do num2+num1 if num2 has a add method but if you still want it to be num1+num2 , then python will look for __radd__ method in other object class(b) and if it finds one then it will do reverse addition(i.e. num2+num1). \n",
    "\n",
    "Uncomment the radd method in class b to see it working"
   ]
  },
  {
   "cell_type": "markdown",
   "id": "7a68cfa7",
   "metadata": {},
   "source": [
    "#### Q11. What is the _ _iadd_ _ method called?\n",
    "For instance, to execute the statement x += y, where x is an instance of a class that has an __iadd__() method, x.__iadd__(y) is called.\n",
    "\n",
    "To get called on addition with assignment e.g. a +=b.\n",
    "__iadd__(self, other)"
   ]
  },
  {
   "cell_type": "markdown",
   "id": "a2ad7ffe",
   "metadata": {},
   "source": [
    "#### Q12. Is the _ _init_ _ method inherited by subclasses? What do you do if you need to customize its behavior within a subclass?\n",
    "yes,__init__ method is  inherited by subclasses.To change it we have to override the __init__ method in the subclass\n"
   ]
  },
  {
   "cell_type": "code",
   "execution_count": null,
   "id": "e03f3dff",
   "metadata": {},
   "outputs": [],
   "source": []
  }
 ],
 "metadata": {
  "kernelspec": {
   "display_name": "Python 3 (ipykernel)",
   "language": "python",
   "name": "python3"
  },
  "language_info": {
   "codemirror_mode": {
    "name": "ipython",
    "version": 3
   },
   "file_extension": ".py",
   "mimetype": "text/x-python",
   "name": "python",
   "nbconvert_exporter": "python",
   "pygments_lexer": "ipython3",
   "version": "3.9.7"
  }
 },
 "nbformat": 4,
 "nbformat_minor": 5
}
