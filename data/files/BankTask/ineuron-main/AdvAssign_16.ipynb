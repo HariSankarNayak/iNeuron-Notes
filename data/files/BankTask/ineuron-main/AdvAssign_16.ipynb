{
 "cells": [
  {
   "cell_type": "code",
   "execution_count": null,
   "id": "3bcdcbf6",
   "metadata": {},
   "outputs": [],
   "source": [
    "\n",
    "\n",
    "\n",
    "\n",
    "\n",
    "\n",
    "\n",
    "\n",
    "\n",
    "\n",
    "\n",
    "\n",
    "\n",
    "\n",
    "\n",
    "\n",
    "\n",
    "\n",
    "\n",
    "\n",
    "\n",
    "\n",
    "\n",
    "\n",
    "\n"
   ]
  },
  {
   "cell_type": "markdown",
   "id": "72f6f4c3",
   "metadata": {},
   "source": [
    "###### Q1. What is the benefit of regular expressions?\n"
   ]
  },
  {
   "cell_type": "markdown",
   "id": "ccd0d161",
   "metadata": {},
   "source": [
    "A Regular Expression is used for identifying a search pattern in a text string. \n",
    "It also helps in finding out the correctness of the data and even operations \n",
    "such as finding, replacing and formatting the data is possible using Regular Expressions."
   ]
  },
  {
   "cell_type": "markdown",
   "id": "31056e9f",
   "metadata": {},
   "source": [
    "##### Q2. Describe the difference between the effects of \"(ab)c+\" and \"a(bc)+.\" Which of these, if any, is the unqualified pattern \"abc+\"?\n",
    "\n"
   ]
  },
  {
   "cell_type": "code",
   "execution_count": null,
   "id": "d45d9289",
   "metadata": {},
   "outputs": [],
   "source": [
    "(ab)c+ --- it would search for a pattern which has sequence (ab) followed by c and after c \n",
    "one or more number of characters be occued"
   ]
  },
  {
   "cell_type": "code",
   "execution_count": 12,
   "id": "dbd916e1",
   "metadata": {},
   "outputs": [
    {
     "data": {
      "text/plain": [
       "['ab']"
      ]
     },
     "execution_count": 12,
     "metadata": {},
     "output_type": "execute_result"
    },
    {
     "data": {
      "text/plain": [
       "[]"
      ]
     },
     "execution_count": 12,
     "metadata": {},
     "output_type": "execute_result"
    }
   ],
   "source": [
    "import re\n",
    "re.findall(r'(ab)c+',\"mabcd\")\n",
    "re.findall(r'(ab)c+',\"mrbc\")\n"
   ]
  },
  {
   "cell_type": "code",
   "execution_count": null,
   "id": "78e11de7",
   "metadata": {},
   "outputs": [],
   "source": [
    "a(bc)+ -- search for the pattern that has a in the sequence followed by bc \n",
    "and after bc one or more number of any characters"
   ]
  },
  {
   "cell_type": "code",
   "execution_count": 13,
   "id": "63b532dd",
   "metadata": {},
   "outputs": [
    {
     "data": {
      "text/plain": [
       "['bc']"
      ]
     },
     "execution_count": 13,
     "metadata": {},
     "output_type": "execute_result"
    },
    {
     "data": {
      "text/plain": [
       "[]"
      ]
     },
     "execution_count": 13,
     "metadata": {},
     "output_type": "execute_result"
    }
   ],
   "source": [
    "import re\n",
    "re.findall(r'a(bc)+',\"mabcd\")\n",
    "re.findall(r'a(bc)+',\"mrbc\")\n"
   ]
  },
  {
   "cell_type": "code",
   "execution_count": 14,
   "id": "f6b34e71",
   "metadata": {},
   "outputs": [
    {
     "data": {
      "text/plain": [
       "['abc']"
      ]
     },
     "execution_count": 14,
     "metadata": {},
     "output_type": "execute_result"
    },
    {
     "data": {
      "text/plain": [
       "[]"
      ]
     },
     "execution_count": 14,
     "metadata": {},
     "output_type": "execute_result"
    }
   ],
   "source": [
    "import re\n",
    "re.findall(r'abc+',\"mabcd\")\n",
    "re.findall(r'abc',\"mrbc\")"
   ]
  },
  {
   "cell_type": "code",
   "execution_count": null,
   "id": "ffd25254",
   "metadata": {},
   "outputs": [],
   "source": [
    "all are valid patterns ,but output will be different."
   ]
  },
  {
   "cell_type": "markdown",
   "id": "504e4075",
   "metadata": {},
   "source": [
    "#### Q3. How much do you need to use the following sentence while using regular expressions?\n",
    "\n",
    "\n",
    "\n",
    "import re\n"
   ]
  },
  {
   "cell_type": "markdown",
   "id": "7f31b3de",
   "metadata": {},
   "source": [
    "import re statement always has to be imported before using regular expressions."
   ]
  },
  {
   "cell_type": "markdown",
   "id": "e25addb7",
   "metadata": {},
   "source": [
    "#### Q4. Which characters have special significance in square brackets when expressing a range, and under what circumstances?\n"
   ]
  },
  {
   "cell_type": "markdown",
   "id": "e43ad0c8",
   "metadata": {},
   "source": [
    "The Characters .,*,?,^,or,(), have a special signiface when used with square brackets. \n",
    "They need not be be explicitly escaped by \\ as in case of pattern texts in a raw string."
   ]
  },
  {
   "cell_type": "code",
   "execution_count": 39,
   "id": "e529e1fb",
   "metadata": {},
   "outputs": [
    {
     "data": {
      "text/plain": [
       "<re.Match object; span=(1, 2), match='a'>"
      ]
     },
     "execution_count": 39,
     "metadata": {},
     "output_type": "execute_result"
    },
    {
     "data": {
      "text/plain": [
       "<re.Match object; span=(1, 2), match='c'>"
      ]
     },
     "execution_count": 39,
     "metadata": {},
     "output_type": "execute_result"
    },
    {
     "data": {
      "text/plain": [
       "<re.Match object; span=(1, 2), match='s'>"
      ]
     },
     "execution_count": 39,
     "metadata": {},
     "output_type": "execute_result"
    },
    {
     "data": {
      "text/plain": [
       "<re.Match object; span=(1, 2), match='a'>"
      ]
     },
     "execution_count": 39,
     "metadata": {},
     "output_type": "execute_result"
    }
   ],
   "source": [
    "import re\n",
    "re.search(r'[ac?]','gafh')    # ? Zero or one of the previous item (i.e. optional), e.g. a?, [a-z]?\n",
    "re.search(r'[a.c]','gcfh')     # .  Wildcard, matches any character\n",
    "\n",
    "re.search(r'[^ac]','asbcfh')   #^abc        Matches some pattern abc at the start of a string\n",
    "re.search(r'[ac*]','gacfh')    # *  Zero or more of previous item, e.g. a*, [a-z]* (also known as Kleene Closure)\n",
    "\n",
    "\n",
    "\n",
    "\n",
    "\n",
    "\n"
   ]
  },
  {
   "cell_type": "code",
   "execution_count": 2,
   "id": "f59d374a",
   "metadata": {},
   "outputs": [],
   "source": [
    "import re\n",
    "\n",
    "re.search(r'a(b|c)+  ','acqweqwfh') # Parentheses that indicate the scope of the operators"
   ]
  },
  {
   "cell_type": "markdown",
   "id": "2d2dbc5a",
   "metadata": {},
   "source": [
    "#### Q5. How does compiling a regular-expression object benefit you?\n",
    "We can Combine a regular expression pattern into pattern Objects.Which can be used for pattern matching. it also helps to search a pattern again without rewritting it."
   ]
  },
  {
   "cell_type": "code",
   "execution_count": 10,
   "id": "90bcc51f",
   "metadata": {},
   "outputs": [
    {
     "name": "stdout",
     "output_type": "stream",
     "text": [
      "['ineuron']\n",
      "['ineuron', 'ineuron']\n"
     ]
    }
   ],
   "source": [
    "import re\n",
    "pattern=re.compile('ineuron')\n",
    "result=pattern.findall('ineuron')\n",
    "print (result)\n",
    "result2=pattern.findall('ineuron is a product-driven organisation working on state of the art projects.ineuron')\n",
    "print (result2)"
   ]
  },
  {
   "cell_type": "markdown",
   "id": "3b7ec17a",
   "metadata": {},
   "source": [
    "##### Q6. What are some examples of how to use the match object returned by re.match and re.search?\n"
   ]
  },
  {
   "cell_type": "markdown",
   "id": "269209a6",
   "metadata": {},
   "source": [
    "The re.search() and re.match() both are functions of re module in python. These functions are very efficient and fast for searching in strings. The function searches for some substring in a string and returns a match object if found, else it returns none.\n",
    "\n",
    "There is a difference between the use of both functions. Both return the first match of a substring found in the string, but re.match() searches only from the beginning of the string and return match object if found. But if a match of substring is found somewhere in the middle of the string, it returns none.\n",
    "\n",
    "While re.search() searches for the whole string even if the string contains multi-lines and tries to find a match of the substring in all the lines of string"
   ]
  },
  {
   "cell_type": "code",
   "execution_count": 16,
   "id": "9de437ee",
   "metadata": {},
   "outputs": [
    {
     "name": "stdout",
     "output_type": "stream",
     "text": [
      "<re.Match object; span=(66, 72), match='string'>\n",
      "None\n",
      "<re.Match object; span=(0, 6), match='string'>\n",
      "<re.Match object; span=(0, 6), match='string'>\n"
     ]
    }
   ],
   "source": [
    "import re\n",
    "Substring ='string' \n",
    "String1 ='We are learning regex with geeksforgeeks regex is very useful for string matching. It is fast too.' \n",
    "String2 ='string We are learning regex with geeksforgeeks regex is very useful for string matching. It is fast too.'\n",
    "print(re.search(Substring, String1, re.IGNORECASE))\n",
    "print(re.match(Substring, String1, re.IGNORECASE))\n",
    "print(re.search(Substring, String2, re.IGNORECASE))\n",
    "print(re.match(Substring, String2, re.IGNORECASE))"
   ]
  },
  {
   "cell_type": "markdown",
   "id": "9eedddd2",
   "metadata": {},
   "source": [
    "#### Q7. What is the difference between using a vertical bar (|) as an alteration and using square brackets as a character set?\n"
   ]
  },
  {
   "cell_type": "markdown",
   "id": "bca5c03b",
   "metadata": {},
   "source": [
    "When | us used then patterns searches for or option. i.e <pattern_1>|<pattern_2> means it searches as <pattern_1>or<<pattern_2> in the searched string. the first occurance of matched string will be returned as the Match Object. Using Character set in square Brackets searches for all the character set in the square bracket and if match is found, it returns it."
   ]
  },
  {
   "cell_type": "markdown",
   "id": "b9aee8b3",
   "metadata": {},
   "source": [
    "#### Q8. In regular-expression search patterns, why is it necessary to use the raw-string indicator (r)? In   replacement strings?\n"
   ]
  },
  {
   "cell_type": "markdown",
   "id": "3830994b",
   "metadata": {},
   "source": [
    "while dealing with regular expressions, we would use Raw Strings as r'expression', so that blackslashes donot have to be escaped."
   ]
  },
  {
   "cell_type": "code",
   "execution_count": null,
   "id": "ef4351c5",
   "metadata": {},
   "outputs": [],
   "source": []
  }
 ],
 "metadata": {
  "kernelspec": {
   "display_name": "Python 3 (ipykernel)",
   "language": "python",
   "name": "python3"
  },
  "language_info": {
   "codemirror_mode": {
    "name": "ipython",
    "version": 3
   },
   "file_extension": ".py",
   "mimetype": "text/x-python",
   "name": "python",
   "nbconvert_exporter": "python",
   "pygments_lexer": "ipython3",
   "version": "3.9.7"
  }
 },
 "nbformat": 4,
 "nbformat_minor": 5
}
