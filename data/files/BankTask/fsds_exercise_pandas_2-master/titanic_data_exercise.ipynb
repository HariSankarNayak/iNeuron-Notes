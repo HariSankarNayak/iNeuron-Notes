{
 "cells": [
  {
   "cell_type": "raw",
   "id": "190ae8fe",
   "metadata": {},
   "source": [
    "1)Find out how many male and female passengers was onboarded\n",
    "2)how many survived we have\n",
    "3)how many casuality we have\n",
    "4)what is name of a person who is the eldest one\n",
    "5)how many passengers do we have in first, second and third class\n",
    "6)how many person we have whose name start with 's'\n",
    "7)try to create a new column which is a summation of \"sibSp\" and \"parch\"\n",
    "8)how many person do we have below age of 25\n",
    "9)how many person died whose age was less than 40\n",
    "10)from a cabin column seperate text and numeric value"
   ]
  },
  {
   "cell_type": "code",
   "execution_count": 2,
   "id": "faaa23bb",
   "metadata": {},
   "outputs": [],
   "source": [
    "import pandas as pd"
   ]
  },
  {
   "cell_type": "code",
   "execution_count": 3,
   "id": "eaa3ed03",
   "metadata": {},
   "outputs": [],
   "source": [
    "DATA_PATH = 'https://raw.githubusercontent.com/datasciencedojo/datasets/master/titanic.csv'\n",
    "df = pd.read_csv(DATA_PATH)"
   ]
  },
  {
   "cell_type": "markdown",
   "id": "c6833505",
   "metadata": {},
   "source": [
    "## 1)Find out how many male and female passengers was onboarded"
   ]
  },
  {
   "cell_type": "code",
   "execution_count": 3,
   "id": "168f480d",
   "metadata": {},
   "outputs": [
    {
     "name": "stdout",
     "output_type": "stream",
     "text": [
      "{'male': 577, 'female': 314}\n"
     ]
    }
   ],
   "source": [
    "cond_1 = df.Sex == 'male'\n",
    "num_of_male = df.loc[cond_1, 'Sex'].count()\n",
    "cond_2 = df.Sex == 'female'\n",
    "num_of_female = df.loc[cond_2, 'Sex'].count()\n",
    "\n",
    "print({'male': num_of_male, 'female': num_of_female})"
   ]
  },
  {
   "cell_type": "code",
   "execution_count": 6,
   "id": "88276f3a",
   "metadata": {},
   "outputs": [
    {
     "data": {
      "text/plain": [
       "Sex\n",
       "female    314\n",
       "male      577\n",
       "Name: Sex, dtype: int64"
      ]
     },
     "execution_count": 6,
     "metadata": {},
     "output_type": "execute_result"
    }
   ],
   "source": [
    "df.groupby('Sex')['Sex'].count() #otherwise"
   ]
  },
  {
   "cell_type": "markdown",
   "id": "acad9753",
   "metadata": {},
   "source": [
    "## 2)How many survived we have"
   ]
  },
  {
   "cell_type": "code",
   "execution_count": 4,
   "id": "03d8c040",
   "metadata": {},
   "outputs": [
    {
     "name": "stdout",
     "output_type": "stream",
     "text": [
      "num of survived: 342\n"
     ]
    }
   ],
   "source": [
    "cond_3 = df.Survived == 1\n",
    "num_of_survived = df.loc[cond_3, 'Survived'].count()\n",
    "print(\"num of survived: {}\".format(num_of_survived))"
   ]
  },
  {
   "cell_type": "markdown",
   "id": "f6c6ba33",
   "metadata": {},
   "source": [
    "## 3)How many casuality we have ? "
   ]
  },
  {
   "cell_type": "code",
   "execution_count": 5,
   "id": "6eb2f9b5",
   "metadata": {},
   "outputs": [
    {
     "name": "stdout",
     "output_type": "stream",
     "text": [
      "There are 549 casualities occured.\n"
     ]
    }
   ],
   "source": [
    "condition = df['Survived'] == 0\n",
    "count = df.loc[condition]['PassengerId'].count()\n",
    "print(\"There are {} casualities occured.\".format(count))"
   ]
  },
  {
   "cell_type": "markdown",
   "id": "03a182a1",
   "metadata": {},
   "source": [
    "## 4) What is name of a person who is the eldest one"
   ]
  },
  {
   "cell_type": "code",
   "execution_count": 6,
   "id": "a7d07ced",
   "metadata": {},
   "outputs": [
    {
     "name": "stdout",
     "output_type": "stream",
     "text": [
      "Oldest person name : Barkworth, Mr. Algernon Henry Wilson\n"
     ]
    }
   ],
   "source": [
    "cond = df.Age.max() == df.Age\n",
    "series = df.loc[cond]['Name']\n",
    "for name in series:\n",
    "    print(\"Oldest person name : {}\".format(name))"
   ]
  },
  {
   "cell_type": "markdown",
   "id": "dc7452c2",
   "metadata": {},
   "source": [
    "## 5)How many passengers do we have in first, second and third class"
   ]
  },
  {
   "cell_type": "code",
   "execution_count": 7,
   "id": "acfeff32",
   "metadata": {},
   "outputs": [
    {
     "name": "stdout",
     "output_type": "stream",
     "text": [
      "There are 216 1st class, 216 2nd class and 216 3rd class passengers.\n"
     ]
    }
   ],
   "source": [
    "def getPassengerCountByClassNum(class_num):\n",
    "    global df\n",
    "    class_passengers_cond = df.Pclass == 1\n",
    "    return df.loc[class_passengers_cond]['Pclass'].count()\n",
    "\n",
    "\n",
    "print(\"There are {f_cls} 1st class, {s_cls} 2nd class and {t_cls} 3rd class passengers.\"\\\n",
    "      .format(f_cls= getPassengerCountByClassNum(1),\n",
    "              s_cls= getPassengerCountByClassNum(2),\n",
    "              t_cls= getPassengerCountByClassNum(3)))"
   ]
  },
  {
   "cell_type": "markdown",
   "id": "3a912c3a",
   "metadata": {},
   "source": [
    "## 6)How many person we have whose name start with 's'"
   ]
  },
  {
   "cell_type": "code",
   "execution_count": 8,
   "id": "54cbfca9",
   "metadata": {},
   "outputs": [
    {
     "name": "stdout",
     "output_type": "stream",
     "text": [
      "There are 86 people whose names are started with 's'\n"
     ]
    }
   ],
   "source": [
    "count = 0\n",
    "for name in df['Name']:\n",
    "    if name[0].lower() == 's':\n",
    "        count += 1\n",
    "print(\"There are {} people whose names are started with 's'\".format(count))        "
   ]
  },
  {
   "cell_type": "markdown",
   "id": "0746f961",
   "metadata": {},
   "source": [
    "## 7) Try to create a new column which is a summation of \"sibSp\" and \"parch\""
   ]
  },
  {
   "cell_type": "code",
   "execution_count": 9,
   "id": "36c14854",
   "metadata": {},
   "outputs": [],
   "source": [
    "total_rows = df['PassengerId'].count()\n",
    "summation_list = []\n",
    "for index in range(total_rows):\n",
    "    summation_list.append(df.loc[index]['SibSp'] + df.loc[index]['Parch'])\n",
    "df['summation of sibSp & parch'] = pd.Series(summation_list)"
   ]
  },
  {
   "cell_type": "markdown",
   "id": "d30ba63b",
   "metadata": {},
   "source": [
    "## 7.1)confirming the created column and its values"
   ]
  },
  {
   "cell_type": "code",
   "execution_count": 10,
   "id": "699a65a7",
   "metadata": {},
   "outputs": [
    {
     "data": {
      "text/html": [
       "<div>\n",
       "<style scoped>\n",
       "    .dataframe tbody tr th:only-of-type {\n",
       "        vertical-align: middle;\n",
       "    }\n",
       "\n",
       "    .dataframe tbody tr th {\n",
       "        vertical-align: top;\n",
       "    }\n",
       "\n",
       "    .dataframe thead th {\n",
       "        text-align: right;\n",
       "    }\n",
       "</style>\n",
       "<table border=\"1\" class=\"dataframe\">\n",
       "  <thead>\n",
       "    <tr style=\"text-align: right;\">\n",
       "      <th></th>\n",
       "      <th>SibSp</th>\n",
       "      <th>Parch</th>\n",
       "      <th>summation of sibSp &amp; parch</th>\n",
       "    </tr>\n",
       "  </thead>\n",
       "  <tbody>\n",
       "    <tr>\n",
       "      <th>0</th>\n",
       "      <td>1</td>\n",
       "      <td>0</td>\n",
       "      <td>1</td>\n",
       "    </tr>\n",
       "    <tr>\n",
       "      <th>1</th>\n",
       "      <td>1</td>\n",
       "      <td>0</td>\n",
       "      <td>1</td>\n",
       "    </tr>\n",
       "    <tr>\n",
       "      <th>2</th>\n",
       "      <td>0</td>\n",
       "      <td>0</td>\n",
       "      <td>0</td>\n",
       "    </tr>\n",
       "    <tr>\n",
       "      <th>3</th>\n",
       "      <td>1</td>\n",
       "      <td>0</td>\n",
       "      <td>1</td>\n",
       "    </tr>\n",
       "    <tr>\n",
       "      <th>4</th>\n",
       "      <td>0</td>\n",
       "      <td>0</td>\n",
       "      <td>0</td>\n",
       "    </tr>\n",
       "    <tr>\n",
       "      <th>...</th>\n",
       "      <td>...</td>\n",
       "      <td>...</td>\n",
       "      <td>...</td>\n",
       "    </tr>\n",
       "    <tr>\n",
       "      <th>886</th>\n",
       "      <td>0</td>\n",
       "      <td>0</td>\n",
       "      <td>0</td>\n",
       "    </tr>\n",
       "    <tr>\n",
       "      <th>887</th>\n",
       "      <td>0</td>\n",
       "      <td>0</td>\n",
       "      <td>0</td>\n",
       "    </tr>\n",
       "    <tr>\n",
       "      <th>888</th>\n",
       "      <td>1</td>\n",
       "      <td>2</td>\n",
       "      <td>3</td>\n",
       "    </tr>\n",
       "    <tr>\n",
       "      <th>889</th>\n",
       "      <td>0</td>\n",
       "      <td>0</td>\n",
       "      <td>0</td>\n",
       "    </tr>\n",
       "    <tr>\n",
       "      <th>890</th>\n",
       "      <td>0</td>\n",
       "      <td>0</td>\n",
       "      <td>0</td>\n",
       "    </tr>\n",
       "  </tbody>\n",
       "</table>\n",
       "<p>891 rows × 3 columns</p>\n",
       "</div>"
      ],
      "text/plain": [
       "     SibSp  Parch  summation of sibSp & parch\n",
       "0        1      0                           1\n",
       "1        1      0                           1\n",
       "2        0      0                           0\n",
       "3        1      0                           1\n",
       "4        0      0                           0\n",
       "..     ...    ...                         ...\n",
       "886      0      0                           0\n",
       "887      0      0                           0\n",
       "888      1      2                           3\n",
       "889      0      0                           0\n",
       "890      0      0                           0\n",
       "\n",
       "[891 rows x 3 columns]"
      ]
     },
     "execution_count": 10,
     "metadata": {},
     "output_type": "execute_result"
    }
   ],
   "source": [
    "df[['SibSp', 'Parch', 'summation of sibSp & parch']]"
   ]
  },
  {
   "cell_type": "markdown",
   "id": "5377bf59",
   "metadata": {},
   "source": [
    "## 8)How many person do we have below age of 25 ?"
   ]
  },
  {
   "cell_type": "code",
   "execution_count": 11,
   "id": "ec8e2513",
   "metadata": {},
   "outputs": [
    {
     "name": "stdout",
     "output_type": "stream",
     "text": [
      "There 278 person whose age is under the 25.\n"
     ]
    }
   ],
   "source": [
    "condition = df['Age'] < 25\n",
    "num_of_people_age_below_25 = df.loc[condition]['Age'].count()\n",
    "print(\"There {} person whose age is under the 25.\".format(num_of_people_age_below_25))"
   ]
  },
  {
   "cell_type": "markdown",
   "id": "a416ced2",
   "metadata": {},
   "source": [
    "## 9)how many person died whose age was less than 40"
   ]
  },
  {
   "cell_type": "code",
   "execution_count": 12,
   "id": "b112702b",
   "metadata": {},
   "outputs": [
    {
     "name": "stdout",
     "output_type": "stream",
     "text": [
      "There 322 peoples died and they were below 40.\n"
     ]
    }
   ],
   "source": [
    "cond = (df['Survived'] == 0) & (df['Age'] < 40)\n",
    "count = df.loc[cond, 'PassengerId'].count()\n",
    "print(\"There {} peoples died and they were below 40.\".format(count))"
   ]
  },
  {
   "cell_type": "markdown",
   "id": "70da19e8",
   "metadata": {},
   "source": [
    "## 10)from a cabin column seperate text and numeric value"
   ]
  },
  {
   "cell_type": "code",
   "execution_count": 13,
   "id": "84d2d63a",
   "metadata": {},
   "outputs": [
    {
     "name": "stdout",
     "output_type": "stream",
     "text": [
      "Cabin C85 \t\t\t=> text: C, numeric: 85\n",
      "Cabin C123 \t\t\t=> text: C, numeric: 123\n",
      "Cabin E46 \t\t\t=> text: E, numeric: 46\n",
      "Cabin G6 \t\t\t=> text: G, numeric: 6\n",
      "Cabin C103 \t\t\t=> text: C, numeric: 103\n",
      "Cabin D56 \t\t\t=> text: D, numeric: 56\n",
      "Cabin A6 \t\t\t=> text: A, numeric: 6\n",
      "Cabin C23 C25 C27 \t\t\t=> text: CCC, numeric: 232527\n",
      "Cabin B78 \t\t\t=> text: B, numeric: 78\n",
      "Cabin D33 \t\t\t=> text: D, numeric: 33\n",
      "Cabin B30 \t\t\t=> text: B, numeric: 30\n",
      "Cabin C52 \t\t\t=> text: C, numeric: 52\n",
      "Cabin B28 \t\t\t=> text: B, numeric: 28\n",
      "Cabin C83 \t\t\t=> text: C, numeric: 83\n",
      "Cabin F33 \t\t\t=> text: F, numeric: 33\n",
      "Cabin F G73 \t\t\t=> text: FG, numeric: 73\n",
      "Cabin C23 C25 C27 \t\t\t=> text: CCC, numeric: 232527\n",
      "Cabin E31 \t\t\t=> text: E, numeric: 31\n",
      "Cabin A5 \t\t\t=> text: A, numeric: 5\n",
      "Cabin D10 D12 \t\t\t=> text: DD, numeric: 1012\n",
      "Cabin D26 \t\t\t=> text: D, numeric: 26\n",
      "Cabin C110 \t\t\t=> text: C, numeric: 110\n",
      "Cabin B58 B60 \t\t\t=> text: BB, numeric: 5860\n",
      "Cabin E101 \t\t\t=> text: E, numeric: 101\n",
      "Cabin D26 \t\t\t=> text: D, numeric: 26\n",
      "Cabin F E69 \t\t\t=> text: FE, numeric: 69\n",
      "Cabin D47 \t\t\t=> text: D, numeric: 47\n",
      "Cabin C123 \t\t\t=> text: C, numeric: 123\n",
      "Cabin B86 \t\t\t=> text: B, numeric: 86\n",
      "Cabin F2 \t\t\t=> text: F, numeric: 2\n",
      "Cabin C2 \t\t\t=> text: C, numeric: 2\n",
      "Cabin E33 \t\t\t=> text: E, numeric: 33\n",
      "Cabin B19 \t\t\t=> text: B, numeric: 19\n",
      "Cabin A7 \t\t\t=> text: A, numeric: 7\n",
      "Cabin C49 \t\t\t=> text: C, numeric: 49\n",
      "Cabin F4 \t\t\t=> text: F, numeric: 4\n",
      "Cabin A32 \t\t\t=> text: A, numeric: 32\n",
      "Cabin F2 \t\t\t=> text: F, numeric: 2\n",
      "Cabin B4 \t\t\t=> text: B, numeric: 4\n",
      "Cabin B80 \t\t\t=> text: B, numeric: 80\n",
      "Cabin G6 \t\t\t=> text: G, numeric: 6\n",
      "Cabin A31 \t\t\t=> text: A, numeric: 31\n",
      "Cabin D36 \t\t\t=> text: D, numeric: 36\n",
      "Cabin D15 \t\t\t=> text: D, numeric: 15\n",
      "Cabin C93 \t\t\t=> text: C, numeric: 93\n",
      "Cabin C83 \t\t\t=> text: C, numeric: 83\n",
      "Cabin C78 \t\t\t=> text: C, numeric: 78\n",
      "Cabin D35 \t\t\t=> text: D, numeric: 35\n",
      "Cabin G6 \t\t\t=> text: G, numeric: 6\n",
      "Cabin C87 \t\t\t=> text: C, numeric: 87\n",
      "Cabin B77 \t\t\t=> text: B, numeric: 77\n",
      "Cabin E67 \t\t\t=> text: E, numeric: 67\n",
      "Cabin B94 \t\t\t=> text: B, numeric: 94\n",
      "Cabin C125 \t\t\t=> text: C, numeric: 125\n",
      "Cabin C99 \t\t\t=> text: C, numeric: 99\n",
      "Cabin C118 \t\t\t=> text: C, numeric: 118\n",
      "Cabin D7 \t\t\t=> text: D, numeric: 7\n",
      "Cabin A19 \t\t\t=> text: A, numeric: 19\n",
      "Cabin B49 \t\t\t=> text: B, numeric: 49\n",
      "Cabin D \t\t\t=> text: D, numeric: \n",
      "Cabin C22 C26 \t\t\t=> text: CC, numeric: 2226\n",
      "Cabin C106 \t\t\t=> text: C, numeric: 106\n",
      "Cabin B58 B60 \t\t\t=> text: BB, numeric: 5860\n",
      "Cabin E101 \t\t\t=> text: E, numeric: 101\n",
      "Cabin C22 C26 \t\t\t=> text: CC, numeric: 2226\n",
      "Cabin C65 \t\t\t=> text: C, numeric: 65\n",
      "Cabin E36 \t\t\t=> text: E, numeric: 36\n",
      "Cabin C54 \t\t\t=> text: C, numeric: 54\n",
      "Cabin B57 B59 B63 B66 \t\t\t=> text: BBBB, numeric: 57596366\n",
      "Cabin C7 \t\t\t=> text: C, numeric: 7\n",
      "Cabin E34 \t\t\t=> text: E, numeric: 34\n",
      "Cabin C32 \t\t\t=> text: C, numeric: 32\n",
      "Cabin D \t\t\t=> text: D, numeric: \n",
      "Cabin B18 \t\t\t=> text: B, numeric: 18\n",
      "Cabin C124 \t\t\t=> text: C, numeric: 124\n",
      "Cabin C91 \t\t\t=> text: C, numeric: 91\n",
      "Cabin C2 \t\t\t=> text: C, numeric: 2\n",
      "Cabin E40 \t\t\t=> text: E, numeric: 40\n",
      "Cabin T \t\t\t=> text: T, numeric: \n",
      "Cabin F2 \t\t\t=> text: F, numeric: 2\n",
      "Cabin C23 C25 C27 \t\t\t=> text: CCC, numeric: 232527\n",
      "Cabin F33 \t\t\t=> text: F, numeric: 33\n",
      "Cabin C128 \t\t\t=> text: C, numeric: 128\n",
      "Cabin E33 \t\t\t=> text: E, numeric: 33\n",
      "Cabin D37 \t\t\t=> text: D, numeric: 37\n",
      "Cabin B35 \t\t\t=> text: B, numeric: 35\n",
      "Cabin E50 \t\t\t=> text: E, numeric: 50\n",
      "Cabin C82 \t\t\t=> text: C, numeric: 82\n",
      "Cabin B96 B98 \t\t\t=> text: BB, numeric: 9698\n",
      "Cabin D36 \t\t\t=> text: D, numeric: 36\n",
      "Cabin G6 \t\t\t=> text: G, numeric: 6\n",
      "Cabin C78 \t\t\t=> text: C, numeric: 78\n",
      "Cabin E10 \t\t\t=> text: E, numeric: 10\n",
      "Cabin C52 \t\t\t=> text: C, numeric: 52\n",
      "Cabin E44 \t\t\t=> text: E, numeric: 44\n",
      "Cabin B96 B98 \t\t\t=> text: BB, numeric: 9698\n",
      "Cabin C23 C25 C27 \t\t\t=> text: CCC, numeric: 232527\n",
      "Cabin A34 \t\t\t=> text: A, numeric: 34\n",
      "Cabin C104 \t\t\t=> text: C, numeric: 104\n",
      "Cabin C111 \t\t\t=> text: C, numeric: 111\n",
      "Cabin C92 \t\t\t=> text: C, numeric: 92\n",
      "Cabin E38 \t\t\t=> text: E, numeric: 38\n",
      "Cabin D21 \t\t\t=> text: D, numeric: 21\n",
      "Cabin E12 \t\t\t=> text: E, numeric: 12\n",
      "Cabin E63 \t\t\t=> text: E, numeric: 63\n",
      "Cabin D \t\t\t=> text: D, numeric: \n",
      "Cabin A14 \t\t\t=> text: A, numeric: 14\n",
      "Cabin B49 \t\t\t=> text: B, numeric: 49\n",
      "Cabin C93 \t\t\t=> text: C, numeric: 93\n",
      "Cabin B37 \t\t\t=> text: B, numeric: 37\n",
      "Cabin C30 \t\t\t=> text: C, numeric: 30\n",
      "Cabin D20 \t\t\t=> text: D, numeric: 20\n",
      "Cabin C22 C26 \t\t\t=> text: CC, numeric: 2226\n",
      "Cabin B79 \t\t\t=> text: B, numeric: 79\n",
      "Cabin C65 \t\t\t=> text: C, numeric: 65\n",
      "Cabin E25 \t\t\t=> text: E, numeric: 25\n",
      "Cabin D46 \t\t\t=> text: D, numeric: 46\n",
      "Cabin F33 \t\t\t=> text: F, numeric: 33\n",
      "Cabin B73 \t\t\t=> text: B, numeric: 73\n",
      "Cabin B18 \t\t\t=> text: B, numeric: 18\n",
      "Cabin C95 \t\t\t=> text: C, numeric: 95\n",
      "Cabin B38 \t\t\t=> text: B, numeric: 38\n",
      "Cabin B39 \t\t\t=> text: B, numeric: 39\n",
      "Cabin B22 \t\t\t=> text: B, numeric: 22\n",
      "Cabin C86 \t\t\t=> text: C, numeric: 86\n",
      "Cabin C70 \t\t\t=> text: C, numeric: 70\n",
      "Cabin A16 \t\t\t=> text: A, numeric: 16\n",
      "Cabin E67 \t\t\t=> text: E, numeric: 67\n",
      "Cabin C101 \t\t\t=> text: C, numeric: 101\n",
      "Cabin E25 \t\t\t=> text: E, numeric: 25\n",
      "Cabin E44 \t\t\t=> text: E, numeric: 44\n",
      "Cabin C68 \t\t\t=> text: C, numeric: 68\n",
      "Cabin A10 \t\t\t=> text: A, numeric: 10\n",
      "Cabin E68 \t\t\t=> text: E, numeric: 68\n",
      "Cabin B41 \t\t\t=> text: B, numeric: 41\n",
      "Cabin D20 \t\t\t=> text: D, numeric: 20\n",
      "Cabin A20 \t\t\t=> text: A, numeric: 20\n",
      "Cabin C125 \t\t\t=> text: C, numeric: 125\n",
      "Cabin F4 \t\t\t=> text: F, numeric: 4\n",
      "Cabin D19 \t\t\t=> text: D, numeric: 19\n",
      "Cabin D50 \t\t\t=> text: D, numeric: 50\n",
      "Cabin D9 \t\t\t=> text: D, numeric: 9\n",
      "Cabin A23 \t\t\t=> text: A, numeric: 23\n",
      "Cabin B50 \t\t\t=> text: B, numeric: 50\n",
      "Cabin B35 \t\t\t=> text: B, numeric: 35\n",
      "Cabin D33 \t\t\t=> text: D, numeric: 33\n",
      "Cabin A26 \t\t\t=> text: A, numeric: 26\n",
      "Cabin D48 \t\t\t=> text: D, numeric: 48\n",
      "Cabin E58 \t\t\t=> text: E, numeric: 58\n",
      "Cabin C126 \t\t\t=> text: C, numeric: 126\n",
      "Cabin B71 \t\t\t=> text: B, numeric: 71\n",
      "Cabin B51 B53 B55 \t\t\t=> text: BBB, numeric: 515355\n",
      "Cabin D49 \t\t\t=> text: D, numeric: 49\n",
      "Cabin B5 \t\t\t=> text: B, numeric: 5\n",
      "Cabin B20 \t\t\t=> text: B, numeric: 20\n",
      "Cabin C68 \t\t\t=> text: C, numeric: 68\n",
      "Cabin F G63 \t\t\t=> text: FG, numeric: 63\n",
      "Cabin C62 C64 \t\t\t=> text: CC, numeric: 6264\n",
      "Cabin E24 \t\t\t=> text: E, numeric: 24\n",
      "Cabin E24 \t\t\t=> text: E, numeric: 24\n",
      "Cabin C90 \t\t\t=> text: C, numeric: 90\n",
      "Cabin C124 \t\t\t=> text: C, numeric: 124\n",
      "Cabin C126 \t\t\t=> text: C, numeric: 126\n",
      "Cabin F G73 \t\t\t=> text: FG, numeric: 73\n",
      "Cabin C45 \t\t\t=> text: C, numeric: 45\n",
      "Cabin E101 \t\t\t=> text: E, numeric: 101\n",
      "Cabin E8 \t\t\t=> text: E, numeric: 8\n",
      "Cabin B5 \t\t\t=> text: B, numeric: 5\n",
      "Cabin B101 \t\t\t=> text: B, numeric: 101\n",
      "Cabin D45 \t\t\t=> text: D, numeric: 45\n",
      "Cabin C46 \t\t\t=> text: C, numeric: 46\n",
      "Cabin B57 B59 B63 B66 \t\t\t=> text: BBBB, numeric: 57596366\n",
      "Cabin B22 \t\t\t=> text: B, numeric: 22\n",
      "Cabin D30 \t\t\t=> text: D, numeric: 30\n",
      "Cabin E121 \t\t\t=> text: E, numeric: 121\n",
      "Cabin B77 \t\t\t=> text: B, numeric: 77\n",
      "Cabin B96 B98 \t\t\t=> text: BB, numeric: 9698\n",
      "Cabin D11 \t\t\t=> text: D, numeric: 11\n",
      "Cabin E77 \t\t\t=> text: E, numeric: 77\n",
      "Cabin F38 \t\t\t=> text: F, numeric: 38\n",
      "Cabin B3 \t\t\t=> text: B, numeric: 3\n",
      "Cabin B20 \t\t\t=> text: B, numeric: 20\n",
      "Cabin D6 \t\t\t=> text: D, numeric: 6\n",
      "Cabin B82 B84 \t\t\t=> text: BB, numeric: 8284\n",
      "Cabin D17 \t\t\t=> text: D, numeric: 17\n",
      "Cabin B96 B98 \t\t\t=> text: BB, numeric: 9698\n",
      "Cabin A36 \t\t\t=> text: A, numeric: 36\n",
      "Cabin E8 \t\t\t=> text: E, numeric: 8\n",
      "Cabin B102 \t\t\t=> text: B, numeric: 102\n",
      "Cabin B69 \t\t\t=> text: B, numeric: 69\n",
      "Cabin E121 \t\t\t=> text: E, numeric: 121\n",
      "Cabin B28 \t\t\t=> text: B, numeric: 28\n",
      "Cabin E49 \t\t\t=> text: E, numeric: 49\n",
      "Cabin C47 \t\t\t=> text: C, numeric: 47\n",
      "Cabin C92 \t\t\t=> text: C, numeric: 92\n",
      "Cabin D28 \t\t\t=> text: D, numeric: 28\n",
      "Cabin E17 \t\t\t=> text: E, numeric: 17\n",
      "Cabin D17 \t\t\t=> text: D, numeric: 17\n",
      "Cabin A24 \t\t\t=> text: A, numeric: 24\n",
      "Cabin D35 \t\t\t=> text: D, numeric: 35\n",
      "Cabin B51 B53 B55 \t\t\t=> text: BBB, numeric: 515355\n",
      "Cabin C50 \t\t\t=> text: C, numeric: 50\n",
      "Cabin B42 \t\t\t=> text: B, numeric: 42\n",
      "Cabin C148 \t\t\t=> text: C, numeric: 148\n"
     ]
    }
   ],
   "source": [
    "condition = df['Cabin'].notnull()\n",
    "cabins = df.loc[condition, 'Cabin']\n",
    "for cabin in cabins:\n",
    "    splitted_cabin = list(cabin)\n",
    "    numerics = ''\n",
    "    alphabetics = ''\n",
    "    for each in  splitted_cabin:\n",
    "        if each.isdigit():\n",
    "            numerics += each\n",
    "        elif each.isalpha():\n",
    "            alphabetics += each\n",
    "        else:\n",
    "            continue\n",
    "    print(\"Cabin {} \\t\\t\\t=> text: {}, numeric: {}\".format(cabin, alphabetics, numerics))        \n",
    "        \n",
    "    "
   ]
  }
 ],
 "metadata": {
  "kernelspec": {
   "display_name": "Python 3 (ipykernel)",
   "language": "python",
   "name": "python3"
  },
  "language_info": {
   "codemirror_mode": {
    "name": "ipython",
    "version": 3
   },
   "file_extension": ".py",
   "mimetype": "text/x-python",
   "name": "python",
   "nbconvert_exporter": "python",
   "pygments_lexer": "ipython3",
   "version": "3.8.12"
  }
 },
 "nbformat": 4,
 "nbformat_minor": 5
}
