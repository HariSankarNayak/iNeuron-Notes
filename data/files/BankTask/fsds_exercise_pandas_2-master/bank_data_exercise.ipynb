{
 "cells": [
  {
   "cell_type": "raw",
   "id": "9af410f2",
   "metadata": {},
   "source": [
    "1) How many campaign available in this dataset?\n",
    "2) How many users do we have with housing and personal loan?\n",
    "3) How many person do we have whose age is 60+ ?\n",
    "4) In which month we have targeted most of the customer?\n",
    "5) Which mode of call is giving you more result?\n",
    "6) How many entrepreures do we have in this list?\n",
    "7) How many customer do we have with negative balance?\n",
    "8) Prepare a group of data based on education level"
   ]
  },
  {
   "cell_type": "code",
   "execution_count": 1,
   "id": "00020a30",
   "metadata": {},
   "outputs": [],
   "source": [
    "import pandas as pd"
   ]
  },
  {
   "cell_type": "code",
   "execution_count": 2,
   "id": "a277f13d",
   "metadata": {},
   "outputs": [],
   "source": [
    "FILE_PATH = 'data_sets/bank.csv' \n",
    "bank_df = pd.read_csv(FILE_PATH, sep=\";\")"
   ]
  },
  {
   "cell_type": "code",
   "execution_count": 3,
   "id": "4cec0319",
   "metadata": {},
   "outputs": [
    {
     "data": {
      "text/html": [
       "<div>\n",
       "<style scoped>\n",
       "    .dataframe tbody tr th:only-of-type {\n",
       "        vertical-align: middle;\n",
       "    }\n",
       "\n",
       "    .dataframe tbody tr th {\n",
       "        vertical-align: top;\n",
       "    }\n",
       "\n",
       "    .dataframe thead th {\n",
       "        text-align: right;\n",
       "    }\n",
       "</style>\n",
       "<table border=\"1\" class=\"dataframe\">\n",
       "  <thead>\n",
       "    <tr style=\"text-align: right;\">\n",
       "      <th></th>\n",
       "      <th>age</th>\n",
       "      <th>job</th>\n",
       "      <th>marital</th>\n",
       "      <th>education</th>\n",
       "      <th>default</th>\n",
       "      <th>balance</th>\n",
       "      <th>housing</th>\n",
       "      <th>loan</th>\n",
       "      <th>contact</th>\n",
       "      <th>day</th>\n",
       "      <th>month</th>\n",
       "      <th>duration</th>\n",
       "      <th>campaign</th>\n",
       "      <th>pdays</th>\n",
       "      <th>previous</th>\n",
       "      <th>poutcome</th>\n",
       "      <th>y</th>\n",
       "    </tr>\n",
       "  </thead>\n",
       "  <tbody>\n",
       "    <tr>\n",
       "      <th>0</th>\n",
       "      <td>30</td>\n",
       "      <td>unemployed</td>\n",
       "      <td>married</td>\n",
       "      <td>primary</td>\n",
       "      <td>no</td>\n",
       "      <td>1787</td>\n",
       "      <td>no</td>\n",
       "      <td>no</td>\n",
       "      <td>cellular</td>\n",
       "      <td>19</td>\n",
       "      <td>oct</td>\n",
       "      <td>79</td>\n",
       "      <td>1</td>\n",
       "      <td>-1</td>\n",
       "      <td>0</td>\n",
       "      <td>unknown</td>\n",
       "      <td>no</td>\n",
       "    </tr>\n",
       "    <tr>\n",
       "      <th>1</th>\n",
       "      <td>33</td>\n",
       "      <td>services</td>\n",
       "      <td>married</td>\n",
       "      <td>secondary</td>\n",
       "      <td>no</td>\n",
       "      <td>4789</td>\n",
       "      <td>yes</td>\n",
       "      <td>yes</td>\n",
       "      <td>cellular</td>\n",
       "      <td>11</td>\n",
       "      <td>may</td>\n",
       "      <td>220</td>\n",
       "      <td>1</td>\n",
       "      <td>339</td>\n",
       "      <td>4</td>\n",
       "      <td>failure</td>\n",
       "      <td>no</td>\n",
       "    </tr>\n",
       "    <tr>\n",
       "      <th>2</th>\n",
       "      <td>35</td>\n",
       "      <td>management</td>\n",
       "      <td>single</td>\n",
       "      <td>tertiary</td>\n",
       "      <td>no</td>\n",
       "      <td>1350</td>\n",
       "      <td>yes</td>\n",
       "      <td>no</td>\n",
       "      <td>cellular</td>\n",
       "      <td>16</td>\n",
       "      <td>apr</td>\n",
       "      <td>185</td>\n",
       "      <td>1</td>\n",
       "      <td>330</td>\n",
       "      <td>1</td>\n",
       "      <td>failure</td>\n",
       "      <td>no</td>\n",
       "    </tr>\n",
       "    <tr>\n",
       "      <th>3</th>\n",
       "      <td>30</td>\n",
       "      <td>management</td>\n",
       "      <td>married</td>\n",
       "      <td>tertiary</td>\n",
       "      <td>no</td>\n",
       "      <td>1476</td>\n",
       "      <td>yes</td>\n",
       "      <td>yes</td>\n",
       "      <td>unknown</td>\n",
       "      <td>3</td>\n",
       "      <td>jun</td>\n",
       "      <td>199</td>\n",
       "      <td>4</td>\n",
       "      <td>-1</td>\n",
       "      <td>0</td>\n",
       "      <td>unknown</td>\n",
       "      <td>no</td>\n",
       "    </tr>\n",
       "    <tr>\n",
       "      <th>4</th>\n",
       "      <td>59</td>\n",
       "      <td>blue-collar</td>\n",
       "      <td>married</td>\n",
       "      <td>secondary</td>\n",
       "      <td>no</td>\n",
       "      <td>0</td>\n",
       "      <td>yes</td>\n",
       "      <td>no</td>\n",
       "      <td>unknown</td>\n",
       "      <td>5</td>\n",
       "      <td>may</td>\n",
       "      <td>226</td>\n",
       "      <td>1</td>\n",
       "      <td>-1</td>\n",
       "      <td>0</td>\n",
       "      <td>unknown</td>\n",
       "      <td>no</td>\n",
       "    </tr>\n",
       "    <tr>\n",
       "      <th>...</th>\n",
       "      <td>...</td>\n",
       "      <td>...</td>\n",
       "      <td>...</td>\n",
       "      <td>...</td>\n",
       "      <td>...</td>\n",
       "      <td>...</td>\n",
       "      <td>...</td>\n",
       "      <td>...</td>\n",
       "      <td>...</td>\n",
       "      <td>...</td>\n",
       "      <td>...</td>\n",
       "      <td>...</td>\n",
       "      <td>...</td>\n",
       "      <td>...</td>\n",
       "      <td>...</td>\n",
       "      <td>...</td>\n",
       "      <td>...</td>\n",
       "    </tr>\n",
       "    <tr>\n",
       "      <th>4516</th>\n",
       "      <td>33</td>\n",
       "      <td>services</td>\n",
       "      <td>married</td>\n",
       "      <td>secondary</td>\n",
       "      <td>no</td>\n",
       "      <td>-333</td>\n",
       "      <td>yes</td>\n",
       "      <td>no</td>\n",
       "      <td>cellular</td>\n",
       "      <td>30</td>\n",
       "      <td>jul</td>\n",
       "      <td>329</td>\n",
       "      <td>5</td>\n",
       "      <td>-1</td>\n",
       "      <td>0</td>\n",
       "      <td>unknown</td>\n",
       "      <td>no</td>\n",
       "    </tr>\n",
       "    <tr>\n",
       "      <th>4517</th>\n",
       "      <td>57</td>\n",
       "      <td>self-employed</td>\n",
       "      <td>married</td>\n",
       "      <td>tertiary</td>\n",
       "      <td>yes</td>\n",
       "      <td>-3313</td>\n",
       "      <td>yes</td>\n",
       "      <td>yes</td>\n",
       "      <td>unknown</td>\n",
       "      <td>9</td>\n",
       "      <td>may</td>\n",
       "      <td>153</td>\n",
       "      <td>1</td>\n",
       "      <td>-1</td>\n",
       "      <td>0</td>\n",
       "      <td>unknown</td>\n",
       "      <td>no</td>\n",
       "    </tr>\n",
       "    <tr>\n",
       "      <th>4518</th>\n",
       "      <td>57</td>\n",
       "      <td>technician</td>\n",
       "      <td>married</td>\n",
       "      <td>secondary</td>\n",
       "      <td>no</td>\n",
       "      <td>295</td>\n",
       "      <td>no</td>\n",
       "      <td>no</td>\n",
       "      <td>cellular</td>\n",
       "      <td>19</td>\n",
       "      <td>aug</td>\n",
       "      <td>151</td>\n",
       "      <td>11</td>\n",
       "      <td>-1</td>\n",
       "      <td>0</td>\n",
       "      <td>unknown</td>\n",
       "      <td>no</td>\n",
       "    </tr>\n",
       "    <tr>\n",
       "      <th>4519</th>\n",
       "      <td>28</td>\n",
       "      <td>blue-collar</td>\n",
       "      <td>married</td>\n",
       "      <td>secondary</td>\n",
       "      <td>no</td>\n",
       "      <td>1137</td>\n",
       "      <td>no</td>\n",
       "      <td>no</td>\n",
       "      <td>cellular</td>\n",
       "      <td>6</td>\n",
       "      <td>feb</td>\n",
       "      <td>129</td>\n",
       "      <td>4</td>\n",
       "      <td>211</td>\n",
       "      <td>3</td>\n",
       "      <td>other</td>\n",
       "      <td>no</td>\n",
       "    </tr>\n",
       "    <tr>\n",
       "      <th>4520</th>\n",
       "      <td>44</td>\n",
       "      <td>entrepreneur</td>\n",
       "      <td>single</td>\n",
       "      <td>tertiary</td>\n",
       "      <td>no</td>\n",
       "      <td>1136</td>\n",
       "      <td>yes</td>\n",
       "      <td>yes</td>\n",
       "      <td>cellular</td>\n",
       "      <td>3</td>\n",
       "      <td>apr</td>\n",
       "      <td>345</td>\n",
       "      <td>2</td>\n",
       "      <td>249</td>\n",
       "      <td>7</td>\n",
       "      <td>other</td>\n",
       "      <td>no</td>\n",
       "    </tr>\n",
       "  </tbody>\n",
       "</table>\n",
       "<p>4521 rows × 17 columns</p>\n",
       "</div>"
      ],
      "text/plain": [
       "      age            job  marital  education default  balance housing loan  \\\n",
       "0      30     unemployed  married    primary      no     1787      no   no   \n",
       "1      33       services  married  secondary      no     4789     yes  yes   \n",
       "2      35     management   single   tertiary      no     1350     yes   no   \n",
       "3      30     management  married   tertiary      no     1476     yes  yes   \n",
       "4      59    blue-collar  married  secondary      no        0     yes   no   \n",
       "...   ...            ...      ...        ...     ...      ...     ...  ...   \n",
       "4516   33       services  married  secondary      no     -333     yes   no   \n",
       "4517   57  self-employed  married   tertiary     yes    -3313     yes  yes   \n",
       "4518   57     technician  married  secondary      no      295      no   no   \n",
       "4519   28    blue-collar  married  secondary      no     1137      no   no   \n",
       "4520   44   entrepreneur   single   tertiary      no     1136     yes  yes   \n",
       "\n",
       "       contact  day month  duration  campaign  pdays  previous poutcome   y  \n",
       "0     cellular   19   oct        79         1     -1         0  unknown  no  \n",
       "1     cellular   11   may       220         1    339         4  failure  no  \n",
       "2     cellular   16   apr       185         1    330         1  failure  no  \n",
       "3      unknown    3   jun       199         4     -1         0  unknown  no  \n",
       "4      unknown    5   may       226         1     -1         0  unknown  no  \n",
       "...        ...  ...   ...       ...       ...    ...       ...      ...  ..  \n",
       "4516  cellular   30   jul       329         5     -1         0  unknown  no  \n",
       "4517   unknown    9   may       153         1     -1         0  unknown  no  \n",
       "4518  cellular   19   aug       151        11     -1         0  unknown  no  \n",
       "4519  cellular    6   feb       129         4    211         3    other  no  \n",
       "4520  cellular    3   apr       345         2    249         7    other  no  \n",
       "\n",
       "[4521 rows x 17 columns]"
      ]
     },
     "execution_count": 3,
     "metadata": {},
     "output_type": "execute_result"
    }
   ],
   "source": [
    "bank_df"
   ]
  },
  {
   "cell_type": "markdown",
   "id": "e1189439",
   "metadata": {},
   "source": [
    "## 1) How many campaign available in this dataset?"
   ]
  },
  {
   "cell_type": "code",
   "execution_count": 4,
   "id": "82f92a76",
   "metadata": {},
   "outputs": [
    {
     "name": "stdout",
     "output_type": "stream",
     "text": [
      "There are 32 campaigns available.\n"
     ]
    }
   ],
   "source": [
    "campaign = bank_df['campaign'].unique()\n",
    "available_campaigns = len(campaign)\n",
    "print(\"There are {} campaigns available.\".format(available_campaigns))"
   ]
  },
  {
   "cell_type": "markdown",
   "id": "e5c77015",
   "metadata": {},
   "source": [
    "## 2) How many users do we have with housing and personal loan?"
   ]
  },
  {
   "cell_type": "code",
   "execution_count": 5,
   "id": "19025091",
   "metadata": {},
   "outputs": [
    {
     "name": "stdout",
     "output_type": "stream",
     "text": [
      "There 406 users, who have both housing and personal loan.\n"
     ]
    }
   ],
   "source": [
    "condition = (bank_df['housing'] == 'yes') & (bank_df['loan'] == 'yes')\n",
    "user_count = len(bank_df.loc[condition])\n",
    "print(\"There {} users, who have both housing and personal loan.\".format(user_count))"
   ]
  },
  {
   "cell_type": "markdown",
   "id": "df7803d3",
   "metadata": {},
   "source": [
    "## 3) How many person do we have whose age is 60+ ?"
   ]
  },
  {
   "cell_type": "code",
   "execution_count": 6,
   "id": "aacc1245",
   "metadata": {},
   "outputs": [
    {
     "name": "stdout",
     "output_type": "stream",
     "text": [
      "There 127 users, who are 60+.\n"
     ]
    }
   ],
   "source": [
    "condition = bank_df['age'] > 60\n",
    "user_count = bank_df.loc[condition, 'age'].count()\n",
    "print(\"There {} users, who are 60+.\".format(user_count))"
   ]
  },
  {
   "cell_type": "markdown",
   "id": "0eb61257",
   "metadata": {},
   "source": [
    "## 4) In which month we have targeted most of the customer?"
   ]
  },
  {
   "cell_type": "code",
   "execution_count": 7,
   "id": "1db0c2fd",
   "metadata": {},
   "outputs": [
    {
     "name": "stdout",
     "output_type": "stream",
     "text": [
      "On the month of `MAY` most of customers had targeted, and there are 1398 customers are targeted\n"
     ]
    }
   ],
   "source": [
    "data_existing_months = bank_df['month'].unique()\n",
    "max_customer = 0\n",
    "month_of_max_customer = ''\n",
    "for month in  data_existing_months:\n",
    "    condition = bank_df['month'] == month\n",
    "    customers_count_per_month = len(bank_df.loc[condition])\n",
    "    if customers_count_per_month > max_customer:\n",
    "        max_customer = customers_count_per_month\n",
    "        month_of_max_customer = month\n",
    "print(\"On the month of `{}` most of customers had targeted, and there are {} customers are targeted\".format(month_of_max_customer.upper(), max_customer))          "
   ]
  },
  {
   "cell_type": "markdown",
   "id": "050bc3e3",
   "metadata": {},
   "source": [
    "## 5) Which mode of call is giving you more result?"
   ]
  },
  {
   "cell_type": "code",
   "execution_count": 8,
   "id": "ea7b525a",
   "metadata": {},
   "outputs": [],
   "source": [
    "# getting customer count by passed status/mode\n",
    "def getCountOfCustomersByStatus(status):\n",
    "    global bank_df\n",
    "    unique_status_fields = bank_df[status].unique()\n",
    "    max_customers = 0\n",
    "    maximum_customers_targetted_state = unique_status_fields[0]\n",
    "    for each_unique_status in  unique_status_fields:\n",
    "        condition = bank_df[status] == each_unique_status\n",
    "        customers_count_per_status = len(bank_df.loc[condition])\n",
    "        if customers_count_per_status > max_customers:\n",
    "            max_customers = customers_count_per_status\n",
    "            maximum_customers_targetted_state = each_unique_status\n",
    "    return {'max_customers': max_customers, 'state_value': maximum_customers_targetted_state}  "
   ]
  },
  {
   "cell_type": "code",
   "execution_count": 9,
   "id": "b21faf83",
   "metadata": {},
   "outputs": [],
   "source": [
    "# arranging counted values by modes\n",
    "def getAnalyzedDictionaryForModes(modes):\n",
    "    dict = {}\n",
    "    for mode in modes:\n",
    "        dict[mode] = getCountOfCustomersByStatus(mode)\n",
    "    return dict        "
   ]
  },
  {
   "cell_type": "code",
   "execution_count": 10,
   "id": "c40b065b",
   "metadata": {},
   "outputs": [
    {
     "name": "stdout",
     "output_type": "stream",
     "text": [
      "More results on following mode of `contact`'s `cellular` is more result and its no of customers are targetted is `2896`\n"
     ]
    }
   ],
   "source": [
    "modes = ['age', 'job', 'marital', 'contact']\n",
    "analyzed_values = getAnalyzedDictionaryForModes(modes)\n",
    "\n",
    "# finding max customer count and its mode \n",
    "max_customers = 0\n",
    "mode = ''\n",
    "mode_status = ''\n",
    "for each_result_state in analyzed_values.keys():\n",
    "    if analyzed_values[each_result_state]['max_customers'] > max_customers:\n",
    "        max_customers = analyzed_values[each_result_state]['max_customers']\n",
    "        mode = each_result_state\n",
    "        mode_status = analyzed_values[each_result_state]['state_value']\n",
    "\n",
    "            \n",
    "print(\"More results on following mode of `{mode}`\\'s `{mode_status}` is more result and its no of customers are targetted is `{no_customers}`\".format(mode=mode, no_customers=max_customers, mode_status=mode_status))\n",
    "    "
   ]
  },
  {
   "cell_type": "code",
   "execution_count": 11,
   "id": "b2a66646",
   "metadata": {},
   "outputs": [
    {
     "data": {
      "text/plain": [
       "{'age': {'max_customers': 231, 'state_value': 34},\n",
       " 'job': {'max_customers': 969, 'state_value': 'management'},\n",
       " 'marital': {'max_customers': 2797, 'state_value': 'married'},\n",
       " 'contact': {'max_customers': 2896, 'state_value': 'cellular'}}"
      ]
     },
     "execution_count": 11,
     "metadata": {},
     "output_type": "execute_result"
    }
   ],
   "source": [
    "# varify above result by comparing other modes' customer values\n",
    "analyzed_values"
   ]
  },
  {
   "cell_type": "markdown",
   "id": "8c9fab08",
   "metadata": {},
   "source": [
    "## 6) How many entrepreures do we have in this list?"
   ]
  },
  {
   "cell_type": "code",
   "execution_count": 12,
   "id": "d442692c",
   "metadata": {},
   "outputs": [
    {
     "name": "stdout",
     "output_type": "stream",
     "text": [
      "There are 168 entrepreneurs targetted.\n"
     ]
    }
   ],
   "source": [
    "condition = bank_df['job'] == 'entrepreneur'\n",
    "count_of_entrepreneur = len(bank_df.loc[condition])\n",
    "print(\"There are {} entrepreneurs targetted.\".format(count_of_entrepreneur))"
   ]
  },
  {
   "cell_type": "markdown",
   "id": "4b1b9d38",
   "metadata": {},
   "source": [
    "## 7) How many customer do we have with negative balance?"
   ]
  },
  {
   "cell_type": "code",
   "execution_count": 13,
   "id": "7c464a87",
   "metadata": {},
   "outputs": [
    {
     "name": "stdout",
     "output_type": "stream",
     "text": [
      "There are 366 customers, whose balance amount is negative.\n"
     ]
    }
   ],
   "source": [
    "condition =  bank_df['balance'] < 0\n",
    "negative_balanced_count = len(bank_df.loc[condition])\n",
    "print(\"There are {} customers, whose balance amount is negative.\".format(negative_balanced_count))"
   ]
  },
  {
   "cell_type": "markdown",
   "id": "d40f390c",
   "metadata": {},
   "source": [
    "## 8) Prepare a group of data based on education level"
   ]
  },
  {
   "cell_type": "code",
   "execution_count": 14,
   "id": "35e276f5",
   "metadata": {},
   "outputs": [
    {
     "data": {
      "text/plain": [
       "array(['primary', 'secondary', 'tertiary', 'unknown'], dtype=object)"
      ]
     },
     "execution_count": 14,
     "metadata": {},
     "output_type": "execute_result"
    }
   ],
   "source": [
    "unique_education_levels = bank_df['education'].unique()\n",
    "unique_education_levels"
   ]
  },
  {
   "cell_type": "code",
   "execution_count": 15,
   "id": "fd36bfe0",
   "metadata": {},
   "outputs": [
    {
     "data": {
      "text/plain": [
       "{'primary': {'count': 678,\n",
       "  'data':       age            job   marital education default  balance housing loan  \\\n",
       "  0      30     unemployed   married   primary      no     1787      no   no   \n",
       "  9      43       services   married   primary      no      -88     yes  yes   \n",
       "  18     25    blue-collar    single   primary      no     -221     yes   no   \n",
       "  26     55    blue-collar   married   primary      no      627     yes   no   \n",
       "  36     78        retired  divorced   primary      no      229      no   no   \n",
       "  ...   ...            ...       ...       ...     ...      ...     ...  ...   \n",
       "  4480   23    blue-collar   married   primary      no     1158     yes   no   \n",
       "  4485   53    blue-collar   married   primary      no      238     yes   no   \n",
       "  4486   37    blue-collar   married   primary      no      378     yes   no   \n",
       "  4499   45    blue-collar  divorced   primary      no      942      no   no   \n",
       "  4503   60  self-employed   married   primary      no      362      no  yes   \n",
       "  \n",
       "          contact  day month  duration  campaign  pdays  previous poutcome    y  \n",
       "  0      cellular   19   oct        79         1     -1         0  unknown   no  \n",
       "  9      cellular   17   apr       313         1    147         2  failure   no  \n",
       "  18      unknown   23   may       250         1     -1         0  unknown   no  \n",
       "  26      unknown    5   may       247         1     -1         0  unknown   no  \n",
       "  36    telephone   22   oct        97         1     -1         0  unknown  yes  \n",
       "  ...         ...  ...   ...       ...       ...    ...       ...      ...  ...  \n",
       "  4480   cellular   16   apr       743         1     -1         0  unknown   no  \n",
       "  4485   cellular   11   may       238         2    361         5  failure   no  \n",
       "  4486    unknown    9   may       514         1     -1         0  unknown   no  \n",
       "  4499   cellular   21   nov       362         1     -1         0  unknown   no  \n",
       "  4503   cellular   29   jul       816         6     -1         0  unknown  yes  \n",
       "  \n",
       "  [678 rows x 17 columns]},\n",
       " 'secondary': {'count': 2306,\n",
       "  'data':       age          job  marital  education default  balance housing loan  \\\n",
       "  1      33     services  married  secondary      no     4789     yes  yes   \n",
       "  4      59  blue-collar  married  secondary      no        0     yes   no   \n",
       "  7      39   technician  married  secondary      no      147     yes   no   \n",
       "  10     39     services  married  secondary      no     9374     yes   no   \n",
       "  11     43       admin.  married  secondary      no      264     yes   no   \n",
       "  ...   ...          ...      ...        ...     ...      ...     ...  ...   \n",
       "  4514   38  blue-collar  married  secondary      no     1205     yes   no   \n",
       "  4515   32     services   single  secondary      no      473     yes   no   \n",
       "  4516   33     services  married  secondary      no     -333     yes   no   \n",
       "  4518   57   technician  married  secondary      no      295      no   no   \n",
       "  4519   28  blue-collar  married  secondary      no     1137      no   no   \n",
       "  \n",
       "         contact  day month  duration  campaign  pdays  previous poutcome   y  \n",
       "  1     cellular   11   may       220         1    339         4  failure  no  \n",
       "  4      unknown    5   may       226         1     -1         0  unknown  no  \n",
       "  7     cellular    6   may       151         2     -1         0  unknown  no  \n",
       "  10     unknown   20   may       273         1     -1         0  unknown  no  \n",
       "  11    cellular   17   apr       113         2     -1         0  unknown  no  \n",
       "  ...        ...  ...   ...       ...       ...    ...       ...      ...  ..  \n",
       "  4514  cellular   20   apr        45         4    153         1  failure  no  \n",
       "  4515  cellular    7   jul       624         5     -1         0  unknown  no  \n",
       "  4516  cellular   30   jul       329         5     -1         0  unknown  no  \n",
       "  4518  cellular   19   aug       151        11     -1         0  unknown  no  \n",
       "  4519  cellular    6   feb       129         4    211         3    other  no  \n",
       "  \n",
       "  [2306 rows x 17 columns]},\n",
       " 'tertiary': {'count': 1350,\n",
       "  'data':       age            job   marital education default  balance housing loan  \\\n",
       "  2      35     management    single  tertiary      no     1350     yes   no   \n",
       "  3      30     management   married  tertiary      no     1476     yes  yes   \n",
       "  5      35     management    single  tertiary      no      747      no   no   \n",
       "  6      36  self-employed   married  tertiary      no      307     yes   no   \n",
       "  8      41   entrepreneur   married  tertiary      no      221     yes   no   \n",
       "  ...   ...            ...       ...       ...     ...      ...     ...  ...   \n",
       "  4501   34     management   married  tertiary      no      297     yes   no   \n",
       "  4506   42     unemployed  divorced  tertiary      no     -166      no   no   \n",
       "  4509   51     technician   married  tertiary      no     2506      no   no   \n",
       "  4517   57  self-employed   married  tertiary     yes    -3313     yes  yes   \n",
       "  4520   44   entrepreneur    single  tertiary      no     1136     yes  yes   \n",
       "  \n",
       "         contact  day month  duration  campaign  pdays  previous poutcome   y  \n",
       "  2     cellular   16   apr       185         1    330         1  failure  no  \n",
       "  3      unknown    3   jun       199         4     -1         0  unknown  no  \n",
       "  5     cellular   23   feb       141         2    176         3  failure  no  \n",
       "  6     cellular   14   may       341         1    330         2    other  no  \n",
       "  8      unknown   14   may        57         2     -1         0  unknown  no  \n",
       "  ...        ...  ...   ...       ...       ...    ...       ...      ...  ..  \n",
       "  4501  cellular   26   aug        63         4     -1         0  unknown  no  \n",
       "  4506  cellular   29   aug        85         4     -1         0  unknown  no  \n",
       "  4509  cellular   30   nov       210         3     -1         0  unknown  no  \n",
       "  4517   unknown    9   may       153         1     -1         0  unknown  no  \n",
       "  4520  cellular    3   apr       345         2    249         7    other  no  \n",
       "  \n",
       "  [1350 rows x 17 columns]},\n",
       " 'unknown': {'count': 187,\n",
       "  'data':       age          job   marital education default  balance housing loan  \\\n",
       "  20     38   management  divorced   unknown      no        0     yes   no   \n",
       "  27     67      retired   married   unknown      no      696      no   no   \n",
       "  49     61       admin.   married   unknown      no     4629     yes   no   \n",
       "  132    43  blue-collar   married   unknown     yes     -715     yes   no   \n",
       "  133    48       admin.   married   unknown      no        0     yes   no   \n",
       "  ...   ...          ...       ...       ...     ...      ...     ...  ...   \n",
       "  4337   73      retired   married   unknown      no      519      no   no   \n",
       "  4342   50  blue-collar   married   unknown      no     2284     yes   no   \n",
       "  4428   48  blue-collar   married   unknown      no      439     yes   no   \n",
       "  4471   59   management   married   unknown      no     3534      no   no   \n",
       "  4508   42       admin.   married   unknown      no      642     yes  yes   \n",
       "  \n",
       "          contact  day month  duration  campaign  pdays  previous poutcome    y  \n",
       "  20     cellular   18   nov        96         2     -1         0  unknown   no  \n",
       "  27    telephone   17   aug       119         1    105         2  failure   no  \n",
       "  49     cellular   27   jan       181         1     92         1  success  yes  \n",
       "  132     unknown   30   may        67         3     -1         0  unknown   no  \n",
       "  133    cellular    8   may        85         1    168         2  failure   no  \n",
       "  ...         ...  ...   ...       ...       ...    ...       ...      ...  ...  \n",
       "  4337  telephone   16   oct       434         1     57         1  failure  yes  \n",
       "  4342  telephone   31   jul      1088        17     -1         0  unknown  yes  \n",
       "  4428   cellular    2   feb       212         1    249         2    other   no  \n",
       "  4471   cellular   21   nov       216         4     -1         0  unknown   no  \n",
       "  4508    unknown   16   may       509         2     -1         0  unknown   no  \n",
       "  \n",
       "  [187 rows x 17 columns]}}"
      ]
     },
     "execution_count": 15,
     "metadata": {},
     "output_type": "execute_result"
    }
   ],
   "source": [
    "dict = {}\n",
    "for level in unique_education_levels:\n",
    "    cond = bank_df['education'] == level\n",
    "    count = bank_df.loc[cond,'age'].count()\n",
    "    data = bank_df.loc[cond]\n",
    "    dict[level] = {\n",
    "        'count': count,\n",
    "        'data' : data\n",
    "    }\n",
    "dict        "
   ]
  },
  {
   "cell_type": "code",
   "execution_count": null,
   "id": "16042081",
   "metadata": {},
   "outputs": [],
   "source": []
  }
 ],
 "metadata": {
  "kernelspec": {
   "display_name": "Python 3 (ipykernel)",
   "language": "python",
   "name": "python3"
  },
  "language_info": {
   "codemirror_mode": {
    "name": "ipython",
    "version": 3
   },
   "file_extension": ".py",
   "mimetype": "text/x-python",
   "name": "python",
   "nbconvert_exporter": "python",
   "pygments_lexer": "ipython3",
   "version": "3.8.12"
  }
 },
 "nbformat": 4,
 "nbformat_minor": 5
}
