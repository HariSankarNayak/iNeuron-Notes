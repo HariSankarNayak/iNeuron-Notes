{
 "cells": [
  {
   "cell_type": "code",
   "execution_count": null,
   "id": "f44ffe90",
   "metadata": {},
   "outputs": [],
   "source": [
    "import pandas as pd"
   ]
  },
  {
   "cell_type": "code",
   "execution_count": null,
   "id": "d528e259",
   "metadata": {},
   "outputs": [],
   "source": [
    "df = pd.read_csv(\"churn.csv\")"
   ]
  },
  {
   "cell_type": "code",
   "execution_count": null,
   "id": "5d703e72",
   "metadata": {},
   "outputs": [],
   "source": [
    "df"
   ]
  },
  {
   "cell_type": "code",
   "execution_count": null,
   "id": "a6ad569a",
   "metadata": {},
   "outputs": [],
   "source": [
    "df.dtypes"
   ]
  },
  {
   "cell_type": "code",
   "execution_count": null,
   "id": "57d5efb5",
   "metadata": {},
   "outputs": [],
   "source": [
    "df.columns"
   ]
  },
  {
   "cell_type": "code",
   "execution_count": null,
   "id": "92ad9719",
   "metadata": {},
   "outputs": [],
   "source": [
    "df[\"tenure\"]"
   ]
  },
  {
   "cell_type": "code",
   "execution_count": null,
   "id": "23938df0",
   "metadata": {},
   "outputs": [],
   "source": [
    "a = df['Churn']"
   ]
  },
  {
   "cell_type": "code",
   "execution_count": null,
   "id": "39bd7a11",
   "metadata": {},
   "outputs": [],
   "source": [
    "type(a)"
   ]
  },
  {
   "cell_type": "code",
   "execution_count": null,
   "id": "4ed37763",
   "metadata": {},
   "outputs": [],
   "source": [
    "df['tenure', 'Contract']"
   ]
  },
  {
   "cell_type": "code",
   "execution_count": null,
   "id": "2a0cdfc1",
   "metadata": {},
   "outputs": [],
   "source": [
    "b = df[['tenure', 'Contract']]"
   ]
  },
  {
   "cell_type": "code",
   "execution_count": null,
   "id": "5f2e3cba",
   "metadata": {},
   "outputs": [],
   "source": [
    "type(b)"
   ]
  },
  {
   "cell_type": "code",
   "execution_count": null,
   "id": "8f03e791",
   "metadata": {},
   "outputs": [],
   "source": [
    "type(df[['tenure']])"
   ]
  },
  {
   "cell_type": "code",
   "execution_count": null,
   "id": "f6a8ceb5",
   "metadata": {},
   "outputs": [],
   "source": [
    "pd.read_csv(\"https://raw.githubusercontent.com/ritvikmath/Machine-Learning-With-Titanic-Data/master/titanic.csv\")"
   ]
  },
  {
   "cell_type": "code",
   "execution_count": null,
   "id": "d663dee2",
   "metadata": {},
   "outputs": [],
   "source": [
    "import pandas as pd"
   ]
  },
  {
   "cell_type": "code",
   "execution_count": null,
   "id": "9d99dea3",
   "metadata": {},
   "outputs": [],
   "source": [
    "df = pd.read_html(\"https://www.basketball-reference.com/leagues/NBA_2015_totals.html\")"
   ]
  },
  {
   "cell_type": "code",
   "execution_count": null,
   "id": "7d7dcae4",
   "metadata": {},
   "outputs": [],
   "source": [
    "type(df)"
   ]
  },
  {
   "cell_type": "code",
   "execution_count": null,
   "id": "fb5b8c06",
   "metadata": {},
   "outputs": [],
   "source": [
    " df1 = df[0]"
   ]
  },
  {
   "cell_type": "code",
   "execution_count": null,
   "id": "4d55bb49",
   "metadata": {},
   "outputs": [],
   "source": [
    "type(df1)"
   ]
  },
  {
   "cell_type": "code",
   "execution_count": null,
   "id": "7a57ed2a",
   "metadata": {},
   "outputs": [],
   "source": [
    "df1.columns"
   ]
  },
  {
   "cell_type": "code",
   "execution_count": null,
   "id": "5437f128",
   "metadata": {},
   "outputs": [],
   "source": [
    "df1.head()"
   ]
  },
  {
   "cell_type": "code",
   "execution_count": null,
   "id": "7d2159cf",
   "metadata": {},
   "outputs": [],
   "source": [
    "df1.head(3)"
   ]
  },
  {
   "cell_type": "code",
   "execution_count": null,
   "id": "21a177d2",
   "metadata": {},
   "outputs": [],
   "source": [
    "df1.dtypes"
   ]
  },
  {
   "cell_type": "code",
   "execution_count": null,
   "id": "7033f706",
   "metadata": {},
   "outputs": [],
   "source": [
    "df1[['Player', 'Age']]"
   ]
  },
  {
   "cell_type": "code",
   "execution_count": null,
   "id": "d7ee112c",
   "metadata": {},
   "outputs": [],
   "source": [
    "df1"
   ]
  },
  {
   "cell_type": "code",
   "execution_count": null,
   "id": "468db12b",
   "metadata": {},
   "outputs": [],
   "source": [
    "df1.to_csv(\"NBA.csv\", index=False)"
   ]
  },
  {
   "cell_type": "code",
   "execution_count": null,
   "id": "e60cf9b9",
   "metadata": {},
   "outputs": [],
   "source": [
    "ls"
   ]
  },
  {
   "cell_type": "code",
   "execution_count": null,
   "id": "bc5f8255",
   "metadata": {},
   "outputs": [],
   "source": [
    "l = pd.read_html(\"https://stats.espncricinfo.com/ci/engine/records/averages/batting.html?class=3;id=6;type=team\")"
   ]
  },
  {
   "cell_type": "code",
   "execution_count": null,
   "id": "fc0282f4",
   "metadata": {},
   "outputs": [],
   "source": [
    "len(l)"
   ]
  },
  {
   "cell_type": "code",
   "execution_count": null,
   "id": "bc81a293",
   "metadata": {},
   "outputs": [],
   "source": [
    "l[0].to_csv(\"cricket.csv\", index=False)"
   ]
  },
  {
   "cell_type": "code",
   "execution_count": null,
   "id": "207980a4",
   "metadata": {},
   "outputs": [],
   "source": [
    "l[1]"
   ]
  },
  {
   "cell_type": "code",
   "execution_count": null,
   "id": "30098b0a",
   "metadata": {},
   "outputs": [],
   "source": [
    "l[2]"
   ]
  },
  {
   "cell_type": "code",
   "execution_count": null,
   "id": "a18d0dab",
   "metadata": {},
   "outputs": [],
   "source": [
    "d = \"\"\"\n",
    "{\"name\":\"sudhanshu kumar\", \"email_id\":\"sskumar@gmail.com\", \"tech\":[\"ml\", \"dl\", \"cv\"],\n",
    "\"platform\":[\"techneuron\", \"kidsneuron\", \"ineuron\"]\n",
    "}\n",
    "\n",
    "\"\"\""
   ]
  },
  {
   "cell_type": "code",
   "execution_count": null,
   "id": "a3e788da",
   "metadata": {},
   "outputs": [],
   "source": [
    "import json"
   ]
  },
  {
   "cell_type": "code",
   "execution_count": null,
   "id": "9ab77449",
   "metadata": {},
   "outputs": [],
   "source": [
    "pd.DataFrame(d)"
   ]
  },
  {
   "cell_type": "code",
   "execution_count": null,
   "id": "7b8e5325",
   "metadata": {},
   "outputs": [],
   "source": [
    "result = json.loads(d)"
   ]
  },
  {
   "cell_type": "code",
   "execution_count": null,
   "id": "ab486e90",
   "metadata": {},
   "outputs": [],
   "source": [
    "type(result)"
   ]
  },
  {
   "cell_type": "code",
   "execution_count": null,
   "id": "0621cd1c",
   "metadata": {},
   "outputs": [],
   "source": [
    "pd.read_json(result)"
   ]
  },
  {
   "cell_type": "code",
   "execution_count": null,
   "id": "061d2e1d",
   "metadata": {},
   "outputs": [],
   "source": [
    "pd.DataFrame(result)"
   ]
  },
  {
   "cell_type": "code",
   "execution_count": null,
   "id": "1944d64f",
   "metadata": {},
   "outputs": [],
   "source": [
    "pd.DataFrame(result['tech'])"
   ]
  },
  {
   "cell_type": "code",
   "execution_count": null,
   "id": "0e7c7d6a",
   "metadata": {},
   "outputs": [],
   "source": [
    "d = {\"packetType\":\"D\",\"data\":{\"checkEngineLightFlag\":\"F\",\"batteryVoltageStableTime\":0,\"batteryVoltageStable\":\"0\",\"batteryVoltageOff\":\"12.42\",\"batteryCrankParamTN\":\"-0.08\",\"batteryCrankParamVN\":\"0.00\",\"batteryCrankParamTP\":\"-0.08\",\"batteryCrankParamVP\":\"0.00\",\"batteryCrankParamTT\":\"-0.00008\",\"batteryCrankParamV0\":\"0.00\",\"batteryVoltageMaxOn\":\"13.05\",\"batteryVoltageMinOn\":\"12.97\",\"batteryVoltageMaxOff\":\"12.46\",\"batteryVoltageMinOff\":\"12.36\",\"batteryVoltageOnAverage\":\"13.02\",\"engineLoadMax\":\"84\",\"engineLoadAverage\":\"39.98\",\"rpmMax\":\"3487\",\"rpmAverage\":\"1431.29\",\"gpsSpeedAverage\":\"21.99\",\"vssMax\":\"53.44\",\"vssAverage\":\"23.06\",\"tcuTemperatureMin\":\"82.40\",\"tcuTemperatureMax\":\"109.40\",\"tcuTemperatureAverage\":\"104.87\",\"coolantMin\":\"158.00\",\"coolantMax\":\"188.60\",\"coolantAverage\":\"180.20\",\"packetStartLocal\":1508143346000,\"tripStartLocal\":1508143346000,\"milIndicator\":\"F\",\"monitorsNotReady\":0,\"imei\":\"60DF5417\",\"gatewayTs\":1515613306592,\"diagnosticTroubleCodeData\":[],\"diagnosticPidData\":[[64768,47,100],[64768,1,517376],[64800,1,262144],[64768,5,125]]},\"header\":{\"iwrapVer\":\"1.9.20\",\"sourceSystem\":\"CDP\",\"configVer\":\"1.1\",\"oemName\":\"HUM\",\"unitType\":0,\"cpVer\":\"7.50.1.9\",\"igpsVer\":\"1.3.7\",\"messageType\":\"Notification\",\"pomVer\":\"1.0\",\"headerVer\":\"V6\",\"timestamp\":0,\"deviceType\":\"InDrive\",\"visorVer\":\"1.4.35\",\"transactionId\":\"53098471-7787-4160-94b3-cd69dcc70416\",\"deviceSerialNo\":\"60DF5417\",\"subOrganization\":\"HUM\",\"organization\":\"HUM\",\"imei\":\"60DF5417\",\"operation\":\"Notification\"}}"
   ]
  },
  {
   "cell_type": "code",
   "execution_count": null,
   "id": "05999193",
   "metadata": {},
   "outputs": [],
   "source": [
    "pd.DataFrame(d)"
   ]
  },
  {
   "cell_type": "code",
   "execution_count": null,
   "id": "5a62ecff",
   "metadata": {},
   "outputs": [],
   "source": [
    "url = \"https://api.github.com/repos/pandas-dev/pandas/issues\""
   ]
  },
  {
   "cell_type": "code",
   "execution_count": null,
   "id": "6fe3e38a",
   "metadata": {},
   "outputs": [],
   "source": [
    "pd.read_json(url)"
   ]
  },
  {
   "cell_type": "code",
   "execution_count": null,
   "id": "748369df",
   "metadata": {},
   "outputs": [],
   "source": [
    "import requests"
   ]
  },
  {
   "cell_type": "code",
   "execution_count": null,
   "id": "2d93baee",
   "metadata": {},
   "outputs": [],
   "source": [
    "url = \"https://api.github.com/repos/pandas-dev/pandas/issues\""
   ]
  },
  {
   "cell_type": "code",
   "execution_count": null,
   "id": "6b610510",
   "metadata": {},
   "outputs": [],
   "source": [
    "data = requests.get(url)"
   ]
  },
  {
   "cell_type": "code",
   "execution_count": null,
   "id": "11436154",
   "metadata": {},
   "outputs": [],
   "source": [
    "data"
   ]
  },
  {
   "cell_type": "code",
   "execution_count": null,
   "id": "aca63741",
   "metadata": {},
   "outputs": [],
   "source": [
    "data1 = data.json()"
   ]
  },
  {
   "cell_type": "code",
   "execution_count": null,
   "id": "1b04a40e",
   "metadata": {},
   "outputs": [],
   "source": [
    "data1"
   ]
  },
  {
   "cell_type": "code",
   "execution_count": null,
   "id": "358d726f",
   "metadata": {},
   "outputs": [],
   "source": [
    "type(data1)"
   ]
  },
  {
   "cell_type": "code",
   "execution_count": null,
   "id": "0585cbe5",
   "metadata": {},
   "outputs": [],
   "source": [
    "len(data1)"
   ]
  },
  {
   "cell_type": "code",
   "execution_count": null,
   "id": "46edd198",
   "metadata": {},
   "outputs": [],
   "source": [
    "data1[0]['user']"
   ]
  },
  {
   "cell_type": "code",
   "execution_count": null,
   "id": "abe18d6e",
   "metadata": {},
   "outputs": [],
   "source": [
    "data1[0]['user']['id']"
   ]
  },
  {
   "cell_type": "code",
   "execution_count": null,
   "id": "cce3b6b0",
   "metadata": {},
   "outputs": [],
   "source": [
    "for i in range(30):\n",
    "    print(data1[i]['user']['id'])\n",
    "    "
   ]
  },
  {
   "cell_type": "code",
   "execution_count": null,
   "id": "f80c25ed",
   "metadata": {},
   "outputs": [],
   "source": [
    "pd.DataFrame(data1)"
   ]
  },
  {
   "cell_type": "code",
   "execution_count": null,
   "id": "3eea4069",
   "metadata": {},
   "outputs": [],
   "source": [
    "pd.DataFrame(data1, columns=['id', 'url', 'repository_url', 'labels_url'])"
   ]
  },
  {
   "cell_type": "code",
   "execution_count": null,
   "id": "75e084b5",
   "metadata": {},
   "outputs": [],
   "source": [
    "df2 = pd.DataFrame(data1, columns=['id', 'url', 'repository_url', 'labels_url', 'user'])"
   ]
  },
  {
   "cell_type": "code",
   "execution_count": null,
   "id": "1522c135",
   "metadata": {},
   "outputs": [],
   "source": [
    "df2.to_csv(\"json_res.csv\")"
   ]
  },
  {
   "cell_type": "code",
   "execution_count": null,
   "id": "92d3e354",
   "metadata": {},
   "outputs": [],
   "source": [
    "ls"
   ]
  },
  {
   "cell_type": "code",
   "execution_count": null,
   "id": "03d58e77",
   "metadata": {},
   "outputs": [],
   "source": [
    "l1 = data1[0]['user'].keys()"
   ]
  },
  {
   "cell_type": "code",
   "execution_count": null,
   "id": "b92487e7",
   "metadata": {},
   "outputs": [],
   "source": [
    "l2 = []\n",
    "for i in l1:\n",
    "    l2.append(i)"
   ]
  },
  {
   "cell_type": "code",
   "execution_count": null,
   "id": "01c1ab6b",
   "metadata": {},
   "outputs": [],
   "source": [
    "l2"
   ]
  },
  {
   "cell_type": "code",
   "execution_count": null,
   "id": "0a7600f4",
   "metadata": {},
   "outputs": [],
   "source": [
    "type(l2)"
   ]
  },
  {
   "cell_type": "code",
   "execution_count": null,
   "id": "2fdb2aaf",
   "metadata": {},
   "outputs": [],
   "source": [
    "l3 = ['id', 'url', 'repository_url', 'label_url']"
   ]
  },
  {
   "cell_type": "code",
   "execution_count": null,
   "id": "6eb46958",
   "metadata": {},
   "outputs": [],
   "source": [
    " l3.extend(l2)"
   ]
  },
  {
   "cell_type": "code",
   "execution_count": null,
   "id": "28832c93",
   "metadata": {},
   "outputs": [],
   "source": [
    "print(l3)"
   ]
  },
  {
   "cell_type": "code",
   "execution_count": null,
   "id": "792af00c",
   "metadata": {},
   "outputs": [],
   "source": [
    "type(l3)"
   ]
  },
  {
   "cell_type": "code",
   "execution_count": null,
   "id": "a928cdb3",
   "metadata": {},
   "outputs": [],
   "source": [
    "len(l3)"
   ]
  },
  {
   "cell_type": "code",
   "execution_count": null,
   "id": "8b1cfbbe",
   "metadata": {},
   "outputs": [],
   "source": [
    "df2 = pd.DataFrame(data1, columns=l3)"
   ]
  },
  {
   "cell_type": "code",
   "execution_count": null,
   "id": "6d97060b",
   "metadata": {},
   "outputs": [],
   "source": [
    "df2"
   ]
  },
  {
   "cell_type": "code",
   "execution_count": null,
   "id": "e7cd07b0",
   "metadata": {},
   "outputs": [],
   "source": [
    "df2.columns"
   ]
  },
  {
   "cell_type": "code",
   "execution_count": null,
   "id": "f9e9ebb8",
   "metadata": {},
   "outputs": [],
   "source": [
    "df2.to_csv(\"json_res.csv\")"
   ]
  },
  {
   "cell_type": "code",
   "execution_count": null,
   "id": "34b1a78a",
   "metadata": {},
   "outputs": [],
   "source": []
  }
 ],
 "metadata": {
  "kernelspec": {
   "display_name": "Python 3 (ipykernel)",
   "language": "python",
   "name": "python3"
  },
  "language_info": {
   "codemirror_mode": {
    "name": "ipython",
    "version": 3
   },
   "file_extension": ".py",
   "mimetype": "text/x-python",
   "name": "python",
   "nbconvert_exporter": "python",
   "pygments_lexer": "ipython3",
   "version": "3.8.11"
  }
 },
 "nbformat": 4,
 "nbformat_minor": 5
}
