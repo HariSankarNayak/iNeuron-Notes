{
 "cells": [
  {
   "cell_type": "code",
   "execution_count": null,
   "id": "52bc8b74",
   "metadata": {},
   "outputs": [],
   "source": [
    "Write a Python program to print'Hello Python'\n",
    "2. Write a Python program to do arithmetical operations addition and division.?\n",
    "3. Write a Python program to find the area of a triangle?\n",
    "4. Write a Python program to swap two variables?\n",
    "5. Write a Python program to generate a random number?"
   ]
  },
  {
   "cell_type": "code",
   "execution_count": 1,
   "id": "1651e3ec",
   "metadata": {},
   "outputs": [
    {
     "name": "stdout",
     "output_type": "stream",
     "text": [
      "Hello Python\n"
     ]
    }
   ],
   "source": [
    "print(\"Hello Python\")"
   ]
  },
  {
   "cell_type": "code",
   "execution_count": 6,
   "id": "cea94f7f",
   "metadata": {},
   "outputs": [
    {
     "name": "stdout",
     "output_type": "stream",
     "text": [
      "sum: 11\n",
      "quotient: 0.8333333333333334\n"
     ]
    }
   ],
   "source": [
    "a=5\n",
    "b=6\n",
    "print(\"sum:\",a+b)\n",
    "print(\"quotient:\",a/b)"
   ]
  },
  {
   "cell_type": "code",
   "execution_count": 5,
   "id": "f099dcd8",
   "metadata": {},
   "outputs": [
    {
     "name": "stdout",
     "output_type": "stream",
     "text": [
      "enter the first side of triangle5\n",
      "enter the first side of triangle4\n",
      "enter the first side of triangle3\n",
      "area of triangle is 2.449489742783178\n"
     ]
    }
   ],
   "source": [
    "import numpy as np\n",
    "side1=int(input(\"enter the first side of triangle\"))\n",
    "side2=int(input(\"enter the first side of triangle\"))\n",
    "side3=int(input(\"enter the first side of triangle\"))\n",
    "s=(side1+side2+side3)/2\n",
    "area_of_triangle=np.sqrt((s-side1)*(s-side2)*(s-side3))\n",
    "print(\"area of triangle is\",area_of_triangle)"
   ]
  },
  {
   "cell_type": "code",
   "execution_count": 7,
   "id": "58b45422",
   "metadata": {},
   "outputs": [
    {
     "name": "stdout",
     "output_type": "stream",
     "text": [
      "enter the first number4\n",
      "enter the sec number7\n",
      "number1 4 number 2 7\n",
      "number1 7 number 2 4\n"
     ]
    }
   ],
   "source": [
    "num1=input(\"enter the first number\")\n",
    "num2=input(\"enter the sec number\")\n",
    "print(\"number1\",num1,\"number 2\",num2)\n",
    "c=num1\n",
    "num1=num2\n",
    "num2=c\n",
    "print(\"number1\",num1,\"number 2\",num2)"
   ]
  },
  {
   "cell_type": "code",
   "execution_count": 8,
   "id": "8fcc71a4",
   "metadata": {},
   "outputs": [
    {
     "data": {
      "text/plain": [
       "2"
      ]
     },
     "execution_count": 8,
     "metadata": {},
     "output_type": "execute_result"
    }
   ],
   "source": [
    "import random\n",
    "random.randint(1,10)"
   ]
  },
  {
   "cell_type": "code",
   "execution_count": null,
   "id": "a4dcc2ea",
   "metadata": {},
   "outputs": [],
   "source": []
  }
 ],
 "metadata": {
  "kernelspec": {
   "display_name": "Python 3 (ipykernel)",
   "language": "python",
   "name": "python3"
  },
  "language_info": {
   "codemirror_mode": {
    "name": "ipython",
    "version": 3
   },
   "file_extension": ".py",
   "mimetype": "text/x-python",
   "name": "python",
   "nbconvert_exporter": "python",
   "pygments_lexer": "ipython3",
   "version": "3.9.7"
  }
 },
 "nbformat": 4,
 "nbformat_minor": 5
}
