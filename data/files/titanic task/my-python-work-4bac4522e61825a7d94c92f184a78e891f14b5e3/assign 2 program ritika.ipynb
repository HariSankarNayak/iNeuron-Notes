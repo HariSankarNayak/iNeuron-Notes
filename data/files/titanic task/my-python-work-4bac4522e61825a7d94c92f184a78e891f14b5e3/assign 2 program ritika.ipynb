{
 "cells": [
  {
   "cell_type": "code",
   "execution_count": null,
   "id": "e88bd754",
   "metadata": {},
   "outputs": [],
   "source": [
    "1. Write a Python program to convert kilometers to miles?\n",
    "2. Write a Python program to convert Celsius to Fahrenheit?\n",
    "3. Write a Python program to display calendar?\n",
    "4. Write a Python program to solve quadratic equation?\n",
    "5. Write a Python program to swap two variables without temp variable?"
   ]
  },
  {
   "cell_type": "code",
   "execution_count": 2,
   "id": "71a297be",
   "metadata": {},
   "outputs": [
    {
     "name": "stdout",
     "output_type": "stream",
     "text": [
      "enter the kilometers10\n",
      "6.25\n"
     ]
    }
   ],
   "source": [
    "kilometer=int(input(\"enter the kilometers\"))\n",
    "miles=kilometer/1.60\n",
    "print(miles)"
   ]
  },
  {
   "cell_type": "code",
   "execution_count": 4,
   "id": "15b13c78",
   "metadata": {},
   "outputs": [
    {
     "name": "stdout",
     "output_type": "stream",
     "text": [
      "enter the celcius100\n",
      "212.0\n"
     ]
    }
   ],
   "source": [
    "celcius=int(input(\"enter the celcius\"))\n",
    "fahrenheit=(celcius*9/5)+32\n",
    "print(fahrenheit)"
   ]
  },
  {
   "cell_type": "code",
   "execution_count": null,
   "id": "f42f0e0f",
   "metadata": {},
   "outputs": [],
   "source": []
  },
  {
   "cell_type": "code",
   "execution_count": 6,
   "id": "1f8a2deb",
   "metadata": {},
   "outputs": [
    {
     "name": "stdout",
     "output_type": "stream",
     "text": [
      "   December 2021\n",
      "Mo Tu We Th Fr Sa Su\n",
      "       1  2  3  4  5\n",
      " 6  7  8  9 10 11 12\n",
      "13 14 15 16 17 18 19\n",
      "20 21 22 23 24 25 26\n",
      "27 28 29 30 31\n",
      "\n"
     ]
    }
   ],
   "source": [
    "import calendar\n",
    "print(calendar.month(2021,12))"
   ]
  },
  {
   "cell_type": "code",
   "execution_count": 11,
   "id": "c5e5c068",
   "metadata": {},
   "outputs": [
    {
     "name": "stdout",
     "output_type": "stream",
     "text": [
      "bring your equation in this form \n",
      " ax^2 + bx + c\n",
      "enter the value of a5\n",
      "enter the value of b8\n",
      "enter the value of c5\n"
     ]
    },
    {
     "data": {
      "text/plain": [
       "'imaginary roots'"
      ]
     },
     "execution_count": 11,
     "metadata": {},
     "output_type": "execute_result"
    }
   ],
   "source": [
    "import numpy as np\n",
    "def sol_quad():\n",
    "    print(f\"bring your equation in this form \\n ax^2 + bx + c\")\n",
    "    a=float(input(\"enter the value of a\"))\n",
    "    b=float(input(\"enter the value of b\"))\n",
    "    c=float(input(\"enter the value of c\"))\n",
    "    if (b**2-4*a*c)>=0:\n",
    "        root1=(-b+np.sqrt(b**2-4*a*c))/(2*a)\n",
    "        root2=(-b-np.sqrt(b**2-4*a*c))/(2*a)\n",
    "        return root1,root2\n",
    "    else:\n",
    "        return \"imaginary roots\"\n",
    "sol_quad()"
   ]
  },
  {
   "cell_type": "code",
   "execution_count": 12,
   "id": "be58c43f",
   "metadata": {},
   "outputs": [
    {
     "name": "stdout",
     "output_type": "stream",
     "text": [
      "enter the first number5\n",
      "enter the 2nd number8\n",
      "before swapping:\n",
      "a: 5 b: 8\n",
      "after swapping:\n",
      "a: 8 b: 5\n"
     ]
    }
   ],
   "source": [
    "a=input(\"enter the first number\")\n",
    "b=input(\"enter the 2nd number\")\n",
    "print(\"before swapping:\")\n",
    "print(\"a:\",a,\"b:\",b)\n",
    "a,b=b,a\n",
    "print(\"after swapping:\")\n",
    "print(\"a:\",a,\"b:\",b)"
   ]
  },
  {
   "cell_type": "code",
   "execution_count": null,
   "id": "4149bd8f",
   "metadata": {},
   "outputs": [],
   "source": []
  },
  {
   "cell_type": "code",
   "execution_count": null,
   "id": "79eecfdc",
   "metadata": {},
   "outputs": [],
   "source": []
  },
  {
   "cell_type": "code",
   "execution_count": null,
   "id": "5b90362b",
   "metadata": {},
   "outputs": [],
   "source": []
  }
 ],
 "metadata": {
  "kernelspec": {
   "display_name": "Python 3 (ipykernel)",
   "language": "python",
   "name": "python3"
  },
  "language_info": {
   "codemirror_mode": {
    "name": "ipython",
    "version": 3
   },
   "file_extension": ".py",
   "mimetype": "text/x-python",
   "name": "python",
   "nbconvert_exporter": "python",
   "pygments_lexer": "ipython3",
   "version": "3.9.7"
  }
 },
 "nbformat": 4,
 "nbformat_minor": 5
}
