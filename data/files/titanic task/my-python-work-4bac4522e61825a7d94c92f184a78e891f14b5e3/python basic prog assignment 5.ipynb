{
 "cells": [
  {
   "cell_type": "markdown",
   "id": "7e3789cd",
   "metadata": {},
   "source": [
    "                            ASSIGNMENT 5\n",
    "\n",
    "    1. Write a Python Program to Find LCM?,\n",
    "    2. Write a Python Program to Find HCF?\n",
    "    3. Write a Python Program to Convert Decimal to Binary, Octal and Hexadecimal?\\n\",\n",
    "    4. Write a Python Program To Find ASCII value of a character?\\n\",\n",
    "    5. Write a Python Program to Make a Simple Calculator with 4 basic mathematical operations?\"\n",
    " \n",
    "   \n",
    " "
   ]
  },
  {
   "cell_type": "code",
   "execution_count": null,
   "id": "79e48397",
   "metadata": {},
   "outputs": [],
   "source": [
    "num1=int(input(\"enter the smaller number\"))\n",
    "num2=int(input(\"enter the larger number\"))\n",
    "mul1=[]\n",
    "mul2=[]\n",
    "for i in range(1,num2+1):\n",
    "    mul1.append(num1*i)\n",
    "    mul2.append(num2*i)\n",
    "    for j in mul1\n",
    "        if j in mul2:\n",
    "            print(f\"the LCM of {num1} and {num2} is {j}\")\n",
    "        else:\n",
    "            pass\n"
   ]
  },
  {
   "cell_type": "code",
   "execution_count": 9,
   "id": "f2a223d7",
   "metadata": {},
   "outputs": [
    {
     "name": "stdout",
     "output_type": "stream",
     "text": [
      "enter the smaller number34\n",
      "enter the larger number56\n",
      "the HCF of 34 and 56 is 2\n"
     ]
    }
   ],
   "source": [
    "num1=int(input(\"enter the smaller number\"))\n",
    "num2=int(input(\"enter the larger number\"))\n",
    "common_fact=[]\n",
    "fact1=[i for i in range(2,num1+1) if num1%i==0]\n",
    "fact2=[i for i in range(2,num2+1) if num2%i==0]  \n",
    "for j in fact1:\n",
    "    if j in fact2:\n",
    "        common_fact.append(j) \n",
    "               \n",
    "               \n",
    "print(f\"the HCF of {num1} and {num2} is {max(common_fact)}\")  "
   ]
  },
  {
   "cell_type": "code",
   "execution_count": 14,
   "id": "24a7cd5c",
   "metadata": {},
   "outputs": [
    {
     "name": "stdout",
     "output_type": "stream",
     "text": [
      "enter a number to convert it into binary,octal,hexadecimal242\n",
      "the binary of 242 is   1 1 1 1 0 0 1 0\n",
      "the octa of 242 is   3 6 2\n",
      "the hexadecimal of 242 is   F 2\n"
     ]
    }
   ],
   "source": [
    "n=int(input(\"enter a number to convert it into binary,octal,hexadecimal\"))\n",
    "num=n\n",
    "rem_bin=[]\n",
    "hex_dict={10:\"A\",11:\"B\",12:\"C\",13:\"D\",14:\"E\",15:\"F\"}\n",
    "while num!=0:\n",
    "    r=num%2\n",
    "    rem_bin.append(r)\n",
    "    num=num//2\n",
    "num=n   \n",
    "rem_oct=[]\n",
    "while num!=0:\n",
    "    r=num%8\n",
    "    rem_oct.append(r)\n",
    "    num=num//8\n",
    "num=n  \n",
    "rem_hexa=[]\n",
    "while num!=0:\n",
    "    r=num%16\n",
    "    if r <10:\n",
    "        rem_hexa.append(r)\n",
    "    else:\n",
    "        rem_hexa.append(hex_dict[r])\n",
    "    num=num//16\n",
    "rem_bin.reverse() \n",
    "rem_oct.reverse()\n",
    "rem_hexa.reverse()\n",
    "\n",
    "print(\"the binary of\", n, \"is  \", *rem_bin)\n",
    "print(\"the octa of\", n, \"is  \", *rem_oct)\n",
    "print(\"the hexadecimal of\", n, \"is  \", *rem_hexa)            \n",
    "    "
   ]
  },
  {
   "cell_type": "code",
   "execution_count": 16,
   "id": "2208a27e",
   "metadata": {},
   "outputs": [
    {
     "name": "stdout",
     "output_type": "stream",
     "text": [
      "the ascii is: 97\n"
     ]
    }
   ],
   "source": [
    "def get_ascii(chr):\n",
    "   print(\"the ascii is:\",ord(chr))\n",
    "get_ascii(\"a\")"
   ]
  },
  {
   "cell_type": "code",
   "execution_count": 18,
   "id": "6a39ad6a",
   "metadata": {},
   "outputs": [
    {
     "data": {
      "text/plain": [
       "0.8"
      ]
     },
     "execution_count": 18,
     "metadata": {},
     "output_type": "execute_result"
    }
   ],
   "source": [
    "def calculate(num1,num2,opr):\n",
    "\n",
    "    if opr==\"+\":\n",
    "        res=num1+num2\n",
    "    elif opr==\"-\":\n",
    "        res=num1-num2\n",
    "    elif opr==\"*\":\n",
    "        res=num1*num2\n",
    "    elif opr==\"/\":\n",
    "            try:\n",
    "                res=num1/num2\n",
    "            except :\n",
    "                print(\"don't divide with zero\")\n",
    "            else:\n",
    "                return res\n",
    "    \n",
    "#     num1=res\n",
    "#     while opr!=\"=\":\n",
    "#         calculate(num1,num2,opr)\n",
    "   \n",
    "calculate(4,5,\"/\")"
   ]
  },
  {
   "cell_type": "code",
   "execution_count": null,
   "id": "08463529",
   "metadata": {},
   "outputs": [],
   "source": []
  }
 ],
 "metadata": {
  "kernelspec": {
   "display_name": "Python 3 (ipykernel)",
   "language": "python",
   "name": "python3"
  },
  "language_info": {
   "codemirror_mode": {
    "name": "ipython",
    "version": 3
   },
   "file_extension": ".py",
   "mimetype": "text/x-python",
   "name": "python",
   "nbconvert_exporter": "python",
   "pygments_lexer": "ipython3",
   "version": "3.9.7"
  }
 },
 "nbformat": 4,
 "nbformat_minor": 5
}
