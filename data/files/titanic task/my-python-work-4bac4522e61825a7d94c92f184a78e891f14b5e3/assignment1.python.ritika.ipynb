{
 "cells": [
  {
   "cell_type": "markdown",
   "id": "a4e9e5cf",
   "metadata": {},
   "source": [
    "                                      ASSIGNMENT 1\n",
    "1.In the below elements which of them are values or an expression? eg:- values can be\n",
    "integer or string and expressions will be mathematical operators.\n",
    "*\n",
    "\"hello\"\n",
    "-87.8\n",
    "-\n",
    "/\n",
    "+\n",
    "6\n",
    "ans:value-\"hello\",-87.8,6\n",
    "    operator-*,-,/,+\n",
    "    \n",
    "\n",
    "2. What is the difference between string and variable?\n",
    "ans:variable can store one value at a time and are mutable\n",
    "strings can hold more than one character and is immutable\n",
    "\n",
    "3. Describe three different data types.\n",
    "string,integers,bool,float\n",
    "\n",
    "4. What is an expression made up of? What do all expressions do?\n",
    "expressions are made up of values,variables and operators\n",
    "\n",
    "5. This assignment statements, like spam = 10. What is the difference between an\n",
    "expression and a statement?\n",
    "ans: statement can be any line of code,expression is meaningful formula\n",
    "\n",
    "6. After running the following code, what does the variable bacon contain?\n",
    "bacon = 22\n",
    "bacon + 1\n",
    "ans: 22\n",
    "\n",
    "7. What should the values of the following two terms\n",
    "\"spam\"+\"spamspam\"\n",
    "\"spam\"*3\n",
    "ans: spamspamspam\n",
    "spamspamspam\n",
    "\n",
    "8. Why is eggs a valid variable name while 100 is invalid?\n",
    "ans: avariable name should never begin with numerical figures\n",
    "\n",
    "9. What three functions can be used to get the integer, floating-point number, or string\n",
    "version of a value?\n",
    "ans:int(),float(),str()\n",
    "\n",
    "10. Why does this expression cause an error? How can you fix it?\n",
    "'I have eaten'+99 + 'burritos'\n",
    "ans:'I have eaten'+str(99) + 'burritos'.Earlier this was showing the error because string concatenation can be done with strings only\n"
   ]
  },
  {
   "cell_type": "code",
   "execution_count": null,
   "id": "a3fa73a2",
   "metadata": {},
   "outputs": [],
   "source": []
  }
 ],
 "metadata": {
  "kernelspec": {
   "display_name": "Python 3 (ipykernel)",
   "language": "python",
   "name": "python3"
  },
  "language_info": {
   "codemirror_mode": {
    "name": "ipython",
    "version": 3
   },
   "file_extension": ".py",
   "mimetype": "text/x-python",
   "name": "python",
   "nbconvert_exporter": "python",
   "pygments_lexer": "ipython3",
   "version": "3.9.7"
  }
 },
 "nbformat": 4,
 "nbformat_minor": 5
}
