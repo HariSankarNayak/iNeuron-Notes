{
 "cells": [
  {
   "cell_type": "markdown",
   "id": "dc059974",
   "metadata": {},
   "source": [
    "                            Assignment4\n",
    "\n",
    "1. Write a Python Program to Find the Factorial of a Number?\n",
    "2. Write a Python Program to Display the multiplication Table?\n",
    "3. Write a Python Program to Print the Fibonacci sequence?\n",
    "4. Write a Python Program to Check Armstrong Number?\n",
    "5. Write a Python Program to Find Armstrong Number in an Interval?\n",
    "6. Write a Python Program to Find the Sum of Natural Numbers?\n"
   ]
  },
  {
   "cell_type": "code",
   "execution_count": 5,
   "id": "96738f42",
   "metadata": {},
   "outputs": [
    {
     "data": {
      "text/plain": [
       "1"
      ]
     },
     "execution_count": 5,
     "metadata": {},
     "output_type": "execute_result"
    }
   ],
   "source": [
    "def factorial(num):\n",
    "    if num<0:\n",
    "        print(\"can't give factorial of neghative numbers\")\n",
    "    elif num==0:\n",
    "        return 1\n",
    "    else:\n",
    "        fact=1\n",
    "        while num>=1:\n",
    "            fact=fact*num\n",
    "            num-=1\n",
    "        return fact \n",
    "factorial(0) "
   ]
  },
  {
   "cell_type": "code",
   "execution_count": 6,
   "id": "98c61cab",
   "metadata": {},
   "outputs": [
    {
     "name": "stdout",
     "output_type": "stream",
     "text": [
      "enter the number for which you want to see the table5\n",
      "5 x 1 = 5\n",
      "5 x 2 = 10\n",
      "5 x 3 = 15\n",
      "5 x 4 = 20\n",
      "5 x 5 = 25\n",
      "5 x 6 = 30\n",
      "5 x 7 = 35\n",
      "5 x 8 = 40\n",
      "5 x 9 = 45\n",
      "5 x 10 = 50\n"
     ]
    }
   ],
   "source": [
    "num=int(input(\"enter the number for which you want to see the table\"))\n",
    "for i in range(1,11):\n",
    "    print(num,\"x\",i,\"=\",num*i)"
   ]
  },
  {
   "cell_type": "code",
   "execution_count": 16,
   "id": "299d58fa",
   "metadata": {},
   "outputs": [
    {
     "name": "stdout",
     "output_type": "stream",
     "text": [
      "1 1 2 3 5 8 13 21 34 "
     ]
    }
   ],
   "source": [
    "a=0\n",
    "b=1\n",
    "for num in range(1,10):\n",
    "    if num<2:\n",
    "        print(1,end=\" \")\n",
    "        \n",
    "    else:    \n",
    "        c=a+b\n",
    "        print(c,end=\" \")\n",
    "    \n",
    "        a=b\n",
    "        b=c\n",
    "    "
   ]
  },
  {
   "cell_type": "code",
   "execution_count": 37,
   "id": "fedac459",
   "metadata": {},
   "outputs": [
    {
     "name": "stdout",
     "output_type": "stream",
     "text": [
      "enter any number370\n",
      "it is an armstrong number\n"
     ]
    }
   ],
   "source": [
    "n=int(input(\"enter any number\"))\n",
    "num=n\n",
    "sum=0\n",
    "\n",
    "while num!=0:\n",
    "    r=num%10\n",
    "    sum=sum+r**3\n",
    "    num=num//10\n",
    "\n",
    "if sum==n:\n",
    "    print(\"it is an armstrong number\")\n",
    "    \n",
    "    "
   ]
  },
  {
   "cell_type": "code",
   "execution_count": 39,
   "id": "974905d9",
   "metadata": {},
   "outputs": [
    {
     "name": "stdout",
     "output_type": "stream",
     "text": [
      "enter the lower number0\n",
      "enter the upper number500\n",
      "0\n",
      "1\n",
      "153\n",
      "370\n",
      "371\n",
      "407\n"
     ]
    }
   ],
   "source": [
    "n_lower=int(input(\"enter the lower number\"))\n",
    "n_upper=int(input(\"enter the upper number\"))\n",
    "\n",
    "\n",
    "for n in range(n_lower,n_upper+1):\n",
    "    sum=0\n",
    "    num=n\n",
    "    while num!=0:\n",
    "        r=num%10\n",
    "        sum=sum+r**3\n",
    "        num=num//10\n",
    "\n",
    "    if sum==n:\n",
    "        print(n)"
   ]
  },
  {
   "cell_type": "code",
   "execution_count": 41,
   "id": "cfc0bf8c",
   "metadata": {},
   "outputs": [
    {
     "name": "stdout",
     "output_type": "stream",
     "text": [
      "enter any number8\n",
      "the sum of 8 natural numbers is 36\n"
     ]
    }
   ],
   "source": [
    "n=int(input(\"enter any number\"))\n",
    "sum=0\n",
    "\n",
    "for i in range(1,n+1):\n",
    "    sum=sum+i\n",
    "print(f\"the sum of {n} natural numbers is {sum}\")    "
   ]
  },
  {
   "cell_type": "code",
   "execution_count": null,
   "id": "8326ad56",
   "metadata": {},
   "outputs": [],
   "source": []
  }
 ],
 "metadata": {
  "kernelspec": {
   "display_name": "Python 3 (ipykernel)",
   "language": "python",
   "name": "python3"
  },
  "language_info": {
   "codemirror_mode": {
    "name": "ipython",
    "version": 3
   },
   "file_extension": ".py",
   "mimetype": "text/x-python",
   "name": "python",
   "nbconvert_exporter": "python",
   "pygments_lexer": "ipython3",
   "version": "3.9.7"
  }
 },
 "nbformat": 4,
 "nbformat_minor": 5
}
