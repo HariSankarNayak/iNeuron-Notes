{
 "cells": [
  {
   "cell_type": "code",
   "execution_count": 7,
   "id": "7bf3c89e",
   "metadata": {},
   "outputs": [],
   "source": [
    "import pandas as pd"
   ]
  },
  {
   "cell_type": "code",
   "execution_count": 6,
   "id": "48002bb8",
   "metadata": {},
   "outputs": [],
   "source": [
    "df = pd.read_csv(\n",
    "    'https://raw.githubusercontent.com/datasciencedojo/datasets/master/titanic.csv')"
   ]
  },
  {
   "cell_type": "code",
   "execution_count": 8,
   "id": "40bb9727",
   "metadata": {},
   "outputs": [
    {
     "name": "stdout",
     "output_type": "stream",
     "text": [
      "Number of male passengers: 577\n",
      "Number of female passengers: 314\n"
     ]
    }
   ],
   "source": [
    "# 1. find out how many male and female passenger was onboarded\n",
    "male_passengers = len(df[df['Sex'] == 'male'])\n",
    "female_passengers = len(df[df['Sex'] == 'female'])\n",
    "print('Number of male passengers:', male_passengers)\n",
    "print('Number of female passengers:', female_passengers)"
   ]
  },
  {
   "cell_type": "code",
   "execution_count": 9,
   "id": "1107c5b8",
   "metadata": {},
   "outputs": [
    {
     "name": "stdout",
     "output_type": "stream",
     "text": [
      "Number of survivors: 342\n"
     ]
    }
   ],
   "source": [
    "# 2. how many survived\n",
    "survivors = len(df[df['Survived'] == True])\n",
    "print('Number of survivors:', survivors)"
   ]
  },
  {
   "cell_type": "code",
   "execution_count": 10,
   "id": "c428b7a3",
   "metadata": {},
   "outputs": [
    {
     "name": "stdout",
     "output_type": "stream",
     "text": [
      "Number of victims: 549\n"
     ]
    }
   ],
   "source": [
    "# 3. how many casualty we have\n",
    "deceased = len(df[df['Survived'] == False])\n",
    "print('Number of victims:', deceased)"
   ]
  },
  {
   "cell_type": "code",
   "execution_count": 11,
   "id": "16f7f47c",
   "metadata": {},
   "outputs": [
    {
     "name": "stdout",
     "output_type": "stream",
     "text": [
      "Name of the eldest passenger: Barkworth, Mr. Algernon Henry Wilson\n"
     ]
    }
   ],
   "source": [
    "# 4. what is the name of the eldest person\n",
    "eldest_person_name = df[df.Age == max(df.Age)].Name.values[0] #Trying the dot notation here\n",
    "print('Name of the eldest passenger:', eldest_person_name)"
   ]
  },
  {
   "cell_type": "code",
   "execution_count": 12,
   "id": "24c1821e",
   "metadata": {},
   "outputs": [
    {
     "name": "stdout",
     "output_type": "stream",
     "text": [
      "Number of first class passengers: 216\n",
      "Number of second class passengers: 184\n",
      "Number of third class passengers: 491\n"
     ]
    }
   ],
   "source": [
    "# 5. how many passenger do we have in first, second, third class\n",
    "first_class_passengers = len(df[df['Pclass'] == 1])\n",
    "second_class_passengers = len(df[df['Pclass'] == 2])\n",
    "third_class_passengers = len(df[df['Pclass'] == 3])\n",
    "print('Number of first class passengers:', first_class_passengers)\n",
    "print('Number of second class passengers:', second_class_passengers)\n",
    "print('Number of third class passengers:', third_class_passengers)"
   ]
  },
  {
   "cell_type": "code",
   "execution_count": 13,
   "id": "95843f98",
   "metadata": {},
   "outputs": [
    {
     "name": "stdout",
     "output_type": "stream",
     "text": [
      "Number of persons whose name starts with \"S\": 86\n"
     ]
    }
   ],
   "source": [
    "# 6. how many persons we have whose name start with 'S'\n",
    "names_startswith_s = len(df[df.Name.str.startswith('S')])\n",
    "print('Number of persons whose name starts with \"S\":', names_startswith_s)"
   ]
  },
  {
   "cell_type": "code",
   "execution_count": 14,
   "id": "657c836b",
   "metadata": {},
   "outputs": [
    {
     "data": {
      "text/html": [
       "<div>\n",
       "<style scoped>\n",
       "    .dataframe tbody tr th:only-of-type {\n",
       "        vertical-align: middle;\n",
       "    }\n",
       "\n",
       "    .dataframe tbody tr th {\n",
       "        vertical-align: top;\n",
       "    }\n",
       "\n",
       "    .dataframe thead th {\n",
       "        text-align: right;\n",
       "    }\n",
       "</style>\n",
       "<table border=\"1\" class=\"dataframe\">\n",
       "  <thead>\n",
       "    <tr style=\"text-align: right;\">\n",
       "      <th></th>\n",
       "      <th>PassengerId</th>\n",
       "      <th>Survived</th>\n",
       "      <th>Pclass</th>\n",
       "      <th>Name</th>\n",
       "      <th>Sex</th>\n",
       "      <th>Age</th>\n",
       "      <th>SibSp</th>\n",
       "      <th>Parch</th>\n",
       "      <th>Ticket</th>\n",
       "      <th>Fare</th>\n",
       "      <th>Cabin</th>\n",
       "      <th>Embarked</th>\n",
       "      <th>SibSpParch</th>\n",
       "    </tr>\n",
       "  </thead>\n",
       "  <tbody>\n",
       "    <tr>\n",
       "      <th>0</th>\n",
       "      <td>1</td>\n",
       "      <td>0</td>\n",
       "      <td>3</td>\n",
       "      <td>Braund, Mr. Owen Harris</td>\n",
       "      <td>male</td>\n",
       "      <td>22.0</td>\n",
       "      <td>1</td>\n",
       "      <td>0</td>\n",
       "      <td>A/5 21171</td>\n",
       "      <td>7.2500</td>\n",
       "      <td>NaN</td>\n",
       "      <td>S</td>\n",
       "      <td>1</td>\n",
       "    </tr>\n",
       "    <tr>\n",
       "      <th>1</th>\n",
       "      <td>2</td>\n",
       "      <td>1</td>\n",
       "      <td>1</td>\n",
       "      <td>Cumings, Mrs. John Bradley (Florence Briggs Th...</td>\n",
       "      <td>female</td>\n",
       "      <td>38.0</td>\n",
       "      <td>1</td>\n",
       "      <td>0</td>\n",
       "      <td>PC 17599</td>\n",
       "      <td>71.2833</td>\n",
       "      <td>C85</td>\n",
       "      <td>C</td>\n",
       "      <td>1</td>\n",
       "    </tr>\n",
       "    <tr>\n",
       "      <th>2</th>\n",
       "      <td>3</td>\n",
       "      <td>1</td>\n",
       "      <td>3</td>\n",
       "      <td>Heikkinen, Miss. Laina</td>\n",
       "      <td>female</td>\n",
       "      <td>26.0</td>\n",
       "      <td>0</td>\n",
       "      <td>0</td>\n",
       "      <td>STON/O2. 3101282</td>\n",
       "      <td>7.9250</td>\n",
       "      <td>NaN</td>\n",
       "      <td>S</td>\n",
       "      <td>0</td>\n",
       "    </tr>\n",
       "    <tr>\n",
       "      <th>3</th>\n",
       "      <td>4</td>\n",
       "      <td>1</td>\n",
       "      <td>1</td>\n",
       "      <td>Futrelle, Mrs. Jacques Heath (Lily May Peel)</td>\n",
       "      <td>female</td>\n",
       "      <td>35.0</td>\n",
       "      <td>1</td>\n",
       "      <td>0</td>\n",
       "      <td>113803</td>\n",
       "      <td>53.1000</td>\n",
       "      <td>C123</td>\n",
       "      <td>S</td>\n",
       "      <td>1</td>\n",
       "    </tr>\n",
       "    <tr>\n",
       "      <th>4</th>\n",
       "      <td>5</td>\n",
       "      <td>0</td>\n",
       "      <td>3</td>\n",
       "      <td>Allen, Mr. William Henry</td>\n",
       "      <td>male</td>\n",
       "      <td>35.0</td>\n",
       "      <td>0</td>\n",
       "      <td>0</td>\n",
       "      <td>373450</td>\n",
       "      <td>8.0500</td>\n",
       "      <td>NaN</td>\n",
       "      <td>S</td>\n",
       "      <td>0</td>\n",
       "    </tr>\n",
       "  </tbody>\n",
       "</table>\n",
       "</div>"
      ],
      "text/plain": [
       "   PassengerId  Survived  Pclass  \\\n",
       "0            1         0       3   \n",
       "1            2         1       1   \n",
       "2            3         1       3   \n",
       "3            4         1       1   \n",
       "4            5         0       3   \n",
       "\n",
       "                                                Name     Sex   Age  SibSp  \\\n",
       "0                            Braund, Mr. Owen Harris    male  22.0      1   \n",
       "1  Cumings, Mrs. John Bradley (Florence Briggs Th...  female  38.0      1   \n",
       "2                             Heikkinen, Miss. Laina  female  26.0      0   \n",
       "3       Futrelle, Mrs. Jacques Heath (Lily May Peel)  female  35.0      1   \n",
       "4                           Allen, Mr. William Henry    male  35.0      0   \n",
       "\n",
       "   Parch            Ticket     Fare Cabin Embarked  SibSpParch  \n",
       "0      0         A/5 21171   7.2500   NaN        S           1  \n",
       "1      0          PC 17599  71.2833   C85        C           1  \n",
       "2      0  STON/O2. 3101282   7.9250   NaN        S           0  \n",
       "3      0            113803  53.1000  C123        S           1  \n",
       "4      0            373450   8.0500   NaN        S           0  "
      ]
     },
     "execution_count": 14,
     "metadata": {},
     "output_type": "execute_result"
    }
   ],
   "source": [
    "# 7. try to create a new column which is a summation of 'SibSp' and 'Parch'\n",
    "df['SibSpParch'] = df['SibSp'] + df['Parch']\n",
    "df.head()"
   ]
  },
  {
   "cell_type": "code",
   "execution_count": 15,
   "id": "a9270bce",
   "metadata": {},
   "outputs": [
    {
     "name": "stdout",
     "output_type": "stream",
     "text": [
      "Number of persons aged less than 25: 278\n"
     ]
    }
   ],
   "source": [
    "# 8. how many persons do we have below age of 25\n",
    "passengers_aged_less_than_twenty_five = len(df[df.Age < 25])\n",
    "print('Number of persons aged less than 25:', passengers_aged_less_than_twenty_five)"
   ]
  },
  {
   "cell_type": "code",
   "execution_count": 16,
   "id": "1c5451ef",
   "metadata": {},
   "outputs": [
    {
     "name": "stdout",
     "output_type": "stream",
     "text": [
      "Number of victims aged less than 40: 322\n"
     ]
    }
   ],
   "source": [
    "# 9. how many persons died whose age was less than 40\n",
    "deceased_at_less_than_40 = len(df[(df.Survived == False) & (df.Age < 40)])\n",
    "print('Number of victims aged less than 40:', deceased_at_less_than_40)"
   ]
  },
  {
   "cell_type": "code",
   "execution_count": 17,
   "id": "b00da7a3",
   "metadata": {},
   "outputs": [
    {
     "data": {
      "text/plain": [
       "1              85\n",
       "3             123\n",
       "6              46\n",
       "10              6\n",
       "11            103\n",
       "          ...    \n",
       "871            35\n",
       "872    51 B53 B55\n",
       "879            50\n",
       "887            42\n",
       "889           148\n",
       "Name: Cabin, Length: 204, dtype: object"
      ]
     },
     "execution_count": 17,
     "metadata": {},
     "output_type": "execute_result"
    }
   ],
   "source": [
    "# 10. from a cabin column, separate text and numeric value\n",
    "\n",
    "cabin_numbers = df.Cabin[~df.Cabin.isna()].str[1:]\n",
    "cabin_text = df.Cabin[~df.Cabin.isna()].str[0]\n",
    "cabin_numbers"
   ]
  },
  {
   "cell_type": "code",
   "execution_count": 18,
   "id": "feaccfda",
   "metadata": {},
   "outputs": [
    {
     "data": {
      "text/plain": [
       "1      C\n",
       "3      C\n",
       "6      E\n",
       "10     G\n",
       "11     C\n",
       "      ..\n",
       "871    D\n",
       "872    B\n",
       "879    C\n",
       "887    B\n",
       "889    C\n",
       "Name: Cabin, Length: 204, dtype: object"
      ]
     },
     "execution_count": 18,
     "metadata": {},
     "output_type": "execute_result"
    }
   ],
   "source": [
    "cabin_text"
   ]
  }
 ],
 "metadata": {
  "kernelspec": {
   "display_name": "Python 3 (ipykernel)",
   "language": "python",
   "name": "python3"
  },
  "language_info": {
   "codemirror_mode": {
    "name": "ipython",
    "version": 3
   },
   "file_extension": ".py",
   "mimetype": "text/x-python",
   "name": "python",
   "nbconvert_exporter": "python",
   "pygments_lexer": "ipython3",
   "version": "3.8.5"
  }
 },
 "nbformat": 4,
 "nbformat_minor": 5
}
