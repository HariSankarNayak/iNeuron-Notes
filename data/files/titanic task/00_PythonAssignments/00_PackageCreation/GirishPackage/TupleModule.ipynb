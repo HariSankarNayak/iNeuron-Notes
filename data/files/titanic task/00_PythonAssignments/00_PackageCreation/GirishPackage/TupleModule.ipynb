{
 "cells": [
  {
   "cell_type": "code",
   "execution_count": 1,
   "id": "a4e79cc8",
   "metadata": {},
   "outputs": [],
   "source": [
    "# Write a class for the tuple, including all possible subfunctions for tuple\n",
    "\n",
    "import logging\n",
    "\n",
    "\n",
    "class MyTuple1:\n",
    "    def __init__(self, tp1):\n",
    "        logging.basicConfig(filename=\"LogInfo.log\", level=logging.DEBUG)\n",
    "        logging.basicConfig(filename=\"LogInfo.log\", level=logging.INFO)\n",
    "        logging.basicConfig(filename=\"LogInfo.log\", level=logging.WARNING)\n",
    "        logging.basicConfig(filename=\"LogInfo.log\", level=logging.ERROR)\n",
    "\n",
    "        self.tp = tp1\n",
    "\n",
    "    def CountValue(self, val):\n",
    "        try:\n",
    "            FoundCount = 0\n",
    "            for i in self.tp:\n",
    "                if (val == i):\n",
    "                    FoundCount = FoundCount + 1\n",
    "            return FoundCount\n",
    "\n",
    "        except Exception as e:\n",
    "            err_str = \"Exception Occured : \" + str(e)\n",
    "            logging.exception(err_str)\n",
    "            logging.shutdown()\n",
    "            raise Exception(err_str)\n",
    "\n",
    "    def FindIndex(self, val):\n",
    "        try:\n",
    "            FoundIndex = -1;  # Assuming -1 as INVALID value\n",
    "            for i in range(0, len(self.tp)):\n",
    "                if (val == self.tp[i]):\n",
    "                    FoundIndex = i\n",
    "                    break\n",
    "\n",
    "            if (FoundIndex == -1):\n",
    "                err_str = val, \"NOT Available in the given tuple\"\n",
    "                logging.info(err_str)\n",
    "\n",
    "            return FoundIndex\n",
    "\n",
    "        except Exception as e:\n",
    "            err_str = \"Exception Occured : \" + str(e)\n",
    "            logging.exception(err_str)\n",
    "            logging.shutdown()\n",
    "            raise Exception(err_str)\n",
    "\n"
   ]
  },
  {
   "cell_type": "code",
   "execution_count": null,
   "id": "5d67ddf8",
   "metadata": {},
   "outputs": [],
   "source": []
  }
 ],
 "metadata": {
  "kernelspec": {
   "display_name": "Python 3 (ipykernel)",
   "language": "python",
   "name": "python3"
  },
  "language_info": {
   "codemirror_mode": {
    "name": "ipython",
    "version": 3
   },
   "file_extension": ".py",
   "mimetype": "text/x-python",
   "name": "python",
   "nbconvert_exporter": "python",
   "pygments_lexer": "ipython3",
   "version": "3.9.7"
  }
 },
 "nbformat": 4,
 "nbformat_minor": 5
}
