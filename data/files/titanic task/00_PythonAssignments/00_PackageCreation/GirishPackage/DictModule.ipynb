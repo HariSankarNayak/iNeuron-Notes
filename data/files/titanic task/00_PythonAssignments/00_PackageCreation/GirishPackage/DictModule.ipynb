{
 "cells": [
  {
   "cell_type": "code",
   "execution_count": 2,
   "id": "2b5384b1",
   "metadata": {},
   "outputs": [],
   "source": [
    "import logging\n",
    "logging.basicConfig(filename=\"test.log\", level=logging.DEBUG)\n",
    "logging.basicConfig(filename=\"test.log\", level=logging.INFO)\n",
    "logging.basicConfig(filename=\"test.log\", level=logging.WARNING)\n",
    "logging.basicConfig(filename=\"test.log\", level=logging.ERROR)\n",
    "class DictFunc:\n",
    "    def __init__(self,d,*args):\n",
    "        if type(d) ==dict:\n",
    "            self.d=d\n",
    "            self.iterable=args\n",
    "            self.val=args\n",
    "        else :\n",
    "            logging.error(\"Input is not a dictionary\")\n",
    "            logging.shutdown()\n",
    "            raise Exception(\"Input is not a dictionary\")\n",
    "            #return\n",
    "        \n",
    "    def mydictkeys(self):\n",
    "        try:\n",
    "            return list[self.d.keys()]\n",
    "        except Exception as e:\n",
    "            logging.exception(\"exception occured\"+str(e))\n",
    "            logging.shutdown()\n",
    "    \n",
    "    def mydictitems(self):\n",
    "        try:\n",
    "            return self.d.items()\n",
    "        except Exception as e:\n",
    "            logging.exception(\"exception occured\"+str(e))\n",
    "            logging.shutdown()\n",
    "    \n",
    "    def mydictclear(self):\n",
    "        try:\n",
    "            return self.d.clear()\n",
    "        except Exception as e:\n",
    "            logging.exception(\"exception occured\"+str(e))\n",
    "            logging.shutdown()\n",
    "    \n",
    "    def mydictcopy(self):\n",
    "        try:\n",
    "            d2={}\n",
    "            d2=self.d.copy()\n",
    "            return d2\n",
    "        except Exception as e:\n",
    "            logging.exception(\"exception occured\"+str(e))\n",
    "            logging.shutdown()\n",
    "    \n",
    "    def mydictfromkeys(self,iterable,val):\n",
    "        try:\n",
    "            locald={}\n",
    "            locald=self.d.fromkeys(iterable,val)\n",
    "            return locald\n",
    "        except Exception as e:\n",
    "            logging.exception(\"exception occured\"+str(e))\n",
    "            logging.shutdown()\n",
    "    \n",
    "    def mydictget(self,key):\n",
    "        try:\n",
    "            return self.d.get(key)\n",
    "        except Exception as e:\n",
    "            logging.exception(\"exception occured\"+str(e))\n",
    "            logging.shutdown()\n",
    "\n",
    "    def mydictpop(self,key):\n",
    "        try:\n",
    "            return self.d.pop(key)\n",
    "        except Exception as e:\n",
    "            logging.exception(\"exception occured\"+str(e))\n",
    "            logging.shutdown()\n",
    "      \n",
    "    def mydictpopitem(self,key):\n",
    "        try:\n",
    "            return self.d.popitem()\n",
    "        except Exception as e:\n",
    "            logging.exception(\"exception occured\"+str(e))\n",
    "            logging.shutdown()\n",
    "    \n",
    "    def myDictSetDefault(self,key):  \n",
    "        try:\n",
    "            self.d.setdefault(key)\n",
    "            return (self.d)\n",
    "        except Exception as e:\n",
    "            logging.exception(\"exception occured\"+str(e))\n",
    "            logging.shutdown()\n",
    "    \n",
    "    def mydictvalues(self):\n",
    "        try:\n",
    "            return self.d.values()\n",
    "        except Exception as e:\n",
    "            logging.exception(\"exception occured\"+str(e))\n",
    "            logging.shutdown()"
   ]
  },
  {
   "cell_type": "code",
   "execution_count": 3,
   "id": "1693c77d",
   "metadata": {},
   "outputs": [],
   "source": [
    "d=DictFunc({\"a1\":123,\"a2\":456})"
   ]
  },
  {
   "cell_type": "code",
   "execution_count": 4,
   "id": "deac5306",
   "metadata": {},
   "outputs": [
    {
     "data": {
      "text/plain": [
       "dict_values([123, 456])"
      ]
     },
     "execution_count": 4,
     "metadata": {},
     "output_type": "execute_result"
    }
   ],
   "source": [
    "d.mydictvalues()"
   ]
  },
  {
   "cell_type": "code",
   "execution_count": null,
   "id": "88a67a98",
   "metadata": {},
   "outputs": [],
   "source": []
  }
 ],
 "metadata": {
  "kernelspec": {
   "display_name": "Python 3 (ipykernel)",
   "language": "python",
   "name": "python3"
  },
  "language_info": {
   "codemirror_mode": {
    "name": "ipython",
    "version": 3
   },
   "file_extension": ".py",
   "mimetype": "text/x-python",
   "name": "python",
   "nbconvert_exporter": "python",
   "pygments_lexer": "ipython3",
   "version": "3.9.7"
  }
 },
 "nbformat": 4,
 "nbformat_minor": 5
}
