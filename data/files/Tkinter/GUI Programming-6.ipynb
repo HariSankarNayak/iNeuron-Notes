{
 "cells": [
  {
   "cell_type": "markdown",
   "metadata": {},
   "source": [
    "### GUI Programming-VIII\n",
    "\n",
    "Object Oriented GUI\n"
   ]
  },
  {
   "cell_type": "code",
   "execution_count": null,
   "metadata": {},
   "outputs": [],
   "source": [
    "Till now all the codes of GUI we have developed were procedure oriented.\n",
    "\n",
    "But professionally we always prefer to write our GUI app based on OOP concepts.\n",
    "\n",
    "This is because GUI programming readily lends itself to an object-oriented style, since a GUI is made up entirely of objects -- Labels, Buttons, Entry,Listbox etc. \n",
    "\n",
    "Since we're already using objects, organizing our code into larger objects makes sense\n"
   ]
  },
  {
   "cell_type": "code",
   "execution_count": null,
   "metadata": {},
   "outputs": [],
   "source": [
    "The conversion of procedure oriented GUI to object oriented is very simple.\n",
    "\n",
    "We just have to remember three steps:\n",
    "\n",
    "Create root object and pass it to the constructor of your class\n",
    "\n",
    "Design all the UI elements and their layouting in the constructor\n",
    "\n",
    "Handle all the events inside instance methods of the class\n"
   ]
  },
  {
   "cell_type": "code",
   "execution_count": 1,
   "metadata": {},
   "outputs": [],
   "source": [
    "from tkinter import *\n",
    "class MyFirstGUI:\n",
    "    def __init__(self, root):\n",
    "        self.root = root\n",
    "        self.root.title(\"An OOP GUI\")\n",
    "        self.root.geometry('200x200')\n",
    "        self.label = Label(self.root, text=\"Click the button\")\n",
    "        self.label.pack()\n",
    "\n",
    "        self.greet_button = Button(self.root, text=\"Greet\", command=self.greet)\n",
    "        self.greet_button.pack()\n",
    "\n",
    "        self.close_button = Button(self.root, text=\"Close\", command=self.root.destroy)\n",
    "        self.close_button.pack()\n",
    "\n",
    "    def greet(self):\n",
    "        self.label.configure(text=\"Welcome to Python\")\n",
    "\n",
    "root = Tk()\n",
    "my_gui = MyFirstGUI(root)\n",
    "root.mainloop()\n"
   ]
  },
  {
   "cell_type": "code",
   "execution_count": 1,
   "metadata": {},
   "outputs": [],
   "source": [
    "from tkinter import *\n",
    "class MyGUI:\n",
    "    def __init__(self,root):\n",
    "        self.root=root\n",
    "        self.count=0\n",
    "        self.root.geometry('200x200')\n",
    "        self.b1 = Button(root, text=\"Click Me\", command=self.incrementcount)\n",
    "        self.l1 = Label(root, text=\"0\")\n",
    "        self.b1.pack()\n",
    "        self.l1.pack()\n",
    "\n",
    "    def incrementcount(self):\n",
    "        self.count+=1\n",
    "        self.l1.configure(text=str(self.count))\n",
    "root = Tk()\n",
    "obj=MyGUI(root)\n",
    "root.mainloop()"
   ]
  },
  {
   "cell_type": "code",
   "execution_count": 5,
   "metadata": {},
   "outputs": [],
   "source": [
    "from tkinter import *\n",
    "from tkinter import messagebox,simpledialog\n",
    "class MyGUI:\n",
    "    def __init__(self,root):\n",
    "        self.root=root\n",
    "        self.root.geometry('400x200+100+200')\n",
    "        self.l1 = Label(root, text=\"Number Division Program\", font=\"Arial 18 bold\")\n",
    "        self.l2 = Label(root, text=\"First No:\")\n",
    "        self.l3 = Label(root, text=\"Second No:\")\n",
    "        self.l4 = Label(root, text=\"Result:\")\n",
    "        self.e1 = Entry(root)\n",
    "        self.e2 = Entry(root)\n",
    "        self.e3 = Entry(root)\n",
    "        self.b1 = Button(root, text=\"Divide\", command=self.divide)\n",
    "        self.b2 = Button(root, text=\"Clear\", command=self.clear)\n",
    "        self.b3 = Button(root, text=\"Quit\", command=self.finish)\n",
    "        self.l1.grid(row=0, column=0, columnspan=4)\n",
    "        self.l2.grid(row=1, column=0, sticky=E)\n",
    "        self.e1.grid(row=1, column=1)\n",
    "        self.l3.grid(row=2, column=0, sticky=E)\n",
    "        self.e2.grid(row=2, column=1)\n",
    "        self.l4.grid(row=3, column=0, sticky=E)\n",
    "        self.e3.grid(row=3, column=1)\n",
    "        self.b1.grid(row=4, column=0, pady=5, padx=5, sticky=E + W)\n",
    "        self.b2.grid(row=4, column=1, pady=5, padx=5, sticky=E + W)\n",
    "        self.b3.grid(row=4, column=2, pady=5, padx=5, sticky=E + W)\n",
    "    def divide(self):\n",
    "        try:\n",
    "            self.e3.delete(0, END)\n",
    "            self.e3.config(fg=\"red\")\n",
    "            a=int(self.e1.get())\n",
    "            b=int(self.e2.get())\n",
    "            c=a/b\n",
    "            self.e3.insert(0,str(c))\n",
    "            self.e3.config(fg=\"green\")\n",
    "        except ZeroDivisionError:\n",
    "            messagebox.showerror(\"Arithmetic Error!\",\"Denominator should not be 0!\")\n",
    "        except ValueError:\n",
    "            messagebox.showerror(\"Conversion Error!\", \"Only digits allowed!\")\n",
    "    def clear(self):\n",
    "        self.e1.delete(0, END)\n",
    "        self.e2.delete(0, END)\n",
    "        self.e3.delete(0, END)\n",
    "        self.e1.focus()\n",
    "\n",
    "    def finish(self):\n",
    "        answer = messagebox.askyesno(\"Quitting!\", \"Are you sure you want to quit?\")\n",
    "        if answer==True:\n",
    "            name=simpledialog.askstring(\"Input\",\"What is your name?\")\n",
    "        if name is None or name==\"\":\n",
    "            name=\" UserJee!\"\n",
    "        messagebox.showinfo(\"Thank you\",\"Have a good day \"+name)\n",
    "        self.root.destroy()\n",
    "\n"
   ]
  },
  {
   "cell_type": "code",
   "execution_count": 6,
   "metadata": {},
   "outputs": [],
   "source": [
    "root = Tk()\n",
    "obj=MyGUI(root)\n",
    "root.mainloop()\n"
   ]
  },
  {
   "cell_type": "code",
   "execution_count": null,
   "metadata": {},
   "outputs": [],
   "source": [
    "\n"
   ]
  },
  {
   "cell_type": "markdown",
   "metadata": {},
   "source": [
    "geometry what is that '400x200+100+200' means\n"
   ]
  },
  {
   "cell_type": "markdown",
   "metadata": {},
   "source": [
    "Python allows us to let the user choose a file or folder from the disk.\n",
    "\n",
    "This can be done using filedialog module which provides us following functions\n",
    "\n",
    "Syntax:\n",
    "\n",
    "filedialog.askdirectory([options])\n",
    "\n",
    "filedialog.askopenfilename([options])\n",
    "\n",
    "fileedialog.askopenfilenames([options])\n",
    "\n",
    "filedialog.asksaveasfilename([options])\n"
   ]
  },
  {
   "cell_type": "code",
   "execution_count": 12,
   "metadata": {},
   "outputs": [],
   "source": [
    "from tkinter import *\n",
    "from tkinter import messagebox\n",
    "from tkinter import simpledialog\n",
    "def accept():\n",
    "    num=simpledialog.askinteger(\"Input\",\"Enter voter's age\",minvalue=18,maxvalue=122)\n",
    "    messagebox.showinfo(\"Hello\",\"You entered \"+str(num))\n",
    "root = Tk()\n",
    "root.geometry(\"200x200\")\n",
    "btn=Button(root,text=\"Click Me\",command=accept)\n",
    "btn.pack()\n",
    "root.mainloop()"
   ]
  },
  {
   "cell_type": "code",
   "execution_count": 14,
   "metadata": {},
   "outputs": [],
   "source": [
    "from tkinter import *\n",
    "from tkinter import filedialog, messagebox\n",
    "def showopen():\n",
    "    file_name=filedialog.askopenfilename(title=\"Select your fav song\",filetypes=[(\"mp3 files\",\"*.mp3\")])\n",
    "    if file_name!=\"\":\n",
    "        messagebox.showinfo(\"Your selections\",file_name)\n",
    "    else:\n",
    "        messagebox.showinfo(\"Your selections\", \"You did not select any file\")\n",
    "root = Tk()\n",
    "root.geometry(\"200x200\")\n",
    "btn=Button(root,text=\"Open File\",command=showopen)\n",
    "btn.pack()\n",
    "root.mainloop()"
   ]
  },
  {
   "cell_type": "code",
   "execution_count": null,
   "metadata": {},
   "outputs": [],
   "source": [
    "from tkinter import *\n",
    "from tkinter import filedialog, messagebox\n",
    "\n",
    "def showopen():\n",
    " file_names=filedialog.askopenfilenames(title=\"Select your fav song\",filetypes=[(\"mp3 files\",\"A*.mp3\")])\n",
    "str=\"\"\n",
    "if type(file_names) is tuple:\n",
    "    for file in file_names:\n",
    "      str+=file+\"\\n\"\n",
    "    lbl.configure(text=str)\n",
    "else:\n",
    "    messagebox.showinfo(\"Your selections\", \"You did not select any file\") \n",
    "\n",
    "root = Tk()\n",
    "root.geometry(\"200x200\")\n",
    "btn=Button(root,text=\"Open File\",command=showopen)\n",
    "btn.pack()\n",
    "root.mainloop()"
   ]
  },
  {
   "cell_type": "markdown",
   "metadata": {},
   "source": [
    "There are applications where the user should have the possibility to select a colour. \n",
    "\n",
    "For this Tkinter provides a pop-up menu to choose a colour.\n",
    "\n",
    "This can be done by calling the function askcolor() of the colorchooser module\n",
    "\n",
    "\n",
    "Syntax:\n",
    "\n",
    "colorchooser.askcolor([options])\n"
   ]
  },
  {
   "cell_type": "markdown",
   "metadata": {},
   "source": [
    "If the user clicks the OK button then \n",
    "\n",
    "The return value of askColor() is a tuple with two elements, both a representation of the chosen colour, e.g. ((106, 150, 98), '#6a9662').\n",
    "\n",
    "The first element is a tuple (R, G, B) with the RGB representation in decimal values (from 0 to 255). \n",
    "\n",
    "The second element is a string which is  hexadecimal representation of the chosen colour. \n",
    "\n",
    "If the user clicks \"Cancel\" the function askcolor() returns the tuple (None, None).\n"
   ]
  },
  {
   "cell_type": "markdown",
   "metadata": {},
   "source": [
    "Write an app that contains a Button which when clicked by the user shows a Color chooser and sets the background color of the window to the color selected by the user.\n"
   ]
  },
  {
   "cell_type": "code",
   "execution_count": 7,
   "metadata": {},
   "outputs": [],
   "source": [
    "from tkinter import *\n",
    "from tkinter import colorchooser, messagebox\n",
    "\n",
    "def showopen():\n",
    "  chosen_color=colorchooser.askcolor(color=\"#ff0000\",title=\"Select a color\")\n",
    "  if chosen_color[0] is None:\n",
    "    messagebox.showinfo(\"Color\",\"No color selected\")\n",
    "  else:\n",
    "    root.configure(bg=chosen_color[1])\n",
    "root = Tk()\n",
    "root.geometry(\"200x200\")\n",
    "btn=Button(root,text=\"Choose Color\",command=showopen)\n",
    "btn.pack()\n",
    "root.mainloop()"
   ]
  }
 ],
 "metadata": {
  "kernelspec": {
   "display_name": "Python 3.10.4 64-bit",
   "language": "python",
   "name": "python3"
  },
  "language_info": {
   "codemirror_mode": {
    "name": "ipython",
    "version": 3
   },
   "file_extension": ".py",
   "mimetype": "text/x-python",
   "name": "python",
   "nbconvert_exporter": "python",
   "pygments_lexer": "ipython3",
   "version": "3.10.4"
  },
  "vscode": {
   "interpreter": {
    "hash": "fd354288a369f680a7322ddff2a06d3b3ac546c5fe22b956c0c96b589b2c4d3d"
   }
  }
 },
 "nbformat": 4,
 "nbformat_minor": 4
}
