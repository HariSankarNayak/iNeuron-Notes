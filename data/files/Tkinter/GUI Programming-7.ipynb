{
 "cells": [
  {
   "cell_type": "markdown",
   "metadata": {},
   "source": [
    "### GUI Programming-VII\n",
    "\n",
    "Choice Controls\n"
   ]
  },
  {
   "cell_type": "markdown",
   "metadata": {},
   "source": [
    "In a GUI app it is a common scenario where we would like to allow the user to select an option from the available list of choices.\n",
    "\n",
    "For this purpose , Python provides us 4 widgets and they are:\n",
    "\n",
    "Checkbutton\n",
    "Radiobutton\n",
    "Listbox\n",
    "Scale\n",
    "\n"
   ]
  },
  {
   "cell_type": "markdown",
   "metadata": {},
   "source": [
    "The Checkbutton widget is a standard Tkinter widget which is used to implement on-off selections. \n",
    "\n",
    "\n",
    "Checkbuttons can contain text or images, and we can associate a Python function or method with each button. \n",
    "\n",
    "\n",
    "When the button is pressed, Tkinter calls that function or method.\n"
   ]
  },
  {
   "cell_type": "markdown",
   "metadata": {},
   "source": [
    "Syntax:\n",
    "cb = Checkbutton( master, variable,options, ... )\n",
    "\n",
    "\n",
    "Arguments:\n",
    "master − This represents the parent window.\n",
    "variable- To use a Checkbutton, we must create an IntVar \t       \t       object and associate it with the CheckButton’s variable \t       property. This variable will be 1 if Checkbutton is \t       \t       selected and 0 if it is de-selected\n",
    "options − Some extra arguments that can be used as \t\t\t        key-value pairs separated by commas.\n"
   ]
  },
  {
   "cell_type": "markdown",
   "metadata": {},
   "source": [
    "Design an app which displays the following GUI and when the user selects the Checkbutton , the background color should become red and on deselection it should be reset to default color.\n"
   ]
  },
  {
   "attachments": {
    "image.png": {
     "image/png": "[encoded data removed]"
    }
   },
   "cell_type": "markdown",
   "metadata": {},
   "source": [
    "![image.png](attachment:image.png)"
   ]
  },
  {
   "attachments": {
    "image.png": {
     "image/png": "[encoded data removed]"
    }
   },
   "cell_type": "markdown",
   "metadata": {},
   "source": [
    "![image.png](attachment:image.png)"
   ]
  },
  {
   "cell_type": "code",
   "execution_count": null,
   "metadata": {},
   "outputs": [],
   "source": [
    "from tkinter import *\n",
    "\n",
    "def changecolor():\n",
    "    pass\n",
    "\n",
    "root = Tk()\n",
    "root.geometry(\"200x200\")\n",
    "old_color=root[\"bg\"]\n",
    "cb=Checkbutton(root,text=\"Red\",command=changecolor)\n",
    "cb.pack() \n",
    "root.mainloop()\n"
   ]
  },
  {
   "cell_type": "code",
   "execution_count": null,
   "metadata": {},
   "outputs": [],
   "source": [
    "from tkinter import *\n",
    "\n",
    "def changecolor():\n",
    "    if x.get()==1:\n",
    "        root.configure(bg=\"#ff0000\")\n",
    "    else:root.configure(bg=old_color)\n",
    "\n",
    "root = Tk()\n",
    "root.geometry(\"200x200\")\n",
    "old_color=root[\"bg\"]\n",
    "x=IntVar()\n",
    "cb=Checkbutton(root,text=\"Red\",command=changecolor,variable=x)\n",
    "cb.pack()\n",
    "root.mainloop()"
   ]
  },
  {
   "cell_type": "markdown",
   "metadata": {},
   "source": [
    "The Checkbutton widget has 2 properties called onvalue and offvalue.\n",
    "\n",
    "\n",
    "The default value of these properties are 1 and 0 respectively.\n",
    "\n",
    "\n",
    "Now, when we associate a Checkbutton with an IntVar object then object is set to the value of onvalue if the Checkbutton is selected, and offvalue otherwise. \n",
    "\n"
   ]
  },
  {
   "cell_type": "markdown",
   "metadata": {},
   "source": [
    "However we can change these values by assigning different values to the onvalue and offvalue options. \n",
    "\n",
    "\n",
    "\n",
    "In this way the object associated with the Checkbutton doesn’t  always has to be of type IntVar\n"
   ]
  },
  {
   "cell_type": "code",
   "execution_count": null,
   "metadata": {},
   "outputs": [
    {
     "ename": "NameError",
     "evalue": "name 'StringVar' is not defined",
     "output_type": "error",
     "traceback": [
      "\u001b[1;31m---------------------------------------------------------------------------\u001b[0m",
      "\u001b[1;31mNameError\u001b[0m                                 Traceback (most recent call last)",
      "\u001b[1;32m<ipython-input-1-fbfb27c43894>\u001b[0m in \u001b[0;36m<module>\u001b[1;34m\u001b[0m\n\u001b[0;32m      4\u001b[0m     \u001b[0mprint\u001b[0m\u001b[1;33m(\u001b[0m\u001b[0mx\u001b[0m\u001b[1;33m.\u001b[0m\u001b[0mget\u001b[0m\u001b[1;33m(\u001b[0m\u001b[1;33m)\u001b[0m\u001b[1;33m)\u001b[0m\u001b[1;33m\u001b[0m\u001b[1;33m\u001b[0m\u001b[0m\n\u001b[0;32m      5\u001b[0m \u001b[1;33m\u001b[0m\u001b[0m\n\u001b[1;32m----> 6\u001b[1;33m \u001b[0mx\u001b[0m\u001b[1;33m=\u001b[0m\u001b[0mStringVar\u001b[0m\u001b[1;33m(\u001b[0m\u001b[1;33m)\u001b[0m\u001b[1;33m\u001b[0m\u001b[1;33m\u001b[0m\u001b[0m\n\u001b[0m\u001b[0;32m      7\u001b[0m \u001b[0mcb\u001b[0m\u001b[1;33m=\u001b[0m\u001b[0mCheckbutton\u001b[0m\u001b[1;33m(\u001b[0m\u001b[0mroot\u001b[0m\u001b[1;33m,\u001b[0m\u001b[0mtext\u001b[0m\u001b[1;33m=\u001b[0m\u001b[1;34m\"Click Me\"\u001b[0m\u001b[1;33m,\u001b[0m \u001b[0mcommand\u001b[0m\u001b[1;33m=\u001b[0m\u001b[0mshow\u001b[0m\u001b[1;33m,\u001b[0m \u001b[0mvariable\u001b[0m\u001b[1;33m=\u001b[0m\u001b[0mx\u001b[0m\u001b[1;33m,\u001b[0m\u001b[0monvalue\u001b[0m\u001b[1;33m=\u001b[0m\u001b[1;34m\"hi\"\u001b[0m\u001b[1;33m,\u001b[0m\u001b[0moffvalue\u001b[0m\u001b[1;33m=\u001b[0m\u001b[1;34m\"bye\"\u001b[0m\u001b[1;33m)\u001b[0m\u001b[1;33m\u001b[0m\u001b[1;33m\u001b[0m\u001b[0m\n\u001b[0;32m      8\u001b[0m \u001b[0mcb\u001b[0m\u001b[1;33m.\u001b[0m\u001b[0mdeselect\u001b[0m\u001b[1;33m(\u001b[0m\u001b[1;33m)\u001b[0m \u001b[1;31m# This is required to keep the Button deselected\u001b[0m\u001b[1;33m\u001b[0m\u001b[1;33m\u001b[0m\u001b[0m\n",
      "\u001b[1;31mNameError\u001b[0m: name 'StringVar' is not defined"
     ]
    }
   ],
   "source": [
    "#Example:\n",
    "\n",
    "def show():\n",
    "    print(x.get())\n",
    "\n",
    "x=StringVar()\n",
    "cb=Checkbutton(root,text=\"Click Me\", command=show, variable=x,onvalue=\"hi\",offvalue=\"bye\")\n",
    "cb.deselect() # This is required to keep the Button deselected"
   ]
  },
  {
   "cell_type": "code",
   "execution_count": null,
   "metadata": {},
   "outputs": [],
   "source": [
    "### Now when the user will click the Checkbutton , hi will be printed and on deselection bye will be printed\n"
   ]
  },
  {
   "cell_type": "markdown",
   "metadata": {},
   "source": [
    "deselect() \n",
    "Deselects the checkbox\n",
    "select() \n",
    "Selects the checkbox\n",
    "toggle()\n",
    "Toggles the checkbox.\n"
   ]
  },
  {
   "cell_type": "markdown",
   "metadata": {},
   "source": [
    "Redesign the previous app so that the event handler function changecolor can be written in only one line\n"
   ]
  },
  {
   "cell_type": "code",
   "execution_count": 2,
   "metadata": {},
   "outputs": [],
   "source": [
    "from tkinter import *\n",
    "\n",
    "def changecolor():\n",
    "    root.configure(bg=x.get())\n",
    "\n",
    "root = Tk()\n",
    "root.geometry(\"200x200\")\n",
    "x=StringVar()\n",
    "old_color=root[\"bg\"]\n",
    "cb=Checkbutton(root,text=\"Red\",command=changecolor,variable=x, onvalue=\"#ff0000\",offvalue=old_color)\n",
    "cb.deselect()\n",
    "cb.pack()\n",
    "\n",
    "root.mainloop()\n"
   ]
  },
  {
   "cell_type": "markdown",
   "metadata": {},
   "source": [
    "### Radio Button"
   ]
  },
  {
   "cell_type": "markdown",
   "metadata": {},
   "source": [
    "A Radiobutton widget is a graphical user interface element of Tkinter, which allows the user to choose (exactly) one of a predefined set of options. \n",
    "\n",
    "\n",
    "Radiobutton can contain text or images. \n",
    "\n",
    "\n",
    "A Python function or method can be associated with a radio button which will be called, if we press this radio button.\n"
   ]
  },
  {
   "cell_type": "markdown",
   "metadata": {},
   "source": [
    "Syntax:\n",
    "rb = Radiobutton( master, variable,value,options, ... )\n",
    "\n",
    "\n",
    "Arguments:\n",
    "master − This represents the parent window.\n",
    "variable- Similar to Checkbutton, but we must associate \t\t        all Radiobuttons to the same Var object to \t \t        make them mutually exclusive\n",
    "value −     This represents the value to be returned when the \t\t        Radiobutton is selected\n"
   ]
  },
  {
   "cell_type": "markdown",
   "metadata": {},
   "source": [
    "Design an app which displays the following GUI and as soon as the user selects his/her gender then a dialog box should appear displaying the selection\n"
   ]
  },
  {
   "cell_type": "code",
   "execution_count": 3,
   "metadata": {},
   "outputs": [],
   "source": [
    "from tkinter import *\n",
    "from tkinter import messagebox\n",
    "\n",
    "\n",
    "def showgender():\n",
    "    pass\n",
    "\n",
    "root = Tk()\n",
    "root.geometry(\"200x200\")\n",
    "\n",
    "l1=Label(root,text=\"Select your gender\")\n",
    "rb1=Radiobutton(root,text=\"Male\",command=showgender)\n",
    "rb2=Radiobutton(root,text=\"Female\",command=showgender)\n",
    "\n",
    "l1.grid(row=0,column=0)\n",
    "rb1.grid(row=1,column=0,sticky=W)\n",
    "rb2.grid(row=2,column=0,sticky=W)\n",
    "\n",
    "root.mainloop()\n"
   ]
  },
  {
   "cell_type": "code",
   "execution_count": 4,
   "metadata": {},
   "outputs": [],
   "source": [
    "from tkinter import *\n",
    "from tkinter import messagebox\n",
    "\n",
    "\n",
    "def showgender():\n",
    "    value=x.get()\n",
    "    if value==1:\n",
    "        messagebox.showinfo(\"Gender\",\"You selected Male\")\n",
    "    else:\n",
    "        messagebox.showinfo(\"Gender\", \"You selected Female\")\n",
    "\n",
    "root = Tk()\n",
    "root.geometry(\"200x200\")\n",
    "x=IntVar()\n",
    "l1=Label(root,text=\"Select your gender\")\n",
    "rb1=Radiobutton(root,text=\"Male\",command=showgender,variable=x,value=1)\n",
    "rb2=Radiobutton(root,text=\"Female\",command=showgender,variable=x,value=2)\n",
    "l1.grid(row=0,column=0)\n",
    "rb1.grid(row=1,column=0,sticky=W)\n",
    "rb2.grid(row=2,column=0,sticky=W)\n",
    "\n",
    "root.mainloop()\n"
   ]
  },
  {
   "cell_type": "markdown",
   "metadata": {},
   "source": [
    "Redesign the previous app so that the event handler function showgenderr can be written without using any conditional statement\n"
   ]
  },
  {
   "cell_type": "markdown",
   "metadata": {},
   "source": [
    "The Listbox widget is a standard Tkinter widget used to display a list of alternatives.\n",
    "\n",
    "\n",
    "The Listbox can only contain text items.\n",
    "\n",
    "\n",
    "Depending on the widget configuration, the user  can choose one or more alternatives from the list"
   ]
  },
  {
   "cell_type": "markdown",
   "metadata": {},
   "source": [
    "When we first create the Listbox, it is empty. The first thing to do is usually to insert one or more items in the Listbox.\n",
    "\n",
    "To do this we call the method insert() .\n",
    "\n",
    "\n",
    "This method takes an index and a string to insert. \n",
    "\n",
    "\n",
    "The index is usually an item number (0 for the first item in the list) \n"
   ]
  },
  {
   "cell_type": "markdown",
   "metadata": {},
   "source": [
    "Write an app that displays a ListBox containing the names of sports as shown below\n"
   ]
  },
  {
   "cell_type": "code",
   "execution_count": 5,
   "metadata": {},
   "outputs": [],
   "source": [
    "from tkinter import *\n",
    "root = Tk()\n",
    "root.geometry(\"200x200\")\n",
    "lb1=Listbox(root)\n",
    "sports=[\"Cricket\",\"Football\",\"Hockey,\",\"Basketball\",\"Volleyball\",\"Tennis\",\"Rugby\",\"Badminton\",\"Snooker\",\"Wrestling\"]\n",
    "#write your logic to add sport names to ListBox\n",
    "lb1.grid(row=1,column=0,sticky=W)\n",
    "root.mainloop()\n"
   ]
  },
  {
   "cell_type": "code",
   "execution_count": 5,
   "metadata": {},
   "outputs": [],
   "source": [
    "from tkinter import *\n",
    "root = Tk()\n",
    "root.geometry(\"200x200\")\n",
    "lb1=Listbox(root)\n",
    "sports=[\"Cricket\",\"Football\",\"Hockey,\",\"Basketball\",\"Volleyball\",\"Tennis\",\"Rugby\",\"Badminton\",\"Snooker\",\"Wrestling\"]\n",
    "pos=0\n",
    "for x in sports:\n",
    "    lb1.insert(pos,x)\n",
    "    pos=pos+1\n",
    "lb1.grid(row=1,column=0,sticky=W)\n",
    "root.mainloop()\n"
   ]
  },
  {
   "cell_type": "markdown",
   "metadata": {},
   "source": [
    "We can drop the variable pos from the previous code by using a special variable called END provided by Python which indicates the end position in the Listbox where item has to be added\n"
   ]
  },
  {
   "cell_type": "code",
   "execution_count": 6,
   "metadata": {},
   "outputs": [],
   "source": [
    "from tkinter import *\n",
    "root = Tk()\n",
    "root.geometry(\"200x200\")\n",
    "lb1=Listbox(root)\n",
    "sports=[\"Cricket\",\"Football\",\"Hockey,\",\"Basketball\",\"Volleyball\",\"Tennis\",\"Rugby\",\"Badminton\",\"Snooker\",\"Wrestling\"]\n",
    "for x in sports:\n",
    "    lb1.insert(END,x)\n",
    "lb1.grid(row=1,column=0,sticky=W)\n",
    "root.mainloop()\n"
   ]
  },
  {
   "cell_type": "markdown",
   "metadata": {},
   "source": [
    "To remove items from the list, use the delete() method. \n",
    "\n",
    "Syntax:\n",
    "\n",
    "delete ( first, last=None )\n",
    "\n",
    "This method deletes all the items whose indices are in the range first to last. The value last is considered as the end index up to which deletion should occur\n",
    "\n",
    "If the second argument is omitted, the item at the index first is deleted.\n"
   ]
  },
  {
   "cell_type": "markdown",
   "metadata": {},
   "source": [
    "To remove first item from the list:\n",
    "\n",
    "lb.delete(0)\n",
    "\n",
    "To remove first 4 items from the list:\n",
    "\n",
    "lb.delete(0, 3)\n",
    "\n",
    "To remove all items from the list:\n",
    "\n",
    "lb.delete(0, END)\n"
   ]
  },
  {
   "cell_type": "markdown",
   "metadata": {},
   "source": [
    "To get total number of items present in the Listbox, use the size() method. \n",
    "\n",
    "Syntax:\n",
    "size ()\n",
    "\n",
    "This method returns an integer indicating number of items present in the Listbox\n"
   ]
  },
  {
   "cell_type": "markdown",
   "metadata": {},
   "source": [
    "To get an item from the list, use the get() method. \n",
    "\n",
    "Syntax:\n",
    "get ( first, last=None )\n",
    "\n",
    "This method returns a tuple containing all the items whose indices are in the range first to last. \n",
    "\n",
    "If the second argument is omitted, then this method returns only one item which is present at the index first as a string"
   ]
  },
  {
   "cell_type": "markdown",
   "metadata": {},
   "source": [
    "#To get first 3 items from the list:\n",
    "items=lb.get(0,2)\n",
    "print(items)\n",
    "Output: ('Cricket', 'Football', 'Hockey')\n",
    "\n",
    "#To get first item from the list:\n",
    "items=lb.get(0)\n",
    "print(items)\n",
    "Output: Cricket\n",
    "\n",
    "#To get all items from the list:\n",
    "items=lb.get(0)\n",
    "print(items)\n",
    "Output: ('Cricket', 'Football', 'Hockey', 'Basketball', 'Volleyball', 'Tennis', 'Rugby', 'Badminton', 'Snooker', 'Wrestling')\n"
   ]
  },
  {
   "cell_type": "markdown",
   "metadata": {},
   "source": [
    "Write an app that displays a ListBox containing the names of sports , a Label and a Button titled Show Item\n",
    "\n",
    "When the user clicks on the Button , the app should display an input box prompting the user to input an item number and should pick and display that item from the ListBox in the Label.\n",
    "\n",
    "If the user presses Cancel Button , then app should display the message You didn’t input any value \n",
    "\n",
    "Also if the position is wrong then display error message and ask the user to input again\n"
   ]
  },
  {
   "cell_type": "code",
   "execution_count": 7,
   "metadata": {},
   "outputs": [],
   "source": [
    "from tkinter import *\n",
    "from tkinter import simpledialog,messagebox\n",
    "\n",
    "def show_item():\n",
    "\tpass\n",
    "\n",
    "root = Tk()\n",
    "root.geometry(\"300x300\")\n",
    "l1=Label(root,text=\"Your selection will appear here\")\n",
    "b1=Button(root,text=\"show item\",command=show_item)\n",
    "\n",
    "lb1=Listbox(root)\n",
    "sports=[\"Cricket\",\"Football\",\"Hockey,\",\"Basketball\",\"Volleyball\",\"Tennis\",\"Rugby\",\"Badminton\",\"Snooker\",\"Wrestling\"]\n",
    "\n",
    "for x in sports:\n",
    "    lb1.insert(END,x)\n",
    "\n",
    "lb1.grid(row=0,column=0,sticky=W)\n",
    "b1.grid(row=1,column=0,sticky=W)\n",
    "l1.grid(row=2,column=0,sticky=W)\n",
    "root.mainloop()\n"
   ]
  },
  {
   "cell_type": "code",
   "execution_count": 8,
   "metadata": {},
   "outputs": [],
   "source": [
    "from tkinter import *\n",
    "from tkinter import simpledialog,messagebox\n",
    "\n",
    "def show_item():\n",
    "    pos=simpledialog.askinteger(\"Input\",\"Enter item no\",minvalue=1,maxvalue=lb1.size())\n",
    "    if type(pos) is int:\n",
    "        item=lb1.get(pos-1)\n",
    "        l1.configure(text=\"You selected:\"+item)\n",
    "    else:\n",
    "        messagebox.showinfo(\"Cancel Pressed!\",\"You didn't input any value\")\n",
    "root = Tk()\n",
    "root.geometry(\"300x300\")\n",
    "l1=Label(root,text=\"Your selection will appear here\")\n",
    "b1=Button(root,text=\"show item\",command=show_item)\n",
    "lb1=Listbox(root)\n",
    "sports=[\"Cricket\",\"Football\",\"Hockey,\",\"Basketball\",\"Volleyball\",\"Tennis\",\"Rugby\",\"Badminton\",\"Snooker\",\"Wrestling\"]\n",
    "for x in sports:\n",
    "    lb1.insert(END,x)\n",
    "\n",
    "lb1.grid(row=0,column=0,sticky=W)\n",
    "b1.grid(row=1,column=0,sticky=W)\n",
    "l1.grid(row=2,column=0,sticky=W)\n",
    "root.mainloop()\n"
   ]
  },
  {
   "cell_type": "markdown",
   "metadata": {},
   "source": [
    "To get the index of selected  item(s) from the list, use the curselection() method of ListBox. \n",
    "\n",
    "Syntax:\n",
    "curselection ()\n",
    "\n",
    "This method returns a tuple containing the index numbers of all the items which have been selected by the user\n",
    "\n",
    "If nothing is selected, returns an empty tuple.\n"
   ]
  },
  {
   "cell_type": "markdown",
   "metadata": {},
   "source": [
    "Write an app that displays a ListBox containing the names of sports ,a Label and a Button titled Show Item \n",
    "\n",
    "\n",
    "When the user clicks on the Button , the app should display the item user has selected from the ListBox.\n",
    "\n",
    "\n",
    "If the user clicks the Button without selecting any item then , then app should display the message Please select an item first\n"
   ]
  },
  {
   "cell_type": "code",
   "execution_count": 9,
   "metadata": {},
   "outputs": [],
   "source": [
    "from tkinter import *\n",
    "from tkinter import simpledialog, messagebox\n",
    "\n",
    "def show_item():\n",
    "\tpass\n",
    "  \n",
    "\n",
    "root = Tk()\n",
    "root.geometry(\"300x300\")\n",
    "l1=Label(root,text=\"Your selection will appear here\")\n",
    "b1=Button(root,text=\"show item\",command=show_item)\n",
    "lb1=Listbox(root)\n",
    "sports=[\"Cricket\",\"Football\",\"Hockey,\",\"Basketball\",\"Volleyball\",\"Tennis\",\"Rugby\",\"Badminton\",\"Snooker\",\"Wrestling\"]\n",
    "\n",
    "for x in sports:\n",
    "  lb1.insert(END,x)\n",
    "\n",
    "lb1.grid(row=0,column=0,sticky=W)\n",
    "b1.grid(row=1,column=0,sticky=W)\n",
    "l1.grid(row=2,column=0,sticky=W)\n",
    "root.mainloop()\n"
   ]
  },
  {
   "cell_type": "code",
   "execution_count": 10,
   "metadata": {},
   "outputs": [],
   "source": [
    "from tkinter import *\n",
    "from tkinter import simpledialog, messagebox\n",
    "def show_item():\n",
    "  index_tuple=lb1.curselection()\n",
    "  if len(index_tuple)==0:\n",
    "    messagebox.showerror(\"No selections!\", \"Please select an item first!\")\n",
    "  else:\n",
    "    item=lb1.get(index_tuple[0])\n",
    "    l1.configure(text=\"You selected:\"+item)\n",
    "  \n",
    "\n",
    "root = Tk()\n",
    "root.geometry(\"300x300\")\n",
    "l1=Label(root,text=\"Your selection will appear here\")\n",
    "b1=Button(root,text=\"show item\",command=show_item)\n",
    "lb1=Listbox(root)\n",
    "sports=[\"Cricket\",\"Football\",\"Hockey,\",\"Basketball\",\"Volleyball\",\"Tennis\",\"Rugby\",\"Badminton\",\"Snooker\",\"Wrestling\"]\n",
    "\n",
    "for x in sports:\n",
    "  lb1.insert(END,x)\n",
    "\n",
    "lb1.grid(row=0,column=0,sticky=W)\n",
    "b1.grid(row=1,column=0,sticky=W)\n",
    "l1.grid(row=2,column=0,sticky=W)\n",
    "root.mainloop()\n"
   ]
  },
  {
   "cell_type": "markdown",
   "metadata": {},
   "source": [
    "The Listbox offers four different selection modes through the selectmode property.These are:\n",
    "\n",
    "SINGLE (just a single choice)\n",
    "\n",
    "BROWSE (same, but if you click on an item and then drag to a different line, the selection will follow the mouse)\n",
    "\n",
    "MULTIPLE (multiple item can be choosen, by clicking at them one at a time)\n",
    "\n",
    "EXTENDED (multiple ranges of items can be chosen, using the Shift and Control keyboard modifiers). \n",
    "\n",
    "The default is BROWSE and to change this we have to set the property selectmode to any of the above mentioned values:\n",
    "\n",
    "lb1=Listbox(root,selectmode=EXTENDED)\n"
   ]
  },
  {
   "cell_type": "markdown",
   "metadata": {},
   "source": [
    "Modify the previous app so that user is now allowed to select multiple items.\n",
    "\n"
   ]
  },
  {
   "cell_type": "code",
   "execution_count": 11,
   "metadata": {},
   "outputs": [],
   "source": [
    "from tkinter import *\n",
    "from tkinter import simpledialog, messagebox\n",
    "\n",
    "def show_item():\n",
    "    pass\n",
    "\n",
    "root = Tk()\n",
    "root.geometry(\"300x300\")\n",
    "l1=Label(root,text=\"Your selection will appear here\",anchor=\"w\")\n",
    "b1=Button(root,text=\"show item\",command=show_item)\n",
    "lb1=Listbox(root,selectmode=EXTENDED)\n",
    "sports=[\"Cricket\",\"Football\",\"Hockey,\",\"Basketball\",\"Volleyball\",\"Tennis\",\"Rugby\",\"Badminton\",\"Snooker\",\"Wrestling\"]\n",
    "\n",
    "for x in sports:\n",
    "    lb1.insert(END,x)\n",
    "\n",
    "lb1.grid(row=0,column=0,sticky=W)\n",
    "b1.grid(row=1,column=0,sticky=W)\n",
    "l1.grid(row=2,column=0,sticky=W)\n",
    "root.mainloop()\n"
   ]
  },
  {
   "cell_type": "code",
   "execution_count": 12,
   "metadata": {},
   "outputs": [],
   "source": [
    "from tkinter import *\n",
    "from tkinter import simpledialog, messagebox\n",
    "def show_item():\n",
    "  index_tuple=lb1.curselection()\n",
    "  if len(index_tuple)==0:\n",
    "    messagebox.showerror(\"No selections!\", \"Please select an item first!\")\n",
    "  else:\n",
    "    items=\"\\n\"\n",
    "    for i in index_tuple:\n",
    "      item=lb1.get(i)\n",
    "      items=items+item+\"\\n\"\n",
    "    l1.configure(text=\"You selected:\"+items)\n",
    "\n",
    "root = Tk()\n",
    "root.geometry(\"300x300\")\n",
    "l1=Label(root,text=\"Your selection will appear here\",anchor=\"w\")\n",
    "b1=Button(root,text=\"show item\",command=show_item)\n",
    "lb1=Listbox(root,selectmode=EXTENDED)\n",
    "sports=[\"Cricket\",\"Football\",\"Hockey,\",\"Basketball\",\"Volleyball\",\"Tennis\",\"Rugby\",\"Badminton\",\"Snooker\",\"Wrestling\"]\n",
    "\n",
    "for x in sports:\n",
    "  lb1.insert(END,x)\n",
    "\n",
    "lb1.grid(row=0,column=0,sticky=W)\n",
    "b1.grid(row=1,column=0,sticky=W)\n",
    "l1.grid(row=2,column=0,sticky=W)\n",
    "root.mainloop()\n"
   ]
  },
  {
   "cell_type": "markdown",
   "metadata": {},
   "source": [
    "Unfortunately, the Listbox doesn’t provide the command attribute allowing us to track changes to the selection.\n",
    "\n",
    "The standard solution is to call the method bind() using  a <<ListboxSelect>> event for single click and <Double-1> for double click\n",
    "\n",
    "Example:\n",
    "For single click:\n",
    "    lb1.bind(\"<<ListboxSelect>>\",show_item)\n",
    "For double click:\n",
    "    lb1.bind(\"<Double-Button-1>\", show_item)"
   ]
  },
  {
   "cell_type": "markdown",
   "metadata": {},
   "source": [
    "Write an app that displays a ListBox containing the names of sports and a Label .\n",
    "\n",
    "When the user clicks on any of the list item display it in the Label\n"
   ]
  },
  {
   "cell_type": "code",
   "execution_count": 13,
   "metadata": {},
   "outputs": [],
   "source": [
    "from tkinter import *\n",
    "\n",
    "def show_item(e):\n",
    "    pass\n",
    "\n",
    "root = Tk()\n",
    "root.geometry(\"300x300\")\n",
    "l1=Label(root,text=\"Your selection will appear here\")\n",
    "lb1=Listbox(root)\n",
    "\n",
    "sports=[\"Cricket\",\"Football\",\"Hockey,\",\"Basketball\",\"Volleyball\",\"Tennis\",\"Rugby\",\"Badminton\",\"Snooker\",\"Wrestling\"]\n",
    "\n",
    "for x in sports:\n",
    "    lb1.insert(END,x)\n",
    "lb1.bind(\"<<ListboxSelect>>\",show_item)\n",
    "lb1.grid(row=0,column=0,sticky=W)\n",
    "l1.grid(row=1,column=0,sticky=W)\n",
    "root.mainloop()\n"
   ]
  },
  {
   "cell_type": "code",
   "execution_count": 14,
   "metadata": {},
   "outputs": [],
   "source": [
    "from tkinter import *\n",
    "\n",
    "def show_item(e):\n",
    "  index_tuple=lb1.curselection()\n",
    "  item=lb1.get(index_tuple[0])\n",
    "  l1.configure(text=\"You selected:\"+item)\n",
    "\n",
    "root = Tk()\n",
    "root.geometry(\"300x300\")\n",
    "l1=Label(root,text=\"Your selection will appear here\")\n",
    "lb1=Listbox(root)\n",
    "\n",
    "sports=[\"Cricket\",\"Football\",\"Hockey,\",\"Basketball\",\"Volleyball\",\"Tennis\",\"Rugby\",\"Badminton\",\"Snooker\",\"Wrestling\"]\n",
    "\n",
    "for x in sports:\n",
    "  lb1.insert(END,x)\n",
    "lb1.bind(\"<<ListboxSelect>>\",show_item)\n",
    "lb1.grid(row=0,column=0,sticky=W)\n",
    "l1.grid(row=1,column=0,sticky=W)\n",
    "root.mainloop()\n"
   ]
  },
  {
   "cell_type": "markdown",
   "metadata": {},
   "source": [
    "### Scale Value"
   ]
  },
  {
   "attachments": {
    "image.png": {
     "image/png": "[encoded data removed]"
    }
   },
   "cell_type": "markdown",
   "metadata": {},
   "source": [
    "The Scale widget allows the user to select a numerical value by moving a “slider” knob along a scale. \n",
    "\n",
    "\n",
    "\n",
    "![image.png](attachment:image.png)\n",
    "\n",
    "\n",
    "\n",
    "We can control the minimum and maximum values\n"
   ]
  },
  {
   "cell_type": "markdown",
   "metadata": {},
   "source": [
    "Syntax:\n",
    "sb = Scale( master, from_,to,orient,options, ... )\n"
   ]
  },
  {
   "cell_type": "code",
   "execution_count": null,
   "metadata": {},
   "outputs": [],
   "source": []
  },
  {
   "cell_type": "code",
   "execution_count": null,
   "metadata": {},
   "outputs": [],
   "source": []
  },
  {
   "cell_type": "markdown",
   "metadata": {},
   "source": [
    "Just like Button widget , the Scale widget also has the command attribute which calls the event handler function as soon as the user starts sliding the Scale knob\n",
    "\n",
    "\n",
    "But when Python calls the event handler function passed to command attribute then it automatically passes the current value of Scale as argument to this function .\n",
    "\n",
    "So we have to receive it as a positional argument\n"
   ]
  },
  {
   "cell_type": "markdown",
   "metadata": {},
   "source": [
    "Write an app that displays a Scale starting from 0 to 255 which is the intensity range for color .\n",
    "Now as the user drags the Scale , the background color of window should become reddish.\n"
   ]
  },
  {
   "cell_type": "code",
   "execution_count": null,
   "metadata": {},
   "outputs": [],
   "source": [
    "from tkinter import *\n",
    "def set_red_color(val):\n",
    "    pass\n",
    "\n",
    "root = Tk()\n",
    "root.geometry('200x200')\n",
    "sc=Scale(root,from_=0,to=255,orient=HORIZONTAL, command=set_red_color)\n",
    "sc.pack()\n",
    "root.configure(bg=\"#000\")\n",
    "root.mainloop()\n"
   ]
  },
  {
   "cell_type": "code",
   "execution_count": 6,
   "metadata": {},
   "outputs": [],
   "source": [
    "from tkinter import *\n",
    "def set_red_color(val):\n",
    "    red=hex(int(val))\n",
    "    red=red[2:]\n",
    "    if len(red)==1:\n",
    "        red=\"0\"+red\n",
    "    color=\"#\"+red+\"0000\"\n",
    "    root.configure(bg=color)\n",
    "root = Tk()\n",
    "root.geometry('200x200')\n",
    "sc=Scale(root,from_=0,to=255,orient=HORIZONTAL,command=set_red_color)\n",
    "sc.pack()\n",
    "root.configure(bg=\"#000\")\n",
    "root.mainloop()"
   ]
  },
  {
   "cell_type": "code",
   "execution_count": 7,
   "metadata": {},
   "outputs": [],
   "source": [
    "val=10"
   ]
  },
  {
   "cell_type": "code",
   "execution_count": 11,
   "metadata": {},
   "outputs": [],
   "source": [
    "red=hex(int(10))"
   ]
  },
  {
   "cell_type": "code",
   "execution_count": 12,
   "metadata": {},
   "outputs": [],
   "source": [
    "red=red[2:]"
   ]
  },
  {
   "cell_type": "code",
   "execution_count": 13,
   "metadata": {},
   "outputs": [
    {
     "data": {
      "text/plain": [
       "'a'"
      ]
     },
     "execution_count": 13,
     "metadata": {},
     "output_type": "execute_result"
    }
   ],
   "source": [
    "red"
   ]
  },
  {
   "cell_type": "code",
   "execution_count": 14,
   "metadata": {},
   "outputs": [],
   "source": [
    "if len(red)==1:\n",
    "       red=\"0\"+red"
   ]
  },
  {
   "cell_type": "code",
   "execution_count": null,
   "metadata": {},
   "outputs": [
    {
     "data": {
      "text/plain": [
       "'0a'"
      ]
     },
     "execution_count": 15,
     "metadata": {},
     "output_type": "execute_result"
    }
   ],
   "source": [
    "red"
   ]
  },
  {
   "cell_type": "code",
   "execution_count": null,
   "metadata": {},
   "outputs": [],
   "source": [
    "color=\"#\"+red+\"0000\""
   ]
  },
  {
   "cell_type": "markdown",
   "metadata": {},
   "source": [
    "color"
   ]
  },
  {
   "cell_type": "markdown",
   "metadata": {},
   "source": [
    "red=hex(int(val))\n",
    "    red=red[2:]\n",
    "    if len(red)==1:\n",
    "        red=\"0\"+red\n",
    "    color=\"#\"+red+\"0000\""
   ]
  },
  {
   "cell_type": "markdown",
   "metadata": {},
   "source": [
    "Here Python will automatically pass the current value of the Scale as argument to our function. So we have to receive this value as a positional argument\n"
   ]
  },
  {
   "cell_type": "markdown",
   "metadata": {},
   "source": [
    "The ttk submodule contains themed widgets that match those native to the system they are being run on. \n",
    "\n",
    "\n",
    "\n",
    "We may have noticed that the Button widgets used by our applications looked a little out of place compared to buttons on a native application for our operating system. \n",
    "\n",
    "\n"
   ]
  },
  {
   "cell_type": "markdown",
   "metadata": {},
   "source": [
    "This is because Tkinter's regular widgets have a consistent look across all platforms and were likely designed before the operating system we are using was created.\n",
    "\n",
    "On the other hand , the ttk button looks similar to the buttons we are used to seeing on desktop applications for our operating system:\n",
    "\n"
   ]
  },
  {
   "cell_type": "code",
   "execution_count": 16,
   "metadata": {},
   "outputs": [],
   "source": [
    "import tkinter as tk\n",
    "import tkinter.ttk as ttk\n",
    "\n",
    "root = tk.Tk()\n",
    "root.geometry(\"200x200\")\n",
    "\n",
    "button_tk = tk.Button(root, text=\"tkinter Button\")\n",
    "button_ttk = ttk.Button(root, text=\"ttk Button\")\n",
    "\n",
    "button_tk.pack(padx=10, pady=10)\n",
    "button_ttk.pack(padx=10, pady=10)\n",
    "\n",
    "root.mainloop()\n"
   ]
  },
  {
   "cell_type": "markdown",
   "metadata": {},
   "source": [
    "Ttk comes with 18 widgets, twelve of which already existed in tkinter.\n",
    "\n",
    "\n",
    "The other six are new: Combobox,Notebook, Progressbar, Separator, Sizegrip and Treeview. \n",
    "\n",
    "\n",
    "All of them are subclasses of Widget.\n"
   ]
  }
 ],
 "metadata": {
  "kernelspec": {
   "display_name": "Python 3.10.4 64-bit",
   "language": "python",
   "name": "python3"
  },
  "language_info": {
   "codemirror_mode": {
    "name": "ipython",
    "version": 3
   },
   "file_extension": ".py",
   "mimetype": "text/x-python",
   "name": "python",
   "nbconvert_exporter": "python",
   "pygments_lexer": "ipython3",
   "version": "3.10.4"
  },
  "vscode": {
   "interpreter": {
    "hash": "fd354288a369f680a7322ddff2a06d3b3ac546c5fe22b956c0c96b589b2c4d3d"
   }
  }
 },
 "nbformat": 4,
 "nbformat_minor": 4
}
