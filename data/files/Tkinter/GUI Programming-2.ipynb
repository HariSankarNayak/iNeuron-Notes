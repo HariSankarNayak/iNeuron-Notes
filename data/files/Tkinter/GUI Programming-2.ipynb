{
 "cells": [
  {
   "cell_type": "markdown",
   "metadata": {},
   "source": [
    "GUI Programming-IV\n",
    "\n",
    "Buttons\n",
    "Event Handling\n"
   ]
  },
  {
   "cell_type": "markdown",
   "metadata": {},
   "source": [
    "A Button is a widget which is designed for the user to interact with.\n",
    "\n",
    "\n",
    "This means that if the Button is pressed using mouse/keyboard then some action might be started. \n",
    "\n",
    "\n",
    "This action is coded inside a function or a method\n",
    "\n",
    "\n",
    "Buttons  can also contain text and images like labels.\n"
   ]
  },
  {
   "cell_type": "code",
   "execution_count": 1,
   "metadata": {},
   "outputs": [],
   "source": [
    "from tkinter import *\n",
    "root = Tk()\n",
    "root.geometry('200x200')\n",
    "b1=Button(root,text=\"Click Me\")\n",
    "b1.pack()\n",
    "root.mainloop()\n"
   ]
  },
  {
   "cell_type": "markdown",
   "metadata": {},
   "source": [
    "In the previous code nothing happened when the user clicks on the Button.\n",
    "\n",
    "\n",
    "\n",
    "This is because we did not perform EVENT HANDLING for the Button widget\n"
   ]
  },
  {
   "cell_type": "markdown",
   "metadata": {},
   "source": [
    "To understand what is Event Handling , we must first understand the word Event.\n",
    "\n",
    "The term Event means any action taken by the user on our GUI app while the app is running.\n",
    "\n",
    "Examples of events are :\n",
    "Clicking the button\n",
    "Scrolling the mouse\n",
    "Typing some text\n",
    "Dragging the mouse bmbnmbnmbnmbnmnb"
   ]
  },
  {
   "cell_type": "markdown",
   "metadata": {},
   "source": [
    "Now , the way our app responds to these events is called Event Handling\n",
    "\n",
    "\n",
    "\n",
    "For example , if on clicking the Button our app displays the text Welcome User in a Label, then this behavior is called Event Handling\n"
   ]
  },
  {
   "cell_type": "markdown",
   "metadata": {},
   "source": [
    "There are 2 ways to handle events in Python :\n",
    "\n",
    "\n",
    "Using command attribute\n",
    "\n",
    "OR\n",
    "\n",
    "Using bind() method\n"
   ]
  },
  {
   "cell_type": "markdown",
   "metadata": {},
   "source": [
    "This is the  simplest way of Event Handling.\n",
    "\n",
    "In this we  associate the widget with an event while creating it.\n",
    "\n",
    "For example , while creating a Button we can tell Python what it should do when the Button is clicked\n",
    "\n",
    "This is done by setting a special attribute called command of the Button widget by passing it the name of a function to be called when the Button is clicked\n"
   ]
  },
  {
   "cell_type": "markdown",
   "metadata": {},
   "source": [
    "To do this we have to take 2 steps:\n",
    "\n",
    "Define a function containing the code to be executed when the Button is clicked\n",
    "\n",
    "Set the command attribute of the Button widget while creating the Button assigning it the  name of the function which has to be called when the Button is clicked.\n",
    "\n",
    "Now as soon as the Button is clicked by the user , Python will execute the function whose name is passed to the command attribute\n"
   ]
  },
  {
   "cell_type": "markdown",
   "metadata": {},
   "source": [
    "Write a GUI app that displays a Button titled Click Me and soon as the Button is clicked it should display the text Welcome To Python on console\n"
   ]
  },
  {
   "cell_type": "code",
   "execution_count": 2,
   "metadata": {},
   "outputs": [
    {
     "name": "stderr",
     "output_type": "stream",
     "text": [
      "Exception in Tkinter callback\n",
      "Traceback (most recent call last):\n",
      "  File \"c:\\Users\\nayak\\AppData\\Local\\Programs\\Python\\Python310\\lib\\tkinter\\__init__.py\", line 1921, in __call__\n",
      "    return self.func(*args)\n",
      "  File \"C:\\Users\\nayak\\AppData\\Local\\Temp\\ipykernel_5616\\2209151882.py\", line 4, in showmsg\n",
      "    l1 = tkinter.Label(root, text = \"Python\")\n",
      "NameError: name 'tkinter' is not defined\n"
     ]
    }
   ],
   "source": [
    "from tkinter import *\n",
    "def showmsg():\n",
    "    #print(\"Welcome to Python\")\n",
    "    l1 = tkinter.Label(root, text = \"Python\")\n",
    "    l1.pack()\n",
    "root = Tk()\n",
    "root.geometry('200x200')\n",
    "b1 = Button(root, text = \"Click Me\", command = showmsg)\n",
    "b1.pack()\n",
    "root.mainloop()\n"
   ]
  },
  {
   "cell_type": "code",
   "execution_count": 4,
   "metadata": {},
   "outputs": [
    {
     "name": "stdout",
     "output_type": "stream",
     "text": [
      "my name is Harish\n",
      "my name is Harish\n"
     ]
    }
   ],
   "source": [
    "from tkinter import *\n",
    "def showmsg():\n",
    "    print(\"my name is Harish\")\n",
    "root = Tk()\n",
    "root.geometry(\"200x200\")\n",
    "b1 = Button(root,text = \"click here\", command = showmsg)\n",
    "b1.pack()\n",
    "root.mainloop()\n"
   ]
  },
  {
   "cell_type": "code",
   "execution_count": 5,
   "metadata": {},
   "outputs": [
    {
     "name": "stdout",
     "output_type": "stream",
     "text": [
      "Welcome To Python\n",
      "Welcome To Python\n"
     ]
    }
   ],
   "source": [
    "import tkinter\n",
    "from tkinter import *\n",
    "\n",
    "def showmsg():\n",
    "    print(\"Welcome To Python\")\n",
    "    \n",
    "root = Tk() \n",
    "root.geometry(\"400x400\")\n",
    "lbl = tkinter.Label(root,text=\"welcome to python\")\n",
    "lbl.pack()\n",
    "b1 = Button(root, text = \"Click Me\", command = showmsg)\n",
    "b1.pack()\n",
    "root.mainloop()\n"
   ]
  },
  {
   "cell_type": "code",
   "execution_count": 6,
   "metadata": {},
   "outputs": [],
   "source": [
    "from tkinter import *\n",
    "root=Tk()\n",
    "def showmsg():\n",
    "    lbl1=tkinter.Label(root,text=\"welcome to python\")\n",
    "    lbl1.pack()\n",
    "root.geometry(\"400x400\")\n",
    "b1=Button(root,text=\"click me\",command=showmsg)\n",
    "b1.pack()\n",
    "root.mainloop()\n"
   ]
  },
  {
   "cell_type": "code",
   "execution_count": 7,
   "metadata": {},
   "outputs": [
    {
     "name": "stdout",
     "output_type": "stream",
     "text": [
      "my name is sunny\n"
     ]
    }
   ],
   "source": [
    "from tkinter import *\n",
    "\n",
    "def showmsg():\n",
    "    print(\"my name is sunny\")\n",
    "\n",
    "root = Tk()\n",
    "root.geometry('200x200')\n",
    "b1=Button(root,text=\"Click Me\",command=showmsg)\n",
    "b1.pack()\n",
    "root.mainloop()\n"
   ]
  },
  {
   "cell_type": "markdown",
   "metadata": {},
   "source": [
    "Now modify the previous app so that as soon as the Button is clicked it should display the text Welcome To Python in Label\n",
    "\n",
    "Before Button Click\tAfter Button Click\n"
   ]
  },
  {
   "cell_type": "code",
   "execution_count": 7,
   "metadata": {},
   "outputs": [],
   "source": [
    "from tkinter import *\n",
    "\n",
    "def showmsg():\n",
    "    l1=Label(root,text=\"Welcome To Python\")\n",
    "    l1.pack()\n",
    "\n",
    "root = Tk()\n",
    "root.geometry('200x200')\n",
    "b1=Button(root,text=\"Click Me\",command=showmsg)\n",
    "b1.pack()\n",
    "root.mainloop()\n"
   ]
  },
  {
   "cell_type": "code",
   "execution_count": 8,
   "metadata": {},
   "outputs": [],
   "source": [
    "from datetime import date\n",
    "\n",
    "today = date.today()\n",
    "\n",
    "from tkinter import *\n",
    "\n",
    "def showmsg():\n",
    "    label1 = Label(root, text = today)\n",
    "    label1.pack()\n",
    "root = Tk()\n",
    "root.geometry('200x200')\n",
    "b1 = Button(root, text = \"Click Me\", command = showmsg)\n",
    "b1.pack()\n",
    "root.mainloop()\n"
   ]
  },
  {
   "cell_type": "code",
   "execution_count": 9,
   "metadata": {},
   "outputs": [],
   "source": [
    "from tkinter import *\n",
    "import datetime\n",
    "\n",
    "def showmsg():\n",
    "    lbl = Label(root,text=datetime.datetime.now())\n",
    "    lbl.pack()\n",
    "\n",
    "root = Tk()\n",
    "root.geometry(\"600x200\")\n",
    "b1 = Button(root,text=\"Click Me\",command=showmsg)\n",
    "b1.pack()\n",
    "root.mainloop()\n"
   ]
  },
  {
   "cell_type": "code",
   "execution_count": 10,
   "metadata": {},
   "outputs": [
    {
     "name": "stdout",
     "output_type": "stream",
     "text": [
      "2022-06-13 01:00:27.944987\n"
     ]
    }
   ],
   "source": [
    "from tkinter import *\n",
    "from datetime import *\n",
    "def showdatatime():\n",
    "    today=datetime.now()\n",
    "    print(today)\n",
    "root = Tk()\n",
    "root.geometry('400x400')\n",
    "b1=Button(root,text=\"Click Me\",command=showdatatime)\n",
    "b1.pack()\n",
    "root.mainloop()\n"
   ]
  },
  {
   "cell_type": "markdown",
   "metadata": {},
   "source": [
    "Write an app containing a Button and as soon as the Button is clicked it should display the current date and time in a Label\n",
    "\n",
    "Before Button Click\tAfter Button Click\n"
   ]
  },
  {
   "cell_type": "markdown",
   "metadata": {},
   "source": [
    "In Python we have a module called datetime.\n",
    "\n",
    "\n",
    "This module contains a class called datetime\n",
    "\n",
    "\n",
    "This class contains a class method called now( ) which returns an object of type datetime containing the current date and time \n"
   ]
  },
  {
   "cell_type": "code",
   "execution_count": 11,
   "metadata": {},
   "outputs": [
    {
     "name": "stdout",
     "output_type": "stream",
     "text": [
      "2022-06-13 01:00:50.463696\n"
     ]
    }
   ],
   "source": [
    "from datetime import *\n",
    "today=datetime.now()\n",
    "print(today)\n"
   ]
  },
  {
   "cell_type": "markdown",
   "metadata": {},
   "source": [
    "The previous code displayed date and time details but sometimes we may want only a part of the entire date time.\n",
    "\n",
    "\n",
    "\n",
    "For example we just want to display the month name or we just want to get the year.\n"
   ]
  },
  {
   "cell_type": "markdown",
   "metadata": {},
   "source": [
    "For such kinds of data , the class datetime provides us an instance  method called strftime( ) .\n",
    "\n",
    "This method accepts a pattern representing a particular date/time element and returns a string containing that element\n",
    "\n",
    "Syntax:\n",
    "\n",
    "<var_name>=<obj>.strftime(“pattern”)\n"
   ]
  },
  {
   "cell_type": "code",
   "execution_count": 20,
   "metadata": {},
   "outputs": [
    {
     "name": "stdout",
     "output_type": "stream",
     "text": [
      "2022-03-11 21:54:22.453086\n",
      "11\n",
      "Mar\n",
      "2022\n"
     ]
    }
   ],
   "source": [
    "from datetime import *\n",
    "today=datetime.now()\n",
    "print(today)\n",
    "day=today.strftime(\"%d\") # this gives day number\n",
    "month=today.strftime(\"%b\") # this gives 3 letter month name\n",
    "year=today.strftime(\"%Y\") # this gives 4 digit year\n",
    "print(day)\n",
    "print(month)\n",
    "print(year)\n"
   ]
  },
  {
   "cell_type": "markdown",
   "metadata": {},
   "source": [
    "Remember ! These patterns are case sensitive\n",
    "\n",
    "\n",
    "We can also club these patterns by passing them as a single string . For ex:\n",
    "\n",
    "currdate=today.strftime(“%d-%b-%Y”)\n",
    "\n",
    "will give \n",
    "\n",
    "6-Jan-2019\n",
    "\n",
    "\n"
   ]
  },
  {
   "cell_type": "code",
   "execution_count": null,
   "metadata": {},
   "outputs": [],
   "source": []
  },
  {
   "cell_type": "code",
   "execution_count": 12,
   "metadata": {},
   "outputs": [],
   "source": [
    "from tkinter import *\n",
    "from datetime import *\n",
    "def showdatetime():\n",
    "    today = datetime.now()\n",
    "    fmtdatetime = today.strftime(\"%d-%B-%Y %H:%M:%S %p\")\n",
    "    l1.config(text=fmtdatetime) \n",
    "\n",
    "root = Tk()\n",
    "root.geometry('200x200')\n",
    "b1=Button(root,text=\"Click Me\",command=showdatetime)\n",
    "l1=Label(root,text=\"Click the button for date and time\")\n",
    "b1.pack()\n",
    "l1.pack()\n",
    "root.mainloop()"
   ]
  },
  {
   "cell_type": "code",
   "execution_count": 13,
   "metadata": {},
   "outputs": [],
   "source": [
    "from tkinter import *\n",
    "\n",
    "global count\n",
    "count=0\n",
    "\n",
    "\n",
    "def showmsg():\n",
    "    global count\n",
    "    count+=1\n",
    "    lbl = Label(root,text=(f\"Label Call No - {count}\"))\n",
    "    lbl.pack()\n",
    "\n",
    "root = Tk()\n",
    "root.geometry(\"600x200\")\n",
    "b1 = Button(root,text=\"Click Me\",command=showmsg)\n",
    "b1.pack()\n",
    "root.mainloop()\n"
   ]
  },
  {
   "cell_type": "code",
   "execution_count": 14,
   "metadata": {},
   "outputs": [],
   "source": [
    "import datetime\n",
    "\n",
    "root=Tk()\n",
    "\n",
    "root.geometry(\"200x200\")\n",
    "b1=Button(root,text=\"click me\",command=showmsg)\n",
    "b1.pack(side=\"bottom\")\n",
    "\n",
    "def showmsg():\n",
    "    global count\n",
    "    count=0\n",
    "    count=count+1\n",
    "    lbl1=tkinter.Label(root,text=datetime.datetime.now().date().strftime(\"%d-%B-%Y\"))\n",
    "    lbl1.pack()\n",
    "    lbl2=tkinter.Label(root,text=count)\n",
    "    lbl2.pack()\n",
    "\n",
    "        \n",
    "root.mainloop()\n"
   ]
  },
  {
   "cell_type": "code",
   "execution_count": 15,
   "metadata": {},
   "outputs": [],
   "source": [
    "from datetime import *\n",
    "today = datetime.now()\n",
    "root=Tk()\n",
    "root.counter = 0\n",
    "\n",
    "def clicked():\n",
    "    root.counter += 1\n",
    "    L['text'] = 'Button clicked: ' + str(root.counter)\n",
    "\n",
    "root.geometry('200x200')\n",
    "b1=Button(root,text='Click Me',command=clicked)\n",
    "b1.pack()\n",
    "L = Label(root, text=\"No clicks yet.\")\n",
    "L.pack()\n",
    "\n",
    "root.mainloop()\n"
   ]
  },
  {
   "cell_type": "code",
   "execution_count": 16,
   "metadata": {},
   "outputs": [],
   "source": [
    "from tkinter import*\n",
    "import datetime\n",
    "from datetime import date\n",
    "count=0\n",
    "def show():\n",
    "    t1.delete(0, END)\n",
    "    global count\n",
    "    count+=1\n",
    "    t1.insert(0, count)\n",
    "\n",
    "f1 = Tk()\n",
    "\n",
    "f1.title(\"test\")\n",
    "f1.config(bg=\"orange\")\n",
    "f1.geometry(\"600x400+100+100\")\n",
    "\n",
    "l1 = Label(f1, text=\"test1\", font=\"arial 12 bold\", border=2, relief=\"solid\")\n",
    "l1.pack()\n",
    "\n",
    "b1 = Button(f1, text=\"click me \",command=show)\n",
    "b1.pack()\n",
    "t1 = Entry(f1,font=\"arial 12 bold\")\n",
    "t1.pack()\n",
    "\n",
    "f1.mainloop()\n"
   ]
  },
  {
   "cell_type": "code",
   "execution_count": 17,
   "metadata": {},
   "outputs": [],
   "source": [
    "from tkinter import *\n",
    "count=0\n",
    "def showmesg():\n",
    "    global count\n",
    "    lbl1=Label(root,text=count+1)\n",
    "    count=count+1\n",
    "    lbl1.pack()\n",
    "root=Tk()\n",
    "root.geometry(\"400x400\")\n",
    "b1=Button(root,text=\"click here\",command=showmesg)\n",
    "b1.pack()\n",
    "root.mainloop()\n"
   ]
  },
  {
   "cell_type": "code",
   "execution_count": null,
   "metadata": {},
   "outputs": [],
   "source": []
  },
  {
   "cell_type": "code",
   "execution_count": null,
   "metadata": {},
   "outputs": [],
   "source": []
  },
  {
   "cell_type": "markdown",
   "metadata": {},
   "source": [
    "Write a GUI app that has a Button titled “Click Me” . Whenever the user clicks the button , the label should show the number of times the click has occurred\n"
   ]
  },
  {
   "cell_type": "code",
   "execution_count": 18,
   "metadata": {},
   "outputs": [],
   "source": [
    "from tkinter import *\n",
    "count=0\n",
    "def incrementcount():\n",
    "    global count\n",
    "    count+=1\n",
    "    l1.config(text=str(count))\n",
    "root = Tk()\n",
    "root.geometry('200x200')\n",
    "b1=Button(root,text=\"Click Me\",command=incrementcount)\n",
    "l1=Label(root,text=\"0\")\n",
    "b1.pack()\n",
    "l1.pack()\n",
    "root.mainloop()\n"
   ]
  },
  {
   "cell_type": "markdown",
   "metadata": {},
   "source": [
    "Redesign the previous code using the property textvariable\n",
    "\n",
    "Before Button Click\tAfter Button Click\n"
   ]
  },
  {
   "cell_type": "code",
   "execution_count": 20,
   "metadata": {},
   "outputs": [],
   "source": [
    "from tkinter import *\n",
    "def incrementcount():\n",
    "    count.set(count.get()+1)\n",
    "root = Tk()\n",
    "root.geometry('200x200')\n",
    "count=IntVar()\n",
    "b1=Button(root,text=\"Click Me\",command=incrementcount)\n",
    "l1=Label(root,textvariable=count)\n",
    "b1.pack()\n",
    "l1.pack()\n",
    "root.mainloop()\n"
   ]
  },
  {
   "cell_type": "code",
   "execution_count": 21,
   "metadata": {},
   "outputs": [],
   "source": [
    "from tkinter import*\n",
    "\n",
    "\n",
    "def red():\n",
    "    b1.config(bg=\"red\")\n",
    "def green():\n",
    "    b2.config(bg=\"green\")\n",
    "def blue():\n",
    "    b3.config(bg=\"blue\")\n",
    "\n",
    "f1 = Tk()\n",
    "\n",
    "f1.title(\"test\")\n",
    "f1.config(bg=\"white\")\n",
    "f1.geometry(\"300x300+100+100\")\n",
    "\n",
    "l1 = Label(f1, text=\"Button color \", bg=\"blue\",font=\"arial 16 bold\")\n",
    "l1.pack()\n",
    "\n",
    "b1 = Button(f1, text=\"Red \",bg=\"white\",command=red)\n",
    "b1.pack()\n",
    "b2 = Button(f1, text=\"Green \",bg=\"white\",command=green)\n",
    "b2.pack()\n",
    "b3 = Button(f1, text=\"Blue \",bg=\"white\",command=blue)\n",
    "b3.pack()\n",
    "\n",
    "\n",
    "f1.mainloop()\n"
   ]
  },
  {
   "cell_type": "code",
   "execution_count": 22,
   "metadata": {},
   "outputs": [],
   "source": [
    "from tkinter import *\n",
    "\n",
    "def changecolor1():\n",
    "    b1.config(bg = \"Red\")\n",
    "def changecolor2():\n",
    "    b2.config(bg = \"Blue\")\n",
    "def changecolor3():\n",
    "    b3.config(bg = \"Green\")\n",
    "\n",
    "\n",
    "root =  Tk()\n",
    "root.geometry('600x600')\n",
    "b1 = Button(root, text = \" Red   \" ,command = changecolor1)\n",
    "b2 = Button(root, text = \" Blue  \" ,command = changecolor2)\n",
    "b3 = Button(root, text = \" Green \" ,command = changecolor3)\n",
    "\n",
    "b1.pack()\n",
    "b2.pack()\n",
    "b3.pack()\n",
    "\n",
    "root.mainloop()\n"
   ]
  },
  {
   "cell_type": "code",
   "execution_count": 23,
   "metadata": {},
   "outputs": [],
   "source": [
    "from tkinter import *\n",
    "from datetime import date\n",
    "\n",
    "count = 0\n",
    "def red():\n",
    "    l1[\"bg\"] = \"red\"\n",
    "\n",
    "def blue():\n",
    "    l1[\"bg\"] = \"blue\"\n",
    "\n",
    "def green():\n",
    "    l1[\"bg\"] = \"green\"\n",
    "    \n",
    "    \n",
    "root = Tk()\n",
    "root.geometry(\"200x200\")\n",
    "b_red=Button(root, text=\"Red\", command=red)\n",
    "b_green=Button(root, text=\"Green\", command=green)\n",
    "b_blue=Button(root, text=\"Blue\", command=blue)\n",
    "\n",
    "l1=Label(root, bg=\"white\")\n",
    "b_red.pack()\n",
    "b_green.pack()\n",
    "b_blue.pack()\n",
    "l1.pack()\n",
    "root.mainloop()\n"
   ]
  },
  {
   "cell_type": "code",
   "execution_count": null,
   "metadata": {},
   "outputs": [],
   "source": []
  },
  {
   "cell_type": "code",
   "execution_count": null,
   "metadata": {},
   "outputs": [],
   "source": []
  },
  {
   "cell_type": "code",
   "execution_count": null,
   "metadata": {},
   "outputs": [],
   "source": []
  },
  {
   "cell_type": "markdown",
   "metadata": {},
   "source": [
    "Write a GUI app that has 3 buttons and 1 label. The buttons should be titled Red, Green and Blue . Now whenever the user clicks on any of the Button change the background color of the Label accordingly. Initially the background color of the Label should be white without any text displayed on it.\n",
    "\n",
    "Before Button Click\tAfter Button Click\n"
   ]
  },
  {
   "cell_type": "code",
   "execution_count": 24,
   "metadata": {},
   "outputs": [],
   "source": [
    "from tkinter import *\n",
    "root = Tk()\n",
    "l1=Label(root,height=3,width=20,bg=\"white\")\n",
    "b1=Button(root,text=\"Red\",width=6)\n",
    "b2=Button(root,text=\"Green\",width=6)\n",
    "b3=Button(root,text=\"Blue\",width=6)\n",
    "l1.grid(row=0,column=1)\n",
    "b1.grid(row=1,column=0)\n",
    "b2.grid(row=1,column=1)\n",
    "b3.grid(row=1,column=2)\n",
    "root.mainloop()\n"
   ]
  },
  {
   "cell_type": "code",
   "execution_count": 25,
   "metadata": {},
   "outputs": [],
   "source": [
    "from tkinter import *\n",
    "\n",
    "def fnRed():\n",
    "    #l1[\"bg\"]=\"red\"\n",
    "    l1.config(bg=\"red\")\n",
    "\n",
    "def fnGreen():\n",
    "    l1[\"bg\"]=\"green\"\n",
    "\n",
    "def fnBlue():\n",
    "    l1[\"bg\"] = \"blue\"\n",
    "\n",
    "root = Tk()\n",
    "l1=Label(root,height=3,width=20,bg=\"white\")\n",
    "b1=Button(root,text=\"Red\",width=6,command=fnRed)\n",
    "b2=Button(root,text=\"Green\",width=6,command=fnGreen)\n",
    "b3=Button(root,text=\"Blue\",width=6,command=fnBlue)\n",
    "l1.grid(row=0,column=1)\n",
    "b1.grid(row=1,column=0)\n",
    "b2.grid(row=1,column=1)\n",
    "b3.grid(row=1,column=2)\n",
    "root.mainloop()\n"
   ]
  },
  {
   "cell_type": "markdown",
   "metadata": {},
   "source": [
    "Can you modify the previous code so that the task can be done without defining any function explicitly ?\n",
    "\n",
    "Answer:\n",
    "Yes, \n",
    "By using Lambda Function\n"
   ]
  },
  {
   "cell_type": "code",
   "execution_count": 27,
   "metadata": {},
   "outputs": [],
   "source": [
    "from tkinter import *\n",
    "root = Tk()\n",
    "l1=Label(root,height=3,width=20,bg=\"white\")\n",
    "b1=Button(root,text=\"Red\",width=6,command=lambda:l1.config(bg=\"red\"))\n",
    "b2=Button(root,text=\"Green\",width=6,command=lambda:l1.config(bg=\"green\"))\n",
    "b3=Button(root,text=\"Blue\",width=6,command=lambda:l1.config(bg=\"blue\"))\n",
    "l1.grid(row=0,column=1)\n",
    "b1.grid(row=1,column=0)\n",
    "b2.grid(row=1,column=1)\n",
    "b3.grid(row=1,column=2)\n",
    "root.mainloop()\n"
   ]
  },
  {
   "cell_type": "markdown",
   "metadata": {},
   "source": [
    "We cannot write the expression l1[“bg”]=“red” \n",
    "here because recall that lambdas don’t accept assignment expressions\n"
   ]
  },
  {
   "cell_type": "code",
   "execution_count": 28,
   "metadata": {},
   "outputs": [],
   "source": [
    "def changecolor(args):\n",
    "    if str(args)==\"Red\":\n",
    "        root.configure(width=6,bg='red')\n",
    "    elif str(args)==\"Green\":\n",
    "        root.configure(width=10,bg='green')\n",
    "    elif str(args)==\"Blue\":\n",
    "        root.configure(width=12,bg='blue')\n",
    "    else:\n",
    "        root.configure(bg='white')\n",
    "\n",
    "\n",
    "root = Tk()\n",
    "root.geometry('200x200')\n",
    "b1 = Button(root,text=\"Red\", command=lambda: changecolor(\"Red\"))\n",
    "b1.pack()\n",
    "b2=  Button(root,text=\"Blue\", command=lambda: changecolor(\"Blue\"))\n",
    "b2.pack()\n",
    "b3=  Button(root,text=\"Green\", command=lambda: changecolor(\"Green\"))\n",
    "b3.pack()\n",
    "l1=Label(root,text=\"The background color\")\n",
    "l1.pack()\n",
    "root.mainloop()\n"
   ]
  },
  {
   "cell_type": "code",
   "execution_count": null,
   "metadata": {},
   "outputs": [],
   "source": []
  },
  {
   "cell_type": "code",
   "execution_count": null,
   "metadata": {},
   "outputs": [],
   "source": []
  },
  {
   "cell_type": "code",
   "execution_count": null,
   "metadata": {},
   "outputs": [],
   "source": []
  },
  {
   "cell_type": "code",
   "execution_count": null,
   "metadata": {},
   "outputs": [],
   "source": []
  },
  {
   "cell_type": "code",
   "execution_count": null,
   "metadata": {},
   "outputs": [],
   "source": []
  },
  {
   "cell_type": "code",
   "execution_count": null,
   "metadata": {},
   "outputs": [],
   "source": []
  },
  {
   "cell_type": "code",
   "execution_count": null,
   "metadata": {},
   "outputs": [],
   "source": []
  },
  {
   "cell_type": "code",
   "execution_count": null,
   "metadata": {},
   "outputs": [],
   "source": []
  },
  {
   "cell_type": "code",
   "execution_count": null,
   "metadata": {},
   "outputs": [],
   "source": []
  }
 ],
 "metadata": {
  "kernelspec": {
   "display_name": "Python 3.10.4 64-bit",
   "language": "python",
   "name": "python3"
  },
  "language_info": {
   "codemirror_mode": {
    "name": "ipython",
    "version": 3
   },
   "file_extension": ".py",
   "mimetype": "text/x-python",
   "name": "python",
   "nbconvert_exporter": "python",
   "pygments_lexer": "ipython3",
   "version": "3.10.4"
  },
  "vscode": {
   "interpreter": {
    "hash": "fd354288a369f680a7322ddff2a06d3b3ac546c5fe22b956c0c96b589b2c4d3d"
   }
  }
 },
 "nbformat": 4,
 "nbformat_minor": 4
}
