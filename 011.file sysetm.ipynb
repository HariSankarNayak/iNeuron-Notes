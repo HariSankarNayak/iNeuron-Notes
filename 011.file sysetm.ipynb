{
 "cells": [
  {
   "cell_type": "code",
   "execution_count": 2,
   "metadata": {},
   "outputs": [
    {
     "name": "stdout",
     "output_type": "stream",
     "text": [
      "'001.python basic.ipynb'\r\n",
      " 002.whileloop.ipynb\r\n",
      " 003.Forloop.ipynb\r\n",
      "'004.python string and list manupulation.ipynb'\r\n",
      "'004.python string and list manupulation-nov.ipynb'\r\n",
      "'005.list manupulaton.ipynb'\r\n",
      "'006.TUPLE SET AND DICT-bckup.ipynb'\r\n",
      "'006.Tuples , set , dict .ipynb'\r\n",
      "'007.Function in pyton  (1).ipynb'\r\n",
      "'008.Function and files.ipynb'\r\n",
      "'009.logging and debuging.ipynb'\r\n",
      "'010.class and object.ipynb'\r\n",
      "'011.file sysetm.ipynb'\r\n",
      "'012.iterator generator.ipynb'\r\n"
     ]
    }
   ],
   "source": [
    "%ls"
   ]
  },
  {
   "cell_type": "code",
   "execution_count": 2,
   "metadata": {},
   "outputs": [
    {
     "data": {
      "text/plain": [
       "'test1.txt'"
      ]
     },
     "execution_count": 2,
     "metadata": {},
     "output_type": "execute_result"
    }
   ],
   "source": [
    "f = open('test1.txt' , \"r+\")\n",
    "f.name"
   ]
  },
  {
   "cell_type": "code",
   "execution_count": 3,
   "metadata": {},
   "outputs": [],
   "source": [
    "l = [\"this is my line one \" , \"this is my line 2\" , \" this is my line 3 \" , \"this is my line 4\"]"
   ]
  },
  {
   "cell_type": "code",
   "execution_count": 4,
   "metadata": {},
   "outputs": [
    {
     "data": {
      "text/plain": [
       "37"
      ]
     },
     "execution_count": 4,
     "metadata": {},
     "output_type": "execute_result"
    }
   ],
   "source": [
    "f.write(\" i can write lines at current cursor \")"
   ]
  },
  {
   "cell_type": "code",
   "execution_count": 5,
   "metadata": {},
   "outputs": [],
   "source": [
    "f.writelines(l)"
   ]
  },
  {
   "cell_type": "code",
   "execution_count": 6,
   "metadata": {},
   "outputs": [],
   "source": [
    "f.close()"
   ]
  },
  {
   "cell_type": "code",
   "execution_count": 34,
   "metadata": {},
   "outputs": [],
   "source": [
    "f.flush()"
   ]
  },
  {
   "cell_type": "code",
   "execution_count": null,
   "metadata": {},
   "outputs": [],
   "source": []
  },
  {
   "cell_type": "code",
   "execution_count": null,
   "metadata": {},
   "outputs": [],
   "source": [
    "f = open('test1.txt' , \"r+\")\n",
    "f.name"
   ]
  },
  {
   "cell_type": "code",
   "execution_count": 7,
   "metadata": {},
   "outputs": [
    {
     "data": {
      "text/plain": [
       "4"
      ]
     },
     "execution_count": 7,
     "metadata": {},
     "output_type": "execute_result"
    }
   ],
   "source": [
    "f = open(\"google.txt\" , \"r+\")\n",
    "f.fileno()"
   ]
  },
  {
   "cell_type": "code",
   "execution_count": 11,
   "metadata": {},
   "outputs": [],
   "source": [
    "f.close()"
   ]
  },
  {
   "cell_type": "code",
   "execution_count": 1,
   "metadata": {},
   "outputs": [
    {
     "name": "stdout",
     "output_type": "stream",
     "text": [
      " Volume in drive C has no label.\n",
      " Volume Serial Number is 022C-3D66\n",
      "\n",
      " Directory of c:\\Users\\nayak\\Desktop\\SelfProject\\iNeuron\\Python\n",
      "\n",
      "23-06-2022  22:25    <DIR>          .\n",
      "21-06-2022  00:34    <DIR>          ..\n",
      "11-05-2022  21:35    <DIR>          .ipynb_checkpoints\n",
      "07-03-2022  00:17            23,057 000.python basic.ipynb\n",
      "13-04-2022  22:44            23,471 001.python basic.ipynb\n",
      "13-04-2022  22:52            16,952 002.whileloop.ipynb\n",
      "16-04-2022  00:46            17,533 003.Forloop.ipynb\n",
      "16-04-2022  01:42            39,935 004.python string and list manupulation.ipynb\n",
      "16-04-2022  02:15            69,090 004.python string and list manupulation-nov.ipynb\n",
      "16-04-2022  02:08            56,644 005.list manupulaton.ipynb\n",
      "16-04-2022  02:54            54,898 006.TUPLE SET AND DICT-bckup.ipynb\n",
      "16-04-2022  02:44            59,358 006.Tuples , set , dict .ipynb\n",
      "16-04-2022  03:12            27,917 007.Function in pyton  (1).ipynb\n",
      "16-04-2022  03:24         9,562,697 008.Function and files.ipynb\n",
      "16-04-2022  16:35            23,880 009.logging and debuging.ipynb\n",
      "16-04-2022  22:13            28,599 010.class and object.ipynb\n",
      "16-04-2022  22:53            14,087 011.file sysetm.ipynb\n",
      "16-04-2022  22:58        21,685,762 012.iterator generator.ipynb\n",
      "16-04-2022  23:40            10,152 013.Exception handling class 1.ipynb\n",
      "17-04-2022  00:01            31,318 014.Exception handling class 2 (1).ipynb\n",
      "23-06-2022  22:31             4,010 015.logging (1).ipynb\n",
      "17-04-2022  00:07             4,053 016.logging (1).ipynb\n",
      "17-04-2022  00:10            33,508 017.oops class 1.ipynb\n",
      "17-04-2022  00:30            39,947 018.oops 29th .ipynb\n",
      "17-04-2022  00:33            41,225 019.oops 30th.ipynb\n",
      "17-04-2022  01:01            38,986 020.oops 2 (2).ipynb\n",
      "11-05-2022  21:50            48,670 021.if else , for loop.ipynb\n",
      "11-05-2022  21:50            25,286 022.for loops while loop.ipynb\n",
      "11-05-2022  21:57            49,806 023.practice problem python basic.ipynb\n",
      "12-05-2022  01:35            11,903 024.glass.data\n",
      "14-05-2022  01:38            79,978 025.SQL basic.ipynb\n",
      "14-05-2022  01:38           201,080 026.sql day 2.ipynb\n",
      "16-05-2022  23:20            13,501 027.mongodb class 1.ipynb\n",
      "18-05-2022  00:38            53,777 028.SQLLITE ,map ,reduce ,filter,zip.ipynb\n",
      "18-05-2022  23:56           370,969 029.Pandas.ipynb\n",
      "22-05-2022  20:46           543,374 031.pandas day 2.ipynb\n",
      "24-05-2022  16:32           131,595 032.pandas class 3.ipynb\n",
      "06-06-2022  01:38           162,010 033.pandas 4.ipynb\n",
      "06-06-2022  01:41           265,557 034.pandas class homework discussed.ipynb\n",
      "12-06-2022  02:40            78,420 035.pandas and numpy.ipynb\n",
      "12-06-2022  04:07            32,657 036.numpy day 2.ipynb\n",
      "23-06-2022  22:25            60,118 036.numpy_recorded.ipynb\n",
      "18-06-2022  02:52         2,865,371 037.Graph.ipynb\n",
      "20-06-2022  22:39           828,686 038.graphs day 2.ipynb\n",
      "21-06-2022  00:01         1,113,578 039.plotly.ipynb\n",
      "17-05-2022  21:48            34,222 4.Control Flow.ipynb\n",
      "21-06-2022  00:03    <DIR>          data\n",
      "11-05-2022  21:51                36 README.md\n",
      "              44 File(s)     38,877,673 bytes\n",
      "               4 Dir(s)  409,278,173,184 bytes free\n"
     ]
    }
   ],
   "source": [
    "%ls"
   ]
  },
  {
   "cell_type": "code",
   "execution_count": 9,
   "metadata": {},
   "outputs": [],
   "source": [
    "import os"
   ]
  },
  {
   "cell_type": "code",
   "execution_count": 12,
   "metadata": {},
   "outputs": [],
   "source": [
    "os.remove(\"google.txt\")"
   ]
  },
  {
   "cell_type": "code",
   "execution_count": 13,
   "metadata": {},
   "outputs": [
    {
     "name": "stdout",
     "output_type": "stream",
     "text": [
      " Volume in drive C has no label.\n",
      " Volume Serial Number is FA55-E833\n",
      "\n",
      " Directory of C:\\Users\\win10\\jupyter\\Complete Python Module-20210227T092441Z-001\\Complete Python Module\\8.Iterators Generators\n",
      "\n",
      "01/09/2022  12:55 PM    <DIR>          .\n",
      "01/09/2022  12:55 PM    <DIR>          ..\n",
      "01/09/2022  12:51 PM    <DIR>          .ipynb_checkpoints\n",
      "07/07/2021  08:02 PM            16,152 8.Iterators and Generators.ipynb\n",
      "01/09/2022  12:49 PM             3,218 File op.ipynb\n",
      "12/19/2021  03:18 PM            48,388 if else , for loop.ipynb\n",
      "04/11/2021  06:07 AM    <DIR>          imgs\n",
      "01/09/2022  12:16 PM               372 test.txt\n",
      "01/09/2022  12:51 PM               228 test1.txt\n",
      "01/09/2022  12:01 PM                50 test2.txt\n",
      "01/09/2022  12:39 PM        21,685,761 Untitled.ipynb\n",
      "01/09/2022  12:55 PM             6,539 Untitled1.ipynb\n",
      "               8 File(s)     21,760,708 bytes\n",
      "               4 Dir(s)  471,102,828,544 bytes free\n"
     ]
    }
   ],
   "source": [
    "%ls"
   ]
  },
  {
   "cell_type": "code",
   "execution_count": 14,
   "metadata": {},
   "outputs": [
    {
     "data": {
      "text/plain": [
       "'C:\\\\Users\\\\win10\\\\jupyter\\\\Complete Python Module-20210227T092441Z-001\\\\Complete Python Module\\\\8.Iterators Generators'"
      ]
     },
     "execution_count": 14,
     "metadata": {},
     "output_type": "execute_result"
    }
   ],
   "source": [
    "os.getcwd()"
   ]
  },
  {
   "cell_type": "code",
   "execution_count": 15,
   "metadata": {},
   "outputs": [
    {
     "data": {
      "text/plain": [
       "'C:\\\\Users\\\\win10\\\\jupyter\\\\Complete Python Module-20210227T092441Z-001\\\\Complete Python Module\\\\8.Iterators Generators'"
      ]
     },
     "execution_count": 15,
     "metadata": {},
     "output_type": "execute_result"
    }
   ],
   "source": [
    "pwd()"
   ]
  },
  {
   "cell_type": "code",
   "execution_count": 18,
   "metadata": {},
   "outputs": [
    {
     "data": {
      "text/plain": [
       "['.ipynb_checkpoints',\n",
       " '1584210047017.docx',\n",
       " '1584210047017.pdf',\n",
       " '22nd Aug Assignment.ipynb',\n",
       " 'ALBERT-20210531T131400Z-001',\n",
       " 'ALBERT-20210531T131400Z-001.zip',\n",
       " 'Anamoly-20210801T140417Z-001',\n",
       " 'Anamoly-20210801T140417Z-001.zip',\n",
       " 'Anamoly-20210801T140418Z-001.zip',\n",
       " 'apache-cassandra-3.11.10-bin',\n",
       " 'apache-cassandra-3.11.10-bin (1).tar',\n",
       " 'apache-cassandra-3.11.10-bin (1).tar.gz',\n",
       " 'Assignment xyz.ipynb',\n",
       " 'BERT-20210531T131352Z-001',\n",
       " 'BERT-20210531T131352Z-001.zip',\n",
       " 'books.csv',\n",
       " 'captchas',\n",
       " 'CarbonUpdatedFile.csv',\n",
       " 'carbon_nanotubes.csv',\n",
       " 'Casandra Streaming.ipynb',\n",
       " 'Cassandra Streming.ipynb',\n",
       " 'Chapter10. ENCODER_DECODER___SEQ2SEQ',\n",
       " 'Chapter7. WORD2VEC_CBOW_SKIPGRAM-20210411T005219Z-001',\n",
       " 'Chapter7. WORD2VEC_CBOW_SKIPGRAM-20210411T005219Z-001.zip',\n",
       " 'Chapter7. WORD2VEC_CBOW_SKIPGRAM-20210417T044431Z-001.zip',\n",
       " 'clustering-20210710T141724Z-001',\n",
       " 'Codes-identification-agences-bancaires-FR-4 (9).pdf',\n",
       " 'Complete Python Module-20210227T092441Z-001',\n",
       " 'DistilBERT-20210531T131340Z-001',\n",
       " 'DistilBERT-20210531T131340Z-001.zip',\n",
       " 'DistilBERT-20210531T131712Z-001.zip',\n",
       " 'DL_Recurrent_Neural_Network 2',\n",
       " 'DL_Recurrent_Neural_Network 2.7z',\n",
       " 'EDA_First_Two',\n",
       " 'final.csv',\n",
       " 'final_internship_list.csv',\n",
       " 'Final_list.csv',\n",
       " 'final_winnner.csv',\n",
       " 'Function and files (1).ipynb',\n",
       " 'Function in pyton  (1) (1).ipynb',\n",
       " 'gift.csv',\n",
       " 'gpt2-20210531T131332Z-001',\n",
       " 'gpt2-20210531T131332Z-001.zip',\n",
       " 'gpt2-20210531T131332Z-002.zip',\n",
       " 'html_data0.csv',\n",
       " 'html_data1.csv',\n",
       " 'html_data2.csv',\n",
       " 'html_data3.csv',\n",
       " 'html_data4.csv',\n",
       " 'html_data5.csv',\n",
       " 'iNeuron July month update (Responses).xlsx',\n",
       " 'INeuron Projects-20210531T132536Z-001.zip',\n",
       " 'iNeuron_july_salary (1).xlsx',\n",
       " 'iNeuron_july_salary.xlsx',\n",
       " 'internship mail id.xlsx',\n",
       " 'Interview questions.ipynb',\n",
       " 'json_dump.csv',\n",
       " 'LinearRegression-master',\n",
       " 'LinearRegression-master (1) (4)',\n",
       " 'LinearRegression-master (1) (4).zip',\n",
       " 'locations.csv',\n",
       " 'ML masters',\n",
       " 'model_all_architecture_ocr.h5',\n",
       " 'model_ocr.json',\n",
       " 'model_weights_ocr.h5',\n",
       " 'mysql assignment .ipynb',\n",
       " 'my_pickle',\n",
       " 'numpy.ipynb',\n",
       " 'ocr model',\n",
       " 'ocr model.7z',\n",
       " 'OCR Poc.ipynb',\n",
       " 'pandas 3 .ipynb',\n",
       " 'pandas and basic function.ipynb',\n",
       " 'pandas data manipulations  2.ipynb',\n",
       " 'Pandas session 1.ipynb',\n",
       " 'PCA (4)',\n",
       " 'players_data.csv',\n",
       " 'plotly .ipynb',\n",
       " 'python basic 1.ipynb',\n",
       " 'python question discussion .ipynb',\n",
       " 'Python-20210417T030818Z-001',\n",
       " 'Rakhi Gift to my sister lastest.xlsx',\n",
       " 'rakhi_gift.xlsx',\n",
       " 'rakhi_new_list.xlsx',\n",
       " 'readpdf.pdf',\n",
       " 'Reinforcement learning-20210117T063045Z-001',\n",
       " 'Reinforcement learning-20210117T063045Z-001.7z',\n",
       " 'Reinforcement learning-20210117T063045Z-001.zip',\n",
       " 'result.csv',\n",
       " 'result1.csv',\n",
       " 'result2.csv',\n",
       " 'result3.csv',\n",
       " 'review scrapper .ipynb',\n",
       " 'RNN & LSTMS and going Deeper-20210411T004412Z-001',\n",
       " 'RNN & LSTMS and going Deeper-20210411T004412Z-001.zip',\n",
       " 'RNN & LSTMS and going Deeper-20210516T010306Z-001',\n",
       " 'rnnlstm (1) (1)',\n",
       " 'RoBERTa_Implementation-20210531T131627Z-001.zip',\n",
       " 'rozerpay',\n",
       " 'sample.parquet',\n",
       " 'Sample_Data_Work-20210531T132923Z-001.zip',\n",
       " 'saurav',\n",
       " 'secure-connect-ineuron.zip',\n",
       " 'sepr_salary.csv',\n",
       " 'Sept_iNeuron_salary.xlsx',\n",
       " 'sept_salary_ineuron.xlsx',\n",
       " 'swagger',\n",
       " 'test.csv',\n",
       " 'test.h5',\n",
       " 'Time series sunspot (1) (2)',\n",
       " 'Time series sunspot (1) (2).7z',\n",
       " 'timeSeries (6)',\n",
       " 'timeSeries (6).zip',\n",
       " 'timeSeries (7)',\n",
       " 'timeSeries (7).zip',\n",
       " 'Tuple , set and dict.ipynb',\n",
       " 'Untitled.ipynb',\n",
       " 'Untitled1.ipynb',\n",
       " 'Untitled10.ipynb',\n",
       " 'Untitled11.ipynb',\n",
       " 'Untitled12.ipynb',\n",
       " 'Untitled13.ipynb',\n",
       " 'Untitled14.ipynb',\n",
       " 'Untitled15.ipynb',\n",
       " 'Untitled16.ipynb',\n",
       " 'Untitled17.ipynb',\n",
       " 'Untitled18.ipynb',\n",
       " 'Untitled19.ipynb',\n",
       " 'Untitled2.ipynb',\n",
       " 'Untitled20.ipynb',\n",
       " 'Untitled21.ipynb',\n",
       " 'Untitled22.ipynb',\n",
       " 'Untitled23.ipynb',\n",
       " 'Untitled24.ipynb',\n",
       " 'Untitled25.ipynb',\n",
       " 'Untitled26.ipynb',\n",
       " 'Untitled27.ipynb',\n",
       " 'Untitled28.ipynb',\n",
       " 'Untitled29.ipynb',\n",
       " 'Untitled3.ipynb',\n",
       " 'Untitled30.ipynb',\n",
       " 'Untitled39.ipynb',\n",
       " 'Untitled4.ipynb',\n",
       " 'Untitled40.ipynb',\n",
       " 'Untitled41.ipynb',\n",
       " 'Untitled5.ipynb',\n",
       " 'Untitled6.ipynb',\n",
       " 'Untitled7.ipynb',\n",
       " 'Untitled8.ipynb',\n",
       " 'Untitled9.ipynb',\n",
       " 'updateddocs-20210516T010855Z-001',\n",
       " 'word embedding']"
      ]
     },
     "execution_count": 18,
     "metadata": {},
     "output_type": "execute_result"
    }
   ],
   "source": [
    "os.listdir(\"C:\\\\Users\\\\win10\\\\jupyter\")"
   ]
  },
  {
   "cell_type": "code",
   "execution_count": 19,
   "metadata": {},
   "outputs": [
    {
     "data": {
      "text/plain": [
       "'C:\\\\Users\\\\win10\\\\jupyter\\\\Complete Python Module-20210227T092441Z-001\\\\Complete Python Module\\\\8.Iterators Generators'"
      ]
     },
     "execution_count": 19,
     "metadata": {},
     "output_type": "execute_result"
    }
   ],
   "source": [
    "os.getcwd()"
   ]
  },
  {
   "cell_type": "code",
   "execution_count": null,
   "metadata": {},
   "outputs": [],
   "source": []
  }
 ],
 "metadata": {
  "kernelspec": {
   "display_name": "Python 3.10.4 64-bit",
   "language": "python",
   "name": "python3"
  },
  "language_info": {
   "codemirror_mode": {
    "name": "ipython",
    "version": 3
   },
   "file_extension": ".py",
   "mimetype": "text/x-python",
   "name": "python",
   "nbconvert_exporter": "python",
   "pygments_lexer": "ipython3",
   "version": "3.10.4"
  },
  "vscode": {
   "interpreter": {
    "hash": "fd354288a369f680a7322ddff2a06d3b3ac546c5fe22b956c0c96b589b2c4d3d"
   }
  }
 },
 "nbformat": 4,
 "nbformat_minor": 4
}
