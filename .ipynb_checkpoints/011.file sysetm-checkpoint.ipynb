{
 "cells": [
  {
   "cell_type": "code",
   "execution_count": 2,
   "metadata": {},
   "outputs": [
    {
     "name": "stdout",
     "output_type": "stream",
     "text": [
      "'001.python basic.ipynb'\r\n",
      " 002.whileloop.ipynb\r\n",
      " 003.Forloop.ipynb\r\n",
      "'004.python string and list manupulation.ipynb'\r\n",
      "'004.python string and list manupulation-nov.ipynb'\r\n",
      "'005.list manupulaton.ipynb'\r\n",
      "'006.TUPLE SET AND DICT-bckup.ipynb'\r\n",
      "'006.Tuples , set , dict .ipynb'\r\n",
      "'007.Function in pyton  (1).ipynb'\r\n",
      "'008.Function and files.ipynb'\r\n",
      "'009.logging and debuging.ipynb'\r\n",
      "'010.class and object.ipynb'\r\n",
      "'011.file sysetm.ipynb'\r\n",
      "'012.iterator generator.ipynb'\r\n"
     ]
    }
   ],
   "source": [
    "%ls"
   ]
  },
  {
   "cell_type": "code",
   "execution_count": 2,
   "metadata": {},
   "outputs": [
    {
     "data": {
      "text/plain": [
       "'test1.txt'"
      ]
     },
     "execution_count": 2,
     "metadata": {},
     "output_type": "execute_result"
    }
   ],
   "source": [
    "f = open('test1.txt' , \"r+\")\n",
    "f.name"
   ]
  },
  {
   "cell_type": "code",
   "execution_count": 3,
   "metadata": {},
   "outputs": [],
   "source": [
    "l = [\"this is my line one \" , \"this is my line 2\" , \" this is my line 3 \" , \"this is my line 4\"]"
   ]
  },
  {
   "cell_type": "code",
   "execution_count": 4,
   "metadata": {},
   "outputs": [
    {
     "data": {
      "text/plain": [
       "37"
      ]
     },
     "execution_count": 4,
     "metadata": {},
     "output_type": "execute_result"
    }
   ],
   "source": [
    "f.write(\" i can write lines at current cursor \")"
   ]
  },
  {
   "cell_type": "code",
   "execution_count": 5,
   "metadata": {},
   "outputs": [],
   "source": [
    "f.writelines(l)"
   ]
  },
  {
   "cell_type": "code",
   "execution_count": 6,
   "metadata": {},
   "outputs": [],
   "source": [
    "f.close()"
   ]
  },
  {
   "cell_type": "code",
   "execution_count": 34,
   "metadata": {},
   "outputs": [],
   "source": [
    "f.flush()"
   ]
  },
  {
   "cell_type": "code",
   "execution_count": null,
   "metadata": {},
   "outputs": [],
   "source": []
  },
  {
   "cell_type": "code",
   "execution_count": null,
   "metadata": {},
   "outputs": [],
   "source": [
    "f = open('test1.txt' , \"r+\")\n",
    "f.name"
   ]
  },
  {
   "cell_type": "code",
   "execution_count": 7,
   "metadata": {},
   "outputs": [
    {
     "data": {
      "text/plain": [
       "4"
      ]
     },
     "execution_count": 7,
     "metadata": {},
     "output_type": "execute_result"
    }
   ],
   "source": [
    "f = open(\"google.txt\" , \"r+\")\n",
    "f.fileno()"
   ]
  },
  {
   "cell_type": "code",
   "execution_count": 11,
   "metadata": {},
   "outputs": [],
   "source": [
    "f.close()"
   ]
  },
  {
   "cell_type": "code",
   "execution_count": 8,
   "metadata": {},
   "outputs": [
    {
     "name": "stdout",
     "output_type": "stream",
     "text": [
      " Volume in drive C has no label.\n",
      " Volume Serial Number is FA55-E833\n",
      "\n",
      " Directory of C:\\Users\\win10\\jupyter\\Complete Python Module-20210227T092441Z-001\\Complete Python Module\\8.Iterators Generators\n",
      "\n",
      "01/09/2022  12:51 PM    <DIR>          .\n",
      "01/09/2022  12:51 PM    <DIR>          ..\n",
      "01/09/2022  12:51 PM    <DIR>          .ipynb_checkpoints\n",
      "07/07/2021  08:02 PM            16,152 8.Iterators and Generators.ipynb\n",
      "01/09/2022  12:49 PM             3,218 File op.ipynb\n",
      "01/09/2022  12:48 PM             3,036 google.txt\n",
      "12/19/2021  03:18 PM            48,388 if else , for loop.ipynb\n",
      "04/11/2021  06:07 AM    <DIR>          imgs\n",
      "01/09/2022  12:16 PM               372 test.txt\n",
      "01/09/2022  12:51 PM               228 test1.txt\n",
      "01/09/2022  12:01 PM                50 test2.txt\n",
      "01/09/2022  12:39 PM        21,685,761 Untitled.ipynb\n",
      "01/09/2022  12:51 PM                72 Untitled1.ipynb\n",
      "               9 File(s)     21,757,277 bytes\n",
      "               4 Dir(s)  471,108,497,408 bytes free\n"
     ]
    }
   ],
   "source": [
    "%ls"
   ]
  },
  {
   "cell_type": "code",
   "execution_count": 9,
   "metadata": {},
   "outputs": [],
   "source": [
    "import os"
   ]
  },
  {
   "cell_type": "code",
   "execution_count": 12,
   "metadata": {},
   "outputs": [],
   "source": [
    "os.remove(\"google.txt\")"
   ]
  },
  {
   "cell_type": "code",
   "execution_count": 13,
   "metadata": {},
   "outputs": [
    {
     "name": "stdout",
     "output_type": "stream",
     "text": [
      " Volume in drive C has no label.\n",
      " Volume Serial Number is FA55-E833\n",
      "\n",
      " Directory of C:\\Users\\win10\\jupyter\\Complete Python Module-20210227T092441Z-001\\Complete Python Module\\8.Iterators Generators\n",
      "\n",
      "01/09/2022  12:55 PM    <DIR>          .\n",
      "01/09/2022  12:55 PM    <DIR>          ..\n",
      "01/09/2022  12:51 PM    <DIR>          .ipynb_checkpoints\n",
      "07/07/2021  08:02 PM            16,152 8.Iterators and Generators.ipynb\n",
      "01/09/2022  12:49 PM             3,218 File op.ipynb\n",
      "12/19/2021  03:18 PM            48,388 if else , for loop.ipynb\n",
      "04/11/2021  06:07 AM    <DIR>          imgs\n",
      "01/09/2022  12:16 PM               372 test.txt\n",
      "01/09/2022  12:51 PM               228 test1.txt\n",
      "01/09/2022  12:01 PM                50 test2.txt\n",
      "01/09/2022  12:39 PM        21,685,761 Untitled.ipynb\n",
      "01/09/2022  12:55 PM             6,539 Untitled1.ipynb\n",
      "               8 File(s)     21,760,708 bytes\n",
      "               4 Dir(s)  471,102,828,544 bytes free\n"
     ]
    }
   ],
   "source": [
    "%ls"
   ]
  },
  {
   "cell_type": "code",
   "execution_count": 14,
   "metadata": {},
   "outputs": [
    {
     "data": {
      "text/plain": [
       "'C:\\\\Users\\\\win10\\\\jupyter\\\\Complete Python Module-20210227T092441Z-001\\\\Complete Python Module\\\\8.Iterators Generators'"
      ]
     },
     "execution_count": 14,
     "metadata": {},
     "output_type": "execute_result"
    }
   ],
   "source": [
    "os.getcwd()"
   ]
  },
  {
   "cell_type": "code",
   "execution_count": 15,
   "metadata": {},
   "outputs": [
    {
     "data": {
      "text/plain": [
       "'C:\\\\Users\\\\win10\\\\jupyter\\\\Complete Python Module-20210227T092441Z-001\\\\Complete Python Module\\\\8.Iterators Generators'"
      ]
     },
     "execution_count": 15,
     "metadata": {},
     "output_type": "execute_result"
    }
   ],
   "source": [
    "pwd()"
   ]
  },
  {
   "cell_type": "code",
   "execution_count": 18,
   "metadata": {},
   "outputs": [
    {
     "data": {
      "text/plain": [
       "['.ipynb_checkpoints',\n",
       " '1584210047017.docx',\n",
       " '1584210047017.pdf',\n",
       " '22nd Aug Assignment.ipynb',\n",
       " 'ALBERT-20210531T131400Z-001',\n",
       " 'ALBERT-20210531T131400Z-001.zip',\n",
       " 'Anamoly-20210801T140417Z-001',\n",
       " 'Anamoly-20210801T140417Z-001.zip',\n",
       " 'Anamoly-20210801T140418Z-001.zip',\n",
       " 'apache-cassandra-3.11.10-bin',\n",
       " 'apache-cassandra-3.11.10-bin (1).tar',\n",
       " 'apache-cassandra-3.11.10-bin (1).tar.gz',\n",
       " 'Assignment xyz.ipynb',\n",
       " 'BERT-20210531T131352Z-001',\n",
       " 'BERT-20210531T131352Z-001.zip',\n",
       " 'books.csv',\n",
       " 'captchas',\n",
       " 'CarbonUpdatedFile.csv',\n",
       " 'carbon_nanotubes.csv',\n",
       " 'Casandra Streaming.ipynb',\n",
       " 'Cassandra Streming.ipynb',\n",
       " 'Chapter10. ENCODER_DECODER___SEQ2SEQ',\n",
       " 'Chapter7. WORD2VEC_CBOW_SKIPGRAM-20210411T005219Z-001',\n",
       " 'Chapter7. WORD2VEC_CBOW_SKIPGRAM-20210411T005219Z-001.zip',\n",
       " 'Chapter7. WORD2VEC_CBOW_SKIPGRAM-20210417T044431Z-001.zip',\n",
       " 'clustering-20210710T141724Z-001',\n",
       " 'Codes-identification-agences-bancaires-FR-4 (9).pdf',\n",
       " 'Complete Python Module-20210227T092441Z-001',\n",
       " 'DistilBERT-20210531T131340Z-001',\n",
       " 'DistilBERT-20210531T131340Z-001.zip',\n",
       " 'DistilBERT-20210531T131712Z-001.zip',\n",
       " 'DL_Recurrent_Neural_Network 2',\n",
       " 'DL_Recurrent_Neural_Network 2.7z',\n",
       " 'EDA_First_Two',\n",
       " 'final.csv',\n",
       " 'final_internship_list.csv',\n",
       " 'Final_list.csv',\n",
       " 'final_winnner.csv',\n",
       " 'Function and files (1).ipynb',\n",
       " 'Function in pyton  (1) (1).ipynb',\n",
       " 'gift.csv',\n",
       " 'gpt2-20210531T131332Z-001',\n",
       " 'gpt2-20210531T131332Z-001.zip',\n",
       " 'gpt2-20210531T131332Z-002.zip',\n",
       " 'html_data0.csv',\n",
       " 'html_data1.csv',\n",
       " 'html_data2.csv',\n",
       " 'html_data3.csv',\n",
       " 'html_data4.csv',\n",
       " 'html_data5.csv',\n",
       " 'iNeuron July month update (Responses).xlsx',\n",
       " 'INeuron Projects-20210531T132536Z-001.zip',\n",
       " 'iNeuron_july_salary (1).xlsx',\n",
       " 'iNeuron_july_salary.xlsx',\n",
       " 'internship mail id.xlsx',\n",
       " 'Interview questions.ipynb',\n",
       " 'json_dump.csv',\n",
       " 'LinearRegression-master',\n",
       " 'LinearRegression-master (1) (4)',\n",
       " 'LinearRegression-master (1) (4).zip',\n",
       " 'locations.csv',\n",
       " 'ML masters',\n",
       " 'model_all_architecture_ocr.h5',\n",
       " 'model_ocr.json',\n",
       " 'model_weights_ocr.h5',\n",
       " 'mysql assignment .ipynb',\n",
       " 'my_pickle',\n",
       " 'numpy.ipynb',\n",
       " 'ocr model',\n",
       " 'ocr model.7z',\n",
       " 'OCR Poc.ipynb',\n",
       " 'pandas 3 .ipynb',\n",
       " 'pandas and basic function.ipynb',\n",
       " 'pandas data manipulations  2.ipynb',\n",
       " 'Pandas session 1.ipynb',\n",
       " 'PCA (4)',\n",
       " 'players_data.csv',\n",
       " 'plotly .ipynb',\n",
       " 'python basic 1.ipynb',\n",
       " 'python question discussion .ipynb',\n",
       " 'Python-20210417T030818Z-001',\n",
       " 'Rakhi Gift to my sister lastest.xlsx',\n",
       " 'rakhi_gift.xlsx',\n",
       " 'rakhi_new_list.xlsx',\n",
       " 'readpdf.pdf',\n",
       " 'Reinforcement learning-20210117T063045Z-001',\n",
       " 'Reinforcement learning-20210117T063045Z-001.7z',\n",
       " 'Reinforcement learning-20210117T063045Z-001.zip',\n",
       " 'result.csv',\n",
       " 'result1.csv',\n",
       " 'result2.csv',\n",
       " 'result3.csv',\n",
       " 'review scrapper .ipynb',\n",
       " 'RNN & LSTMS and going Deeper-20210411T004412Z-001',\n",
       " 'RNN & LSTMS and going Deeper-20210411T004412Z-001.zip',\n",
       " 'RNN & LSTMS and going Deeper-20210516T010306Z-001',\n",
       " 'rnnlstm (1) (1)',\n",
       " 'RoBERTa_Implementation-20210531T131627Z-001.zip',\n",
       " 'rozerpay',\n",
       " 'sample.parquet',\n",
       " 'Sample_Data_Work-20210531T132923Z-001.zip',\n",
       " 'saurav',\n",
       " 'secure-connect-ineuron.zip',\n",
       " 'sepr_salary.csv',\n",
       " 'Sept_iNeuron_salary.xlsx',\n",
       " 'sept_salary_ineuron.xlsx',\n",
       " 'swagger',\n",
       " 'test.csv',\n",
       " 'test.h5',\n",
       " 'Time series sunspot (1) (2)',\n",
       " 'Time series sunspot (1) (2).7z',\n",
       " 'timeSeries (6)',\n",
       " 'timeSeries (6).zip',\n",
       " 'timeSeries (7)',\n",
       " 'timeSeries (7).zip',\n",
       " 'Tuple , set and dict.ipynb',\n",
       " 'Untitled.ipynb',\n",
       " 'Untitled1.ipynb',\n",
       " 'Untitled10.ipynb',\n",
       " 'Untitled11.ipynb',\n",
       " 'Untitled12.ipynb',\n",
       " 'Untitled13.ipynb',\n",
       " 'Untitled14.ipynb',\n",
       " 'Untitled15.ipynb',\n",
       " 'Untitled16.ipynb',\n",
       " 'Untitled17.ipynb',\n",
       " 'Untitled18.ipynb',\n",
       " 'Untitled19.ipynb',\n",
       " 'Untitled2.ipynb',\n",
       " 'Untitled20.ipynb',\n",
       " 'Untitled21.ipynb',\n",
       " 'Untitled22.ipynb',\n",
       " 'Untitled23.ipynb',\n",
       " 'Untitled24.ipynb',\n",
       " 'Untitled25.ipynb',\n",
       " 'Untitled26.ipynb',\n",
       " 'Untitled27.ipynb',\n",
       " 'Untitled28.ipynb',\n",
       " 'Untitled29.ipynb',\n",
       " 'Untitled3.ipynb',\n",
       " 'Untitled30.ipynb',\n",
       " 'Untitled39.ipynb',\n",
       " 'Untitled4.ipynb',\n",
       " 'Untitled40.ipynb',\n",
       " 'Untitled41.ipynb',\n",
       " 'Untitled5.ipynb',\n",
       " 'Untitled6.ipynb',\n",
       " 'Untitled7.ipynb',\n",
       " 'Untitled8.ipynb',\n",
       " 'Untitled9.ipynb',\n",
       " 'updateddocs-20210516T010855Z-001',\n",
       " 'word embedding']"
      ]
     },
     "execution_count": 18,
     "metadata": {},
     "output_type": "execute_result"
    }
   ],
   "source": [
    "os.listdir(\"C:\\\\Users\\\\win10\\\\jupyter\")"
   ]
  },
  {
   "cell_type": "code",
   "execution_count": 19,
   "metadata": {},
   "outputs": [
    {
     "data": {
      "text/plain": [
       "'C:\\\\Users\\\\win10\\\\jupyter\\\\Complete Python Module-20210227T092441Z-001\\\\Complete Python Module\\\\8.Iterators Generators'"
      ]
     },
     "execution_count": 19,
     "metadata": {},
     "output_type": "execute_result"
    }
   ],
   "source": [
    "os.getcwd()"
   ]
  },
  {
   "cell_type": "code",
   "execution_count": null,
   "metadata": {},
   "outputs": [],
   "source": []
  }
 ],
 "metadata": {
  "kernelspec": {
   "display_name": "Python 3",
   "language": "python",
   "name": "python3"
  },
  "language_info": {
   "codemirror_mode": {
    "name": "ipython",
    "version": 3
   },
   "file_extension": ".py",
   "mimetype": "text/x-python",
   "name": "python",
   "nbconvert_exporter": "python",
   "pygments_lexer": "ipython3",
   "version": "3.8.12"
  }
 },
 "nbformat": 4,
 "nbformat_minor": 4
}
