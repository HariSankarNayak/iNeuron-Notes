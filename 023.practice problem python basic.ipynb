{
 "cells": [
  {
   "cell_type": "code",
   "execution_count": 1,
   "metadata": {},
   "outputs": [
    {
     "data": {
      "text/plain": [
       "26"
      ]
     },
     "execution_count": 1,
     "metadata": {},
     "output_type": "execute_result"
    }
   ],
   "source": [
    "s = \"This is basic python class\"\n",
    "len(s)"
   ]
  },
  {
   "cell_type": "code",
   "execution_count": 3,
   "metadata": {},
   "outputs": [
    {
     "name": "stdout",
     "output_type": "stream",
     "text": [
      "26\n"
     ]
    }
   ],
   "source": [
    "count = 0 \n",
    "for i in s :\n",
    "    #count = count +1\n",
    "    count+=1\n",
    "print(count)\n",
    "    "
   ]
  },
  {
   "cell_type": "code",
   "execution_count": 4,
   "metadata": {},
   "outputs": [
    {
     "data": {
      "text/plain": [
       "'ssalc nohtyp cisab si sihT'"
      ]
     },
     "execution_count": 4,
     "metadata": {},
     "output_type": "execute_result"
    }
   ],
   "source": [
    "s[::-1]"
   ]
  },
  {
   "cell_type": "code",
   "execution_count": 5,
   "metadata": {},
   "outputs": [
    {
     "name": "stdout",
     "output_type": "stream",
     "text": [
      "s\n",
      "s\n",
      "a\n",
      "l\n",
      "c\n",
      " \n",
      "n\n",
      "o\n",
      "h\n",
      "t\n",
      "y\n",
      "p\n",
      " \n",
      "c\n",
      "i\n",
      "s\n",
      "a\n",
      "b\n",
      " \n",
      "s\n",
      "i\n",
      " \n",
      "s\n",
      "i\n",
      "h\n",
      "T\n"
     ]
    }
   ],
   "source": [
    "for i in range(len(s)-1 , -1,-1):\n",
    "    print(s[i])"
   ]
  },
  {
   "cell_type": "code",
   "execution_count": 6,
   "metadata": {},
   "outputs": [
    {
     "name": "stdout",
     "output_type": "stream",
     "text": [
      "s s a l c   n o h t y p   c i s a b   s i   s i h T "
     ]
    }
   ],
   "source": [
    "i=len(s)-1\n",
    "while(i>=0):\n",
    "    print(s[i],end=\" \")\n",
    "    i=i-1\n"
   ]
  },
  {
   "cell_type": "code",
   "execution_count": 7,
   "metadata": {},
   "outputs": [
    {
     "data": {
      "text/plain": [
       "'This is basic python class'"
      ]
     },
     "execution_count": 7,
     "metadata": {},
     "output_type": "execute_result"
    }
   ],
   "source": [
    "s\n"
   ]
  },
  {
   "cell_type": "code",
   "execution_count": null,
   "metadata": {},
   "outputs": [],
   "source": [
    "s = \"ineuron\"\n",
    "v = \"AaEeIiOoUu\""
   ]
  },
  {
   "cell_type": "code",
   "execution_count": 15,
   "metadata": {},
   "outputs": [
    {
     "name": "stdout",
     "output_type": "stream",
     "text": [
      "not vowel s\n",
      "not vowel h\n",
      "vowel i\n",
      "not vowel k\n",
      "not vowel h\n",
      "vowel a\n",
      "not vowel r\n"
     ]
    }
   ],
   "source": [
    "s=\"shikhar\"\n",
    "v=\"AaEeIiOoUu\"\n",
    "for i in s:\n",
    "    if i in v:\n",
    "        print(\"vowel\",i)\n",
    "    else:\n",
    "        print(\"not vowel\",i)\n"
   ]
  },
  {
   "cell_type": "code",
   "execution_count": 14,
   "metadata": {},
   "outputs": [
    {
     "data": {
      "text/plain": [
       "False"
      ]
     },
     "execution_count": 14,
     "metadata": {},
     "output_type": "execute_result"
    }
   ],
   "source": [
    "\"g\" in \"sudh\""
   ]
  },
  {
   "cell_type": "code",
   "execution_count": 10,
   "metadata": {},
   "outputs": [
    {
     "data": {
      "text/plain": [
       "'shikhar'"
      ]
     },
     "execution_count": 10,
     "metadata": {},
     "output_type": "execute_result"
    }
   ],
   "source": [
    "s"
   ]
  },
  {
   "cell_type": "code",
   "execution_count": null,
   "metadata": {},
   "outputs": [],
   "source": [
    "\"tnent\"\n",
    "\"malayalam\"\n",
    "\"eye\""
   ]
  },
  {
   "cell_type": "code",
   "execution_count": 17,
   "metadata": {},
   "outputs": [
    {
     "name": "stdout",
     "output_type": "stream",
     "text": [
      "eye\n",
      "Pallindrome eye\n"
     ]
    }
   ],
   "source": [
    "s = input()\n",
    "v = s[::-1]\n",
    "if s == v :\n",
    "    print(\"Pallindrome\",s)\n",
    "else:\n",
    "    print(\"Not a pallindrome\",s)\n"
   ]
  },
  {
   "cell_type": "code",
   "execution_count": null,
   "metadata": {},
   "outputs": [],
   "source": [
    "s = 'koot'\n",
    "s1 = 'malayalam'\n",
    "if s1 == s1[::-1]:\n",
    "    print('palindrom')\n",
    "else:\n",
    "    print('not a palindrom')\n"
   ]
  },
  {
   "cell_type": "code",
   "execution_count": 26,
   "metadata": {},
   "outputs": [
    {
     "name": "stdout",
     "output_type": "stream",
     "text": [
      "eyeeee is palendrom\n",
      "eyeeee  - Not a palendrome\n",
      "eyeeee is palendrom\n",
      "eyeeee is palendrom\n",
      "eyeeee  - Not a palendrome\n",
      "eyeeee is palendrom\n"
     ]
    }
   ],
   "source": [
    "word = \"eyeeee\"\n",
    "for i in range(len(word)):\n",
    "    if word[i] == word[len(word)-1-i]:\n",
    "        print(word , \"is palendrom\")\n",
    "        continue\n",
    "    else:\n",
    "        print(word,\" - Not a palendrome\")\n"
   ]
  },
  {
   "cell_type": "code",
   "execution_count": 31,
   "metadata": {},
   "outputs": [
    {
     "name": "stdout",
     "output_type": "stream",
     "text": [
      "Palindrome\n"
     ]
    }
   ],
   "source": [
    "word=\"eeyee\"\n",
    "\n",
    "for i in range(len(word)):\n",
    "    if word[i]!=word[len(word)-i-1]:\n",
    "        print(\"Not palindrome\")\n",
    "        break\n",
    "else:\n",
    "    print(\"Palindrome\")\n"
   ]
  },
  {
   "cell_type": "code",
   "execution_count": 33,
   "metadata": {},
   "outputs": [
    {
     "name": "stdout",
     "output_type": "stream",
     "text": [
      "not palindrome\n"
     ]
    }
   ],
   "source": [
    "s1=\"eye\"\n",
    "s2=s1\n",
    "n = len(s1)-1\n",
    "while (n>=0):\n",
    "   #print(s1[n],end=\"\")\n",
    "    n=n-1\n",
    "if s2==n:\n",
    "    print(\"palindrome\")\n",
    "else:\n",
    "    print(\"not palindrome\")\n"
   ]
  },
  {
   "cell_type": "code",
   "execution_count": 36,
   "metadata": {},
   "outputs": [
    {
     "name": "stdout",
     "output_type": "stream",
     "text": [
      "tnent\n",
      "palindrome\n"
     ]
    }
   ],
   "source": [
    "s=input()\n",
    "f=\"\"\n",
    "i=len(s)-1\n",
    "\n",
    "while(i>=0):\n",
    "    f=f+s[i]\n",
    "    i=i-1\n",
    "if(s==f):\n",
    "    print(\"palindrome\")\n",
    "else:\n",
    "    print(\"not a palindrome\")\n"
   ]
  },
  {
   "cell_type": "code",
   "execution_count": 37,
   "metadata": {},
   "outputs": [
    {
     "name": "stdout",
     "output_type": "stream",
     "text": [
      "Yes\n"
     ]
    }
   ],
   "source": [
    "x = \"malayalam\"\n",
    " \n",
    "w = \"\"\n",
    "for i in x:\n",
    "    w = i + w\n",
    " \n",
    "if (x == w):\n",
    "    print(\"Yes\")\n",
    "else:\n",
    "    print(\"No\")\n"
   ]
  },
  {
   "cell_type": "code",
   "execution_count": 38,
   "metadata": {},
   "outputs": [
    {
     "name": "stdout",
     "output_type": "stream",
     "text": [
      "palindrome\n"
     ]
    }
   ],
   "source": [
    "l=len(s)\n",
    "k=0\n",
    "for i in range(l):\n",
    "    if s[i]==s[l-i-1]:\n",
    "               \n",
    "               continue\n",
    "    else:\n",
    "               print(\"Non palindrome\")\n",
    "               k=1\n",
    "               break\n",
    "if k==0:\n",
    "    print(\"palindrome\")\n"
   ]
  },
  {
   "cell_type": "code",
   "execution_count": 40,
   "metadata": {},
   "outputs": [
    {
     "data": {
      "text/plain": [
       "'tnent'"
      ]
     },
     "execution_count": 40,
     "metadata": {},
     "output_type": "execute_result"
    }
   ],
   "source": [
    "s"
   ]
  },
  {
   "cell_type": "code",
   "execution_count": 41,
   "metadata": {},
   "outputs": [],
   "source": [
    "d = {\"india\" :\"IN\" ,\n",
    "     \"canada\" : \"CA\",\n",
    "     \"china\" : \"CH\",\n",
    "     \"united state \" : \"US\"\n",
    "    }"
   ]
  },
  {
   "cell_type": "code",
   "execution_count": 43,
   "metadata": {},
   "outputs": [
    {
     "data": {
      "text/plain": [
       "True"
      ]
     },
     "execution_count": 43,
     "metadata": {},
     "output_type": "execute_result"
    }
   ],
   "source": [
    "\"india\" in d"
   ]
  },
  {
   "cell_type": "code",
   "execution_count": 45,
   "metadata": {},
   "outputs": [],
   "source": [
    "l_greater = []\n",
    "l_smaller = []\n",
    "for i in d:\n",
    "    if len(i)<= 5 :\n",
    "        l_smaller.append(i)\n",
    "    else :\n",
    "        l_greater.append(i)"
   ]
  },
  {
   "cell_type": "code",
   "execution_count": 46,
   "metadata": {},
   "outputs": [
    {
     "data": {
      "text/plain": [
       "['canada', 'united state ']"
      ]
     },
     "execution_count": 46,
     "metadata": {},
     "output_type": "execute_result"
    }
   ],
   "source": [
    "l_greater"
   ]
  },
  {
   "cell_type": "code",
   "execution_count": 47,
   "metadata": {},
   "outputs": [
    {
     "data": {
      "text/plain": [
       "['india', 'china']"
      ]
     },
     "execution_count": 47,
     "metadata": {},
     "output_type": "execute_result"
    }
   ],
   "source": [
    "l_smaller"
   ]
  },
  {
   "cell_type": "code",
   "execution_count": 55,
   "metadata": {},
   "outputs": [],
   "source": [
    "d_1 = {\"ineruon\" :{\n",
    "                        \"a\" : 14,\n",
    "                        \"b\":10,\n",
    "                        \"c\" : 4\n",
    "                    },\n",
    "        \n",
    "       'course' : {\n",
    "                       'd':45,\n",
    "                       \"e\" : 34,\n",
    "                       'f' :1\n",
    "                   }\n",
    "    }"
   ]
  },
  {
   "cell_type": "code",
   "execution_count": 52,
   "metadata": {},
   "outputs": [
    {
     "name": "stdout",
     "output_type": "stream",
     "text": [
      "14\n",
      "10\n",
      "4\n",
      "45\n",
      "34\n",
      "1\n"
     ]
    }
   ],
   "source": [
    "for i in d.values():\n",
    "    for j in i.values():\n",
    "        print(j)"
   ]
  },
  {
   "cell_type": "code",
   "execution_count": 50,
   "metadata": {},
   "outputs": [
    {
     "name": "stdout",
     "output_type": "stream",
     "text": [
      "14\n",
      "45\n"
     ]
    }
   ],
   "source": [
    "lst = []\n",
    "for i in d.values():\n",
    "    for j in i.values():\n",
    "        lst.append(j)\n",
    "    print(max(lst))\n"
   ]
  },
  {
   "cell_type": "code",
   "execution_count": 53,
   "metadata": {},
   "outputs": [
    {
     "name": "stdout",
     "output_type": "stream",
     "text": [
      "14\n",
      "66\n"
     ]
    }
   ],
   "source": [
    "d1={'ineuron':{\n",
    "    'a':14,\n",
    "    'b':10,\n",
    "    'c':4},\n",
    "   'course':{'d':45,\n",
    "    'e':34,\n",
    "    'i':66}\n",
    "}\n",
    "\n",
    "lst1=[]\n",
    "lst2=[]\n",
    "for i in d1['ineuron'].values():\n",
    "    lst1.append(i)\n",
    "    lst1.sort()\n",
    "print(lst1[-1])\n",
    "\n",
    "for i in d1['course'].values():\n",
    "    lst2.append(i)\n",
    "    lst2.sort()\n",
    "print(lst2[-1])\n"
   ]
  },
  {
   "cell_type": "code",
   "execution_count": 62,
   "metadata": {},
   "outputs": [
    {
     "name": "stdout",
     "output_type": "stream",
     "text": [
      "24\n",
      "45\n"
     ]
    }
   ],
   "source": [
    "# printing maximum values\n",
    "d1 = {\"ineuron\":{\"a\":14,\"b\":24,\"c\":4},\n",
    "      \"course\":{\"d\":45,\"e\":34,\"f\":1}\n",
    "      }\n",
    "for i in d1.values():\n",
    "    \n",
    "    mx = 0\n",
    "    for j in i.values():\n",
    "        if mx<j:\n",
    "            mx = j\n",
    "    print(mx)\n"
   ]
  },
  {
   "cell_type": "code",
   "execution_count": 56,
   "metadata": {},
   "outputs": [
    {
     "name": "stdout",
     "output_type": "stream",
     "text": [
      "14\n",
      "45\n"
     ]
    }
   ],
   "source": [
    "for i in d_1.values():\n",
    "    print(max(i.values()))\n"
   ]
  },
  {
   "cell_type": "code",
   "execution_count": 60,
   "metadata": {},
   "outputs": [
    {
     "name": "stdout",
     "output_type": "stream",
     "text": [
      "ineruon\n",
      "14\n",
      "course\n",
      "45\n"
     ]
    }
   ],
   "source": [
    "for i in d_1.keys():\n",
    "    print(i)\n",
    "    print(max(d_1[i].values()))\n"
   ]
  },
  {
   "cell_type": "code",
   "execution_count": 61,
   "metadata": {},
   "outputs": [
    {
     "data": {
      "text/plain": [
       "{'ineruon': {'a': 14, 'b': 10, 'c': 4}, 'course': {'d': 45, 'e': 34, 'f': 1}}"
      ]
     },
     "execution_count": 61,
     "metadata": {},
     "output_type": "execute_result"
    }
   ],
   "source": [
    "d_1"
   ]
  },
  {
   "cell_type": "code",
   "execution_count": 66,
   "metadata": {},
   "outputs": [
    {
     "name": "stdout",
     "output_type": "stream",
     "text": [
      "ineuron\n",
      "course\n"
     ]
    }
   ],
   "source": [
    "d = {\n",
    "    'ineuron':\n",
    "        {'a':45,\n",
    "         'b':33,\n",
    "         'c':56},\n",
    "     \n",
    "     'course':\n",
    "        {'c':45,\n",
    "         'd':56,\n",
    "         'e':77}}\n",
    "\n",
    "for i in d :\n",
    "    print(i)"
   ]
  },
  {
   "cell_type": "code",
   "execution_count": 67,
   "metadata": {},
   "outputs": [
    {
     "name": "stdout",
     "output_type": "stream",
     "text": [
      "{'a': 45, 'b': 33, 'c': 56}\n",
      "{'c': 45, 'd': 56, 'e': 77}\n"
     ]
    }
   ],
   "source": [
    "d = {\n",
    "    'ineuron':\n",
    "        {'a':45,\n",
    "         'b':33,\n",
    "         'c':56},\n",
    "     \n",
    "     'course':\n",
    "        {'c':45,\n",
    "         'd':56,\n",
    "         'e':77}}\n",
    "\n",
    "d.values()\n",
    "#dict_values([{'a': 45, 'b': 33, 'c': 56}, {'c': 45, 'd': 56, 'e': 77}])\n",
    "for i in d:\n",
    "    print(d[i])\n",
    "\n",
    "    \n"
   ]
  },
  {
   "cell_type": "code",
   "execution_count": 69,
   "metadata": {},
   "outputs": [],
   "source": [
    "d_1={\"ineuron\":{\"a\":14,\"b\":10,\"c\":4},\"course\":{\"d\":45,\"e\":34,\"f\":1}}\n",
    "                                \n"
   ]
  },
  {
   "cell_type": "code",
   "execution_count": 70,
   "metadata": {},
   "outputs": [
    {
     "name": "stdout",
     "output_type": "stream",
     "text": [
      "56\n",
      "77\n"
     ]
    }
   ],
   "source": [
    "for i in d.values():\n",
    "    print(max(i.values()))\n"
   ]
  },
  {
   "cell_type": "code",
   "execution_count": 71,
   "metadata": {},
   "outputs": [
    {
     "name": "stdout",
     "output_type": "stream",
     "text": [
      "{'a': 14, 'b': 10, 'c': 5}\n",
      "14\n",
      "{'d': 45, 'e': 34, 'f': 1}\n",
      "45\n"
     ]
    }
   ],
   "source": [
    "d_1 = {   \"ineuron\" : { \"a\":14,\"b\":10,\"c\":5 },\n",
    "      \n",
    "          \"course\":{\"d\":45,\"e\":34,\"f\": 1}\n",
    "      \n",
    "      }\n",
    "\n",
    "for i in d_1:\n",
    "    print(d_1[i])\n",
    "    print(max(d_1[i].values()))\n"
   ]
  },
  {
   "cell_type": "code",
   "execution_count": 74,
   "metadata": {},
   "outputs": [
    {
     "name": "stdout",
     "output_type": "stream",
     "text": [
      "24\n",
      "45\n"
     ]
    }
   ],
   "source": [
    "r = []\n",
    "for i in d1.values():\n",
    "    \n",
    "    r.append(max(i.values()))\n",
    "    print(max(r))\n"
   ]
  },
  {
   "cell_type": "code",
   "execution_count": 75,
   "metadata": {},
   "outputs": [
    {
     "data": {
      "text/plain": [
       "{'ineuron': {'a': 14, 'b': 24, 'c': 4}, 'course': {'d': 45, 'e': 34, 'f': 1}}"
      ]
     },
     "execution_count": 75,
     "metadata": {},
     "output_type": "execute_result"
    }
   ],
   "source": [
    "d1"
   ]
  },
  {
   "cell_type": "code",
   "execution_count": 76,
   "metadata": {},
   "outputs": [],
   "source": [
    "d1={\"ineuron\":{\"a\":14,\"b\":10,\"c\":4},\"course\":{\"d\":45,\"e\":34,\"f\":1}, \n",
    "     \"g\" : 34 , \"h\" :[45,6,7,8,9,3] , 'i' :(45,34,2) , 'k' :\"sudh\"}"
   ]
  },
  {
   "cell_type": "code",
   "execution_count": 77,
   "metadata": {},
   "outputs": [
    {
     "ename": "AttributeError",
     "evalue": "'int' object has no attribute 'values'",
     "output_type": "error",
     "traceback": [
      "\u001b[1;31m---------------------------------------------------------------------------\u001b[0m",
      "\u001b[1;31mAttributeError\u001b[0m                            Traceback (most recent call last)",
      "\u001b[1;32m<ipython-input-77-31bb491adab5>\u001b[0m in \u001b[0;36m<module>\u001b[1;34m\u001b[0m\n\u001b[0;32m      2\u001b[0m \u001b[1;32mfor\u001b[0m \u001b[0mi\u001b[0m \u001b[1;32min\u001b[0m \u001b[0md1\u001b[0m\u001b[1;33m.\u001b[0m\u001b[0mvalues\u001b[0m\u001b[1;33m(\u001b[0m\u001b[1;33m)\u001b[0m\u001b[1;33m:\u001b[0m\u001b[1;33m\u001b[0m\u001b[1;33m\u001b[0m\u001b[0m\n\u001b[0;32m      3\u001b[0m     \u001b[1;32mif\u001b[0m \u001b[0mtype\u001b[0m\u001b[1;33m(\u001b[0m\u001b[0mi\u001b[0m\u001b[1;33m)\u001b[0m \u001b[1;33m==\u001b[0m \u001b[0mint\u001b[0m\u001b[1;33m:\u001b[0m\u001b[1;33m\u001b[0m\u001b[1;33m\u001b[0m\u001b[0m\n\u001b[1;32m----> 4\u001b[1;33m         \u001b[0mr\u001b[0m\u001b[1;33m.\u001b[0m\u001b[0mappend\u001b[0m\u001b[1;33m(\u001b[0m\u001b[0mmax\u001b[0m\u001b[1;33m(\u001b[0m\u001b[0mi\u001b[0m\u001b[1;33m.\u001b[0m\u001b[0mvalues\u001b[0m\u001b[1;33m(\u001b[0m\u001b[1;33m)\u001b[0m\u001b[1;33m)\u001b[0m\u001b[1;33m)\u001b[0m\u001b[1;33m\u001b[0m\u001b[1;33m\u001b[0m\u001b[0m\n\u001b[0m\u001b[0;32m      5\u001b[0m         \u001b[0mprint\u001b[0m\u001b[1;33m(\u001b[0m\u001b[0mmax\u001b[0m\u001b[1;33m(\u001b[0m\u001b[0mr\u001b[0m\u001b[1;33m)\u001b[0m\u001b[1;33m)\u001b[0m\u001b[1;33m\u001b[0m\u001b[1;33m\u001b[0m\u001b[0m\n",
      "\u001b[1;31mAttributeError\u001b[0m: 'int' object has no attribute 'values'"
     ]
    }
   ],
   "source": [
    "r = []\n",
    "for i in d1.values():\n",
    "    if type(i) == int:\n",
    "        r.append(max(i.values()))\n",
    "        print(max(r))\n"
   ]
  },
  {
   "cell_type": "code",
   "execution_count": 84,
   "metadata": {},
   "outputs": [],
   "source": [
    "d_1={\"ineuron\":{\"a\":14,\"b\":10,\"c\":4},\"course\":{\"d\":45,\"e\":34,\"f\":1}, \n",
    "     \"g\" : 354 , \"h\" :[45,6,7,8,9,3] , 'i' :(45,34,2) , 'k' :\"sudh\"}"
   ]
  },
  {
   "cell_type": "code",
   "execution_count": 85,
   "metadata": {},
   "outputs": [
    {
     "name": "stdout",
     "output_type": "stream",
     "text": [
      "354\n"
     ]
    }
   ],
   "source": [
    "l1=[]\n",
    "for i in d_1.values():\n",
    "    if type(i)==dict:\n",
    "        l1.append(max(i.values()))\n",
    "    elif type(i)==list:\n",
    "        l1.append(max(i))\n",
    "    elif type(i)==tuple:\n",
    "        l1.append(max(i))\n",
    "    elif type(i)== str:\n",
    "        pass\n",
    "    else:\n",
    "        l1.append(i)\n",
    "print(max(l1))\n"
   ]
  },
  {
   "cell_type": "code",
   "execution_count": 87,
   "metadata": {},
   "outputs": [],
   "source": [
    "d={\"ineuron\":{\"a\":14,\"b\":10,\"c\":4},\"course\":{\"d\":45,\"e\":34,\"f\":1}, \n",
    "     \"g\" : 354 , \"h\" :[45,6,7,8,9,3] , 'i' :(45,34,2) , 'k' :\"sudh\"}"
   ]
  },
  {
   "cell_type": "code",
   "execution_count": 91,
   "metadata": {},
   "outputs": [],
   "source": [
    "for i in d.values():\n",
    "    if i==int:\n",
    "        mx=0\n",
    "        for j in i.values():\n",
    "            if mx<j:\n",
    "                print(mx)\n"
   ]
  },
  {
   "cell_type": "code",
   "execution_count": 92,
   "metadata": {},
   "outputs": [
    {
     "ename": "AttributeError",
     "evalue": "'int' object has no attribute 'values'",
     "output_type": "error",
     "traceback": [
      "\u001b[1;31m---------------------------------------------------------------------------\u001b[0m",
      "\u001b[1;31mAttributeError\u001b[0m                            Traceback (most recent call last)",
      "\u001b[1;32m<ipython-input-92-b7821e6a7919>\u001b[0m in \u001b[0;36m<module>\u001b[1;34m\u001b[0m\n\u001b[0;32m      1\u001b[0m \u001b[0mlst\u001b[0m \u001b[1;33m=\u001b[0m \u001b[1;33m[\u001b[0m\u001b[1;33m]\u001b[0m\u001b[1;33m\u001b[0m\u001b[1;33m\u001b[0m\u001b[0m\n\u001b[0;32m      2\u001b[0m \u001b[1;32mfor\u001b[0m \u001b[0mi\u001b[0m \u001b[1;32min\u001b[0m \u001b[0md\u001b[0m\u001b[1;33m.\u001b[0m\u001b[0mvalues\u001b[0m\u001b[1;33m(\u001b[0m\u001b[1;33m)\u001b[0m\u001b[1;33m:\u001b[0m\u001b[1;33m\u001b[0m\u001b[1;33m\u001b[0m\u001b[0m\n\u001b[1;32m----> 3\u001b[1;33m     \u001b[1;32mfor\u001b[0m \u001b[0mj\u001b[0m \u001b[1;32min\u001b[0m \u001b[0mi\u001b[0m\u001b[1;33m.\u001b[0m\u001b[0mvalues\u001b[0m\u001b[1;33m(\u001b[0m\u001b[1;33m)\u001b[0m\u001b[1;33m:\u001b[0m\u001b[1;33m\u001b[0m\u001b[1;33m\u001b[0m\u001b[0m\n\u001b[0m\u001b[0;32m      4\u001b[0m         \u001b[1;32mif\u001b[0m \u001b[0mtype\u001b[0m\u001b[1;33m(\u001b[0m\u001b[0mj\u001b[0m\u001b[1;33m)\u001b[0m\u001b[1;33m==\u001b[0m \u001b[0mlist\u001b[0m\u001b[1;33m:\u001b[0m\u001b[1;33m\u001b[0m\u001b[1;33m\u001b[0m\u001b[0m\n\u001b[0;32m      5\u001b[0m             \u001b[0mb\u001b[0m \u001b[1;33m=\u001b[0m \u001b[0mmax\u001b[0m\u001b[1;33m(\u001b[0m\u001b[0mj\u001b[0m\u001b[1;33m)\u001b[0m\u001b[1;33m\u001b[0m\u001b[1;33m\u001b[0m\u001b[0m\n",
      "\u001b[1;31mAttributeError\u001b[0m: 'int' object has no attribute 'values'"
     ]
    }
   ],
   "source": [
    "lst = []\n",
    "for i in d.values():\n",
    "    for j in i.values():\n",
    "        if type(j)== list:\n",
    "            b = max(j)\n",
    "            lst.append(b)\n",
    "        elif type(j)== tuple:\n",
    "            d = max(j)\n",
    "            lst.append(d)\n",
    "        elif type(j) == int:\n",
    "            lst.append(j)\n",
    "print(max(lst))\n"
   ]
  },
  {
   "cell_type": "code",
   "execution_count": 94,
   "metadata": {},
   "outputs": [
    {
     "name": "stdout",
     "output_type": "stream",
     "text": [
      "45\n"
     ]
    }
   ],
   "source": [
    "d1={'ineuron':{'a':14, 'b':10, 'c':4},'course':{'d':45, 'e':34, 'f':1},'g':34, 'h':[45,6,7,8,9,3], 'i':(45,34,2), 'k':'sudh'}\n",
    "l = []\n",
    "for i in d1.values():\n",
    "    if type(i) == int:\n",
    "        l.append(i)\n",
    "    elif type(i) == list or type(i) == tuple:\n",
    "        l.extend(i)\n",
    "    elif type(i) == dict:\n",
    "        for j in i.values():\n",
    "            l.append(j)\n",
    "print(max(l))\n"
   ]
  },
  {
   "cell_type": "code",
   "execution_count": 95,
   "metadata": {},
   "outputs": [
    {
     "name": "stdout",
     "output_type": "stream",
     "text": [
      "True\n",
      "[45]\n"
     ]
    }
   ],
   "source": [
    "l=[]\n",
    "d={\"s\":{\"a\":45}}\n",
    "for i in d:\n",
    "    if type(d[i]) == dict:\n",
    "        print(True)\n",
    "        l.append(max(d[i].values()))\n",
    "    elif type(d[i]) == list or type(d[i]) == tuple:\n",
    "        l.append(max(d[i]))\n",
    "print(l)\n"
   ]
  },
  {
   "cell_type": "code",
   "execution_count": 96,
   "metadata": {},
   "outputs": [
    {
     "name": "stdout",
     "output_type": "stream",
     "text": [
      "83\n"
     ]
    }
   ],
   "source": [
    "# Q. Find the maximum integer out of all the values from a given dictionary d1\n",
    "\n",
    "##### SOLUTION: 1 #####\n",
    "\n",
    "d1 = {\n",
    "    \"apdaga\": {\n",
    "        \"a\":12,\n",
    "        \"b\":65,\n",
    "        \"c\":7\n",
    "    },\n",
    "    \"dumpbox\":{\n",
    "        \"d\":34,\n",
    "        \"e\":83,\n",
    "        \"f\":45\n",
    "    },\n",
    "    \"g\":34,\n",
    "    \"h\":[35,6,2,9,3],\n",
    "    \"i\":(65,34,2),\n",
    "    \"k\":\"akshay\"\n",
    "}\n",
    "\n",
    "# print(d1)\n",
    "\n",
    "out=[]\n",
    "\n",
    "for k,v in d1.items():\n",
    "    if type(v) == dict:\n",
    "        out.extend(list(v.values()))\n",
    "    elif type(v) == int:\n",
    "        out.append(v)\n",
    "    elif type(v) == list:\n",
    "        out.append(max(v))\n",
    "    elif type(v) == tuple:\n",
    "        out.append(max(v))\n",
    "    else:\n",
    "        pass\n",
    "    \n",
    "print(max(out))\n"
   ]
  },
  {
   "cell_type": "code",
   "execution_count": 97,
   "metadata": {},
   "outputs": [
    {
     "ename": "IndexError",
     "evalue": "list index out of range",
     "output_type": "error",
     "traceback": [
      "\u001b[1;31m---------------------------------------------------------------------------\u001b[0m",
      "\u001b[1;31mIndexError\u001b[0m                                Traceback (most recent call last)",
      "\u001b[1;32m<ipython-input-97-811d06ea47e2>\u001b[0m in \u001b[0;36m<module>\u001b[1;34m\u001b[0m\n\u001b[0;32m      4\u001b[0m \u001b[1;33m\u001b[0m\u001b[0m\n\u001b[0;32m      5\u001b[0m         \u001b[1;32mfor\u001b[0m \u001b[0mk\u001b[0m \u001b[1;32min\u001b[0m \u001b[0mj\u001b[0m\u001b[1;33m:\u001b[0m\u001b[1;33m\u001b[0m\u001b[1;33m\u001b[0m\u001b[0m\n\u001b[1;32m----> 6\u001b[1;33m             \u001b[1;32mif\u001b[0m \u001b[0mtype\u001b[0m\u001b[1;33m(\u001b[0m\u001b[0mj\u001b[0m\u001b[1;33m[\u001b[0m\u001b[0mk\u001b[0m\u001b[1;33m]\u001b[0m\u001b[1;33m)\u001b[0m\u001b[1;33m==\u001b[0m\u001b[0mint\u001b[0m\u001b[1;33m:\u001b[0m\u001b[1;33m\u001b[0m\u001b[1;33m\u001b[0m\u001b[0m\n\u001b[0m\u001b[0;32m      7\u001b[0m                 \u001b[1;32mif\u001b[0m \u001b[0mj\u001b[0m\u001b[1;33m[\u001b[0m\u001b[0mk\u001b[0m\u001b[1;33m]\u001b[0m\u001b[1;33m>\u001b[0m\u001b[0mmax\u001b[0m\u001b[1;33m:\u001b[0m\u001b[1;33m\u001b[0m\u001b[1;33m\u001b[0m\u001b[0m\n\u001b[0;32m      8\u001b[0m                     \u001b[0mmax\u001b[0m\u001b[1;33m=\u001b[0m\u001b[0mj\u001b[0m\u001b[1;33m[\u001b[0m\u001b[0mk\u001b[0m\u001b[1;33m]\u001b[0m\u001b[1;33m\u001b[0m\u001b[1;33m\u001b[0m\u001b[0m\n",
      "\u001b[1;31mIndexError\u001b[0m: list index out of range"
     ]
    }
   ],
   "source": [
    "for i,j in d_1.items():\n",
    "    max=0\n",
    "    if type(j)==dict or type(j) == list or type(j)== tuple:\n",
    "        \n",
    "        for k in j:\n",
    "            if type(j[k])==int:\n",
    "                if j[k]>max:\n",
    "                    max=j[k]\n",
    "    else:\n",
    "        if type(j)==int:\n",
    "            if j>max:\n",
    "                max=j\n",
    "print(f\"maximum is {max}\")\n"
   ]
  },
  {
   "cell_type": "code",
   "execution_count": 1,
   "metadata": {},
   "outputs": [
    {
     "data": {
      "text/plain": [
       "[14, 10, 4, 45, 34, 1, 45, 6, 7, 8, 9, 3, 45, 34, 2]"
      ]
     },
     "execution_count": 1,
     "metadata": {},
     "output_type": "execute_result"
    }
   ],
   "source": [
    "d_1 = {\"ineuron\" : {\n",
    "                        \"a\" : 14,\n",
    "                        \"b\" : 10,\n",
    "                        \"c\" : 4\n",
    "                        },\n",
    "          \"course\" : {\n",
    "                      \"d\" : 45,\n",
    "                      \"e\" : 34,\n",
    "                      \"f\" : 1\n",
    "                      },\n",
    "       \"g\" : 34,\n",
    "       \"h\" : [45,6,7,8,9,3],\n",
    "       \"i\" : (45,34,2),\n",
    "       \"k\" : \"sudh\"\n",
    "}\n",
    "\n",
    "l = []\n",
    "for i in d_1.values():\n",
    "    if type(i) != str and type(i)!= complex:\n",
    "        if type(i) == list or type(i) == tuple or type(i) == set:\n",
    "            l.extend(list(i))\n",
    "        elif type(i) == dict:\n",
    "            for j in i.values():\n",
    "                l.append(j)\n",
    "l"
   ]
  },
  {
   "cell_type": "code",
   "execution_count": 2,
   "metadata": {},
   "outputs": [
    {
     "data": {
      "text/plain": [
       "list"
      ]
     },
     "execution_count": 2,
     "metadata": {},
     "output_type": "execute_result"
    }
   ],
   "source": [
    "type(l)"
   ]
  },
  {
   "cell_type": "code",
   "execution_count": 3,
   "metadata": {},
   "outputs": [
    {
     "name": "stdout",
     "output_type": "stream",
     "text": [
      "45\n"
     ]
    }
   ],
   "source": [
    "print(max(l))"
   ]
  },
  {
   "cell_type": "code",
   "execution_count": 116,
   "metadata": {},
   "outputs": [
    {
     "data": {
      "text/plain": [
       "0"
      ]
     },
     "execution_count": 116,
     "metadata": {},
     "output_type": "execute_result"
    }
   ],
   "source": [
    "max"
   ]
  },
  {
   "cell_type": "code",
   "execution_count": 4,
   "metadata": {},
   "outputs": [
    {
     "data": {
      "text/plain": [
       "8"
      ]
     },
     "execution_count": 4,
     "metadata": {},
     "output_type": "execute_result"
    }
   ],
   "source": [
    "t = (5,6,7,8)\n",
    "max(t)"
   ]
  },
  {
   "cell_type": "code",
   "execution_count": 6,
   "metadata": {},
   "outputs": [],
   "source": [
    "d = {\"ineuron\": {\"a\":14,\n",
    "                \"b\":10,\n",
    "                \"c\":4\n",
    "                },\n",
    "    'course' : {'d': 45,\n",
    "               \"e\" : 34,\n",
    "               \"f\": 1},\n",
    "     \"g\" : 34,\n",
    "     \"h\" : [45, 6, 7, 78, 9,3],\n",
    "     \"i\" : (45, 34, 2),\n",
    "     \"k\" : \"sudh\"\n",
    "    }\n"
   ]
  },
  {
   "cell_type": "code",
   "execution_count": 9,
   "metadata": {},
   "outputs": [
    {
     "data": {
      "text/plain": [
       "78"
      ]
     },
     "execution_count": 9,
     "metadata": {},
     "output_type": "execute_result"
    }
   ],
   "source": [
    "\n",
    "l1 = []\n",
    "for i in d:\n",
    "    if type(d[i]) == int:\n",
    "            l1.append(d[i])\n",
    "    elif type(d[i]) == str:\n",
    "            continue\n",
    "    elif type(d[i]) == dict:\n",
    "            l1.extend(list(d[i].values()))\n",
    "    else:\n",
    "            l1.extend(list(d[i]))\n",
    "max(l1)\n"
   ]
  },
  {
   "cell_type": "code",
   "execution_count": 21,
   "metadata": {},
   "outputs": [
    {
     "data": {
      "text/plain": [
       "12"
      ]
     },
     "execution_count": 21,
     "metadata": {},
     "output_type": "execute_result"
    }
   ],
   "source": [
    "int(121/10)"
   ]
  },
  {
   "cell_type": "code",
   "execution_count": 24,
   "metadata": {},
   "outputs": [
    {
     "name": "stdout",
     "output_type": "stream",
     "text": [
      "1\n",
      "1\n",
      "12\n",
      "2\n",
      "12\n",
      "1\n",
      "1\n",
      "121\n",
      "0\n"
     ]
    }
   ],
   "source": [
    "a = 121\n",
    "c = 0 \n",
    "\n",
    "        while (a >0):\n",
    "            d = a \n",
    "            b = a%10\n",
    "            print(b)\n",
    "            c = c*10 +b\n",
    "            print(c)\n",
    "\n",
    "            a = int(a/10)\n",
    "            print(a)\n",
    "\n",
    "\n"
   ]
  },
  {
   "cell_type": "code",
   "execution_count": 25,
   "metadata": {},
   "outputs": [
    {
     "name": "stdout",
     "output_type": "stream",
     "text": [
      "Pelindrom\n"
     ]
    }
   ],
   "source": [
    "a = 121\n",
    "if (c == a) :\n",
    "      print(\"Pelindrom\")\n",
    "else:\n",
    "      print(\"Not pelindrom\")"
   ]
  },
  {
   "cell_type": "code",
   "execution_count": 36,
   "metadata": {},
   "outputs": [
    {
     "name": "stdout",
     "output_type": "stream",
     "text": [
      "india\n",
      "canada\n",
      "china\n",
      "united state\n"
     ]
    }
   ],
   "source": [
    "d={\"india\":\"IN\",\"canada\":\"CA\",\"china\":\"CH\",\"united state\":\"US\"}\n",
    "k=[]\n",
    "l=[]\n",
    "\n",
    "for i in d:\n",
    "    print(i)\n",
    "    c=0\n",
    "    for j in i:\n",
    "        c=c+1\n",
    "    if c>5:\n",
    "        l.append(i)\n",
    "    else:\n",
    "        k.append(i)\n",
    "##Doubt\n"
   ]
  },
  {
   "cell_type": "code",
   "execution_count": 37,
   "metadata": {},
   "outputs": [
    {
     "data": {
      "text/plain": [
       "['india', 'china']"
      ]
     },
     "execution_count": 37,
     "metadata": {},
     "output_type": "execute_result"
    }
   ],
   "source": [
    "k"
   ]
  },
  {
   "cell_type": "code",
   "execution_count": 38,
   "metadata": {},
   "outputs": [
    {
     "data": {
      "text/plain": [
       "['canada', 'united state']"
      ]
     },
     "execution_count": 38,
     "metadata": {},
     "output_type": "execute_result"
    }
   ],
   "source": [
    "l"
   ]
  },
  {
   "cell_type": "code",
   "execution_count": null,
   "metadata": {},
   "outputs": [],
   "source": [
    "d = {\"ineuron\": {\"a\":14,\n",
    "                \"b\":10,\n",
    "                \"c\":4\n",
    "                },\n",
    "    'course' : {'d': 45,\n",
    "               \"e\" : 34,\n",
    "               \"f\": 1},\n",
    "     \"g\" : 34,\n",
    "     \"h\" : [45, 6, 7, 78, 9,3],\n",
    "     \"i\" : (45, 34, 2),\n",
    "     \"k\" : \"27\"\n",
    "    }"
   ]
  },
  {
   "cell_type": "code",
   "execution_count": 39,
   "metadata": {},
   "outputs": [
    {
     "ename": "ValueError",
     "evalue": "invalid literal for int() with base 10: 'sudh'",
     "output_type": "error",
     "traceback": [
      "\u001b[1;31m---------------------------------------------------------------------------\u001b[0m",
      "\u001b[1;31mValueError\u001b[0m                                Traceback (most recent call last)",
      "\u001b[1;32m<ipython-input-39-7b3d85a2cf6e>\u001b[0m in \u001b[0;36m<module>\u001b[1;34m\u001b[0m\n\u001b[1;32m----> 1\u001b[1;33m \u001b[0mint\u001b[0m\u001b[1;33m(\u001b[0m\u001b[1;34m\"sudh\"\u001b[0m\u001b[1;33m)\u001b[0m\u001b[1;33m\u001b[0m\u001b[1;33m\u001b[0m\u001b[0m\n\u001b[0m",
      "\u001b[1;31mValueError\u001b[0m: invalid literal for int() with base 10: 'sudh'"
     ]
    }
   ],
   "source": [
    "int(\"sudh\")"
   ]
  },
  {
   "cell_type": "code",
   "execution_count": 40,
   "metadata": {},
   "outputs": [
    {
     "data": {
      "text/plain": [
       "45546"
      ]
     },
     "execution_count": 40,
     "metadata": {},
     "output_type": "execute_result"
    }
   ],
   "source": [
    "int(\"45546\")"
   ]
  },
  {
   "cell_type": "code",
   "execution_count": 41,
   "metadata": {},
   "outputs": [
    {
     "name": "stdout",
     "output_type": "stream",
     "text": [
      "14\n",
      "45\n"
     ]
    },
    {
     "ename": "AttributeError",
     "evalue": "'int' object has no attribute 'values'",
     "output_type": "error",
     "traceback": [
      "\u001b[1;31m---------------------------------------------------------------------------\u001b[0m",
      "\u001b[1;31mAttributeError\u001b[0m                            Traceback (most recent call last)",
      "\u001b[1;32m<ipython-input-41-3f3e573e98da>\u001b[0m in \u001b[0;36m<module>\u001b[1;34m\u001b[0m\n\u001b[0;32m      4\u001b[0m \u001b[1;32mfor\u001b[0m \u001b[0mi\u001b[0m \u001b[1;32min\u001b[0m \u001b[0md_a\u001b[0m\u001b[1;33m.\u001b[0m\u001b[0mvalues\u001b[0m\u001b[1;33m(\u001b[0m\u001b[1;33m)\u001b[0m\u001b[1;33m:\u001b[0m\u001b[1;33m\u001b[0m\u001b[1;33m\u001b[0m\u001b[0m\n\u001b[0;32m      5\u001b[0m     \u001b[1;32mif\u001b[0m \u001b[0mi\u001b[0m\u001b[1;33m!=\u001b[0m \u001b[0mstr\u001b[0m\u001b[1;33m:\u001b[0m\u001b[1;33m\u001b[0m\u001b[1;33m\u001b[0m\u001b[0m\n\u001b[1;32m----> 6\u001b[1;33m          \u001b[1;32mfor\u001b[0m \u001b[0mj\u001b[0m \u001b[1;32min\u001b[0m \u001b[0mi\u001b[0m\u001b[1;33m.\u001b[0m\u001b[0mvalues\u001b[0m\u001b[1;33m(\u001b[0m\u001b[1;33m)\u001b[0m\u001b[1;33m:\u001b[0m\u001b[1;33m\u001b[0m\u001b[1;33m\u001b[0m\u001b[0m\n\u001b[0m\u001b[0;32m      7\u001b[0m             \u001b[0mr\u001b[0m\u001b[1;33m.\u001b[0m\u001b[0mappend\u001b[0m\u001b[1;33m(\u001b[0m\u001b[0mj\u001b[0m\u001b[1;33m)\u001b[0m\u001b[1;33m\u001b[0m\u001b[1;33m\u001b[0m\u001b[0m\n\u001b[0;32m      8\u001b[0m             \u001b[0ml\u001b[0m\u001b[1;33m=\u001b[0m\u001b[0mmax\u001b[0m\u001b[1;33m(\u001b[0m\u001b[0mr\u001b[0m\u001b[1;33m)\u001b[0m\u001b[1;33m\u001b[0m\u001b[1;33m\u001b[0m\u001b[0m\n",
      "\u001b[1;31mAttributeError\u001b[0m: 'int' object has no attribute 'values'"
     ]
    }
   ],
   "source": [
    "d_a={\"ineruon\":{\"a\":14, \"b\":10, \"c\":4},\"course\":{\"d\":45,\"e\":34,\"f\":1},\"g\":34,\"h\":[45,6,7,8,9,3],\"i\":[45+10j,34,2]}\n",
    "r=[]\n",
    "mx=0\n",
    "for i in d_a.values():\n",
    "    if i!= str:\n",
    "         for j in i.values():\n",
    "            r.append(j)\n",
    "            l=max(r)\n",
    "    print(l)\n"
   ]
  },
  {
   "cell_type": "code",
   "execution_count": 1,
   "metadata": {},
   "outputs": [
    {
     "ename": "TypeError",
     "evalue": "'int' object is not iterable",
     "output_type": "error",
     "traceback": [
      "\u001b[1;31m---------------------------------------------------------------------------\u001b[0m",
      "\u001b[1;31mTypeError\u001b[0m                                 Traceback (most recent call last)",
      "\u001b[1;32m<ipython-input-1-3df40e359d67>\u001b[0m in \u001b[0;36m<module>\u001b[1;34m\u001b[0m\n\u001b[0;32m     23\u001b[0m         \u001b[1;32mpass\u001b[0m\u001b[1;33m\u001b[0m\u001b[1;33m\u001b[0m\u001b[0m\n\u001b[0;32m     24\u001b[0m     \u001b[1;32melse\u001b[0m \u001b[1;33m:\u001b[0m\u001b[1;33m\u001b[0m\u001b[1;33m\u001b[0m\u001b[0m\n\u001b[1;32m---> 25\u001b[1;33m         \u001b[0ml\u001b[0m\u001b[1;33m.\u001b[0m\u001b[0mextend\u001b[0m\u001b[1;33m(\u001b[0m\u001b[0mlist\u001b[0m\u001b[1;33m(\u001b[0m\u001b[0mi\u001b[0m\u001b[1;33m)\u001b[0m\u001b[1;33m)\u001b[0m\u001b[1;33m\u001b[0m\u001b[1;33m\u001b[0m\u001b[0m\n\u001b[0m\u001b[0;32m     26\u001b[0m \u001b[0mprint\u001b[0m\u001b[1;33m(\u001b[0m\u001b[0mmax\u001b[0m\u001b[1;33m(\u001b[0m\u001b[0ml\u001b[0m\u001b[1;33m)\u001b[0m\u001b[1;33m)\u001b[0m\u001b[1;33m\u001b[0m\u001b[1;33m\u001b[0m\u001b[0m\n",
      "\u001b[1;31mTypeError\u001b[0m: 'int' object is not iterable"
     ]
    }
   ],
   "source": [
    "d ={\"ineruon\" : {\n",
    "                    \"a\": 14,\n",
    "                    \"b\": 10,\n",
    "                    \"c\": 4\n",
    "                    },\n",
    "        \"course\" :  {\n",
    "                        \"d\":45,\n",
    "                        \"e\":34,\n",
    "                        \"f\":1,\n",
    "                    },\n",
    "    \"g\" : 34,\n",
    "    \"h\" : [45,6,7,8,9,3],\n",
    "    \"i\" : (45,34,2),\n",
    "    \"k\" : \"asdf\"\n",
    "     }\n",
    "#find max integer\n",
    "\n",
    "l=[]\n",
    "for i in d.values():\n",
    "    if type(i)== dict:\n",
    "        l.append(i.values())\n",
    "    elif type(i)== str or type(i)== complex:\n",
    "        pass\n",
    "    else :\n",
    "        l.extend(list(i))\n",
    "print(max(l))\n"
   ]
  },
  {
   "cell_type": "code",
   "execution_count": 5,
   "metadata": {},
   "outputs": [],
   "source": [
    "dict_1={\"ineuron\":{\"a\":14,\n",
    "                \"b\":10,\n",
    "                \"c\":4},\n",
    "   'course' : {'d':344,\n",
    "      'e':34,\n",
    "      'f':1},\"g\":34,\"h\":[45,6,7,8,9,3],'i':(45,34,2),'k':'sudh'\n",
    "    }\n"
   ]
  },
  {
   "cell_type": "code",
   "execution_count": 21,
   "metadata": {},
   "outputs": [],
   "source": [
    "d = {\"ineuron\":{\"a\":14,\"b\":10,\"c\":4},\n",
    "     \"course\":{\"d\":\"fails\",\"e\":34,\"f\":1},\n",
    "      \"g\":345,\"h\":[45,6,\"check\",8,9,3],\"i\":(\"hope\",45,34,2),\"k\":\"sudh\"}\n"
   ]
  },
  {
   "cell_type": "code",
   "execution_count": 26,
   "metadata": {},
   "outputs": [],
   "source": [
    "lst=[]\n",
    "for k,v in d.items():\n",
    "    if type(v)==dict:\n",
    "        lst.extend(list(v.values()))\n",
    "    elif type(v)==tuple:\n",
    "                for i in v : \n",
    "                    if type(i) == int:\n",
    "                        lst.append(i)\n",
    "                   \n",
    "    elif type(v)==list:\n",
    "        for i in v : \n",
    "            if type(i) == int:\n",
    "                    lst.append(i)\n",
    "    elif type(v)==set:\n",
    "        lst.append(v)\n",
    "    else:\n",
    "        pass"
   ]
  },
  {
   "cell_type": "code",
   "execution_count": 27,
   "metadata": {},
   "outputs": [
    {
     "data": {
      "text/plain": [
       "[14, 10, 4, 'fails', 34, 1, 45, 6, 8, 9, 3, 'hope', 45, 34, 2]"
      ]
     },
     "execution_count": 27,
     "metadata": {},
     "output_type": "execute_result"
    }
   ],
   "source": [
    "lst"
   ]
  },
  {
   "cell_type": "code",
   "execution_count": 28,
   "metadata": {},
   "outputs": [
    {
     "name": "stdout",
     "output_type": "stream",
     "text": [
      "the max number is 100\n"
     ]
    }
   ],
   "source": [
    "d_1 = {\"ineuron\" :{\n",
    "    \"a\":14,\n",
    "    \"b\":10,\n",
    "    \"c\":4\n",
    "},\n",
    "      \"course\":{\n",
    "          'd':45,\n",
    "          'e':34,\n",
    "          'f':1\n",
    "      },\n",
    "      \"g\": 34,\n",
    "      \"h\": [45,6,7,100,3,9],\n",
    "      \"i\": (45,84,2),\n",
    "      \"k\": \"sudh\"\n",
    "}\n",
    "\n",
    "max1=[]\n",
    "for code,dict3 in d_1.items():\n",
    "    if isinstance(dict3,dict):\n",
    "        for letter,value in dict3.items():\n",
    "            max1.append(value)\n",
    "    else:\n",
    "        if type(d_1[code]) == list:\n",
    "            max1.extend(d_1[code])\n",
    "        elif type(d_1[code]) == tuple:\n",
    "            max1.extend(d_1[code])\n",
    "        else:\n",
    "            continue\n",
    "\n",
    "print(\"the max number is\", max(max1))\n"
   ]
  },
  {
   "cell_type": "code",
   "execution_count": 35,
   "metadata": {},
   "outputs": [
    {
     "name": "stdout",
     "output_type": "stream",
     "text": [
      "56\n"
     ]
    }
   ],
   "source": [
    "d_mix = {\"neuron\": {  \"a\":1,   \"b\":2,  \"c\" :3 }, \n",
    "               \"course\": {  \"d\":4,   \"e\": 5 },\n",
    "                \"f\": 7, \n",
    "                \"g\": [1,4,7,10],\n",
    "                \"h\":(4,56,1), \n",
    "                \"i\": 'kmr'\n",
    "                } \n",
    "li =[]\n",
    "for i in d_mix.values():\n",
    "    if type(i) != str and type(i) != complex:\n",
    "        if type(i) ==list or type(i) ==tuple or type(i) ==set:\n",
    "            \n",
    "            #li.append(max(i))\n",
    "            li.extend(list(i))\n",
    "    \n",
    "        elif type(i) == dict:\n",
    "            li.append(max(i.values()))\n",
    "        elif type(i) == int:\n",
    "                      li.append((i))\n",
    "        else:\n",
    "            pass\n",
    "print(max(li))\n"
   ]
  },
  {
   "cell_type": "code",
   "execution_count": 37,
   "metadata": {},
   "outputs": [
    {
     "name": "stdout",
     "output_type": "stream",
     "text": [
      "eye\n",
      "eye is a palndrom\n",
      "eye is a palndrom\n",
      "eye is a palndrom\n"
     ]
    }
   ],
   "source": [
    "m=input()\n",
    "for i in range(len(m)):\n",
    "    if m[i] != m[len(m)-i-1]:\n",
    "        print(\"Not a palndrom\")\n",
    "\n",
    "    else:\n",
    "        print(m, \"is a palndrom\")\n"
   ]
  },
  {
   "cell_type": "code",
   "execution_count": 38,
   "metadata": {},
   "outputs": [
    {
     "name": "stdout",
     "output_type": "stream",
     "text": [
      "<class 'str'> Con't find max because data type is different\n"
     ]
    },
    {
     "ename": "TypeError",
     "evalue": "'>' not supported between instances of 'str' and 'int'",
     "output_type": "error",
     "traceback": [
      "\u001b[1;31m---------------------------------------------------------------------------\u001b[0m",
      "\u001b[1;31mTypeError\u001b[0m                                 Traceback (most recent call last)",
      "\u001b[1;32m<ipython-input-38-8fad1a45e0b1>\u001b[0m in \u001b[0;36m<module>\u001b[1;34m\u001b[0m\n\u001b[0;32m     12\u001b[0m     \u001b[1;32melse\u001b[0m\u001b[1;33m:\u001b[0m\u001b[1;33m\u001b[0m\u001b[1;33m\u001b[0m\u001b[0m\n\u001b[0;32m     13\u001b[0m         \u001b[0mprint\u001b[0m\u001b[1;33m(\u001b[0m\u001b[0mtype\u001b[0m\u001b[1;33m(\u001b[0m\u001b[0mi\u001b[0m\u001b[1;33m)\u001b[0m\u001b[1;33m,\u001b[0m\u001b[1;34m\"Con't find max because data type is different\"\u001b[0m\u001b[1;33m)\u001b[0m\u001b[1;33m\u001b[0m\u001b[1;33m\u001b[0m\u001b[0m\n\u001b[1;32m---> 14\u001b[1;33m \u001b[0mprint\u001b[0m\u001b[1;33m(\u001b[0m\u001b[0mmax\u001b[0m\u001b[1;33m(\u001b[0m\u001b[0mlst\u001b[0m \u001b[1;33m)\u001b[0m\u001b[1;33m)\u001b[0m\u001b[1;33m\u001b[0m\u001b[1;33m\u001b[0m\u001b[0m\n\u001b[0m",
      "\u001b[1;31mTypeError\u001b[0m: '>' not supported between instances of 'str' and 'int'"
     ]
    }
   ],
   "source": [
    "lst=[]\n",
    "my_lst=[]\n",
    "for i in d.values():\n",
    "    if type(i)==dict:\n",
    "        lst.extend(list(i.values()))\n",
    "    elif type(i)==int:\n",
    "        lst.append(i)\n",
    "    elif type(i)==list:\n",
    "        lst.extend(i)\n",
    "    elif type(i)==tuple:\n",
    "        lst.extend(i)\n",
    "    else:\n",
    "        print(type(i),\"Con't find max because data type is different\")\n",
    "print(max(lst ))\n"
   ]
  },
  {
   "cell_type": "code",
   "execution_count": 46,
   "metadata": {},
   "outputs": [],
   "source": [
    "d_2={\"ineuron\":{\"a\":10,\"b\":1,\"c\":45},\"course\":{\"d\":2,\"e\":5,\"f\":20},\"g\":34,\"h\":[4,6,23],\"i\":(12,4,78),\"k\":\"sudh\"}\n",
    "list2=[]\n",
    "for i in d_2.values():\n",
    "    if type(i)==dict:\n",
    "        list2.append(max(i.values()))\n"
   ]
  },
  {
   "cell_type": "code",
   "execution_count": 47,
   "metadata": {},
   "outputs": [
    {
     "data": {
      "text/plain": [
       "[45, 20]"
      ]
     },
     "execution_count": 47,
     "metadata": {},
     "output_type": "execute_result"
    }
   ],
   "source": [
    "list2"
   ]
  },
  {
   "cell_type": "code",
   "execution_count": 51,
   "metadata": {},
   "outputs": [
    {
     "name": "stdout",
     "output_type": "stream",
     "text": [
      "palindrome\n"
     ]
    }
   ],
   "source": [
    "word = \"ssshsss\"\n",
    "for i in range (len(word)):\n",
    "    if word[i] != word [len(word)-i-1]:\n",
    "        print(\"not palindrome\")\n",
    "\n",
    "    else:\n",
    "        print('palindrome')\n",
    "        break\n"
   ]
  },
  {
   "cell_type": "code",
   "execution_count": 52,
   "metadata": {},
   "outputs": [
    {
     "ename": "TypeError",
     "evalue": "'int' object is not iterable",
     "output_type": "error",
     "traceback": [
      "\u001b[1;31m---------------------------------------------------------------------------\u001b[0m",
      "\u001b[1;31mTypeError\u001b[0m                                 Traceback (most recent call last)",
      "\u001b[1;32m<ipython-input-52-c45702575703>\u001b[0m in \u001b[0;36m<module>\u001b[1;34m\u001b[0m\n\u001b[0;32m      3\u001b[0m     \u001b[1;32mfor\u001b[0m \u001b[0mj\u001b[0m \u001b[1;32min\u001b[0m \u001b[1;33m[\u001b[0m\u001b[0mi\u001b[0m\u001b[1;33m]\u001b[0m\u001b[1;33m:\u001b[0m\u001b[1;33m\u001b[0m\u001b[1;33m\u001b[0m\u001b[0m\n\u001b[0;32m      4\u001b[0m         \u001b[1;32mif\u001b[0m \u001b[0mtype\u001b[0m\u001b[1;33m(\u001b[0m\u001b[0mi\u001b[0m\u001b[1;33m)\u001b[0m\u001b[1;33m==\u001b[0m\u001b[0mtype\u001b[0m\u001b[1;33m(\u001b[0m\u001b[0mj\u001b[0m\u001b[1;33m)\u001b[0m\u001b[1;33m:\u001b[0m\u001b[1;33m\u001b[0m\u001b[1;33m\u001b[0m\u001b[0m\n\u001b[1;32m----> 5\u001b[1;33m             \u001b[0mlst\u001b[0m\u001b[1;33m.\u001b[0m\u001b[0mextend\u001b[0m\u001b[1;33m(\u001b[0m\u001b[0mi\u001b[0m\u001b[1;33m)\u001b[0m\u001b[1;33m\u001b[0m\u001b[1;33m\u001b[0m\u001b[0m\n\u001b[0m\u001b[0;32m      6\u001b[0m         \u001b[1;32melse\u001b[0m\u001b[1;33m:\u001b[0m\u001b[1;33m\u001b[0m\u001b[1;33m\u001b[0m\u001b[0m\n\u001b[0;32m      7\u001b[0m             \u001b[0mprint\u001b[0m\u001b[1;33m(\u001b[0m\u001b[1;34m\"\"\u001b[0m\u001b[1;33m)\u001b[0m\u001b[1;33m\u001b[0m\u001b[1;33m\u001b[0m\u001b[0m\n",
      "\u001b[1;31mTypeError\u001b[0m: 'int' object is not iterable"
     ]
    }
   ],
   "source": [
    "lst=[]\n",
    "for i in d.values():\n",
    "    for j in [i]:\n",
    "        if type(i)==type(j):\n",
    "            lst.extend(i)\n",
    "        else:\n",
    "            print(\"\")\n",
    "lst\n"
   ]
  },
  {
   "cell_type": "code",
   "execution_count": 53,
   "metadata": {},
   "outputs": [
    {
     "data": {
      "text/plain": [
       "{'ineuron': {'a': 14, 'b': 10, 'c': 4},\n",
       " 'course': {'d': 'fails', 'e': 34, 'f': 1},\n",
       " 'g': 345,\n",
       " 'h': [45, 6, 'check', 8, 9, 3],\n",
       " 'i': ('hope', 45, 34, 2),\n",
       " 'k': 'sudh'}"
      ]
     },
     "execution_count": 53,
     "metadata": {},
     "output_type": "execute_result"
    }
   ],
   "source": [
    "d"
   ]
  },
  {
   "cell_type": "code",
   "execution_count": null,
   "metadata": {},
   "outputs": [],
   "source": []
  }
 ],
 "metadata": {
  "kernelspec": {
   "display_name": "Python 3",
   "language": "python",
   "name": "python3"
  },
  "language_info": {
   "codemirror_mode": {
    "name": "ipython",
    "version": 3
   },
   "file_extension": ".py",
   "mimetype": "text/x-python",
   "name": "python",
   "nbconvert_exporter": "python",
   "pygments_lexer": "ipython3",
   "version": "3.8.5"
  }
 },
 "nbformat": 4,
 "nbformat_minor": 4
}
