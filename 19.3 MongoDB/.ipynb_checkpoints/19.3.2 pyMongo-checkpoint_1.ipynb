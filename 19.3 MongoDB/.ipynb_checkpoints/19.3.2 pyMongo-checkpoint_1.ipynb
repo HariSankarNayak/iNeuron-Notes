{
 "cells": [
  {
   "cell_type": "markdown",
   "metadata": {},
   "source": [
    "<img src=\"https://d24cdstip7q8pz.cloudfront.net/t/ineuron1/content/common/images/final%20logo.png\" height=60 alt-text=\"iNeuron.ai logo\">"
   ]
  },
  {
   "cell_type": "markdown",
   "metadata": {},
   "source": [
    "## 19.3.2 Open MongoDB compass to visually see what each python commands does\n",
    "\n",
    "You'll see below screen -\n",
    "\n",
    "> ![first screen](mongo_img/compass/c1.JPG)"
   ]
  },
  {
   "cell_type": "markdown",
   "metadata": {},
   "source": [
    "### STEP 1: Create a DB"
   ]
  },
  {
   "cell_type": "code",
   "execution_count": 1,
   "metadata": {},
   "outputs": [
    {
     "ename": "ModuleNotFoundError",
     "evalue": "No module named 'pymongo'",
     "output_type": "error",
     "traceback": [
      "\u001b[1;31m---------------------------------------------------------------------------\u001b[0m",
      "\u001b[1;31mModuleNotFoundError\u001b[0m                       Traceback (most recent call last)",
      "\u001b[1;32m<ipython-input-1-c275cfc49946>\u001b[0m in \u001b[0;36m<module>\u001b[1;34m\u001b[0m\n\u001b[1;32m----> 1\u001b[1;33m \u001b[1;32mimport\u001b[0m \u001b[0mpymongo\u001b[0m\u001b[1;33m\u001b[0m\u001b[1;33m\u001b[0m\u001b[0m\n\u001b[0m",
      "\u001b[1;31mModuleNotFoundError\u001b[0m: No module named 'pymongo'"
     ]
    }
   ],
   "source": [
    "import pymongo"
   ]
  },
  {
   "cell_type": "code",
   "execution_count": 2,
   "metadata": {},
   "outputs": [],
   "source": [
    "DEFAULT_CONNECTION_URL = \"mongodb://localhost:27017/\"\n",
    "DB_NAME = \"iNeuron\"\n",
    "\n",
    "# Establish a connection with mongoDB\n",
    "client = pymongo.MongoClient(DEFAULT_CONNECTION_URL)\n",
    "\n",
    "# Create a DB\n",
    "dataBase = client[DB_NAME]"
   ]
  },
  {
   "cell_type": "markdown",
   "metadata": {},
   "source": [
    "---\n",
    "\n",
    "### Paste the default URL in highlighted area of the Compass tool as shown below and click on connect\n",
    "default URL for local system:- \n",
    "```\n",
    "mongodb://localhost:27017/\n",
    "```\n",
    "\n",
    "> ![new connection](mongo_img/compass/c2.JPG)\n",
    "\n",
    "after you press connect you'll see the following screen which contains already existing databases\n",
    "\n",
    "> ![new connection](mongo_img/compass/c3.JPG)\n",
    "\n",
    "\n",
    "**NOTE** you'll not see your database untill or unless you have created first document inside it. So at present we don't have any document in our DB its name is not visible here \n",
    "\n",
    "You can also create a database by clicking on CREATE DATABSE button. You'll see a below screen (But we'll see eveyrthing using python)\n",
    "\n",
    "> ![new connection](mongo_img/compass/c4.JPG)"
   ]
  },
  {
   "cell_type": "code",
   "execution_count": 3,
   "metadata": {},
   "outputs": [
    {
     "data": {
      "text/plain": [
       "['admin', 'config', 'local']"
      ]
     },
     "execution_count": 3,
     "metadata": {},
     "output_type": "execute_result"
    }
   ],
   "source": [
    "# lets see what the existing list of DBs -\n",
    "\n",
    "client.list_database_names()"
   ]
  },
  {
   "cell_type": "code",
   "execution_count": 4,
   "metadata": {},
   "outputs": [
    {
     "name": "stdout",
     "output_type": "stream",
     "text": [
      "DB: 'iNeuron' not yet present OR no collection is present in the DB\n"
     ]
    }
   ],
   "source": [
    "# let's verify whether we have our database in the list or not \n",
    "# we'll use the following function:-\n",
    "\n",
    "def checkExistence_DB(DB_NAME, client):\n",
    "    \"\"\"It verifies the existence of DB\"\"\"\n",
    "    DBlist = client.list_database_names()\n",
    "    if DB_NAME in DBlist:\n",
    "        print(f\"DB: '{DB_NAME}' exists\")\n",
    "        return True\n",
    "    print(f\"DB: '{DB_NAME}' not yet present OR no collection is present in the DB\")\n",
    "    return False\n",
    "\n",
    "\n",
    "_ = checkExistence_DB(DB_NAME=DB_NAME, client=client)"
   ]
  },
  {
   "cell_type": "markdown",
   "metadata": {},
   "source": [
    "### STEP 2: Create a collection"
   ]
  },
  {
   "cell_type": "code",
   "execution_count": 5,
   "metadata": {},
   "outputs": [],
   "source": [
    "COLLECTION_NAME = \"iNeuron_Products\"\n",
    "collection = dataBase[COLLECTION_NAME]"
   ]
  },
  {
   "cell_type": "code",
   "execution_count": 6,
   "metadata": {},
   "outputs": [
    {
     "name": "stdout",
     "output_type": "stream",
     "text": [
      "Collection:'iNeuron_Products' in Database:'iNeuron' does not exists OR \n",
      "    no documents are present in the collection\n"
     ]
    }
   ],
   "source": [
    "# let's verify whether we have our database in the list or not \n",
    "# we'll use the following function:-\n",
    "\n",
    "def checkExistence_COL(COLLECTION_NAME, DB_NAME, db):\n",
    "    \"\"\"It verifies the existence of collection name in a database\"\"\"\n",
    "    collection_list = db.list_collection_names()\n",
    "    \n",
    "    if COLLECTION_NAME in collection_list:\n",
    "        print(f\"Collection:'{COLLECTION_NAME}' in Database:'{DB_NAME}' exists\")\n",
    "        return True\n",
    "    \n",
    "    print(f\"Collection:'{COLLECTION_NAME}' in Database:'{DB_NAME}' does not exists OR \\n\\\n",
    "    no documents are present in the collection\")\n",
    "    return False\n",
    "\n",
    "\n",
    "_ = checkExistence_COL(COLLECTION_NAME=COLLECTION_NAME, DB_NAME=DB_NAME, db=dataBase)"
   ]
  },
  {
   "cell_type": "markdown",
   "metadata": {},
   "source": [
    "### STEP 3: Insert a record in the collection"
   ]
  },
  {
   "cell_type": "code",
   "execution_count": 7,
   "metadata": {},
   "outputs": [
    {
     "data": {
      "text/plain": [
       "<pymongo.results.InsertOneResult at 0x1dd4a772f08>"
      ]
     },
     "execution_count": 7,
     "metadata": {},
     "output_type": "execute_result"
    }
   ],
   "source": [
    "record = {'companyName': 'iNeuron',\n",
    "         'product': 'Affordable AI',\n",
    "         'courseOffered': 'Deep Learning for Computer Vision'}\n",
    "\n",
    "collection.insert_one(record)"
   ]
  },
  {
   "cell_type": "code",
   "execution_count": 8,
   "metadata": {},
   "outputs": [
    {
     "name": "stdout",
     "output_type": "stream",
     "text": [
      "Collection:'iNeuron_Products' in Database:'iNeuron' exists\n"
     ]
    }
   ],
   "source": [
    "_ = checkExistence_COL(COLLECTION_NAME=COLLECTION_NAME, DB_NAME=DB_NAME, db=dataBase)"
   ]
  },
  {
   "cell_type": "markdown",
   "metadata": {},
   "source": [
    "Now you can verify in Compass that iNeuron DB exists: -\n",
    "\n",
    "> ![verify Db](mongo_img/compass/c5.JPG)\n",
    "> **NOTE**: You may need to click refresh button if your DB is not visible here.\n",
    "\n",
    "You'll find collection name here- \n",
    "> ![verify Collection](mongo_img/compass/c6.JPG)\n",
    "\n",
    "Verify your inserted record with a unique id which is given by mongoDB by default -\n",
    "> ![check inserted document](mongo_img/compass/c7.JPG)\n",
    "\n",
    "Let's reverify whether our database and collection exists or not by using the function that we have defined before."
   ]
  },
  {
   "cell_type": "code",
   "execution_count": 9,
   "metadata": {},
   "outputs": [
    {
     "name": "stdout",
     "output_type": "stream",
     "text": [
      "DB: 'iNeuron' exists\n"
     ]
    }
   ],
   "source": [
    "# Verify DATABASE\n",
    "_ = checkExistence_DB(DB_NAME=DB_NAME, client=client)"
   ]
  },
  {
   "cell_type": "code",
   "execution_count": 10,
   "metadata": {},
   "outputs": [
    {
     "name": "stdout",
     "output_type": "stream",
     "text": [
      "Collection:'iNeuron_Products' in Database:'iNeuron' exists\n"
     ]
    }
   ],
   "source": [
    "# Verify COLLECTION\n",
    "_ = checkExistence_COL(COLLECTION_NAME=COLLECTION_NAME, DB_NAME=DB_NAME, db=dataBase)"
   ]
  },
  {
   "cell_type": "markdown",
   "metadata": {},
   "source": [
    "### STEP 4: Insert multiple records\n"
   ]
  },
  {
   "cell_type": "code",
   "execution_count": 11,
   "metadata": {},
   "outputs": [],
   "source": [
    "\n",
    "list_of_records = [\n",
    "    {'companyName': 'iNeuron',\n",
    "     'product': 'Affordable AI',\n",
    "     'courseOffered': 'Machine Learning with Deployment'},\n",
    "    \n",
    "    {'companyName': 'iNeuron',\n",
    "     'product': 'Affordable AI',\n",
    "     'courseOffered': 'Deep Learning for NLP and Computer vision'},\n",
    "    \n",
    "    {'companyName': 'iNeuron',\n",
    "     'product': 'Master Program',\n",
    "     'courseOffered': 'Data Science Masters Program'}\n",
    "]\n",
    "\n",
    "rec = collection.insert_many(list_of_records)"
   ]
  },
  {
   "cell_type": "code",
   "execution_count": 12,
   "metadata": {},
   "outputs": [
    {
     "name": "stdout",
     "output_type": "stream",
     "text": [
      "0. 5f38c60e01c6e385a178b672\n",
      "1. 5f38c60e01c6e385a178b673\n",
      "2. 5f38c60e01c6e385a178b674\n"
     ]
    }
   ],
   "source": [
    "# lets print he unique ID that of the record that we have inserted -\n",
    "inserted_IDs = rec.inserted_ids\n",
    "\n",
    "for idx, unique_ids in enumerate(inserted_IDs):\n",
    "    print(f\"{idx}. {unique_ids}\")"
   ]
  },
  {
   "cell_type": "markdown",
   "metadata": {},
   "source": [
    "We can verify the inserted records by refreshing our compass document-\n",
    "\n",
    "> ![inserted list of records](mongo_img/compass/c8.JPG)"
   ]
  },
  {
   "cell_type": "markdown",
   "metadata": {},
   "source": [
    "You can override the default unique Id by giving a user defined as shown below -\n"
   ]
  },
  {
   "cell_type": "code",
   "execution_count": 13,
   "metadata": {},
   "outputs": [],
   "source": [
    "COLLECTION_NAME = \"iNeuron_Faculties\"\n",
    "faculties = dataBase[COLLECTION_NAME]\n",
    "\n",
    "list_of_records_user_defined_id = [\n",
    "    {\"_id\": \"1\",\n",
    "    \"companyName\": \"iNeuron\",\n",
    "    \"Faculty\": \"Sudhanshu Kumar\"},\n",
    "    {\"_id\": \"2\",\n",
    "    \"companyName\": \"iNeuron\",\n",
    "    \"Faculty\": \"Virat Sagar\"},\n",
    "]\n",
    "\n",
    "faculties_record = faculties.insert_many(list_of_records_user_defined_id)"
   ]
  },
  {
   "cell_type": "markdown",
   "metadata": {},
   "source": [
    "refresh the Compass tool and you'll see a fresh collection is created by name iNeuron_Faculties\n",
    "and this time _id is defined by us. Refer the highlighted portion of the image below:- \n",
    "    \n",
    "> ![unique_id](mongo_img/compass/c9.JPG)\n",
    "\n",
    "> **NOTE**: Make sure the \\_id of the records that you insert are unique other wise you'll get a _BulkWriteError_ which comes because of duplicate key"
   ]
  },
  {
   "cell_type": "markdown",
   "metadata": {},
   "source": [
    "### STEP 5: Find method in MongoDB"
   ]
  },
  {
   "cell_type": "code",
   "execution_count": 26,
   "metadata": {},
   "outputs": [
    {
     "name": "stdout",
     "output_type": "stream",
     "text": [
      "The first record of collection: \n",
      "iNeuron_Faculties is=\n",
      "{'_id': '1', 'companyName': 'iNeuron', 'Faculty': 'Sudhanshu Kumar'}\n"
     ]
    }
   ],
   "source": [
    "find_first_record = faculties.find_one()\n",
    "\n",
    "print(f\"The first record of collection: \\n{COLLECTION_NAME} is=\\\n",
    "\\n{find_first_record}\")"
   ]
  },
  {
   "cell_type": "code",
   "execution_count": 27,
   "metadata": {},
   "outputs": [
    {
     "name": "stdout",
     "output_type": "stream",
     "text": [
      "0: {'_id': '1', 'companyName': 'iNeuron', 'Faculty': 'Sudhanshu Kumar'}\n",
      "1: {'_id': '2', 'companyName': 'iNeuron', 'Faculty': 'Virat Sagar'}\n"
     ]
    }
   ],
   "source": [
    "# find all the record at once present in thr record with all the fields\n",
    "all_record = faculties.find()\n",
    "\n",
    "for idx, record in enumerate(all_record):\n",
    "    print(f\"{idx}: {record}\")"
   ]
  },
  {
   "cell_type": "code",
   "execution_count": 28,
   "metadata": {},
   "outputs": [
    {
     "name": "stdout",
     "output_type": "stream",
     "text": [
      "0: {'_id': '1', 'Faculty': 'Sudhanshu Kumar'}\n",
      "1: {'_id': '2', 'Faculty': 'Virat Sagar'}\n"
     ]
    }
   ],
   "source": [
    "# find all the record at once present in the record with SPECIFIC fields\n",
    "all_record = faculties.find({}, {\"Faculty\"})\n",
    "\n",
    "for idx, record in enumerate(all_record):\n",
    "    print(f\"{idx}: {record}\")"
   ]
  },
  {
   "cell_type": "markdown",
   "metadata": {},
   "source": [
    "### STEP 6: Query or filter out data in MongoDB"
   ]
  },
  {
   "cell_type": "code",
   "execution_count": 32,
   "metadata": {},
   "outputs": [
    {
     "name": "stdout",
     "output_type": "stream",
     "text": [
      "{'_id': '1', 'companyName': 'iNeuron', 'Faculty': 'Sudhanshu Kumar'}\n"
     ]
    }
   ],
   "source": [
    "query1 = {\"_id\": '1'}\n",
    "\n",
    "results = faculties.find(query1)\n",
    "for data in results:\n",
    "    print(data)"
   ]
  },
  {
   "cell_type": "code",
   "execution_count": 33,
   "metadata": {},
   "outputs": [
    {
     "name": "stdout",
     "output_type": "stream",
     "text": [
      "{'_id': '2', 'companyName': 'iNeuron', 'Faculty': 'Virat Sagar'}\n"
     ]
    }
   ],
   "source": [
    "query2 = {\"_id\": {\"$gt\": \"1\"}}\n",
    "\n",
    "results = faculties.find(query2)\n",
    "for data in results:\n",
    "    print(data)"
   ]
  },
  {
   "cell_type": "markdown",
   "metadata": {},
   "source": [
    "### STEP 7: Delete one or many documents in MongoDB"
   ]
  },
  {
   "cell_type": "code",
   "execution_count": 37,
   "metadata": {},
   "outputs": [
    {
     "data": {
      "text/plain": [
       "<pymongo.results.InsertManyResult at 0x1dd4d5c2c08>"
      ]
     },
     "execution_count": 37,
     "metadata": {},
     "output_type": "execute_result"
    }
   ],
   "source": [
    "# Lets add some random data in faculties\n",
    "random_data = [\n",
    "    {'_id': '3', 'companyName': 'iNeuron', 'Faculty': 'XYZ'},\n",
    "    {'_id': '4', 'companyName': 'iNeuron', 'Faculty': 'ABC'},\n",
    "    {'_id': '5', 'companyName': 'iNeuron', 'Faculty': 'PQR'},\n",
    "]\n",
    "\n",
    "faculties.insert_many(random_data)"
   ]
  },
  {
   "cell_type": "code",
   "execution_count": 38,
   "metadata": {},
   "outputs": [
    {
     "data": {
      "text/plain": [
       "<pymongo.results.DeleteResult at 0x1dd4d60ce48>"
      ]
     },
     "execution_count": 38,
     "metadata": {},
     "output_type": "execute_result"
    }
   ],
   "source": [
    "# Lets delete one document in faculties\n",
    "query_to_delete = {\"Faculty\": \"XYZ\"}\n",
    "\n",
    "faculties.delete_one(query_to_delete)"
   ]
  },
  {
   "cell_type": "code",
   "execution_count": 40,
   "metadata": {},
   "outputs": [
    {
     "data": {
      "text/plain": [
       "<pymongo.results.DeleteResult at 0x1dd4d56d688>"
      ]
     },
     "execution_count": 40,
     "metadata": {},
     "output_type": "execute_result"
    }
   ],
   "source": [
    "# lets delete multiple record\n",
    "multi_query_to_delete = {\"_id\": {\"$gte\": \"4\"}}\n",
    "\n",
    "faculties.delete_many(multi_query_to_delete)"
   ]
  },
  {
   "cell_type": "markdown",
   "metadata": {},
   "source": [
    "> **NOTE**: In order to delete all the documents present in the collection you can just pass and empty dictionary as shown below: -\n",
    "```python\n",
    "faculties.delete_many({})\n",
    "```"
   ]
  },
  {
   "cell_type": "markdown",
   "metadata": {},
   "source": [
    "### STEP 8: Drop the entire collection"
   ]
  },
  {
   "cell_type": "code",
   "execution_count": 41,
   "metadata": {},
   "outputs": [],
   "source": [
    "faculties.drop()"
   ]
  },
  {
   "cell_type": "code",
   "execution_count": 43,
   "metadata": {},
   "outputs": [
    {
     "name": "stdout",
     "output_type": "stream",
     "text": [
      "Collection:'iNeuron_Faculties' in Database:'iNeuron' does not exists OR \n",
      "    no documents are present in the collection\n"
     ]
    }
   ],
   "source": [
    "# Lets verify if the collection exists or not after dropping it\n",
    "COLLECTION_NAME = \"iNeuron_Faculties\"\n",
    "DB_NAME = \"iNeuron\"\n",
    "_ = checkExistence_COL(COLLECTION_NAME=COLLECTION_NAME, DB_NAME=DB_NAME, db=dataBase)"
   ]
  },
  {
   "cell_type": "markdown",
   "metadata": {},
   "source": [
    "### STEP 9: Update"
   ]
  },
  {
   "cell_type": "code",
   "execution_count": 47,
   "metadata": {},
   "outputs": [
    {
     "name": "stdout",
     "output_type": "stream",
     "text": [
      "{'_id': ObjectId('5f38c5fc01c6e385a178b671'), 'companyName': 'iNeuron', 'product': 'Affordable AI', 'courseOffered': 'Deep Learning for Computer Vision'}\n",
      "\n",
      "{'_id': ObjectId('5f38c60e01c6e385a178b672'), 'companyName': 'iNeuron', 'product': 'Affordable AI', 'courseOffered': 'Machine Learning with Deployment'}\n",
      "\n",
      "{'_id': ObjectId('5f38c60e01c6e385a178b673'), 'companyName': 'iNeuron', 'product': 'Affordable AI', 'courseOffered': 'Deep Learning for NLP and Computer vision'}\n",
      "\n",
      "{'_id': ObjectId('5f38c60e01c6e385a178b674'), 'companyName': 'iNeuron', 'product': 'Master Program', 'courseOffered': 'Data Science Masters Program'}\n",
      "\n"
     ]
    }
   ],
   "source": [
    "COLLECTION_NAME = \"iNeuron_Products\"\n",
    "\n",
    "products = dataBase[COLLECTION_NAME]\n",
    "\n",
    "all_record = products.find()\n",
    "\n",
    "for idx, record in enumerate(all_record):\n",
    "    print(f\"{record}\\n\")"
   ]
  },
  {
   "cell_type": "code",
   "execution_count": 49,
   "metadata": {},
   "outputs": [],
   "source": [
    "present_data = {'courseOffered': 'Machine Learning with Deployment'}\n",
    "new_data = {\"$set\":{'courseOffered': 'ML and DL with Deployment'}}"
   ]
  },
  {
   "cell_type": "code",
   "execution_count": 50,
   "metadata": {},
   "outputs": [
    {
     "data": {
      "text/plain": [
       "<pymongo.results.UpdateResult at 0x1dd4d5c2bc8>"
      ]
     },
     "execution_count": 50,
     "metadata": {},
     "output_type": "execute_result"
    }
   ],
   "source": [
    "products.update_one(present_data, new_data)"
   ]
  },
  {
   "cell_type": "code",
   "execution_count": 51,
   "metadata": {},
   "outputs": [
    {
     "name": "stdout",
     "output_type": "stream",
     "text": [
      "{'_id': ObjectId('5f38c5fc01c6e385a178b671'), 'companyName': 'iNeuron', 'product': 'Affordable AI', 'courseOffered': 'Deep Learning for Computer Vision'}\n",
      "\n",
      "{'_id': ObjectId('5f38c60e01c6e385a178b672'), 'companyName': 'iNeuron', 'product': 'Affordable AI', 'courseOffered': 'ML and DL with Deployment'}\n",
      "\n",
      "{'_id': ObjectId('5f38c60e01c6e385a178b673'), 'companyName': 'iNeuron', 'product': 'Affordable AI', 'courseOffered': 'Deep Learning for NLP and Computer vision'}\n",
      "\n",
      "{'_id': ObjectId('5f38c60e01c6e385a178b674'), 'companyName': 'iNeuron', 'product': 'Master Program', 'courseOffered': 'Data Science Masters Program'}\n",
      "\n"
     ]
    }
   ],
   "source": [
    "all_record = products.find()\n",
    "\n",
    "for idx, record in enumerate(all_record):\n",
    "    print(f\"{record}\\n\")"
   ]
  },
  {
   "cell_type": "code",
   "execution_count": 62,
   "metadata": {},
   "outputs": [],
   "source": [
    "present_data = {'companyName': 'iNeuron'}\n",
    "new_data = {\"$set\": {'companyName': 'iNeuron.ai'}}"
   ]
  },
  {
   "cell_type": "code",
   "execution_count": 64,
   "metadata": {},
   "outputs": [
    {
     "name": "stdout",
     "output_type": "stream",
     "text": [
      "{'_id': ObjectId('5f38c5fc01c6e385a178b671'), 'companyName': 'iNeuron.ai', 'product': 'Affordable AI', 'courseOffered': 'Deep Learning for Computer Vision'}\n",
      "\n",
      "{'_id': ObjectId('5f38c60e01c6e385a178b672'), 'companyName': 'iNeuron.ai', 'product': 'Affordable AI', 'courseOffered': 'ML and DL with Deployment'}\n",
      "\n",
      "{'_id': ObjectId('5f38c60e01c6e385a178b673'), 'companyName': 'iNeuron.ai', 'product': 'Affordable AI', 'courseOffered': 'Deep Learning for NLP and Computer vision'}\n",
      "\n",
      "{'_id': ObjectId('5f38c60e01c6e385a178b674'), 'companyName': 'iNeuron.ai', 'product': 'Master Program', 'courseOffered': 'Data Science Masters Program'}\n",
      "\n"
     ]
    }
   ],
   "source": [
    "products.update_many(present_data, new_data)\n",
    "\n",
    "all_record = products.find()\n",
    "\n",
    "for idx, record in enumerate(all_record):\n",
    "    print(f\"{record}\\n\")"
   ]
  },
  {
   "cell_type": "markdown",
   "metadata": {},
   "source": [
    "### STEP 9: Set limit to view N records"
   ]
  },
  {
   "cell_type": "code",
   "execution_count": 66,
   "metadata": {},
   "outputs": [
    {
     "name": "stdout",
     "output_type": "stream",
     "text": [
      "{'_id': ObjectId('5f38c5fc01c6e385a178b671'), 'companyName': 'iNeuron.ai', 'product': 'Affordable AI', 'courseOffered': 'Deep Learning for Computer Vision'}\n",
      "\n",
      "{'_id': ObjectId('5f38c60e01c6e385a178b672'), 'companyName': 'iNeuron.ai', 'product': 'Affordable AI', 'courseOffered': 'ML and DL with Deployment'}\n",
      "\n",
      "{'_id': ObjectId('5f38c60e01c6e385a178b673'), 'companyName': 'iNeuron.ai', 'product': 'Affordable AI', 'courseOffered': 'Deep Learning for NLP and Computer vision'}\n",
      "\n"
     ]
    }
   ],
   "source": [
    "N_records = 3\n",
    "\n",
    "N_record = products.find().limit(N_records)\n",
    "\n",
    "for idx, record in enumerate(N_record):\n",
    "    print(f\"{record}\\n\")"
   ]
  }
 ],
 "metadata": {
  "kernelspec": {
   "display_name": "Python 3",
   "language": "python",
   "name": "python3"
  },
  "language_info": {
   "codemirror_mode": {
    "name": "ipython",
    "version": 3
   },
   "file_extension": ".py",
   "mimetype": "text/x-python",
   "name": "python",
   "nbconvert_exporter": "python",
   "pygments_lexer": "ipython3",
   "version": "3.8.5"
  }
 },
 "nbformat": 4,
 "nbformat_minor": 4
}
